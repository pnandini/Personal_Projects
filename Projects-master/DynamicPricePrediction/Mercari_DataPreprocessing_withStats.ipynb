{
  "nbformat": 4,
  "nbformat_minor": 0,
  "metadata": {
    "colab": {
      "name": "Mercari_DataPreprocessing_withStats.ipynb",
      "provenance": [],
      "collapsed_sections": [
        "t7pRbltsFNcZ",
        "1nsPd0UB6nXL",
        "03FSLxL07tmC",
        "E1xPrC1-1qb9",
        "42qQo5OWeoM-",
        "4cbgjqxLu1dr",
        "d2puwYZu_Sd-",
        "oPSr7cg9ZOgg",
        "iTFLkoXab_Dn",
        "zIoRDsB1oe4Q",
        "W1uMuznycNFG",
        "vUOI8H-Vv4vR",
        "bjWmoFShu01G"
      ],
      "machine_shape": "hm"
    },
    "kernelspec": {
      "name": "python3",
      "display_name": "Python 3"
    },
    "accelerator": "GPU"
  },
  "cells": [
    {
      "cell_type": "markdown",
      "metadata": {
        "id": "t7pRbltsFNcZ",
        "colab_type": "text"
      },
      "source": [
        "## import statements , Authentication and installing packages."
      ]
    },
    {
      "cell_type": "code",
      "metadata": {
        "id": "AdL0TKShbjmr",
        "colab_type": "code",
        "colab": {}
      },
      "source": [
        "import numpy as np\n",
        "import pandas as pd\n",
        "import matplotlib.pyplot as plt\n",
        "import seaborn as sns\n",
        "from sklearn.model_selection import train_test_split\n",
        "import warnings\n",
        "warnings.filterwarnings('ignore')\n",
        "from joblib import Parallel, delayed\n",
        "import string\n",
        "from nltk.tokenize import sent_tokenize, word_tokenize\n",
        "import nltk\n",
        "import time\n",
        "from sklearn.preprocessing import OneHotEncoder"
      ],
      "execution_count": 0,
      "outputs": []
    },
    {
      "cell_type": "code",
      "metadata": {
        "id": "9brO7rh0hoQM",
        "colab_type": "code",
        "outputId": "ac67a6cd-e6ce-461e-e48b-d9f58284e2a6",
        "colab": {
          "base_uri": "https://localhost:8080/",
          "height": 52
        }
      },
      "source": [
        "  !pip install nltk"
      ],
      "execution_count": 0,
      "outputs": [
        {
          "output_type": "stream",
          "text": [
            "Requirement already satisfied: nltk in /usr/local/lib/python3.6/dist-packages (3.2.5)\n",
            "Requirement already satisfied: six in /usr/local/lib/python3.6/dist-packages (from nltk) (1.12.0)\n"
          ],
          "name": "stdout"
        }
      ]
    },
    {
      "cell_type": "code",
      "metadata": {
        "id": "_BrqDe8Bh3qg",
        "colab_type": "code",
        "outputId": "0063611f-7ef5-4d36-a256-9d50a8511d49",
        "colab": {
          "base_uri": "https://localhost:8080/",
          "height": 69
        }
      },
      "source": [
        "nltk.download('punkt')"
      ],
      "execution_count": 0,
      "outputs": [
        {
          "output_type": "stream",
          "text": [
            "[nltk_data] Downloading package punkt to /root/nltk_data...\n",
            "[nltk_data]   Unzipping tokenizers/punkt.zip.\n"
          ],
          "name": "stdout"
        },
        {
          "output_type": "execute_result",
          "data": {
            "text/plain": [
              "True"
            ]
          },
          "metadata": {
            "tags": []
          },
          "execution_count": 3
        }
      ]
    },
    {
      "cell_type": "code",
      "metadata": {
        "id": "Z82CfVTIabrN",
        "colab_type": "code",
        "colab": {}
      },
      "source": [
        "#for connecting to google drive\n",
        "!pip install -U -q PyDrive              \n",
        "\n",
        "from pydrive.auth import GoogleAuth\n",
        "from pydrive.drive import GoogleDrive\n",
        "from google.colab import auth\n",
        "from oauth2client.client import GoogleCredentials\n",
        "\n",
        "auth.authenticate_user()\n",
        "gauth = GoogleAuth()\n",
        "gauth.credentials = GoogleCredentials.get_application_default()\n",
        "drive = GoogleDrive(gauth)"
      ],
      "execution_count": 0,
      "outputs": []
    },
    {
      "cell_type": "markdown",
      "metadata": {
        "id": "1nsPd0UB6nXL",
        "colab_type": "text"
      },
      "source": [
        "## Reading Dataset"
      ]
    },
    {
      "cell_type": "code",
      "metadata": {
        "id": "RycXqo30ajKc",
        "colab_type": "code",
        "colab": {}
      },
      "source": [
        "link_train = 'https://drive.google.com/open?id=1V3SSQd5YcoLfJ8_0CTT4k_4-LKGn91iT'   #Shareable link for train.tsv in Google Drive "
      ],
      "execution_count": 0,
      "outputs": []
    },
    {
      "cell_type": "code",
      "metadata": {
        "id": "lnSoWASRbHtC",
        "colab_type": "code",
        "outputId": "b368049d-3c90-47e1-857d-e67e4fd00b79",
        "colab": {
          "base_uri": "https://localhost:8080/",
          "height": 35
        }
      },
      "source": [
        "fluff, train_id = link_train.split('=')\n",
        "print (train_id) "
      ],
      "execution_count": 0,
      "outputs": [
        {
          "output_type": "stream",
          "text": [
            "1V3SSQd5YcoLfJ8_0CTT4k_4-LKGn91iT\n"
          ],
          "name": "stdout"
        }
      ]
    },
    {
      "cell_type": "code",
      "metadata": {
        "id": "IYb77e6ibJf1",
        "colab_type": "code",
        "colab": {}
      },
      "source": [
        "downloaded_train = drive.CreateFile({'id':train_id}) \n",
        "downloaded_train.GetContentFile('train.tsv') "
      ],
      "execution_count": 0,
      "outputs": []
    },
    {
      "cell_type": "code",
      "metadata": {
        "id": "MTCAzauCbXPk",
        "colab_type": "code",
        "outputId": "a35b6959-21ac-4f56-bf43-403e43609529",
        "colab": {
          "base_uri": "https://localhost:8080/",
          "height": 35
        }
      },
      "source": [
        "data_train = pd.read_table('train.tsv', engine='c')\n",
        "print('Train size:',len(data_train))\n"
      ],
      "execution_count": 0,
      "outputs": [
        {
          "output_type": "stream",
          "text": [
            "Train size: 1482535\n"
          ],
          "name": "stdout"
        }
      ]
    },
    {
      "cell_type": "markdown",
      "metadata": {
        "id": "03FSLxL07tmC",
        "colab_type": "text"
      },
      "source": [
        "## EDA on Dataset "
      ]
    },
    {
      "cell_type": "code",
      "metadata": {
        "id": "J6w9pe3LeBqB",
        "colab_type": "code",
        "outputId": "4092bfc6-f8c4-453f-d3e3-bf5ba05a01cb",
        "colab": {
          "base_uri": "https://localhost:8080/",
          "height": 289
        }
      },
      "source": [
        "data_train.head()"
      ],
      "execution_count": 0,
      "outputs": [
        {
          "output_type": "execute_result",
          "data": {
            "text/html": [
              "<div>\n",
              "<style scoped>\n",
              "    .dataframe tbody tr th:only-of-type {\n",
              "        vertical-align: middle;\n",
              "    }\n",
              "\n",
              "    .dataframe tbody tr th {\n",
              "        vertical-align: top;\n",
              "    }\n",
              "\n",
              "    .dataframe thead th {\n",
              "        text-align: right;\n",
              "    }\n",
              "</style>\n",
              "<table border=\"1\" class=\"dataframe\">\n",
              "  <thead>\n",
              "    <tr style=\"text-align: right;\">\n",
              "      <th></th>\n",
              "      <th>train_id</th>\n",
              "      <th>name</th>\n",
              "      <th>item_condition_id</th>\n",
              "      <th>category_name</th>\n",
              "      <th>brand_name</th>\n",
              "      <th>price</th>\n",
              "      <th>shipping</th>\n",
              "      <th>item_description</th>\n",
              "    </tr>\n",
              "  </thead>\n",
              "  <tbody>\n",
              "    <tr>\n",
              "      <th>0</th>\n",
              "      <td>0</td>\n",
              "      <td>MLB Cincinnati Reds T Shirt Size XL</td>\n",
              "      <td>3</td>\n",
              "      <td>Men/Tops/T-shirts</td>\n",
              "      <td>NaN</td>\n",
              "      <td>10.0</td>\n",
              "      <td>1</td>\n",
              "      <td>No description yet</td>\n",
              "    </tr>\n",
              "    <tr>\n",
              "      <th>1</th>\n",
              "      <td>1</td>\n",
              "      <td>Razer BlackWidow Chroma Keyboard</td>\n",
              "      <td>3</td>\n",
              "      <td>Electronics/Computers &amp; Tablets/Components &amp; P...</td>\n",
              "      <td>Razer</td>\n",
              "      <td>52.0</td>\n",
              "      <td>0</td>\n",
              "      <td>This keyboard is in great condition and works ...</td>\n",
              "    </tr>\n",
              "    <tr>\n",
              "      <th>2</th>\n",
              "      <td>2</td>\n",
              "      <td>AVA-VIV Blouse</td>\n",
              "      <td>1</td>\n",
              "      <td>Women/Tops &amp; Blouses/Blouse</td>\n",
              "      <td>Target</td>\n",
              "      <td>10.0</td>\n",
              "      <td>1</td>\n",
              "      <td>Adorable top with a hint of lace and a key hol...</td>\n",
              "    </tr>\n",
              "    <tr>\n",
              "      <th>3</th>\n",
              "      <td>3</td>\n",
              "      <td>Leather Horse Statues</td>\n",
              "      <td>1</td>\n",
              "      <td>Home/Home Décor/Home Décor Accents</td>\n",
              "      <td>NaN</td>\n",
              "      <td>35.0</td>\n",
              "      <td>1</td>\n",
              "      <td>New with tags. Leather horses. Retail for [rm]...</td>\n",
              "    </tr>\n",
              "    <tr>\n",
              "      <th>4</th>\n",
              "      <td>4</td>\n",
              "      <td>24K GOLD plated rose</td>\n",
              "      <td>1</td>\n",
              "      <td>Women/Jewelry/Necklaces</td>\n",
              "      <td>NaN</td>\n",
              "      <td>44.0</td>\n",
              "      <td>0</td>\n",
              "      <td>Complete with certificate of authenticity</td>\n",
              "    </tr>\n",
              "  </tbody>\n",
              "</table>\n",
              "</div>"
            ],
            "text/plain": [
              "   train_id  ...                                   item_description\n",
              "0         0  ...                                 No description yet\n",
              "1         1  ...  This keyboard is in great condition and works ...\n",
              "2         2  ...  Adorable top with a hint of lace and a key hol...\n",
              "3         3  ...  New with tags. Leather horses. Retail for [rm]...\n",
              "4         4  ...          Complete with certificate of authenticity\n",
              "\n",
              "[5 rows x 8 columns]"
            ]
          },
          "metadata": {
            "tags": []
          },
          "execution_count": 11
        }
      ]
    },
    {
      "cell_type": "code",
      "metadata": {
        "id": "_hsYVtGveDjl",
        "colab_type": "code",
        "outputId": "ee9cdc1d-5e8c-4379-f9b0-4932851bfc40",
        "colab": {
          "base_uri": "https://localhost:8080/",
          "height": 69
        }
      },
      "source": [
        "data_train.columns"
      ],
      "execution_count": 0,
      "outputs": [
        {
          "output_type": "execute_result",
          "data": {
            "text/plain": [
              "Index(['train_id', 'name', 'item_condition_id', 'category_name', 'brand_name',\n",
              "       'price', 'shipping', 'item_description'],\n",
              "      dtype='object')"
            ]
          },
          "metadata": {
            "tags": []
          },
          "execution_count": 12
        }
      ]
    },
    {
      "cell_type": "code",
      "metadata": {
        "id": "9JBUn4wVeOXF",
        "colab_type": "code",
        "outputId": "278e8bde-18f9-4bcf-e84d-09b76c68042a",
        "colab": {
          "base_uri": "https://localhost:8080/",
          "height": 35
        }
      },
      "source": [
        "data_train.shape"
      ],
      "execution_count": 0,
      "outputs": [
        {
          "output_type": "execute_result",
          "data": {
            "text/plain": [
              "(1482535, 8)"
            ]
          },
          "metadata": {
            "tags": []
          },
          "execution_count": 13
        }
      ]
    },
    {
      "cell_type": "code",
      "metadata": {
        "id": "thLFeMK3eg1o",
        "colab_type": "code",
        "outputId": "09a07045-4c9e-444e-df98-247fbbafc2b6",
        "colab": {
          "base_uri": "https://localhost:8080/",
          "height": 243
        }
      },
      "source": [
        "data_train.info()"
      ],
      "execution_count": 0,
      "outputs": [
        {
          "output_type": "stream",
          "text": [
            "<class 'pandas.core.frame.DataFrame'>\n",
            "RangeIndex: 1482535 entries, 0 to 1482534\n",
            "Data columns (total 8 columns):\n",
            "train_id             1482535 non-null int64\n",
            "name                 1482535 non-null object\n",
            "item_condition_id    1482535 non-null int64\n",
            "category_name        1476208 non-null object\n",
            "brand_name           849853 non-null object\n",
            "price                1482535 non-null float64\n",
            "shipping             1482535 non-null int64\n",
            "item_description     1482531 non-null object\n",
            "dtypes: float64(1), int64(3), object(4)\n",
            "memory usage: 90.5+ MB\n"
          ],
          "name": "stdout"
        }
      ]
    },
    {
      "cell_type": "code",
      "metadata": {
        "id": "DBhna5d1eSnu",
        "colab_type": "code",
        "outputId": "6c7b3a1b-22be-4dea-a618-dcdea47e0438",
        "colab": {
          "base_uri": "https://localhost:8080/",
          "height": 294
        }
      },
      "source": [
        "data_train.describe()"
      ],
      "execution_count": 0,
      "outputs": [
        {
          "output_type": "execute_result",
          "data": {
            "text/html": [
              "<div>\n",
              "<style scoped>\n",
              "    .dataframe tbody tr th:only-of-type {\n",
              "        vertical-align: middle;\n",
              "    }\n",
              "\n",
              "    .dataframe tbody tr th {\n",
              "        vertical-align: top;\n",
              "    }\n",
              "\n",
              "    .dataframe thead th {\n",
              "        text-align: right;\n",
              "    }\n",
              "</style>\n",
              "<table border=\"1\" class=\"dataframe\">\n",
              "  <thead>\n",
              "    <tr style=\"text-align: right;\">\n",
              "      <th></th>\n",
              "      <th>train_id</th>\n",
              "      <th>item_condition_id</th>\n",
              "      <th>price</th>\n",
              "      <th>shipping</th>\n",
              "    </tr>\n",
              "  </thead>\n",
              "  <tbody>\n",
              "    <tr>\n",
              "      <th>count</th>\n",
              "      <td>1.482535e+06</td>\n",
              "      <td>1.482535e+06</td>\n",
              "      <td>1.482535e+06</td>\n",
              "      <td>1.482535e+06</td>\n",
              "    </tr>\n",
              "    <tr>\n",
              "      <th>mean</th>\n",
              "      <td>7.412670e+05</td>\n",
              "      <td>1.907380e+00</td>\n",
              "      <td>2.673752e+01</td>\n",
              "      <td>4.472744e-01</td>\n",
              "    </tr>\n",
              "    <tr>\n",
              "      <th>std</th>\n",
              "      <td>4.279711e+05</td>\n",
              "      <td>9.031586e-01</td>\n",
              "      <td>3.858607e+01</td>\n",
              "      <td>4.972124e-01</td>\n",
              "    </tr>\n",
              "    <tr>\n",
              "      <th>min</th>\n",
              "      <td>0.000000e+00</td>\n",
              "      <td>1.000000e+00</td>\n",
              "      <td>0.000000e+00</td>\n",
              "      <td>0.000000e+00</td>\n",
              "    </tr>\n",
              "    <tr>\n",
              "      <th>25%</th>\n",
              "      <td>3.706335e+05</td>\n",
              "      <td>1.000000e+00</td>\n",
              "      <td>1.000000e+01</td>\n",
              "      <td>0.000000e+00</td>\n",
              "    </tr>\n",
              "    <tr>\n",
              "      <th>50%</th>\n",
              "      <td>7.412670e+05</td>\n",
              "      <td>2.000000e+00</td>\n",
              "      <td>1.700000e+01</td>\n",
              "      <td>0.000000e+00</td>\n",
              "    </tr>\n",
              "    <tr>\n",
              "      <th>75%</th>\n",
              "      <td>1.111900e+06</td>\n",
              "      <td>3.000000e+00</td>\n",
              "      <td>2.900000e+01</td>\n",
              "      <td>1.000000e+00</td>\n",
              "    </tr>\n",
              "    <tr>\n",
              "      <th>max</th>\n",
              "      <td>1.482534e+06</td>\n",
              "      <td>5.000000e+00</td>\n",
              "      <td>2.009000e+03</td>\n",
              "      <td>1.000000e+00</td>\n",
              "    </tr>\n",
              "  </tbody>\n",
              "</table>\n",
              "</div>"
            ],
            "text/plain": [
              "           train_id  item_condition_id         price      shipping\n",
              "count  1.482535e+06       1.482535e+06  1.482535e+06  1.482535e+06\n",
              "mean   7.412670e+05       1.907380e+00  2.673752e+01  4.472744e-01\n",
              "std    4.279711e+05       9.031586e-01  3.858607e+01  4.972124e-01\n",
              "min    0.000000e+00       1.000000e+00  0.000000e+00  0.000000e+00\n",
              "25%    3.706335e+05       1.000000e+00  1.000000e+01  0.000000e+00\n",
              "50%    7.412670e+05       2.000000e+00  1.700000e+01  0.000000e+00\n",
              "75%    1.111900e+06       3.000000e+00  2.900000e+01  1.000000e+00\n",
              "max    1.482534e+06       5.000000e+00  2.009000e+03  1.000000e+00"
            ]
          },
          "metadata": {
            "tags": []
          },
          "execution_count": 15
        }
      ]
    },
    {
      "cell_type": "code",
      "metadata": {
        "id": "JmGOjaZ8CNst",
        "colab_type": "code",
        "outputId": "57ca484c-186b-495c-d50f-e37ed10208e5",
        "colab": {
          "base_uri": "https://localhost:8080/",
          "height": 173
        }
      },
      "source": [
        "data_train.isnull().sum()"
      ],
      "execution_count": 0,
      "outputs": [
        {
          "output_type": "execute_result",
          "data": {
            "text/plain": [
              "train_id                  0\n",
              "name                      0\n",
              "item_condition_id         0\n",
              "category_name          6327\n",
              "brand_name           632682\n",
              "price                     0\n",
              "shipping                  0\n",
              "item_description          4\n",
              "dtype: int64"
            ]
          },
          "metadata": {
            "tags": []
          },
          "execution_count": 16
        }
      ]
    },
    {
      "cell_type": "code",
      "metadata": {
        "id": "YMVR4Wnvy5vn",
        "colab_type": "code",
        "outputId": "9d8ff4fb-7b0a-4fc7-fe88-afdfdb6aac67",
        "colab": {
          "base_uri": "https://localhost:8080/",
          "height": 35
        }
      },
      "source": [
        "len(data_train[data_train['item_description'] == 'No description yet'])"
      ],
      "execution_count": 0,
      "outputs": [
        {
          "output_type": "execute_result",
          "data": {
            "text/plain": [
              "82489"
            ]
          },
          "metadata": {
            "tags": []
          },
          "execution_count": 17
        }
      ]
    },
    {
      "cell_type": "markdown",
      "metadata": {
        "id": "E1xPrC1-1qb9",
        "colab_type": "text"
      },
      "source": [
        "## Price Column"
      ]
    },
    {
      "cell_type": "code",
      "metadata": {
        "id": "74SxiNDUYnfL",
        "colab_type": "code",
        "outputId": "fa2a7a3f-40e1-4b74-c016-a8a0810d611b",
        "colab": {
          "base_uri": "https://localhost:8080/",
          "height": 173
        }
      },
      "source": [
        "# log transformation of price variable, to have a normal distribution.\n",
        "log_transform_price = np.log(data_train['price'] + 1)\n",
        "log_transform_price.describe()"
      ],
      "execution_count": 0,
      "outputs": [
        {
          "output_type": "execute_result",
          "data": {
            "text/plain": [
              "count    1.482535e+06\n",
              "mean     2.979059e+00\n",
              "std      7.492094e-01\n",
              "min      0.000000e+00\n",
              "25%      2.397895e+00\n",
              "50%      2.890372e+00\n",
              "75%      3.401197e+00\n",
              "max      7.605890e+00\n",
              "Name: price, dtype: float64"
            ]
          },
          "metadata": {
            "tags": []
          },
          "execution_count": 18
        }
      ]
    },
    {
      "cell_type": "code",
      "metadata": {
        "id": "d5jSIACUEa-F",
        "colab_type": "code",
        "colab": {}
      },
      "source": [
        "data_train['log_transform_price'] = log_transform_price"
      ],
      "execution_count": 0,
      "outputs": []
    },
    {
      "cell_type": "markdown",
      "metadata": {
        "id": "42qQo5OWeoM-",
        "colab_type": "text"
      },
      "source": [
        "## Description and Price_Category Statistics"
      ]
    },
    {
      "cell_type": "code",
      "metadata": {
        "id": "NiBIUNWR_HGT",
        "colab_type": "code",
        "colab": {}
      },
      "source": [
        "import re\n",
        "import math\n",
        "from sklearn.preprocessing import StandardScaler, MinMaxScaler"
      ],
      "execution_count": 0,
      "outputs": []
    },
    {
      "cell_type": "code",
      "metadata": {
        "id": "cy461h-_evN_",
        "colab_type": "code",
        "outputId": "69cd8355-2641-4a44-bae4-c306ef77a7a7",
        "colab": {
          "base_uri": "https://localhost:8080/",
          "height": 35
        }
      },
      "source": [
        "print('Generating features with statistics for item description textual content')\n",
        "\n",
        "acronyms_regex = re.compile('([A-Z\\-0-9]{2,})')\n",
        "hashtag_regex = re.compile(r'(#[a-z]{2,})')\n",
        "\n",
        "#Extracts statistics for each description, words lengths, like percentage of upper-case words, hashtags, etc\n",
        "def extract_counts(text):\n",
        "    text_size_words_counts = len(text.split(' '))\n",
        "    text_size_words_log_counts = math.log1p(text_size_words_counts)\n",
        "    full_uppercase_perc = len(acronyms_regex.findall(text)) / float(text_size_words_counts)\n",
        "    exclamation_log_count = math.log1p(text.count('!'))\n",
        "    star_log_count = math.log1p(text.count('*'))\n",
        "    percentage_log_count = math.log1p(text.count('%'))\n",
        "    price_removed_marker_log_count = math.log1p(text.count('[rm]'))\n",
        "    hashtag_log_count = math.log1p(len(hashtag_regex.findall(text)))    \n",
        "    return [text_size_words_log_counts,\n",
        "            full_uppercase_perc,\n",
        "            exclamation_log_count,\n",
        "            star_log_count,            \n",
        "            percentage_log_count,\n",
        "            price_removed_marker_log_count,\n",
        "            hashtag_log_count]\n",
        "\n"
      ],
      "execution_count": 0,
      "outputs": [
        {
          "output_type": "stream",
          "text": [
            "Generating features with statistics for item description textual content\n"
          ],
          "name": "stdout"
        }
      ]
    },
    {
      "cell_type": "code",
      "metadata": {
        "id": "32slUacnRWD3",
        "colab_type": "code",
        "colab": {}
      },
      "source": [
        "item_descr_counts = np.vstack(data_train['item_description'].astype(str).apply(extract_counts).values)\n",
        "\n",
        "item_descr_counts_scaler = StandardScaler(copy=True)\n",
        "desc_stats = item_descr_counts_scaler.fit_transform(item_descr_counts)"
      ],
      "execution_count": 0,
      "outputs": []
    },
    {
      "cell_type": "code",
      "metadata": {
        "id": "xAqqRom8aTbZ",
        "colab_type": "code",
        "colab": {}
      },
      "source": [
        "del(item_descr_counts)"
      ],
      "execution_count": 0,
      "outputs": []
    },
    {
      "cell_type": "markdown",
      "metadata": {
        "id": "1C5ZauFBWwA5",
        "colab_type": "text"
      },
      "source": [
        "#### Price Statistics"
      ]
    },
    {
      "cell_type": "code",
      "metadata": {
        "id": "eCq8aBMdLO5O",
        "colab_type": "code",
        "colab": {}
      },
      "source": [
        "train_idxs = np.arange(0,len(data_train))"
      ],
      "execution_count": 0,
      "outputs": []
    },
    {
      "cell_type": "code",
      "metadata": {
        "id": "R96u5_vUevLB",
        "colab_type": "code",
        "outputId": "8a55ff50-3156-4c33-95de-69ebf8a40021",
        "colab": {
          "base_uri": "https://localhost:8080/",
          "height": 35
        }
      },
      "source": [
        "print('Generating features from category statistics for price ...')\n",
        "\n",
        "CAT_STATS_MIN_COUNT = 5\n",
        "STD_SIGMAS = 2\n",
        "\n",
        "# df_train['price_log'] = price_log\n",
        "cats_stats_df = data_train.iloc[train_idxs].groupby(['category_name', 'brand_name', 'shipping']).agg({'category_name': len,\n",
        "                                                     'log_transform_price': [np.median, np.mean, np.std]})\n",
        "cats_stats_df.columns = ['count','price_log_median', 'price_log_mean', 'price_log_std']\n",
        "#Removing categories without a minimum threshold of samples, to avoid price data leak \n",
        "cats_stats_df.drop(cats_stats_df[cats_stats_df['count'] < CAT_STATS_MIN_COUNT].index, inplace=True)\n",
        "cats_stats_df['price_log_std'] = cats_stats_df['price_log_std'].fillna(0)\n",
        "cats_stats_df['price_log_conf_variance'] = cats_stats_df['price_log_std'] / cats_stats_df['price_log_mean']\n",
        "cats_stats_df['count_log'] = np.log1p(cats_stats_df['count'])\n",
        "cats_stats_df['min_expected_log_price'] = (cats_stats_df['price_log_mean'] - cats_stats_df['price_log_std']*STD_SIGMAS).clip(lower=1.0)\n",
        "cats_stats_df['max_expected_log_price'] = (cats_stats_df['price_log_mean'] + cats_stats_df['price_log_std']*STD_SIGMAS)\n",
        "\n",
        "\n"
      ],
      "execution_count": 0,
      "outputs": [
        {
          "output_type": "stream",
          "text": [
            "Generating features from category statistics for price ...\n"
          ],
          "name": "stdout"
        }
      ]
    },
    {
      "cell_type": "code",
      "metadata": {
        "id": "4ZIDGzZ4OWAi",
        "colab_type": "code",
        "colab": {}
      },
      "source": [
        "def merge_with_cat_stats(df):\n",
        "    return df.merge(cats_stats_df.reset_index(), how='left', \n",
        "            on=['category_name', 'brand_name', 'shipping'])[['price_log_median', 'price_log_mean', 'price_log_std', \n",
        "                                               'price_log_conf_variance', 'count_log', 'min_expected_log_price', 'max_expected_log_price']].fillna(0).values\n",
        "\n",
        "cats_stats_features_scaler = StandardScaler(copy=True)\n",
        "price_cat_stats = cats_stats_features_scaler.fit_transform(merge_with_cat_stats(data_train))"
      ],
      "execution_count": 0,
      "outputs": []
    },
    {
      "cell_type": "code",
      "metadata": {
        "id": "tZhrvqBOVIuW",
        "colab_type": "code",
        "colab": {}
      },
      "source": [
        "#Joining the dense features\n",
        "price_cat_desc_stats = np.hstack([desc_stats, price_cat_stats])"
      ],
      "execution_count": 0,
      "outputs": []
    },
    {
      "cell_type": "code",
      "metadata": {
        "id": "ZaEzc1fxaiFa",
        "colab_type": "code",
        "colab": {}
      },
      "source": [
        "del(desc_stats)\n",
        "del(price_cat_stats)"
      ],
      "execution_count": 0,
      "outputs": []
    },
    {
      "cell_type": "code",
      "metadata": {
        "id": "8WfkSpp0VlUy",
        "colab_type": "code",
        "outputId": "4584c879-09ed-46cf-b787-2f920ea23c04",
        "colab": {
          "base_uri": "https://localhost:8080/",
          "height": 35
        }
      },
      "source": [
        "price_cat_desc_stats.shape"
      ],
      "execution_count": 0,
      "outputs": [
        {
          "output_type": "execute_result",
          "data": {
            "text/plain": [
              "(1482535, 14)"
            ]
          },
          "metadata": {
            "tags": []
          },
          "execution_count": 29
        }
      ]
    },
    {
      "cell_type": "code",
      "metadata": {
        "id": "5ygqibszVw3g",
        "colab_type": "code",
        "colab": {}
      },
      "source": [
        "price_cat_desc_stats_df = pd.DataFrame(price_cat_desc_stats, columns=['words_log_counts','uppercase_perc','exclamation_log_count','star_log_count','percentage_log_count',\n",
        "            'rm_log_count','hashtag_log_count','price_log_median', 'price_log_mean', 'price_log_std', 'price_log_conf_variance',\n",
        "            'count_log', 'min_expected_log_price', 'max_expected_log_price'])"
      ],
      "execution_count": 0,
      "outputs": []
    },
    {
      "cell_type": "code",
      "metadata": {
        "id": "0pXMmONRXldB",
        "colab_type": "code",
        "colab": {}
      },
      "source": [
        "data_train = pd.concat([data_train,price_cat_desc_stats_df], axis=1)"
      ],
      "execution_count": 0,
      "outputs": []
    },
    {
      "cell_type": "code",
      "metadata": {
        "id": "KQGGay0kYnjp",
        "colab_type": "code",
        "outputId": "d13a8b84-f6de-4acb-966c-49cc2e66bbfb",
        "colab": {
          "base_uri": "https://localhost:8080/",
          "height": 35
        }
      },
      "source": [
        "data_train.shape"
      ],
      "execution_count": 0,
      "outputs": [
        {
          "output_type": "execute_result",
          "data": {
            "text/plain": [
              "(1482535, 23)"
            ]
          },
          "metadata": {
            "tags": []
          },
          "execution_count": 32
        }
      ]
    },
    {
      "cell_type": "markdown",
      "metadata": {
        "id": "4cbgjqxLu1dr",
        "colab_type": "text"
      },
      "source": [
        "## Item Category or Category Name"
      ]
    },
    {
      "cell_type": "code",
      "metadata": {
        "id": "Po0hPSAZdifQ",
        "colab_type": "code",
        "outputId": "cb4ebcc2-eb7f-4efb-bd63-a09bbb70494a",
        "colab": {
          "base_uri": "https://localhost:8080/",
          "height": 121
        }
      },
      "source": [
        "data_train['category_name'].value_counts()[:5]"
      ],
      "execution_count": 0,
      "outputs": [
        {
          "output_type": "execute_result",
          "data": {
            "text/plain": [
              "Women/Athletic Apparel/Pants, Tights, Leggings    60177\n",
              "Women/Tops & Blouses/T-Shirts                     46380\n",
              "Beauty/Makeup/Face                                34335\n",
              "Beauty/Makeup/Lips                                29910\n",
              "Electronics/Video Games & Consoles/Games          26557\n",
              "Name: category_name, dtype: int64"
            ]
          },
          "metadata": {
            "tags": []
          },
          "execution_count": 33
        }
      ]
    },
    {
      "cell_type": "code",
      "metadata": {
        "id": "gczrf9XhvB-o",
        "colab_type": "code",
        "outputId": "3f844737-b435-4a9a-b78e-35ae1442ecf9",
        "colab": {
          "base_uri": "https://localhost:8080/",
          "height": 35
        }
      },
      "source": [
        "print(\"There are %d unique main categories.\" % data_train['category_name'].nunique())"
      ],
      "execution_count": 0,
      "outputs": [
        {
          "output_type": "stream",
          "text": [
            "There are 1287 unique main categories.\n"
          ],
          "name": "stdout"
        }
      ]
    },
    {
      "cell_type": "code",
      "metadata": {
        "id": "8EAutYhhxT3o",
        "colab_type": "code",
        "outputId": "18321607-0526-49c1-ad2c-e17ab2f25c16",
        "colab": {
          "base_uri": "https://localhost:8080/",
          "height": 69
        }
      },
      "source": [
        "data_train[data_train['category_name'] == 'Category Unknown']"
      ],
      "execution_count": 0,
      "outputs": [
        {
          "output_type": "execute_result",
          "data": {
            "text/html": [
              "<div>\n",
              "<style scoped>\n",
              "    .dataframe tbody tr th:only-of-type {\n",
              "        vertical-align: middle;\n",
              "    }\n",
              "\n",
              "    .dataframe tbody tr th {\n",
              "        vertical-align: top;\n",
              "    }\n",
              "\n",
              "    .dataframe thead th {\n",
              "        text-align: right;\n",
              "    }\n",
              "</style>\n",
              "<table border=\"1\" class=\"dataframe\">\n",
              "  <thead>\n",
              "    <tr style=\"text-align: right;\">\n",
              "      <th></th>\n",
              "      <th>train_id</th>\n",
              "      <th>name</th>\n",
              "      <th>item_condition_id</th>\n",
              "      <th>category_name</th>\n",
              "      <th>brand_name</th>\n",
              "      <th>price</th>\n",
              "      <th>shipping</th>\n",
              "      <th>item_description</th>\n",
              "      <th>log_transform_price</th>\n",
              "      <th>words_log_counts</th>\n",
              "      <th>uppercase_perc</th>\n",
              "      <th>exclamation_log_count</th>\n",
              "      <th>star_log_count</th>\n",
              "      <th>percentage_log_count</th>\n",
              "      <th>rm_log_count</th>\n",
              "      <th>hashtag_log_count</th>\n",
              "      <th>price_log_median</th>\n",
              "      <th>price_log_mean</th>\n",
              "      <th>price_log_std</th>\n",
              "      <th>price_log_conf_variance</th>\n",
              "      <th>count_log</th>\n",
              "      <th>min_expected_log_price</th>\n",
              "      <th>max_expected_log_price</th>\n",
              "    </tr>\n",
              "  </thead>\n",
              "  <tbody>\n",
              "  </tbody>\n",
              "</table>\n",
              "</div>"
            ],
            "text/plain": [
              "Empty DataFrame\n",
              "Columns: [train_id, name, item_condition_id, category_name, brand_name, price, shipping, item_description, log_transform_price, words_log_counts, uppercase_perc, exclamation_log_count, star_log_count, percentage_log_count, rm_log_count, hashtag_log_count, price_log_median, price_log_mean, price_log_std, price_log_conf_variance, count_log, min_expected_log_price, max_expected_log_price]\n",
              "Index: []"
            ]
          },
          "metadata": {
            "tags": []
          },
          "execution_count": 35
        }
      ]
    },
    {
      "cell_type": "code",
      "metadata": {
        "id": "z_VIg9-GyDzF",
        "colab_type": "code",
        "outputId": "eedd9379-e4b1-41f4-8c23-fbcfee7930ae",
        "colab": {
          "base_uri": "https://localhost:8080/",
          "height": 35
        }
      },
      "source": [
        "data_train['category_name'].isnull().sum()"
      ],
      "execution_count": 0,
      "outputs": [
        {
          "output_type": "execute_result",
          "data": {
            "text/plain": [
              "6327"
            ]
          },
          "metadata": {
            "tags": []
          },
          "execution_count": 36
        }
      ]
    },
    {
      "cell_type": "code",
      "metadata": {
        "id": "0u4dJscpvfI7",
        "colab_type": "code",
        "outputId": "7641843a-a640-4c98-94c7-b892f974b533",
        "colab": {
          "base_uri": "https://localhost:8080/",
          "height": 447
        }
      },
      "source": [
        "def split_category(text):\n",
        "    try: return text.split(\"/\")\n",
        "    except: return (\"Category Unknown\", \"Category Unknown\", \"Category Unknown\")\n",
        "    \n",
        "data_train['main_category'], data_train['subcategory_1'], data_train['subcategory_2'] = zip(*data_train['category_name'].apply(lambda x: split_category(x)))\n",
        "data_train.head()"
      ],
      "execution_count": 0,
      "outputs": [
        {
          "output_type": "execute_result",
          "data": {
            "text/html": [
              "<div>\n",
              "<style scoped>\n",
              "    .dataframe tbody tr th:only-of-type {\n",
              "        vertical-align: middle;\n",
              "    }\n",
              "\n",
              "    .dataframe tbody tr th {\n",
              "        vertical-align: top;\n",
              "    }\n",
              "\n",
              "    .dataframe thead th {\n",
              "        text-align: right;\n",
              "    }\n",
              "</style>\n",
              "<table border=\"1\" class=\"dataframe\">\n",
              "  <thead>\n",
              "    <tr style=\"text-align: right;\">\n",
              "      <th></th>\n",
              "      <th>train_id</th>\n",
              "      <th>name</th>\n",
              "      <th>item_condition_id</th>\n",
              "      <th>category_name</th>\n",
              "      <th>brand_name</th>\n",
              "      <th>price</th>\n",
              "      <th>shipping</th>\n",
              "      <th>item_description</th>\n",
              "      <th>log_transform_price</th>\n",
              "      <th>words_log_counts</th>\n",
              "      <th>uppercase_perc</th>\n",
              "      <th>exclamation_log_count</th>\n",
              "      <th>star_log_count</th>\n",
              "      <th>percentage_log_count</th>\n",
              "      <th>rm_log_count</th>\n",
              "      <th>hashtag_log_count</th>\n",
              "      <th>price_log_median</th>\n",
              "      <th>price_log_mean</th>\n",
              "      <th>price_log_std</th>\n",
              "      <th>price_log_conf_variance</th>\n",
              "      <th>count_log</th>\n",
              "      <th>min_expected_log_price</th>\n",
              "      <th>max_expected_log_price</th>\n",
              "      <th>main_category</th>\n",
              "      <th>subcategory_1</th>\n",
              "      <th>subcategory_2</th>\n",
              "    </tr>\n",
              "  </thead>\n",
              "  <tbody>\n",
              "    <tr>\n",
              "      <th>0</th>\n",
              "      <td>0</td>\n",
              "      <td>MLB Cincinnati Reds T Shirt Size XL</td>\n",
              "      <td>3</td>\n",
              "      <td>Men/Tops/T-shirts</td>\n",
              "      <td>NaN</td>\n",
              "      <td>10.0</td>\n",
              "      <td>1</td>\n",
              "      <td>No description yet</td>\n",
              "      <td>2.397895</td>\n",
              "      <td>-1.435819</td>\n",
              "      <td>-0.463781</td>\n",
              "      <td>-0.514153</td>\n",
              "      <td>-0.201971</td>\n",
              "      <td>-0.216047</td>\n",
              "      <td>-0.287195</td>\n",
              "      <td>-0.061017</td>\n",
              "      <td>-1.019041</td>\n",
              "      <td>-1.022763</td>\n",
              "      <td>-0.969067</td>\n",
              "      <td>-0.981992</td>\n",
              "      <td>-0.954136</td>\n",
              "      <td>-1.003299</td>\n",
              "      <td>-1.021501</td>\n",
              "      <td>Men</td>\n",
              "      <td>Tops</td>\n",
              "      <td>T-shirts</td>\n",
              "    </tr>\n",
              "    <tr>\n",
              "      <th>1</th>\n",
              "      <td>1</td>\n",
              "      <td>Razer BlackWidow Chroma Keyboard</td>\n",
              "      <td>3</td>\n",
              "      <td>Electronics/Computers &amp; Tablets/Components &amp; P...</td>\n",
              "      <td>Razer</td>\n",
              "      <td>52.0</td>\n",
              "      <td>0</td>\n",
              "      <td>This keyboard is in great condition and works ...</td>\n",
              "      <td>3.970292</td>\n",
              "      <td>0.827068</td>\n",
              "      <td>-0.281394</td>\n",
              "      <td>-0.514153</td>\n",
              "      <td>-0.201971</td>\n",
              "      <td>-0.216047</td>\n",
              "      <td>-0.287195</td>\n",
              "      <td>-0.061017</td>\n",
              "      <td>1.382559</td>\n",
              "      <td>1.348661</td>\n",
              "      <td>0.670262</td>\n",
              "      <td>0.367732</td>\n",
              "      <td>-0.067626</td>\n",
              "      <td>1.623006</td>\n",
              "      <td>1.189453</td>\n",
              "      <td>Electronics</td>\n",
              "      <td>Computers &amp; Tablets</td>\n",
              "      <td>Components &amp; Parts</td>\n",
              "    </tr>\n",
              "    <tr>\n",
              "      <th>2</th>\n",
              "      <td>2</td>\n",
              "      <td>AVA-VIV Blouse</td>\n",
              "      <td>1</td>\n",
              "      <td>Women/Tops &amp; Blouses/Blouse</td>\n",
              "      <td>Target</td>\n",
              "      <td>10.0</td>\n",
              "      <td>1</td>\n",
              "      <td>Adorable top with a hint of lace and a key hol...</td>\n",
              "      <td>2.397895</td>\n",
              "      <td>0.613741</td>\n",
              "      <td>-0.010959</td>\n",
              "      <td>1.638310</td>\n",
              "      <td>-0.201971</td>\n",
              "      <td>-0.216047</td>\n",
              "      <td>-0.287195</td>\n",
              "      <td>-0.061017</td>\n",
              "      <td>0.476690</td>\n",
              "      <td>0.467825</td>\n",
              "      <td>0.339902</td>\n",
              "      <td>0.732595</td>\n",
              "      <td>-0.159609</td>\n",
              "      <td>0.508109</td>\n",
              "      <td>0.440447</td>\n",
              "      <td>Women</td>\n",
              "      <td>Tops &amp; Blouses</td>\n",
              "      <td>Blouse</td>\n",
              "    </tr>\n",
              "    <tr>\n",
              "      <th>3</th>\n",
              "      <td>3</td>\n",
              "      <td>Leather Horse Statues</td>\n",
              "      <td>1</td>\n",
              "      <td>Home/Home Décor/Home Décor Accents</td>\n",
              "      <td>NaN</td>\n",
              "      <td>35.0</td>\n",
              "      <td>1</td>\n",
              "      <td>New with tags. Leather horses. Retail for [rm]...</td>\n",
              "      <td>3.583519</td>\n",
              "      <td>0.710690</td>\n",
              "      <td>-0.463781</td>\n",
              "      <td>-0.514153</td>\n",
              "      <td>-0.201971</td>\n",
              "      <td>-0.216047</td>\n",
              "      <td>2.198360</td>\n",
              "      <td>-0.061017</td>\n",
              "      <td>-1.019041</td>\n",
              "      <td>-1.022763</td>\n",
              "      <td>-0.969067</td>\n",
              "      <td>-0.981992</td>\n",
              "      <td>-0.954136</td>\n",
              "      <td>-1.003299</td>\n",
              "      <td>-1.021501</td>\n",
              "      <td>Home</td>\n",
              "      <td>Home Décor</td>\n",
              "      <td>Home Décor Accents</td>\n",
              "    </tr>\n",
              "    <tr>\n",
              "      <th>4</th>\n",
              "      <td>4</td>\n",
              "      <td>24K GOLD plated rose</td>\n",
              "      <td>1</td>\n",
              "      <td>Women/Jewelry/Necklaces</td>\n",
              "      <td>NaN</td>\n",
              "      <td>44.0</td>\n",
              "      <td>0</td>\n",
              "      <td>Complete with certificate of authenticity</td>\n",
              "      <td>3.806662</td>\n",
              "      <td>-1.023380</td>\n",
              "      <td>-0.463781</td>\n",
              "      <td>-0.514153</td>\n",
              "      <td>-0.201971</td>\n",
              "      <td>-0.216047</td>\n",
              "      <td>-0.287195</td>\n",
              "      <td>-0.061017</td>\n",
              "      <td>-1.019041</td>\n",
              "      <td>-1.022763</td>\n",
              "      <td>-0.969067</td>\n",
              "      <td>-0.981992</td>\n",
              "      <td>-0.954136</td>\n",
              "      <td>-1.003299</td>\n",
              "      <td>-1.021501</td>\n",
              "      <td>Women</td>\n",
              "      <td>Jewelry</td>\n",
              "      <td>Necklaces</td>\n",
              "    </tr>\n",
              "  </tbody>\n",
              "</table>\n",
              "</div>"
            ],
            "text/plain": [
              "   train_id  ...       subcategory_2\n",
              "0         0  ...            T-shirts\n",
              "1         1  ...  Components & Parts\n",
              "2         2  ...              Blouse\n",
              "3         3  ...  Home Décor Accents\n",
              "4         4  ...           Necklaces\n",
              "\n",
              "[5 rows x 26 columns]"
            ]
          },
          "metadata": {
            "tags": []
          },
          "execution_count": 37
        }
      ]
    },
    {
      "cell_type": "markdown",
      "metadata": {
        "id": "d2puwYZu_Sd-",
        "colab_type": "text"
      },
      "source": [
        "##  Brand"
      ]
    },
    {
      "cell_type": "code",
      "metadata": {
        "id": "sSneXlp8_CEr",
        "colab_type": "code",
        "outputId": "279da701-76a1-45c3-e92b-01b7a7af10dd",
        "colab": {
          "base_uri": "https://localhost:8080/",
          "height": 35
        }
      },
      "source": [
        "data_train['brand_name'].isnull().sum()"
      ],
      "execution_count": 0,
      "outputs": [
        {
          "output_type": "execute_result",
          "data": {
            "text/plain": [
              "632682"
            ]
          },
          "metadata": {
            "tags": []
          },
          "execution_count": 38
        }
      ]
    },
    {
      "cell_type": "markdown",
      "metadata": {
        "id": "OTm7oLOJCLsL",
        "colab_type": "text"
      },
      "source": [
        "**Filling Null Brands**"
      ]
    },
    {
      "cell_type": "code",
      "metadata": {
        "id": "lZxcawEuCRkF",
        "colab_type": "code",
        "colab": {}
      },
      "source": [
        "data_train.brand_name.fillna('unk_brand', inplace=True) #Replaceing all the null values with unk_brand"
      ],
      "execution_count": 0,
      "outputs": []
    },
    {
      "cell_type": "code",
      "metadata": {
        "id": "rPKDDzNzC1Nz",
        "colab_type": "code",
        "colab": {}
      },
      "source": [
        "# Creating a dict of brand names as keys and category list as values.\n",
        "\n",
        "# Returning Unique List.\n",
        "def concat_categories(x):\n",
        "    return set(x.values)\n",
        "\n",
        "#Getting unique categories for each brand as a dict \n",
        "brand_names_categories = dict(data_train[data_train['brand_name'] != 'unk_brand'][['brand_name','category_name']].astype('str').groupby('brand_name').agg(concat_categories).reset_index().values.tolist())\n",
        "# print(brand_names_categories)\n"
      ],
      "execution_count": 0,
      "outputs": []
    },
    {
      "cell_type": "code",
      "metadata": {
        "id": "8iOsvlY1C8iH",
        "colab_type": "code",
        "outputId": "df04d51e-8640-4046-87bd-ee0723d452da",
        "colab": {
          "base_uri": "https://localhost:8080/",
          "height": 225
        }
      },
      "source": [
        "#Validating unique categories for each brand as a dict \n",
        "data_train[data_train['brand_name'] == '% Pure']['category_name'].unique()"
      ],
      "execution_count": 0,
      "outputs": [
        {
          "output_type": "execute_result",
          "data": {
            "text/plain": [
              "array(['Beauty/Makeup/Lips', 'Beauty/Makeup/Face',\n",
              "       'Beauty/Skin Care/Body', 'Beauty/Makeup/Makeup Palettes',\n",
              "       'Beauty/Skin Care/Face', 'Beauty/Fragrance/Candles & Home Scents',\n",
              "       'Beauty/Hair Care/Shampoo & Conditioner Sets',\n",
              "       'Beauty/Makeup/Eyes', 'Beauty/Bath & Body/Bath',\n",
              "       'Beauty/Bath & Body/Scrubs & Body Treatments',\n",
              "       'Beauty/Skin Care/Maternity', 'Beauty/Skin Care/Feet',\n",
              "       'Beauty/Fragrance/Men', 'Beauty/Makeup/Makeup Sets',\n",
              "       'Beauty/Hair Care/Hair & Scalp Treatments',\n",
              "       'Beauty/Hair Care/Hair Loss Products', 'Beauty/Fragrance/Kids',\n",
              "       'Beauty/Fragrance/Women', 'Beauty/Skin Care/Eyes',\n",
              "       'Beauty/Skin Care/Sets & Kits'], dtype=object)"
            ]
          },
          "metadata": {
            "tags": []
          },
          "execution_count": 41
        }
      ]
    },
    {
      "cell_type": "code",
      "metadata": {
        "id": "SIroPCk8DGtA",
        "colab_type": "code",
        "colab": {}
      },
      "source": [
        "#Brands sorted by length (decreasinly), so that longer brand names have precedence in the null brand search\n",
        "brands_sorted_by_size = list(sorted(filter(lambda y: len(y) >= 3, list(brand_names_categories.keys())), key = lambda x: -len(x)))"
      ],
      "execution_count": 0,
      "outputs": []
    },
    {
      "cell_type": "code",
      "metadata": {
        "id": "-hHAnbnnDN9e",
        "colab_type": "code",
        "colab": {}
      },
      "source": [
        "#Count of unknow brand in the dataset.\n",
        "brand_name_null_count = len(data_train.loc[data_train['brand_name'] == 'unk_brand'])"
      ],
      "execution_count": 0,
      "outputs": []
    },
    {
      "cell_type": "code",
      "metadata": {
        "id": "2uSR6Xr-DQ7K",
        "colab_type": "code",
        "outputId": "d0445ea7-d309-4788-e5a4-4f98fe158173",
        "colab": {
          "base_uri": "https://localhost:8080/",
          "height": 35
        }
      },
      "source": [
        "brand_name_null_count"
      ],
      "execution_count": 0,
      "outputs": [
        {
          "output_type": "execute_result",
          "data": {
            "text/plain": [
              "632682"
            ]
          },
          "metadata": {
            "tags": []
          },
          "execution_count": 44
        }
      ]
    },
    {
      "cell_type": "code",
      "metadata": {
        "id": "VpvYdoHADUtC",
        "colab_type": "code",
        "colab": {}
      },
      "source": [
        "#Try to guess the Brand based on Name and Category. Returning brand name if brand is 'name' and category in 'brand_names_categories'.\n",
        "def brandfinder(name, category):    \n",
        "    for brand in brands_sorted_by_size:\n",
        "        if brand in name and category in brand_names_categories[brand]:\n",
        "          \n",
        "            return brand\n",
        "        \n",
        "    return 'unk_brand'\n"
      ],
      "execution_count": 0,
      "outputs": []
    },
    {
      "cell_type": "code",
      "metadata": {
        "id": "DqTPyZ_8XjHZ",
        "colab_type": "code",
        "colab": {}
      },
      "source": [
        "train_names_unknown_brands = data_train[data_train['brand_name'] == 'unk_brand'][['name','category_name']].astype('str').values"
      ],
      "execution_count": 0,
      "outputs": []
    },
    {
      "cell_type": "code",
      "metadata": {
        "id": "GU13NnVMXoPb",
        "colab_type": "code",
        "outputId": "6021f31e-3f24-4848-8a62-9481bc821f55",
        "colab": {
          "base_uri": "https://localhost:8080/",
          "height": 35
        }
      },
      "source": [
        "len(train_names_unknown_brands)"
      ],
      "execution_count": 0,
      "outputs": [
        {
          "output_type": "execute_result",
          "data": {
            "text/plain": [
              "632682"
            ]
          },
          "metadata": {
            "tags": []
          },
          "execution_count": 47
        }
      ]
    },
    {
      "cell_type": "code",
      "metadata": {
        "id": "TgAjd9tH7yQ5",
        "colab_type": "code",
        "colab": {}
      },
      "source": [
        "train_estimated_brands = []\n",
        "for name, category in train_names_unknown_brands:\n",
        "  train_estimated_brands.append(brandfinder(name,category))"
      ],
      "execution_count": 0,
      "outputs": []
    },
    {
      "cell_type": "code",
      "metadata": {
        "id": "J5gH2jsSDcBB",
        "colab_type": "code",
        "outputId": "c0644f11-374c-4f61-eb87-904e65c368ee",
        "colab": {
          "base_uri": "https://localhost:8080/",
          "height": 35
        }
      },
      "source": [
        "\n",
        "# train_estimated_brands = Parallel(n_jobs=1)(delayed(brandfinder)(name, category) for name, category in train_names_unknown_brands) #Returns generator object.\n",
        "#print(train_estimated_brands)\n",
        "data_train.loc[data_train['brand_name'] == 'unk_brand', 'brand_name'] = train_estimated_brands\n",
        "\n",
        "found = brand_name_null_count-len(data_train.loc[data_train['brand_name'] == 'unk_brand'])\n",
        "print(\"Null brands found: %d from %d\" % (found, brand_name_null_count))"
      ],
      "execution_count": 0,
      "outputs": [
        {
          "output_type": "stream",
          "text": [
            "Null brands found: 87216 from 632682\n"
          ],
          "name": "stdout"
        }
      ]
    },
    {
      "cell_type": "code",
      "metadata": {
        "id": "SYp3zHEg_v5C",
        "colab_type": "code",
        "outputId": "f58f9579-931a-41c9-a2b5-178645c511a9",
        "colab": {
          "base_uri": "https://localhost:8080/",
          "height": 35
        }
      },
      "source": [
        "data_train['brand_name'].isnull().sum()"
      ],
      "execution_count": 0,
      "outputs": [
        {
          "output_type": "execute_result",
          "data": {
            "text/plain": [
              "0"
            ]
          },
          "metadata": {
            "tags": []
          },
          "execution_count": 50
        }
      ]
    },
    {
      "cell_type": "code",
      "metadata": {
        "id": "AG3hlZ1LAvER",
        "colab_type": "code",
        "outputId": "e75d24e1-573e-47ca-ea22-2fb2dbe1ff23",
        "colab": {
          "base_uri": "https://localhost:8080/",
          "height": 35
        }
      },
      "source": [
        "data_train[data_train['brand_name'] == 'unk_brand'].shape"
      ],
      "execution_count": 0,
      "outputs": [
        {
          "output_type": "execute_result",
          "data": {
            "text/plain": [
              "(545466, 26)"
            ]
          },
          "metadata": {
            "tags": []
          },
          "execution_count": 51
        }
      ]
    },
    {
      "cell_type": "code",
      "metadata": {
        "id": "Pl10BmGkDVmM",
        "colab_type": "code",
        "colab": {}
      },
      "source": [
        "data_train.drop(columns={'price','train_id','category_name'},inplace=True)"
      ],
      "execution_count": 0,
      "outputs": []
    },
    {
      "cell_type": "code",
      "metadata": {
        "id": "TZeYrxXqDHRW",
        "colab_type": "code",
        "outputId": "f6b576f7-b037-481b-af12-7b79c0513edf",
        "colab": {
          "base_uri": "https://localhost:8080/",
          "height": 173
        }
      },
      "source": [
        "data_train.columns"
      ],
      "execution_count": 0,
      "outputs": [
        {
          "output_type": "execute_result",
          "data": {
            "text/plain": [
              "Index(['name', 'item_condition_id', 'brand_name', 'shipping',\n",
              "       'item_description', 'log_transform_price', 'words_log_counts',\n",
              "       'uppercase_perc', 'exclamation_log_count', 'star_log_count',\n",
              "       'percentage_log_count', 'rm_log_count', 'hashtag_log_count',\n",
              "       'price_log_median', 'price_log_mean', 'price_log_std',\n",
              "       'price_log_conf_variance', 'count_log', 'min_expected_log_price',\n",
              "       'max_expected_log_price', 'main_category', 'subcategory_1',\n",
              "       'subcategory_2'],\n",
              "      dtype='object')"
            ]
          },
          "metadata": {
            "tags": []
          },
          "execution_count": 53
        }
      ]
    },
    {
      "cell_type": "code",
      "metadata": {
        "id": "SFNHAB2UnAGj",
        "colab_type": "code",
        "colab": {}
      },
      "source": [
        "del(brand_name_null_count)\n",
        "del(found)\n",
        "del(brand_names_categories)\n"
      ],
      "execution_count": 0,
      "outputs": []
    },
    {
      "cell_type": "code",
      "metadata": {
        "id": "skZU86GqNBZX",
        "colab_type": "code",
        "colab": {}
      },
      "source": [
        "from sklearn.preprocessing import LabelEncoder, OneHotEncoder\n",
        "labelencoder_X = LabelEncoder()"
      ],
      "execution_count": 0,
      "outputs": []
    },
    {
      "cell_type": "code",
      "metadata": {
        "id": "OSP7VcNKNJGO",
        "colab_type": "code",
        "colab": {}
      },
      "source": [
        "data_train['main_category'] = labelencoder_X.fit_transform(data_train['main_category'])"
      ],
      "execution_count": 0,
      "outputs": []
    },
    {
      "cell_type": "code",
      "metadata": {
        "id": "c0oya2LfNlJe",
        "colab_type": "code",
        "colab": {}
      },
      "source": [
        "data_train['subcategory_1'] = labelencoder_X.fit_transform(data_train['subcategory_1'])"
      ],
      "execution_count": 0,
      "outputs": []
    },
    {
      "cell_type": "code",
      "metadata": {
        "id": "1r8rTeniNpQm",
        "colab_type": "code",
        "colab": {}
      },
      "source": [
        "data_train['subcategory_2'] = labelencoder_X.fit_transform(data_train['subcategory_2'])"
      ],
      "execution_count": 0,
      "outputs": []
    },
    {
      "cell_type": "code",
      "metadata": {
        "id": "3SZWuQ6tNpYd",
        "colab_type": "code",
        "colab": {}
      },
      "source": [
        "data_train['brand_name'] = labelencoder_X.fit_transform(data_train['brand_name'])"
      ],
      "execution_count": 0,
      "outputs": []
    },
    {
      "cell_type": "code",
      "metadata": {
        "id": "WP__2g82Nfbd",
        "colab_type": "code",
        "outputId": "64f6c537-62c4-4402-a2c3-2b0b6e92b6e8",
        "colab": {
          "base_uri": "https://localhost:8080/",
          "height": 447
        }
      },
      "source": [
        "data_train.head()"
      ],
      "execution_count": 0,
      "outputs": [
        {
          "output_type": "execute_result",
          "data": {
            "text/html": [
              "<div>\n",
              "<style scoped>\n",
              "    .dataframe tbody tr th:only-of-type {\n",
              "        vertical-align: middle;\n",
              "    }\n",
              "\n",
              "    .dataframe tbody tr th {\n",
              "        vertical-align: top;\n",
              "    }\n",
              "\n",
              "    .dataframe thead th {\n",
              "        text-align: right;\n",
              "    }\n",
              "</style>\n",
              "<table border=\"1\" class=\"dataframe\">\n",
              "  <thead>\n",
              "    <tr style=\"text-align: right;\">\n",
              "      <th></th>\n",
              "      <th>name</th>\n",
              "      <th>item_condition_id</th>\n",
              "      <th>brand_name</th>\n",
              "      <th>shipping</th>\n",
              "      <th>item_description</th>\n",
              "      <th>log_transform_price</th>\n",
              "      <th>words_log_counts</th>\n",
              "      <th>uppercase_perc</th>\n",
              "      <th>exclamation_log_count</th>\n",
              "      <th>star_log_count</th>\n",
              "      <th>percentage_log_count</th>\n",
              "      <th>rm_log_count</th>\n",
              "      <th>hashtag_log_count</th>\n",
              "      <th>price_log_median</th>\n",
              "      <th>price_log_mean</th>\n",
              "      <th>price_log_std</th>\n",
              "      <th>price_log_conf_variance</th>\n",
              "      <th>count_log</th>\n",
              "      <th>min_expected_log_price</th>\n",
              "      <th>max_expected_log_price</th>\n",
              "      <th>main_category</th>\n",
              "      <th>subcategory_1</th>\n",
              "      <th>subcategory_2</th>\n",
              "    </tr>\n",
              "  </thead>\n",
              "  <tbody>\n",
              "    <tr>\n",
              "      <th>0</th>\n",
              "      <td>MLB Cincinnati Reds T Shirt Size XL</td>\n",
              "      <td>3</td>\n",
              "      <td>2670</td>\n",
              "      <td>1</td>\n",
              "      <td>No description yet</td>\n",
              "      <td>2.397895</td>\n",
              "      <td>-1.435819</td>\n",
              "      <td>-0.463781</td>\n",
              "      <td>-0.514153</td>\n",
              "      <td>-0.201971</td>\n",
              "      <td>-0.216047</td>\n",
              "      <td>-0.287195</td>\n",
              "      <td>-0.061017</td>\n",
              "      <td>-1.019041</td>\n",
              "      <td>-1.022763</td>\n",
              "      <td>-0.969067</td>\n",
              "      <td>-0.981992</td>\n",
              "      <td>-0.954136</td>\n",
              "      <td>-1.003299</td>\n",
              "      <td>-1.021501</td>\n",
              "      <td>6</td>\n",
              "      <td>103</td>\n",
              "      <td>763</td>\n",
              "    </tr>\n",
              "    <tr>\n",
              "      <th>1</th>\n",
              "      <td>Razer BlackWidow Chroma Keyboard</td>\n",
              "      <td>3</td>\n",
              "      <td>3557</td>\n",
              "      <td>0</td>\n",
              "      <td>This keyboard is in great condition and works ...</td>\n",
              "      <td>3.970292</td>\n",
              "      <td>0.827068</td>\n",
              "      <td>-0.281394</td>\n",
              "      <td>-0.514153</td>\n",
              "      <td>-0.201971</td>\n",
              "      <td>-0.216047</td>\n",
              "      <td>-0.287195</td>\n",
              "      <td>-0.061017</td>\n",
              "      <td>1.382559</td>\n",
              "      <td>1.348661</td>\n",
              "      <td>0.670262</td>\n",
              "      <td>0.367732</td>\n",
              "      <td>-0.067626</td>\n",
              "      <td>1.623006</td>\n",
              "      <td>1.189453</td>\n",
              "      <td>2</td>\n",
              "      <td>31</td>\n",
              "      <td>213</td>\n",
              "    </tr>\n",
              "    <tr>\n",
              "      <th>2</th>\n",
              "      <td>AVA-VIV Blouse</td>\n",
              "      <td>1</td>\n",
              "      <td>4180</td>\n",
              "      <td>1</td>\n",
              "      <td>Adorable top with a hint of lace and a key hol...</td>\n",
              "      <td>2.397895</td>\n",
              "      <td>0.613741</td>\n",
              "      <td>-0.010959</td>\n",
              "      <td>1.638310</td>\n",
              "      <td>-0.201971</td>\n",
              "      <td>-0.216047</td>\n",
              "      <td>-0.287195</td>\n",
              "      <td>-0.061017</td>\n",
              "      <td>0.476690</td>\n",
              "      <td>0.467825</td>\n",
              "      <td>0.339902</td>\n",
              "      <td>0.732595</td>\n",
              "      <td>-0.159609</td>\n",
              "      <td>0.508109</td>\n",
              "      <td>0.440447</td>\n",
              "      <td>10</td>\n",
              "      <td>104</td>\n",
              "      <td>94</td>\n",
              "    </tr>\n",
              "    <tr>\n",
              "      <th>3</th>\n",
              "      <td>Leather Horse Statues</td>\n",
              "      <td>1</td>\n",
              "      <td>4807</td>\n",
              "      <td>1</td>\n",
              "      <td>New with tags. Leather horses. Retail for [rm]...</td>\n",
              "      <td>3.583519</td>\n",
              "      <td>0.710690</td>\n",
              "      <td>-0.463781</td>\n",
              "      <td>-0.514153</td>\n",
              "      <td>-0.201971</td>\n",
              "      <td>-0.216047</td>\n",
              "      <td>2.198360</td>\n",
              "      <td>-0.061017</td>\n",
              "      <td>-1.019041</td>\n",
              "      <td>-1.022763</td>\n",
              "      <td>-0.969067</td>\n",
              "      <td>-0.981992</td>\n",
              "      <td>-0.954136</td>\n",
              "      <td>-1.003299</td>\n",
              "      <td>-1.021501</td>\n",
              "      <td>4</td>\n",
              "      <td>56</td>\n",
              "      <td>405</td>\n",
              "    </tr>\n",
              "    <tr>\n",
              "      <th>4</th>\n",
              "      <td>24K GOLD plated rose</td>\n",
              "      <td>1</td>\n",
              "      <td>4807</td>\n",
              "      <td>0</td>\n",
              "      <td>Complete with certificate of authenticity</td>\n",
              "      <td>3.806662</td>\n",
              "      <td>-1.023380</td>\n",
              "      <td>-0.463781</td>\n",
              "      <td>-0.514153</td>\n",
              "      <td>-0.201971</td>\n",
              "      <td>-0.216047</td>\n",
              "      <td>-0.287195</td>\n",
              "      <td>-0.061017</td>\n",
              "      <td>-1.019041</td>\n",
              "      <td>-1.022763</td>\n",
              "      <td>-0.969067</td>\n",
              "      <td>-0.981992</td>\n",
              "      <td>-0.954136</td>\n",
              "      <td>-1.003299</td>\n",
              "      <td>-1.021501</td>\n",
              "      <td>10</td>\n",
              "      <td>59</td>\n",
              "      <td>537</td>\n",
              "    </tr>\n",
              "  </tbody>\n",
              "</table>\n",
              "</div>"
            ],
            "text/plain": [
              "                                  name  ...  subcategory_2\n",
              "0  MLB Cincinnati Reds T Shirt Size XL  ...            763\n",
              "1     Razer BlackWidow Chroma Keyboard  ...            213\n",
              "2                       AVA-VIV Blouse  ...             94\n",
              "3                Leather Horse Statues  ...            405\n",
              "4                 24K GOLD plated rose  ...            537\n",
              "\n",
              "[5 rows x 23 columns]"
            ]
          },
          "metadata": {
            "tags": []
          },
          "execution_count": 60
        }
      ]
    },
    {
      "cell_type": "code",
      "metadata": {
        "id": "dEA6OHNHOjTL",
        "colab_type": "code",
        "outputId": "2a92ee9c-4242-4518-b040-3c37b8b9ef89",
        "colab": {
          "base_uri": "https://localhost:8080/",
          "height": 173
        }
      },
      "source": [
        "data_train.columns"
      ],
      "execution_count": 0,
      "outputs": [
        {
          "output_type": "execute_result",
          "data": {
            "text/plain": [
              "Index(['name', 'item_condition_id', 'brand_name', 'shipping',\n",
              "       'item_description', 'log_transform_price', 'words_log_counts',\n",
              "       'uppercase_perc', 'exclamation_log_count', 'star_log_count',\n",
              "       'percentage_log_count', 'rm_log_count', 'hashtag_log_count',\n",
              "       'price_log_median', 'price_log_mean', 'price_log_std',\n",
              "       'price_log_conf_variance', 'count_log', 'min_expected_log_price',\n",
              "       'max_expected_log_price', 'main_category', 'subcategory_1',\n",
              "       'subcategory_2'],\n",
              "      dtype='object')"
            ]
          },
          "metadata": {
            "tags": []
          },
          "execution_count": 61
        }
      ]
    },
    {
      "cell_type": "markdown",
      "metadata": {
        "id": "oPSr7cg9ZOgg",
        "colab_type": "text"
      },
      "source": [
        "## Word2vec on item desc "
      ]
    },
    {
      "cell_type": "code",
      "metadata": {
        "id": "me8bpX0JZoQj",
        "colab_type": "code",
        "outputId": "4899703a-ebc9-4270-91e9-866b43263cfb",
        "colab": {
          "base_uri": "https://localhost:8080/",
          "height": 52
        }
      },
      "source": [
        "from nltk.corpus import stopwords\n",
        "import nltk\n",
        "nltk.download('stopwords')\n",
        "stopwords = stopwords.words('english')"
      ],
      "execution_count": 0,
      "outputs": [
        {
          "output_type": "stream",
          "text": [
            "[nltk_data] Downloading package stopwords to /root/nltk_data...\n",
            "[nltk_data]   Unzipping corpora/stopwords.zip.\n"
          ],
          "name": "stdout"
        }
      ]
    },
    {
      "cell_type": "code",
      "metadata": {
        "id": "ocvc7AOyZo58",
        "colab_type": "code",
        "colab": {}
      },
      "source": [
        "import re\n",
        "# https://stackoverflow.com/questions/19790188/expanding-english-language-contractions-in-python\n",
        "def decontracted(phrase):\n",
        "   # specific\n",
        "   phrase = re.sub(r\"won't\", \"will not\", phrase)\n",
        "   phrase = re.sub(r\"can\\'t\", \"can not\", phrase)\n",
        "\n",
        "   # general\n",
        "   phrase = re.sub(r\"n\\'t\", \" not\", phrase)\n",
        "   phrase = re.sub(r\"\\'re\", \" are\", phrase)\n",
        "   phrase = re.sub(r\"\\'s\", \" is\", phrase)\n",
        "   phrase = re.sub(r\"\\'d\", \" would\", phrase)\n",
        "   phrase = re.sub(r\"\\'ll\", \" will\", phrase)\n",
        "   phrase = re.sub(r\"\\'t\", \" not\", phrase)\n",
        "   phrase = re.sub(r\"\\'ve\", \" have\", phrase)\n",
        "   phrase = re.sub(r\"\\'m\", \" am\", phrase)\n",
        "   return phrase"
      ],
      "execution_count": 0,
      "outputs": []
    },
    {
      "cell_type": "code",
      "metadata": {
        "id": "EpalO5GTgK2a",
        "colab_type": "code",
        "outputId": "a840f930-234f-4af6-bf50-28a060526b2e",
        "colab": {
          "base_uri": "https://localhost:8080/",
          "height": 453
        }
      },
      "source": [
        "!pip install --upgrade gensim"
      ],
      "execution_count": 0,
      "outputs": [
        {
          "output_type": "stream",
          "text": [
            "Collecting gensim\n",
            "\u001b[?25l  Downloading https://files.pythonhosted.org/packages/d1/dd/112bd4258cee11e0baaaba064060eb156475a42362e59e3ff28e7ca2d29d/gensim-3.8.1-cp36-cp36m-manylinux1_x86_64.whl (24.2MB)\n",
            "\u001b[K     |████████████████████████████████| 24.2MB 368kB/s \n",
            "\u001b[?25hRequirement already satisfied, skipping upgrade: scipy>=0.18.1 in /usr/local/lib/python3.6/dist-packages (from gensim) (1.3.3)\n",
            "Requirement already satisfied, skipping upgrade: smart-open>=1.8.1 in /usr/local/lib/python3.6/dist-packages (from gensim) (1.9.0)\n",
            "Requirement already satisfied, skipping upgrade: numpy>=1.11.3 in /usr/local/lib/python3.6/dist-packages (from gensim) (1.17.4)\n",
            "Requirement already satisfied, skipping upgrade: six>=1.5.0 in /usr/local/lib/python3.6/dist-packages (from gensim) (1.12.0)\n",
            "Requirement already satisfied, skipping upgrade: boto3 in /usr/local/lib/python3.6/dist-packages (from smart-open>=1.8.1->gensim) (1.10.27)\n",
            "Requirement already satisfied, skipping upgrade: boto>=2.32 in /usr/local/lib/python3.6/dist-packages (from smart-open>=1.8.1->gensim) (2.49.0)\n",
            "Requirement already satisfied, skipping upgrade: requests in /usr/local/lib/python3.6/dist-packages (from smart-open>=1.8.1->gensim) (2.21.0)\n",
            "Requirement already satisfied, skipping upgrade: botocore<1.14.0,>=1.13.27 in /usr/local/lib/python3.6/dist-packages (from boto3->smart-open>=1.8.1->gensim) (1.13.27)\n",
            "Requirement already satisfied, skipping upgrade: jmespath<1.0.0,>=0.7.1 in /usr/local/lib/python3.6/dist-packages (from boto3->smart-open>=1.8.1->gensim) (0.9.4)\n",
            "Requirement already satisfied, skipping upgrade: s3transfer<0.3.0,>=0.2.0 in /usr/local/lib/python3.6/dist-packages (from boto3->smart-open>=1.8.1->gensim) (0.2.1)\n",
            "Requirement already satisfied, skipping upgrade: certifi>=2017.4.17 in /usr/local/lib/python3.6/dist-packages (from requests->smart-open>=1.8.1->gensim) (2019.9.11)\n",
            "Requirement already satisfied, skipping upgrade: idna<2.9,>=2.5 in /usr/local/lib/python3.6/dist-packages (from requests->smart-open>=1.8.1->gensim) (2.8)\n",
            "Requirement already satisfied, skipping upgrade: chardet<3.1.0,>=3.0.2 in /usr/local/lib/python3.6/dist-packages (from requests->smart-open>=1.8.1->gensim) (3.0.4)\n",
            "Requirement already satisfied, skipping upgrade: urllib3<1.25,>=1.21.1 in /usr/local/lib/python3.6/dist-packages (from requests->smart-open>=1.8.1->gensim) (1.24.3)\n",
            "Requirement already satisfied, skipping upgrade: docutils<0.16,>=0.10 in /usr/local/lib/python3.6/dist-packages (from botocore<1.14.0,>=1.13.27->boto3->smart-open>=1.8.1->gensim) (0.15.2)\n",
            "Requirement already satisfied, skipping upgrade: python-dateutil<2.8.1,>=2.1; python_version >= \"2.7\" in /usr/local/lib/python3.6/dist-packages (from botocore<1.14.0,>=1.13.27->boto3->smart-open>=1.8.1->gensim) (2.6.1)\n",
            "Installing collected packages: gensim\n",
            "  Found existing installation: gensim 3.6.0\n",
            "    Uninstalling gensim-3.6.0:\n",
            "      Successfully uninstalled gensim-3.6.0\n",
            "Successfully installed gensim-3.8.1\n"
          ],
          "name": "stdout"
        }
      ]
    },
    {
      "cell_type": "code",
      "metadata": {
        "id": "v6O-D2liZo-5",
        "colab_type": "code",
        "colab": {}
      },
      "source": [
        " from nltk.corpus import stopwords\n",
        " from gensim.models import Word2Vec"
      ],
      "execution_count": 0,
      "outputs": []
    },
    {
      "cell_type": "code",
      "metadata": {
        "id": "x3M1xgjBZpDH",
        "colab_type": "code",
        "colab": {}
      },
      "source": [
        "stop = set(stopwords.words('english')) "
      ],
      "execution_count": 0,
      "outputs": []
    },
    {
      "cell_type": "code",
      "metadata": {
        "id": "iR-BUpr3ZpH-",
        "colab_type": "code",
        "colab": {}
      },
      "source": [
        "def tokenize(text):\n",
        "    \"\"\"\n",
        "    sent_tokenize(): segment text into sentences\n",
        "    word_tokenize(): break sentences into words\n",
        "    \"\"\"\n",
        "    try: \n",
        "        regex = re.compile('[' +re.escape(string.punctuation) + '\\\\\"\\\\r\\\\t\\\\n]') #Removing Quotations,Carraige return,newline char, tab.\n",
        "        text = regex.sub(\" \", text) # remove punctuation\n",
        "        \n",
        "        tokens_ = [word_tokenize(s) for s in sent_tokenize(text)]\n",
        "        tokens = []\n",
        "        for token_by_sent in tokens_:\n",
        "            tokens += token_by_sent\n",
        "        tokens = list(filter(lambda t: t.lower() not in stop, tokens)) # Remove stop words\n",
        "        filtered_tokens = [decontracted(w) for w in tokens if re.search('[a-zA-Z0-9]', w)]\n",
        "        filtered_tokens = [w.lower().strip() for w in filtered_tokens if len(w)>=3] # Changing to lower case and strpping the word , Removing words with lenght less than 3.\n",
        "        \n",
        "        return filtered_tokens\n",
        "            \n",
        "    except TypeError as e: print(text,e)\n"
      ],
      "execution_count": 0,
      "outputs": []
    },
    {
      "cell_type": "code",
      "metadata": {
        "id": "QFXIXwSUZxJb",
        "colab_type": "code",
        "outputId": "3b94e7bc-ca54-4d6c-8ab8-b95f4526fb90",
        "colab": {
          "base_uri": "https://localhost:8080/",
          "height": 35
        }
      },
      "source": [
        "data_train['item_description'].isnull().sum() #Checking Null Values"
      ],
      "execution_count": 0,
      "outputs": [
        {
          "output_type": "execute_result",
          "data": {
            "text/plain": [
              "4"
            ]
          },
          "metadata": {
            "tags": []
          },
          "execution_count": 69
        }
      ]
    },
    {
      "cell_type": "code",
      "metadata": {
        "id": "rAcBcU4UZxSk",
        "colab_type": "code",
        "colab": {}
      },
      "source": [
        "data_train['item_description'].fillna('No description yet',inplace = True) #Replacing Null Values with \"No description yet\""
      ],
      "execution_count": 0,
      "outputs": []
    },
    {
      "cell_type": "code",
      "metadata": {
        "id": "mOIetk9xZ4at",
        "colab_type": "code",
        "outputId": "2463a136-c3a6-4d8e-c7fe-6a5f77217a30",
        "colab": {
          "base_uri": "https://localhost:8080/",
          "height": 35
        }
      },
      "source": [
        "data_train['item_description'].isnull().sum() #Crosschecking Null values"
      ],
      "execution_count": 0,
      "outputs": [
        {
          "output_type": "execute_result",
          "data": {
            "text/plain": [
              "0"
            ]
          },
          "metadata": {
            "tags": []
          },
          "execution_count": 71
        }
      ]
    },
    {
      "cell_type": "code",
      "metadata": {
        "id": "vgQqMO_HajDC",
        "colab_type": "code",
        "outputId": "3a153519-8287-4a7a-8a59-80086eb6767b",
        "colab": {
          "base_uri": "https://localhost:8080/",
          "height": 35
        }
      },
      "source": [
        "from tqdm import tqdm\n",
        "\n",
        "data_train['clean_description'] = tqdm(data_train['item_description'].map(tokenize))"
      ],
      "execution_count": 0,
      "outputs": [
        {
          "output_type": "stream",
          "text": [
            "100%|██████████| 1482535/1482535 [00:00<00:00, 2768940.99it/s]\n"
          ],
          "name": "stderr"
        }
      ]
    },
    {
      "cell_type": "code",
      "metadata": {
        "id": "Re4g3Z0UZNyQ",
        "colab_type": "code",
        "colab": {}
      },
      "source": [
        "# Create a list of strings, where each string is an article title\n",
        "description_list = [desc for desc in data_train['item_description']]"
      ],
      "execution_count": 0,
      "outputs": []
    },
    {
      "cell_type": "code",
      "metadata": {
        "id": "dPU87tnmZasd",
        "colab_type": "code",
        "colab": {}
      },
      "source": [
        "def document_vector(word2vec_model, doc):\n",
        "    # remove out-of-vocabulary words\n",
        "    doc = [word for word in doc if word in word2vec_model.wv.vocab]\n",
        "    return np.mean(word2vec_model[doc], axis=0)\n",
        "\n",
        "# Here, we need each document to remain a document \n",
        "def preprocess(text):\n",
        "    text = text.lower()\n",
        "    doc = word_tokenize(text)\n",
        "    doc = [word for word in doc if word not in stopwords]\n",
        "    doc = [word for word in doc if word.isalpha()] \n",
        "    return doc\n",
        "\n",
        "# Function that will help us drop documents that have no word vectors in word2vec\n",
        "def has_vector_representation(word2vec_model, doc):\n",
        "    \"\"\"check if at least one word of the document is in the\n",
        "    word2vec dictionary\"\"\"\n",
        "    return not all(word not in word2vec_model.wv.vocab for word in doc)\n",
        "\n",
        "# Filter out documents\n",
        "def filter_docs(corpus, texts, condition_on_doc):\n",
        "    \"\"\"\n",
        "    Filter corpus and texts given the function condition_on_doc which takes\n",
        "    a doc. The document doc is kept if condition_on_doc(doc) is true.\n",
        "    \"\"\"\n",
        "    number_of_docs = len(corpus)\n",
        "\n",
        "    if texts is not None:\n",
        "        texts = [text for (text, doc) in zip(texts, corpus)\n",
        "                 if condition_on_doc(doc)]\n",
        "\n",
        "    corpus = [doc for doc in corpus if condition_on_doc(doc)]\n",
        "\n",
        "    print(\"{} docs removed\".format(number_of_docs - len(corpus)))\n",
        "\n",
        "    return (corpus, texts)"
      ],
      "execution_count": 0,
      "outputs": []
    },
    {
      "cell_type": "code",
      "metadata": {
        "id": "a1FTQIlWdU-V",
        "colab_type": "code",
        "outputId": "f5ff5af3-f0a1-47d7-ae67-4e1f653cb2d3",
        "colab": {
          "base_uri": "https://localhost:8080/",
          "height": 124
        }
      },
      "source": [
        "description_list[:5]"
      ],
      "execution_count": 0,
      "outputs": [
        {
          "output_type": "execute_result",
          "data": {
            "text/plain": [
              "['No description yet',\n",
              " 'This keyboard is in great condition and works like it came out of the box. All of the ports are tested and work perfectly. The lights are customizable via the Razer Synapse app on your PC.',\n",
              " 'Adorable top with a hint of lace and a key hole in the back! The pale pink is a 1X, and I also have a 3X available in white!',\n",
              " 'New with tags. Leather horses. Retail for [rm] each. Stand about a foot high. They are being sold as a pair. Any questions please ask. Free shipping. Just got out of storage',\n",
              " 'Complete with certificate of authenticity']"
            ]
          },
          "metadata": {
            "tags": []
          },
          "execution_count": 75
        }
      ]
    },
    {
      "cell_type": "code",
      "metadata": {
        "id": "YhgpdafgZ4-w",
        "colab_type": "code",
        "colab": {}
      },
      "source": [
        "corpus = list(data_train['clean_description'])"
      ],
      "execution_count": 0,
      "outputs": []
    },
    {
      "cell_type": "code",
      "metadata": {
        "id": "A4Nk_wG6i0Ut",
        "colab_type": "code",
        "outputId": "f55d94eb-071e-469e-e5c6-e5c0534bcb5b",
        "colab": {
          "base_uri": "https://localhost:8080/",
          "height": 35
        }
      },
      "source": [
        "len(corpus)"
      ],
      "execution_count": 0,
      "outputs": [
        {
          "output_type": "execute_result",
          "data": {
            "text/plain": [
              "1482535"
            ]
          },
          "metadata": {
            "tags": []
          },
          "execution_count": 77
        }
      ]
    },
    {
      "cell_type": "code",
      "metadata": {
        "id": "6qyKOHsLazki",
        "colab_type": "code",
        "colab": {}
      },
      "source": [
        "# train model\n",
        "model = Word2Vec(data_train['clean_description'], min_count=10, size= 350)"
      ],
      "execution_count": 0,
      "outputs": []
    },
    {
      "cell_type": "code",
      "metadata": {
        "id": "os2eD23AAG3H",
        "colab_type": "code",
        "outputId": "7793ae6e-b48f-45ff-cf2f-ae6766f78210",
        "colab": {
          "base_uri": "https://localhost:8080/",
          "height": 35
        }
      },
      "source": [
        "len(model.wv.vocab)"
      ],
      "execution_count": 0,
      "outputs": [
        {
          "output_type": "execute_result",
          "data": {
            "text/plain": [
              "34588"
            ]
          },
          "metadata": {
            "tags": []
          },
          "execution_count": 79
        }
      ]
    },
    {
      "cell_type": "code",
      "metadata": {
        "id": "JXHJv-VA2pJ-",
        "colab_type": "code",
        "colab": {}
      },
      "source": [
        "# from google.colab import drive\n",
        "# drive.mount('/content/gdrive',force_remount=True)"
      ],
      "execution_count": 0,
      "outputs": []
    },
    {
      "cell_type": "code",
      "metadata": {
        "id": "XHgcOs-c2t8d",
        "colab_type": "code",
        "colab": {}
      },
      "source": [
        "# cd '/content/gdrive/My Drive/Data'"
      ],
      "execution_count": 0,
      "outputs": []
    },
    {
      "cell_type": "code",
      "metadata": {
        "id": "Qu2ruMHa2wsp",
        "colab_type": "code",
        "colab": {}
      },
      "source": [
        "# import os\n",
        "# # Set input directory, change working directory\n",
        "# inDir = '/content/gdrive/My Drive/Data' + os.sep  # Set input directory to the current working directory\n",
        "# os.chdir(inDir)               # Change to working directory"
      ],
      "execution_count": 0,
      "outputs": []
    },
    {
      "cell_type": "code",
      "metadata": {
        "id": "JCTCiX3M2BbE",
        "colab_type": "code",
        "colab": {}
      },
      "source": [
        "# #serializing our model to a file called model.pkl\n",
        "# import pickle\n",
        "# pickle.dump(model, open(inDir+\"/Word2Vec_desc.pkl\",\"wb\"))\n"
      ],
      "execution_count": 0,
      "outputs": []
    },
    {
      "cell_type": "code",
      "metadata": {
        "id": "ATHZPFbea2EP",
        "colab_type": "code",
        "colab": {}
      },
      "source": [
        "# summarize vocabulary\n",
        "words = list(model.wv.vocab)"
      ],
      "execution_count": 0,
      "outputs": []
    },
    {
      "cell_type": "code",
      "metadata": {
        "id": "eCdWKQjdttDP",
        "colab_type": "code",
        "outputId": "b1f22dfc-df6e-4df2-a4a2-cde3d668350e",
        "colab": {
          "base_uri": "https://localhost:8080/",
          "height": 35
        }
      },
      "source": [
        "len(words)"
      ],
      "execution_count": 0,
      "outputs": [
        {
          "output_type": "execute_result",
          "data": {
            "text/plain": [
              "34588"
            ]
          },
          "metadata": {
            "tags": []
          },
          "execution_count": 84
        }
      ]
    },
    {
      "cell_type": "code",
      "metadata": {
        "id": "szjw_JvQa3nc",
        "colab_type": "code",
        "outputId": "a92e6f16-75f0-44b2-d399-3957bcf3b978",
        "colab": {
          "base_uri": "https://localhost:8080/",
          "height": 35
        }
      },
      "source": [
        "# Remove docs that don't include any words in W2V's vocab\n",
        "corpus, description_list = filter_docs(corpus, description_list, lambda doc: has_vector_representation(model, doc))"
      ],
      "execution_count": 0,
      "outputs": [
        {
          "output_type": "stream",
          "text": [
            "3712 docs removed\n"
          ],
          "name": "stdout"
        }
      ]
    },
    {
      "cell_type": "code",
      "metadata": {
        "id": "IIqvQxV9bHOy",
        "colab_type": "code",
        "outputId": "7168de58-c17c-43da-cd5f-ac31f330fc63",
        "colab": {
          "base_uri": "https://localhost:8080/",
          "height": 35
        }
      },
      "source": [
        "# # Filter out any empty docs\n",
        "corpus, description_list = filter_docs(corpus, description_list, lambda doc: (len(doc) != 0))"
      ],
      "execution_count": 0,
      "outputs": [
        {
          "output_type": "stream",
          "text": [
            "0 docs removed\n"
          ],
          "name": "stdout"
        }
      ]
    },
    {
      "cell_type": "code",
      "metadata": {
        "id": "AeknDe5TbKLC",
        "colab_type": "code",
        "colab": {}
      },
      "source": [
        "# Initialize an array for the size of the corpus\n",
        "x_desc = []\n",
        "for doc in corpus: # append the vector for each document\n",
        "    x_desc.append(document_vector(model, doc))\n",
        "    \n"
      ],
      "execution_count": 0,
      "outputs": []
    },
    {
      "cell_type": "code",
      "metadata": {
        "id": "aesv4JrzC0qS",
        "colab_type": "code",
        "colab": {}
      },
      "source": [
        "X_desc = np.array(x_desc) # list to array"
      ],
      "execution_count": 0,
      "outputs": []
    },
    {
      "cell_type": "code",
      "metadata": {
        "id": "RQvyIe0KG6Rw",
        "colab_type": "code",
        "outputId": "78337546-e3ee-472c-ecf8-08011903cfd2",
        "colab": {
          "base_uri": "https://localhost:8080/",
          "height": 35
        }
      },
      "source": [
        "type(X_desc)"
      ],
      "execution_count": 0,
      "outputs": [
        {
          "output_type": "execute_result",
          "data": {
            "text/plain": [
              "numpy.ndarray"
            ]
          },
          "metadata": {
            "tags": []
          },
          "execution_count": 89
        }
      ]
    },
    {
      "cell_type": "code",
      "metadata": {
        "id": "_G3k-ujWIQSg",
        "colab_type": "code",
        "colab": {}
      },
      "source": [
        "# Feature Scaling\n",
        "from sklearn.preprocessing import StandardScaler\n",
        "\n",
        "sc_desc = StandardScaler()\n",
        "X_desc = sc_desc.fit_transform(X_desc)"
      ],
      "execution_count": 0,
      "outputs": []
    },
    {
      "cell_type": "code",
      "metadata": {
        "id": "kHsRR_0nbOOJ",
        "colab_type": "code",
        "colab": {}
      },
      "source": [
        "from sklearn.decomposition import PCA\n",
        "\n",
        "pca_desc = PCA(n_components=120, random_state=10)\n",
        "\n",
        "# X is the array with our 350-dimensional vectors\n",
        "reduced_vecs_desc = pca_desc.fit_transform(X_desc)"
      ],
      "execution_count": 0,
      "outputs": []
    },
    {
      "cell_type": "code",
      "metadata": {
        "id": "WuDNLiXze385",
        "colab_type": "code",
        "outputId": "688bb806-9203-48c0-d6b6-ce4ea4881a02",
        "colab": {
          "base_uri": "https://localhost:8080/",
          "height": 35
        }
      },
      "source": [
        "np.sum(pca_desc.explained_variance_ratio_)"
      ],
      "execution_count": 0,
      "outputs": [
        {
          "output_type": "execute_result",
          "data": {
            "text/plain": [
              "0.8870151973897038"
            ]
          },
          "metadata": {
            "tags": []
          },
          "execution_count": 92
        }
      ]
    },
    {
      "cell_type": "code",
      "metadata": {
        "id": "8HM8TT9GbRqQ",
        "colab_type": "code",
        "colab": {}
      },
      "source": [
        "df_w_vectors_desc = pd.DataFrame(reduced_vecs_desc)"
      ],
      "execution_count": 0,
      "outputs": []
    },
    {
      "cell_type": "code",
      "metadata": {
        "id": "RVSSmLYZbUkK",
        "colab_type": "code",
        "colab": {}
      },
      "source": [
        "for i in range(len(df_w_vectors_desc.columns)):\n",
        "  df_w_vectors_desc.rename(columns={i:'desc_' + str(i)},inplace=True)"
      ],
      "execution_count": 0,
      "outputs": []
    },
    {
      "cell_type": "code",
      "metadata": {
        "id": "W0k8nDPzbY2d",
        "colab_type": "code",
        "colab": {}
      },
      "source": [
        "main_w_vectors = pd.concat((data_train,df_w_vectors_desc), axis=1)"
      ],
      "execution_count": 0,
      "outputs": []
    },
    {
      "cell_type": "code",
      "metadata": {
        "id": "7tru_WOFbwGC",
        "colab_type": "code",
        "outputId": "e75eed83-b445-4c53-b5a7-5a564e755c09",
        "colab": {
          "base_uri": "https://localhost:8080/",
          "height": 411
        }
      },
      "source": [
        "# Get rid of vectors that couldn't be matched with the main_df\n",
        "main_w_vectors.dropna(axis=0, inplace=True)\n",
        "\n",
        "main_w_vectors.head(4)"
      ],
      "execution_count": 0,
      "outputs": [
        {
          "output_type": "execute_result",
          "data": {
            "text/html": [
              "<div>\n",
              "<style scoped>\n",
              "    .dataframe tbody tr th:only-of-type {\n",
              "        vertical-align: middle;\n",
              "    }\n",
              "\n",
              "    .dataframe tbody tr th {\n",
              "        vertical-align: top;\n",
              "    }\n",
              "\n",
              "    .dataframe thead th {\n",
              "        text-align: right;\n",
              "    }\n",
              "</style>\n",
              "<table border=\"1\" class=\"dataframe\">\n",
              "  <thead>\n",
              "    <tr style=\"text-align: right;\">\n",
              "      <th></th>\n",
              "      <th>name</th>\n",
              "      <th>item_condition_id</th>\n",
              "      <th>brand_name</th>\n",
              "      <th>shipping</th>\n",
              "      <th>item_description</th>\n",
              "      <th>log_transform_price</th>\n",
              "      <th>words_log_counts</th>\n",
              "      <th>uppercase_perc</th>\n",
              "      <th>exclamation_log_count</th>\n",
              "      <th>star_log_count</th>\n",
              "      <th>percentage_log_count</th>\n",
              "      <th>rm_log_count</th>\n",
              "      <th>hashtag_log_count</th>\n",
              "      <th>price_log_median</th>\n",
              "      <th>price_log_mean</th>\n",
              "      <th>price_log_std</th>\n",
              "      <th>price_log_conf_variance</th>\n",
              "      <th>count_log</th>\n",
              "      <th>min_expected_log_price</th>\n",
              "      <th>max_expected_log_price</th>\n",
              "      <th>main_category</th>\n",
              "      <th>subcategory_1</th>\n",
              "      <th>subcategory_2</th>\n",
              "      <th>clean_description</th>\n",
              "      <th>desc_0</th>\n",
              "      <th>desc_1</th>\n",
              "      <th>desc_2</th>\n",
              "      <th>desc_3</th>\n",
              "      <th>desc_4</th>\n",
              "      <th>desc_5</th>\n",
              "      <th>desc_6</th>\n",
              "      <th>desc_7</th>\n",
              "      <th>desc_8</th>\n",
              "      <th>desc_9</th>\n",
              "      <th>desc_10</th>\n",
              "      <th>desc_11</th>\n",
              "      <th>desc_12</th>\n",
              "      <th>desc_13</th>\n",
              "      <th>desc_14</th>\n",
              "      <th>desc_15</th>\n",
              "      <th>...</th>\n",
              "      <th>desc_80</th>\n",
              "      <th>desc_81</th>\n",
              "      <th>desc_82</th>\n",
              "      <th>desc_83</th>\n",
              "      <th>desc_84</th>\n",
              "      <th>desc_85</th>\n",
              "      <th>desc_86</th>\n",
              "      <th>desc_87</th>\n",
              "      <th>desc_88</th>\n",
              "      <th>desc_89</th>\n",
              "      <th>desc_90</th>\n",
              "      <th>desc_91</th>\n",
              "      <th>desc_92</th>\n",
              "      <th>desc_93</th>\n",
              "      <th>desc_94</th>\n",
              "      <th>desc_95</th>\n",
              "      <th>desc_96</th>\n",
              "      <th>desc_97</th>\n",
              "      <th>desc_98</th>\n",
              "      <th>desc_99</th>\n",
              "      <th>desc_100</th>\n",
              "      <th>desc_101</th>\n",
              "      <th>desc_102</th>\n",
              "      <th>desc_103</th>\n",
              "      <th>desc_104</th>\n",
              "      <th>desc_105</th>\n",
              "      <th>desc_106</th>\n",
              "      <th>desc_107</th>\n",
              "      <th>desc_108</th>\n",
              "      <th>desc_109</th>\n",
              "      <th>desc_110</th>\n",
              "      <th>desc_111</th>\n",
              "      <th>desc_112</th>\n",
              "      <th>desc_113</th>\n",
              "      <th>desc_114</th>\n",
              "      <th>desc_115</th>\n",
              "      <th>desc_116</th>\n",
              "      <th>desc_117</th>\n",
              "      <th>desc_118</th>\n",
              "      <th>desc_119</th>\n",
              "    </tr>\n",
              "  </thead>\n",
              "  <tbody>\n",
              "    <tr>\n",
              "      <th>0</th>\n",
              "      <td>MLB Cincinnati Reds T Shirt Size XL</td>\n",
              "      <td>3</td>\n",
              "      <td>2670</td>\n",
              "      <td>1</td>\n",
              "      <td>No description yet</td>\n",
              "      <td>2.397895</td>\n",
              "      <td>-1.435819</td>\n",
              "      <td>-0.463781</td>\n",
              "      <td>-0.514153</td>\n",
              "      <td>-0.201971</td>\n",
              "      <td>-0.216047</td>\n",
              "      <td>-0.287195</td>\n",
              "      <td>-0.061017</td>\n",
              "      <td>-1.019041</td>\n",
              "      <td>-1.022763</td>\n",
              "      <td>-0.969067</td>\n",
              "      <td>-0.981992</td>\n",
              "      <td>-0.954136</td>\n",
              "      <td>-1.003299</td>\n",
              "      <td>-1.021501</td>\n",
              "      <td>6</td>\n",
              "      <td>103</td>\n",
              "      <td>763</td>\n",
              "      <td>[description, yet]</td>\n",
              "      <td>9.842020</td>\n",
              "      <td>-11.486503</td>\n",
              "      <td>-3.520439</td>\n",
              "      <td>-2.220166</td>\n",
              "      <td>-10.527919</td>\n",
              "      <td>2.234902</td>\n",
              "      <td>-1.910435</td>\n",
              "      <td>1.706773</td>\n",
              "      <td>-0.362397</td>\n",
              "      <td>0.520333</td>\n",
              "      <td>0.146969</td>\n",
              "      <td>0.129355</td>\n",
              "      <td>-0.567337</td>\n",
              "      <td>0.306127</td>\n",
              "      <td>-0.277588</td>\n",
              "      <td>0.922844</td>\n",
              "      <td>...</td>\n",
              "      <td>-0.028503</td>\n",
              "      <td>0.004085</td>\n",
              "      <td>-0.021844</td>\n",
              "      <td>-0.067789</td>\n",
              "      <td>0.042742</td>\n",
              "      <td>0.034206</td>\n",
              "      <td>-0.025430</td>\n",
              "      <td>-0.024604</td>\n",
              "      <td>-0.008309</td>\n",
              "      <td>0.030425</td>\n",
              "      <td>0.005044</td>\n",
              "      <td>0.009052</td>\n",
              "      <td>0.055379</td>\n",
              "      <td>0.022141</td>\n",
              "      <td>-0.014498</td>\n",
              "      <td>0.014219</td>\n",
              "      <td>0.032253</td>\n",
              "      <td>-0.023225</td>\n",
              "      <td>0.000518</td>\n",
              "      <td>-0.046104</td>\n",
              "      <td>0.011702</td>\n",
              "      <td>0.012552</td>\n",
              "      <td>0.013088</td>\n",
              "      <td>0.020372</td>\n",
              "      <td>0.011158</td>\n",
              "      <td>-0.038248</td>\n",
              "      <td>-0.030518</td>\n",
              "      <td>-0.000418</td>\n",
              "      <td>-0.022221</td>\n",
              "      <td>-0.020727</td>\n",
              "      <td>-0.026389</td>\n",
              "      <td>0.011695</td>\n",
              "      <td>-0.025739</td>\n",
              "      <td>-0.018654</td>\n",
              "      <td>0.007785</td>\n",
              "      <td>-0.022853</td>\n",
              "      <td>0.029405</td>\n",
              "      <td>0.019609</td>\n",
              "      <td>-0.007999</td>\n",
              "      <td>0.018744</td>\n",
              "    </tr>\n",
              "    <tr>\n",
              "      <th>1</th>\n",
              "      <td>Razer BlackWidow Chroma Keyboard</td>\n",
              "      <td>3</td>\n",
              "      <td>3557</td>\n",
              "      <td>0</td>\n",
              "      <td>This keyboard is in great condition and works ...</td>\n",
              "      <td>3.970292</td>\n",
              "      <td>0.827068</td>\n",
              "      <td>-0.281394</td>\n",
              "      <td>-0.514153</td>\n",
              "      <td>-0.201971</td>\n",
              "      <td>-0.216047</td>\n",
              "      <td>-0.287195</td>\n",
              "      <td>-0.061017</td>\n",
              "      <td>1.382559</td>\n",
              "      <td>1.348661</td>\n",
              "      <td>0.670262</td>\n",
              "      <td>0.367732</td>\n",
              "      <td>-0.067626</td>\n",
              "      <td>1.623006</td>\n",
              "      <td>1.189453</td>\n",
              "      <td>2</td>\n",
              "      <td>31</td>\n",
              "      <td>213</td>\n",
              "      <td>[keyboard, great, condition, works, like, came...</td>\n",
              "      <td>5.077970</td>\n",
              "      <td>0.609434</td>\n",
              "      <td>8.452345</td>\n",
              "      <td>-3.698251</td>\n",
              "      <td>1.349674</td>\n",
              "      <td>1.624934</td>\n",
              "      <td>1.034534</td>\n",
              "      <td>-3.599739</td>\n",
              "      <td>0.964364</td>\n",
              "      <td>0.385444</td>\n",
              "      <td>3.802707</td>\n",
              "      <td>-0.003164</td>\n",
              "      <td>-1.360943</td>\n",
              "      <td>1.394307</td>\n",
              "      <td>3.018989</td>\n",
              "      <td>0.154816</td>\n",
              "      <td>...</td>\n",
              "      <td>-0.223059</td>\n",
              "      <td>-0.664977</td>\n",
              "      <td>-0.399142</td>\n",
              "      <td>-0.200006</td>\n",
              "      <td>-0.589547</td>\n",
              "      <td>0.365861</td>\n",
              "      <td>0.431848</td>\n",
              "      <td>0.310675</td>\n",
              "      <td>-1.263740</td>\n",
              "      <td>0.170311</td>\n",
              "      <td>0.176919</td>\n",
              "      <td>-0.094442</td>\n",
              "      <td>0.718282</td>\n",
              "      <td>0.098416</td>\n",
              "      <td>-0.298271</td>\n",
              "      <td>-0.521123</td>\n",
              "      <td>-0.298386</td>\n",
              "      <td>-0.709927</td>\n",
              "      <td>0.739374</td>\n",
              "      <td>-1.039741</td>\n",
              "      <td>-0.634561</td>\n",
              "      <td>-0.732742</td>\n",
              "      <td>-0.427450</td>\n",
              "      <td>-0.684142</td>\n",
              "      <td>0.318110</td>\n",
              "      <td>0.020955</td>\n",
              "      <td>0.049470</td>\n",
              "      <td>-0.129237</td>\n",
              "      <td>0.261078</td>\n",
              "      <td>0.145693</td>\n",
              "      <td>-0.647840</td>\n",
              "      <td>-0.520860</td>\n",
              "      <td>-0.681478</td>\n",
              "      <td>-0.706819</td>\n",
              "      <td>0.067754</td>\n",
              "      <td>-0.422033</td>\n",
              "      <td>0.725991</td>\n",
              "      <td>-0.105437</td>\n",
              "      <td>-0.484560</td>\n",
              "      <td>0.097155</td>\n",
              "    </tr>\n",
              "    <tr>\n",
              "      <th>2</th>\n",
              "      <td>AVA-VIV Blouse</td>\n",
              "      <td>1</td>\n",
              "      <td>4180</td>\n",
              "      <td>1</td>\n",
              "      <td>Adorable top with a hint of lace and a key hol...</td>\n",
              "      <td>2.397895</td>\n",
              "      <td>0.613741</td>\n",
              "      <td>-0.010959</td>\n",
              "      <td>1.638310</td>\n",
              "      <td>-0.201971</td>\n",
              "      <td>-0.216047</td>\n",
              "      <td>-0.287195</td>\n",
              "      <td>-0.061017</td>\n",
              "      <td>0.476690</td>\n",
              "      <td>0.467825</td>\n",
              "      <td>0.339902</td>\n",
              "      <td>0.732595</td>\n",
              "      <td>-0.159609</td>\n",
              "      <td>0.508109</td>\n",
              "      <td>0.440447</td>\n",
              "      <td>10</td>\n",
              "      <td>104</td>\n",
              "      <td>94</td>\n",
              "      <td>[adorable, top, hint, lace, key, hole, back, p...</td>\n",
              "      <td>-5.251092</td>\n",
              "      <td>-4.758384</td>\n",
              "      <td>-4.926702</td>\n",
              "      <td>-1.778259</td>\n",
              "      <td>5.853390</td>\n",
              "      <td>4.831553</td>\n",
              "      <td>1.337444</td>\n",
              "      <td>3.458719</td>\n",
              "      <td>-2.616437</td>\n",
              "      <td>0.047622</td>\n",
              "      <td>-1.078015</td>\n",
              "      <td>1.633128</td>\n",
              "      <td>-2.276310</td>\n",
              "      <td>1.950964</td>\n",
              "      <td>-0.508073</td>\n",
              "      <td>-1.413029</td>\n",
              "      <td>...</td>\n",
              "      <td>0.624250</td>\n",
              "      <td>0.469235</td>\n",
              "      <td>-0.320630</td>\n",
              "      <td>-0.128002</td>\n",
              "      <td>0.448073</td>\n",
              "      <td>0.797282</td>\n",
              "      <td>1.442032</td>\n",
              "      <td>0.207243</td>\n",
              "      <td>0.641649</td>\n",
              "      <td>-1.496923</td>\n",
              "      <td>0.246524</td>\n",
              "      <td>-0.823957</td>\n",
              "      <td>0.263986</td>\n",
              "      <td>-0.295695</td>\n",
              "      <td>0.073548</td>\n",
              "      <td>-0.222687</td>\n",
              "      <td>-0.382156</td>\n",
              "      <td>1.150980</td>\n",
              "      <td>-0.675416</td>\n",
              "      <td>-0.536692</td>\n",
              "      <td>-0.233650</td>\n",
              "      <td>-0.622953</td>\n",
              "      <td>-0.239287</td>\n",
              "      <td>-0.635542</td>\n",
              "      <td>-0.059475</td>\n",
              "      <td>-0.396394</td>\n",
              "      <td>-0.163471</td>\n",
              "      <td>-0.306831</td>\n",
              "      <td>0.165443</td>\n",
              "      <td>1.055764</td>\n",
              "      <td>-0.413534</td>\n",
              "      <td>0.362749</td>\n",
              "      <td>-0.299999</td>\n",
              "      <td>1.168596</td>\n",
              "      <td>-0.616425</td>\n",
              "      <td>0.304615</td>\n",
              "      <td>-1.019968</td>\n",
              "      <td>-0.918030</td>\n",
              "      <td>-0.293680</td>\n",
              "      <td>-0.367551</td>\n",
              "    </tr>\n",
              "    <tr>\n",
              "      <th>3</th>\n",
              "      <td>Leather Horse Statues</td>\n",
              "      <td>1</td>\n",
              "      <td>4807</td>\n",
              "      <td>1</td>\n",
              "      <td>New with tags. Leather horses. Retail for [rm]...</td>\n",
              "      <td>3.583519</td>\n",
              "      <td>0.710690</td>\n",
              "      <td>-0.463781</td>\n",
              "      <td>-0.514153</td>\n",
              "      <td>-0.201971</td>\n",
              "      <td>-0.216047</td>\n",
              "      <td>2.198360</td>\n",
              "      <td>-0.061017</td>\n",
              "      <td>-1.019041</td>\n",
              "      <td>-1.022763</td>\n",
              "      <td>-0.969067</td>\n",
              "      <td>-0.981992</td>\n",
              "      <td>-0.954136</td>\n",
              "      <td>-1.003299</td>\n",
              "      <td>-1.021501</td>\n",
              "      <td>4</td>\n",
              "      <td>56</td>\n",
              "      <td>405</td>\n",
              "      <td>[new, tags, leather, horses, retail, stand, fo...</td>\n",
              "      <td>3.188745</td>\n",
              "      <td>1.649122</td>\n",
              "      <td>1.875190</td>\n",
              "      <td>4.062757</td>\n",
              "      <td>-0.625134</td>\n",
              "      <td>2.105159</td>\n",
              "      <td>0.308600</td>\n",
              "      <td>-1.347356</td>\n",
              "      <td>-1.509420</td>\n",
              "      <td>0.568095</td>\n",
              "      <td>-0.493427</td>\n",
              "      <td>0.055428</td>\n",
              "      <td>1.753572</td>\n",
              "      <td>-0.111314</td>\n",
              "      <td>-0.000430</td>\n",
              "      <td>0.659424</td>\n",
              "      <td>...</td>\n",
              "      <td>-0.636640</td>\n",
              "      <td>1.019804</td>\n",
              "      <td>0.068680</td>\n",
              "      <td>-0.099139</td>\n",
              "      <td>-0.640960</td>\n",
              "      <td>-0.016385</td>\n",
              "      <td>-0.300839</td>\n",
              "      <td>-0.524527</td>\n",
              "      <td>0.212483</td>\n",
              "      <td>-0.619008</td>\n",
              "      <td>0.308007</td>\n",
              "      <td>-0.077578</td>\n",
              "      <td>0.244838</td>\n",
              "      <td>-1.035328</td>\n",
              "      <td>-0.215727</td>\n",
              "      <td>-0.667250</td>\n",
              "      <td>-0.437636</td>\n",
              "      <td>0.374459</td>\n",
              "      <td>0.170085</td>\n",
              "      <td>0.501118</td>\n",
              "      <td>0.213649</td>\n",
              "      <td>0.394042</td>\n",
              "      <td>-0.205296</td>\n",
              "      <td>-1.594879</td>\n",
              "      <td>0.604650</td>\n",
              "      <td>0.151598</td>\n",
              "      <td>0.252996</td>\n",
              "      <td>0.281229</td>\n",
              "      <td>-0.144893</td>\n",
              "      <td>-0.691194</td>\n",
              "      <td>0.116838</td>\n",
              "      <td>-0.388671</td>\n",
              "      <td>0.257211</td>\n",
              "      <td>1.023798</td>\n",
              "      <td>0.688899</td>\n",
              "      <td>0.842470</td>\n",
              "      <td>-0.310458</td>\n",
              "      <td>-0.106074</td>\n",
              "      <td>-0.370539</td>\n",
              "      <td>0.091064</td>\n",
              "    </tr>\n",
              "  </tbody>\n",
              "</table>\n",
              "<p>4 rows × 144 columns</p>\n",
              "</div>"
            ],
            "text/plain": [
              "                                  name  item_condition_id  ...  desc_118  desc_119\n",
              "0  MLB Cincinnati Reds T Shirt Size XL                  3  ... -0.007999  0.018744\n",
              "1     Razer BlackWidow Chroma Keyboard                  3  ... -0.484560  0.097155\n",
              "2                       AVA-VIV Blouse                  1  ... -0.293680 -0.367551\n",
              "3                Leather Horse Statues                  1  ... -0.370539  0.091064\n",
              "\n",
              "[4 rows x 144 columns]"
            ]
          },
          "metadata": {
            "tags": []
          },
          "execution_count": 96
        }
      ]
    },
    {
      "cell_type": "code",
      "metadata": {
        "id": "CjdLFRlNhjut",
        "colab_type": "code",
        "colab": {}
      },
      "source": [
        "main_w_vectors.drop(columns=['item_description','clean_description'],inplace= True)"
      ],
      "execution_count": 0,
      "outputs": []
    },
    {
      "cell_type": "code",
      "metadata": {
        "id": "Dj9FHtECh6ac",
        "colab_type": "code",
        "outputId": "b838b9af-bd61-4bcd-dbdf-9ecf3b014727",
        "colab": {
          "base_uri": "https://localhost:8080/",
          "height": 35
        }
      },
      "source": [
        "type(main_w_vectors)"
      ],
      "execution_count": 0,
      "outputs": [
        {
          "output_type": "execute_result",
          "data": {
            "text/plain": [
              "pandas.core.frame.DataFrame"
            ]
          },
          "metadata": {
            "tags": []
          },
          "execution_count": 98
        }
      ]
    },
    {
      "cell_type": "markdown",
      "metadata": {
        "id": "iTFLkoXab_Dn",
        "colab_type": "text"
      },
      "source": [
        "## word2vec on name"
      ]
    },
    {
      "cell_type": "code",
      "metadata": {
        "id": "2KpIYaNncFYS",
        "colab_type": "code",
        "outputId": "9c0f2145-ba7f-4749-bdb7-b7683760c226",
        "colab": {
          "base_uri": "https://localhost:8080/",
          "height": 35
        }
      },
      "source": [
        "main_w_vectors['clean_name'] = tqdm(main_w_vectors['name'].map(tokenize))"
      ],
      "execution_count": 0,
      "outputs": [
        {
          "output_type": "stream",
          "text": [
            "100%|██████████| 1478823/1478823 [00:00<00:00, 3489485.20it/s]\n"
          ],
          "name": "stderr"
        }
      ]
    },
    {
      "cell_type": "code",
      "metadata": {
        "id": "CBXjmhtacFdq",
        "colab_type": "code",
        "colab": {}
      },
      "source": [
        "# Create a list of strings, where each string is an article title\n",
        "name_list = [name for name in main_w_vectors['name']]"
      ],
      "execution_count": 0,
      "outputs": []
    },
    {
      "cell_type": "code",
      "metadata": {
        "id": "g6COqXhNcFn6",
        "colab_type": "code",
        "colab": {}
      },
      "source": [
        "# Preprocess the corpus\n",
        "# corpus_name = [preprocess(name) for name in name_list]"
      ],
      "execution_count": 0,
      "outputs": []
    },
    {
      "cell_type": "code",
      "metadata": {
        "id": "UU1UuOUWg0Iw",
        "colab_type": "code",
        "colab": {}
      },
      "source": [
        "corpus_name = list(main_w_vectors['clean_name'])"
      ],
      "execution_count": 0,
      "outputs": []
    },
    {
      "cell_type": "code",
      "metadata": {
        "id": "b0LLBxuSipwj",
        "colab_type": "code",
        "outputId": "4bc765fb-88dc-48dc-c5e8-5ee662cc0e94",
        "colab": {
          "base_uri": "https://localhost:8080/",
          "height": 35
        }
      },
      "source": [
        "len(corpus_name)"
      ],
      "execution_count": 0,
      "outputs": [
        {
          "output_type": "execute_result",
          "data": {
            "text/plain": [
              "1478823"
            ]
          },
          "metadata": {
            "tags": []
          },
          "execution_count": 103
        }
      ]
    },
    {
      "cell_type": "code",
      "metadata": {
        "id": "TuOvLLOvcFlH",
        "colab_type": "code",
        "colab": {}
      },
      "source": [
        "# train model\n",
        "model_name = Word2Vec(main_w_vectors['clean_name'], min_count=5, size = 250)"
      ],
      "execution_count": 0,
      "outputs": []
    },
    {
      "cell_type": "code",
      "metadata": {
        "id": "G648NarZCFPO",
        "colab_type": "code",
        "outputId": "e9feb22b-ed33-4166-b582-804a7a183bdd",
        "colab": {
          "base_uri": "https://localhost:8080/",
          "height": 35
        }
      },
      "source": [
        "# Check dimension of word vectors\n",
        "model_name.vector_size"
      ],
      "execution_count": 0,
      "outputs": [
        {
          "output_type": "execute_result",
          "data": {
            "text/plain": [
              "250"
            ]
          },
          "metadata": {
            "tags": []
          },
          "execution_count": 105
        }
      ]
    },
    {
      "cell_type": "code",
      "metadata": {
        "id": "xsVyHj03Cv41",
        "colab_type": "code",
        "colab": {}
      },
      "source": [
        "# model_name.similarity('women','men')"
      ],
      "execution_count": 0,
      "outputs": []
    },
    {
      "cell_type": "code",
      "metadata": {
        "id": "-qNX6dpQcFjZ",
        "colab_type": "code",
        "colab": {}
      },
      "source": [
        "# summarize vocabulary\n",
        "words_name = list(model_name.wv.vocab)"
      ],
      "execution_count": 0,
      "outputs": []
    },
    {
      "cell_type": "code",
      "metadata": {
        "id": "iWZpBHD_DYYy",
        "colab_type": "code",
        "outputId": "43f0c904-c569-44e6-e36d-5825e24852fe",
        "colab": {
          "base_uri": "https://localhost:8080/",
          "height": 35
        }
      },
      "source": [
        "len(words_name)"
      ],
      "execution_count": 0,
      "outputs": [
        {
          "output_type": "execute_result",
          "data": {
            "text/plain": [
              "25078"
            ]
          },
          "metadata": {
            "tags": []
          },
          "execution_count": 108
        }
      ]
    },
    {
      "cell_type": "code",
      "metadata": {
        "id": "DYm67CIAcFhL",
        "colab_type": "code",
        "outputId": "d2ac203e-0348-42f5-a3a9-c4f26bb8566d",
        "colab": {
          "base_uri": "https://localhost:8080/",
          "height": 35
        }
      },
      "source": [
        "# Remove docs that don't include any words in W2V's vocab\n",
        "corpus_name, name_list = filter_docs(corpus_name, name_list, lambda doc: has_vector_representation(model_name, doc))"
      ],
      "execution_count": 0,
      "outputs": [
        {
          "output_type": "stream",
          "text": [
            "5701 docs removed\n"
          ],
          "name": "stdout"
        }
      ]
    },
    {
      "cell_type": "code",
      "metadata": {
        "id": "hK-gUmWpcFby",
        "colab_type": "code",
        "outputId": "37d071eb-e009-4890-e089-4e80577313ce",
        "colab": {
          "base_uri": "https://localhost:8080/",
          "height": 35
        }
      },
      "source": [
        "# Filter out any empty docs\n",
        "corpus_name, name_list = filter_docs(corpus_name, name_list, lambda doc: (len(doc) != 0))"
      ],
      "execution_count": 0,
      "outputs": [
        {
          "output_type": "stream",
          "text": [
            "0 docs removed\n"
          ],
          "name": "stdout"
        }
      ]
    },
    {
      "cell_type": "code",
      "metadata": {
        "id": "iXDKSCpQEbya",
        "colab_type": "code",
        "outputId": "a821a357-b268-4e09-e02c-6fd49fec5c34",
        "colab": {
          "base_uri": "https://localhost:8080/",
          "height": 35
        }
      },
      "source": [
        "len(corpus_name)"
      ],
      "execution_count": 0,
      "outputs": [
        {
          "output_type": "execute_result",
          "data": {
            "text/plain": [
              "1473122"
            ]
          },
          "metadata": {
            "tags": []
          },
          "execution_count": 111
        }
      ]
    },
    {
      "cell_type": "code",
      "metadata": {
        "id": "zwF9AgRrc6pN",
        "colab_type": "code",
        "colab": {}
      },
      "source": [
        "# Initialize an array for the size of the corpus\n",
        "y_name = []\n",
        "for doc in corpus_name: # append the vector for each document\n",
        "\n",
        "    y_name.append(document_vector(model_name, doc))\n",
        "    \n",
        "Y_name = np.array(y_name) # list to array"
      ],
      "execution_count": 0,
      "outputs": []
    },
    {
      "cell_type": "code",
      "metadata": {
        "id": "tbUTAZfzO7hU",
        "colab_type": "code",
        "colab": {}
      },
      "source": [
        "sc_name = StandardScaler()\n",
        "Y_name = sc_name.fit_transform(Y_name)"
      ],
      "execution_count": 0,
      "outputs": []
    },
    {
      "cell_type": "code",
      "metadata": {
        "id": "0xVGDi1zc6ub",
        "colab_type": "code",
        "colab": {}
      },
      "source": [
        "from sklearn.decomposition import PCA\n",
        "\n",
        "pca_name = PCA(n_components=80, random_state=10)\n",
        "\n",
        "# x is the array with our 300-dimensional vectors\n",
        "reduced_name = pca_name.fit_transform(Y_name)"
      ],
      "execution_count": 0,
      "outputs": []
    },
    {
      "cell_type": "code",
      "metadata": {
        "id": "1Nd2EQrfGZ7-",
        "colab_type": "code",
        "outputId": "3e20ebf8-68c4-41da-e893-8c29041bdc9c",
        "colab": {
          "base_uri": "https://localhost:8080/",
          "height": 35
        }
      },
      "source": [
        "np.sum(pca_name.explained_variance_ratio_)"
      ],
      "execution_count": 0,
      "outputs": [
        {
          "output_type": "execute_result",
          "data": {
            "text/plain": [
              "0.9100646341224334"
            ]
          },
          "metadata": {
            "tags": []
          },
          "execution_count": 115
        }
      ]
    },
    {
      "cell_type": "code",
      "metadata": {
        "id": "Rwv5lDX4dBzq",
        "colab_type": "code",
        "colab": {}
      },
      "source": [
        "df_name = pd.DataFrame(reduced_name)"
      ],
      "execution_count": 0,
      "outputs": []
    },
    {
      "cell_type": "code",
      "metadata": {
        "id": "UC1D1FW2lBvM",
        "colab_type": "code",
        "colab": {}
      },
      "source": [
        "for i in range(len(df_name.columns)):\n",
        "  df_name.rename(columns={i:'name_' + str(i)},inplace=True)"
      ],
      "execution_count": 0,
      "outputs": []
    },
    {
      "cell_type": "code",
      "metadata": {
        "id": "wfNsqrDalIoe",
        "colab_type": "code",
        "outputId": "fc98157c-5f7b-467d-f7e3-9df6a2ccd8f8",
        "colab": {
          "base_uri": "https://localhost:8080/",
          "height": 277
        }
      },
      "source": [
        "df_name.columns"
      ],
      "execution_count": 0,
      "outputs": [
        {
          "output_type": "execute_result",
          "data": {
            "text/plain": [
              "Index(['name_0', 'name_1', 'name_2', 'name_3', 'name_4', 'name_5', 'name_6',\n",
              "       'name_7', 'name_8', 'name_9', 'name_10', 'name_11', 'name_12',\n",
              "       'name_13', 'name_14', 'name_15', 'name_16', 'name_17', 'name_18',\n",
              "       'name_19', 'name_20', 'name_21', 'name_22', 'name_23', 'name_24',\n",
              "       'name_25', 'name_26', 'name_27', 'name_28', 'name_29', 'name_30',\n",
              "       'name_31', 'name_32', 'name_33', 'name_34', 'name_35', 'name_36',\n",
              "       'name_37', 'name_38', 'name_39', 'name_40', 'name_41', 'name_42',\n",
              "       'name_43', 'name_44', 'name_45', 'name_46', 'name_47', 'name_48',\n",
              "       'name_49', 'name_50', 'name_51', 'name_52', 'name_53', 'name_54',\n",
              "       'name_55', 'name_56', 'name_57', 'name_58', 'name_59', 'name_60',\n",
              "       'name_61', 'name_62', 'name_63', 'name_64', 'name_65', 'name_66',\n",
              "       'name_67', 'name_68', 'name_69', 'name_70', 'name_71', 'name_72',\n",
              "       'name_73', 'name_74', 'name_75', 'name_76', 'name_77', 'name_78',\n",
              "       'name_79'],\n",
              "      dtype='object')"
            ]
          },
          "metadata": {
            "tags": []
          },
          "execution_count": 118
        }
      ]
    },
    {
      "cell_type": "code",
      "metadata": {
        "id": "e7zi8l3jn6UL",
        "colab_type": "code",
        "colab": {}
      },
      "source": [
        "data1 = pd.concat((main_w_vectors,df_name), axis=1)"
      ],
      "execution_count": 0,
      "outputs": []
    },
    {
      "cell_type": "code",
      "metadata": {
        "id": "GCUZAcwkmYZH",
        "colab_type": "code",
        "colab": {}
      },
      "source": [
        "data1.drop(columns=['name','clean_name'],inplace=True)"
      ],
      "execution_count": 0,
      "outputs": []
    },
    {
      "cell_type": "code",
      "metadata": {
        "id": "xWTqEsoOmUwu",
        "colab_type": "code",
        "outputId": "edfdb679-ce91-4a8e-8b65-107552bc1fc9",
        "colab": {
          "base_uri": "https://localhost:8080/",
          "height": 190
        }
      },
      "source": [
        "data1.head(3)"
      ],
      "execution_count": 0,
      "outputs": [
        {
          "output_type": "execute_result",
          "data": {
            "text/html": [
              "<div>\n",
              "<style scoped>\n",
              "    .dataframe tbody tr th:only-of-type {\n",
              "        vertical-align: middle;\n",
              "    }\n",
              "\n",
              "    .dataframe tbody tr th {\n",
              "        vertical-align: top;\n",
              "    }\n",
              "\n",
              "    .dataframe thead th {\n",
              "        text-align: right;\n",
              "    }\n",
              "</style>\n",
              "<table border=\"1\" class=\"dataframe\">\n",
              "  <thead>\n",
              "    <tr style=\"text-align: right;\">\n",
              "      <th></th>\n",
              "      <th>item_condition_id</th>\n",
              "      <th>brand_name</th>\n",
              "      <th>shipping</th>\n",
              "      <th>log_transform_price</th>\n",
              "      <th>words_log_counts</th>\n",
              "      <th>uppercase_perc</th>\n",
              "      <th>exclamation_log_count</th>\n",
              "      <th>star_log_count</th>\n",
              "      <th>percentage_log_count</th>\n",
              "      <th>rm_log_count</th>\n",
              "      <th>hashtag_log_count</th>\n",
              "      <th>price_log_median</th>\n",
              "      <th>price_log_mean</th>\n",
              "      <th>price_log_std</th>\n",
              "      <th>price_log_conf_variance</th>\n",
              "      <th>count_log</th>\n",
              "      <th>min_expected_log_price</th>\n",
              "      <th>max_expected_log_price</th>\n",
              "      <th>main_category</th>\n",
              "      <th>subcategory_1</th>\n",
              "      <th>subcategory_2</th>\n",
              "      <th>desc_0</th>\n",
              "      <th>desc_1</th>\n",
              "      <th>desc_2</th>\n",
              "      <th>desc_3</th>\n",
              "      <th>desc_4</th>\n",
              "      <th>desc_5</th>\n",
              "      <th>desc_6</th>\n",
              "      <th>desc_7</th>\n",
              "      <th>desc_8</th>\n",
              "      <th>desc_9</th>\n",
              "      <th>desc_10</th>\n",
              "      <th>desc_11</th>\n",
              "      <th>desc_12</th>\n",
              "      <th>desc_13</th>\n",
              "      <th>desc_14</th>\n",
              "      <th>desc_15</th>\n",
              "      <th>desc_16</th>\n",
              "      <th>desc_17</th>\n",
              "      <th>desc_18</th>\n",
              "      <th>...</th>\n",
              "      <th>name_40</th>\n",
              "      <th>name_41</th>\n",
              "      <th>name_42</th>\n",
              "      <th>name_43</th>\n",
              "      <th>name_44</th>\n",
              "      <th>name_45</th>\n",
              "      <th>name_46</th>\n",
              "      <th>name_47</th>\n",
              "      <th>name_48</th>\n",
              "      <th>name_49</th>\n",
              "      <th>name_50</th>\n",
              "      <th>name_51</th>\n",
              "      <th>name_52</th>\n",
              "      <th>name_53</th>\n",
              "      <th>name_54</th>\n",
              "      <th>name_55</th>\n",
              "      <th>name_56</th>\n",
              "      <th>name_57</th>\n",
              "      <th>name_58</th>\n",
              "      <th>name_59</th>\n",
              "      <th>name_60</th>\n",
              "      <th>name_61</th>\n",
              "      <th>name_62</th>\n",
              "      <th>name_63</th>\n",
              "      <th>name_64</th>\n",
              "      <th>name_65</th>\n",
              "      <th>name_66</th>\n",
              "      <th>name_67</th>\n",
              "      <th>name_68</th>\n",
              "      <th>name_69</th>\n",
              "      <th>name_70</th>\n",
              "      <th>name_71</th>\n",
              "      <th>name_72</th>\n",
              "      <th>name_73</th>\n",
              "      <th>name_74</th>\n",
              "      <th>name_75</th>\n",
              "      <th>name_76</th>\n",
              "      <th>name_77</th>\n",
              "      <th>name_78</th>\n",
              "      <th>name_79</th>\n",
              "    </tr>\n",
              "  </thead>\n",
              "  <tbody>\n",
              "    <tr>\n",
              "      <th>0</th>\n",
              "      <td>3</td>\n",
              "      <td>2670</td>\n",
              "      <td>1</td>\n",
              "      <td>2.397895</td>\n",
              "      <td>-1.435819</td>\n",
              "      <td>-0.463781</td>\n",
              "      <td>-0.514153</td>\n",
              "      <td>-0.201971</td>\n",
              "      <td>-0.216047</td>\n",
              "      <td>-0.287195</td>\n",
              "      <td>-0.061017</td>\n",
              "      <td>-1.019041</td>\n",
              "      <td>-1.022763</td>\n",
              "      <td>-0.969067</td>\n",
              "      <td>-0.981992</td>\n",
              "      <td>-0.954136</td>\n",
              "      <td>-1.003299</td>\n",
              "      <td>-1.021501</td>\n",
              "      <td>6</td>\n",
              "      <td>103</td>\n",
              "      <td>763</td>\n",
              "      <td>9.842020</td>\n",
              "      <td>-11.486503</td>\n",
              "      <td>-3.520439</td>\n",
              "      <td>-2.220166</td>\n",
              "      <td>-10.527919</td>\n",
              "      <td>2.234902</td>\n",
              "      <td>-1.910435</td>\n",
              "      <td>1.706773</td>\n",
              "      <td>-0.362397</td>\n",
              "      <td>0.520333</td>\n",
              "      <td>0.146969</td>\n",
              "      <td>0.129355</td>\n",
              "      <td>-0.567337</td>\n",
              "      <td>0.306127</td>\n",
              "      <td>-0.277588</td>\n",
              "      <td>0.922844</td>\n",
              "      <td>-0.287309</td>\n",
              "      <td>0.374081</td>\n",
              "      <td>-0.068961</td>\n",
              "      <td>...</td>\n",
              "      <td>0.385514</td>\n",
              "      <td>-0.252826</td>\n",
              "      <td>-0.319131</td>\n",
              "      <td>-0.067855</td>\n",
              "      <td>0.749231</td>\n",
              "      <td>-0.160498</td>\n",
              "      <td>0.004782</td>\n",
              "      <td>0.708699</td>\n",
              "      <td>0.618897</td>\n",
              "      <td>-0.672254</td>\n",
              "      <td>0.893254</td>\n",
              "      <td>0.355190</td>\n",
              "      <td>-0.203080</td>\n",
              "      <td>0.151010</td>\n",
              "      <td>0.026982</td>\n",
              "      <td>0.154432</td>\n",
              "      <td>-0.558140</td>\n",
              "      <td>0.068902</td>\n",
              "      <td>0.138718</td>\n",
              "      <td>-0.202356</td>\n",
              "      <td>0.085206</td>\n",
              "      <td>0.169362</td>\n",
              "      <td>0.018004</td>\n",
              "      <td>-0.413109</td>\n",
              "      <td>-0.057702</td>\n",
              "      <td>0.001333</td>\n",
              "      <td>0.200521</td>\n",
              "      <td>-0.163082</td>\n",
              "      <td>-0.034779</td>\n",
              "      <td>0.455513</td>\n",
              "      <td>0.036017</td>\n",
              "      <td>-0.207082</td>\n",
              "      <td>0.075090</td>\n",
              "      <td>-0.238771</td>\n",
              "      <td>-0.289314</td>\n",
              "      <td>0.798458</td>\n",
              "      <td>0.260261</td>\n",
              "      <td>-0.078188</td>\n",
              "      <td>-0.826296</td>\n",
              "      <td>-0.079283</td>\n",
              "    </tr>\n",
              "    <tr>\n",
              "      <th>1</th>\n",
              "      <td>3</td>\n",
              "      <td>3557</td>\n",
              "      <td>0</td>\n",
              "      <td>3.970292</td>\n",
              "      <td>0.827068</td>\n",
              "      <td>-0.281394</td>\n",
              "      <td>-0.514153</td>\n",
              "      <td>-0.201971</td>\n",
              "      <td>-0.216047</td>\n",
              "      <td>-0.287195</td>\n",
              "      <td>-0.061017</td>\n",
              "      <td>1.382559</td>\n",
              "      <td>1.348661</td>\n",
              "      <td>0.670262</td>\n",
              "      <td>0.367732</td>\n",
              "      <td>-0.067626</td>\n",
              "      <td>1.623006</td>\n",
              "      <td>1.189453</td>\n",
              "      <td>2</td>\n",
              "      <td>31</td>\n",
              "      <td>213</td>\n",
              "      <td>5.077970</td>\n",
              "      <td>0.609434</td>\n",
              "      <td>8.452345</td>\n",
              "      <td>-3.698251</td>\n",
              "      <td>1.349674</td>\n",
              "      <td>1.624934</td>\n",
              "      <td>1.034534</td>\n",
              "      <td>-3.599739</td>\n",
              "      <td>0.964364</td>\n",
              "      <td>0.385444</td>\n",
              "      <td>3.802707</td>\n",
              "      <td>-0.003164</td>\n",
              "      <td>-1.360943</td>\n",
              "      <td>1.394307</td>\n",
              "      <td>3.018989</td>\n",
              "      <td>0.154816</td>\n",
              "      <td>-0.854771</td>\n",
              "      <td>1.602899</td>\n",
              "      <td>-0.219291</td>\n",
              "      <td>...</td>\n",
              "      <td>-0.795553</td>\n",
              "      <td>-0.130088</td>\n",
              "      <td>-0.406521</td>\n",
              "      <td>0.811343</td>\n",
              "      <td>-0.033605</td>\n",
              "      <td>-0.699736</td>\n",
              "      <td>0.910489</td>\n",
              "      <td>0.401060</td>\n",
              "      <td>0.247002</td>\n",
              "      <td>-0.185844</td>\n",
              "      <td>0.849177</td>\n",
              "      <td>0.322614</td>\n",
              "      <td>-0.645346</td>\n",
              "      <td>-0.586519</td>\n",
              "      <td>0.259081</td>\n",
              "      <td>0.272965</td>\n",
              "      <td>-0.268578</td>\n",
              "      <td>0.436513</td>\n",
              "      <td>0.602140</td>\n",
              "      <td>-0.078495</td>\n",
              "      <td>-0.146016</td>\n",
              "      <td>-0.800016</td>\n",
              "      <td>-0.455247</td>\n",
              "      <td>-0.161626</td>\n",
              "      <td>0.379922</td>\n",
              "      <td>0.519259</td>\n",
              "      <td>-0.541651</td>\n",
              "      <td>-0.800690</td>\n",
              "      <td>0.303956</td>\n",
              "      <td>-0.575657</td>\n",
              "      <td>-0.147761</td>\n",
              "      <td>-0.233178</td>\n",
              "      <td>-0.022470</td>\n",
              "      <td>0.516617</td>\n",
              "      <td>-0.124734</td>\n",
              "      <td>0.229934</td>\n",
              "      <td>-0.008219</td>\n",
              "      <td>-0.408252</td>\n",
              "      <td>-0.567760</td>\n",
              "      <td>-0.076940</td>\n",
              "    </tr>\n",
              "    <tr>\n",
              "      <th>2</th>\n",
              "      <td>1</td>\n",
              "      <td>4180</td>\n",
              "      <td>1</td>\n",
              "      <td>2.397895</td>\n",
              "      <td>0.613741</td>\n",
              "      <td>-0.010959</td>\n",
              "      <td>1.638310</td>\n",
              "      <td>-0.201971</td>\n",
              "      <td>-0.216047</td>\n",
              "      <td>-0.287195</td>\n",
              "      <td>-0.061017</td>\n",
              "      <td>0.476690</td>\n",
              "      <td>0.467825</td>\n",
              "      <td>0.339902</td>\n",
              "      <td>0.732595</td>\n",
              "      <td>-0.159609</td>\n",
              "      <td>0.508109</td>\n",
              "      <td>0.440447</td>\n",
              "      <td>10</td>\n",
              "      <td>104</td>\n",
              "      <td>94</td>\n",
              "      <td>-5.251092</td>\n",
              "      <td>-4.758384</td>\n",
              "      <td>-4.926702</td>\n",
              "      <td>-1.778259</td>\n",
              "      <td>5.853390</td>\n",
              "      <td>4.831553</td>\n",
              "      <td>1.337444</td>\n",
              "      <td>3.458719</td>\n",
              "      <td>-2.616437</td>\n",
              "      <td>0.047622</td>\n",
              "      <td>-1.078015</td>\n",
              "      <td>1.633128</td>\n",
              "      <td>-2.276310</td>\n",
              "      <td>1.950964</td>\n",
              "      <td>-0.508073</td>\n",
              "      <td>-1.413029</td>\n",
              "      <td>-2.627453</td>\n",
              "      <td>0.508493</td>\n",
              "      <td>0.992363</td>\n",
              "      <td>...</td>\n",
              "      <td>0.888561</td>\n",
              "      <td>0.724288</td>\n",
              "      <td>-0.293922</td>\n",
              "      <td>-1.447286</td>\n",
              "      <td>-0.714286</td>\n",
              "      <td>-0.766300</td>\n",
              "      <td>0.439559</td>\n",
              "      <td>0.190552</td>\n",
              "      <td>-0.165196</td>\n",
              "      <td>1.258393</td>\n",
              "      <td>-0.582235</td>\n",
              "      <td>0.471049</td>\n",
              "      <td>-0.329858</td>\n",
              "      <td>0.402286</td>\n",
              "      <td>-0.976609</td>\n",
              "      <td>-0.333018</td>\n",
              "      <td>0.123391</td>\n",
              "      <td>-0.260517</td>\n",
              "      <td>0.781612</td>\n",
              "      <td>0.451114</td>\n",
              "      <td>0.353105</td>\n",
              "      <td>0.101110</td>\n",
              "      <td>0.588310</td>\n",
              "      <td>0.666095</td>\n",
              "      <td>-0.129720</td>\n",
              "      <td>0.118294</td>\n",
              "      <td>0.401009</td>\n",
              "      <td>0.229195</td>\n",
              "      <td>1.040812</td>\n",
              "      <td>-0.438278</td>\n",
              "      <td>-0.740536</td>\n",
              "      <td>-0.840557</td>\n",
              "      <td>0.474108</td>\n",
              "      <td>0.551017</td>\n",
              "      <td>0.468068</td>\n",
              "      <td>-0.806270</td>\n",
              "      <td>-0.846082</td>\n",
              "      <td>0.055663</td>\n",
              "      <td>-0.208924</td>\n",
              "      <td>1.202005</td>\n",
              "    </tr>\n",
              "  </tbody>\n",
              "</table>\n",
              "<p>3 rows × 221 columns</p>\n",
              "</div>"
            ],
            "text/plain": [
              "   item_condition_id  brand_name  shipping  ...   name_77   name_78   name_79\n",
              "0                  3        2670         1  ... -0.078188 -0.826296 -0.079283\n",
              "1                  3        3557         0  ... -0.408252 -0.567760 -0.076940\n",
              "2                  1        4180         1  ...  0.055663 -0.208924  1.202005\n",
              "\n",
              "[3 rows x 221 columns]"
            ]
          },
          "metadata": {
            "tags": []
          },
          "execution_count": 121
        }
      ]
    },
    {
      "cell_type": "markdown",
      "metadata": {
        "id": "zIoRDsB1oe4Q",
        "colab_type": "text"
      },
      "source": [
        "## loading to pickle"
      ]
    },
    {
      "cell_type": "code",
      "metadata": {
        "id": "UpLra3kaoeN7",
        "colab_type": "code",
        "colab": {}
      },
      "source": [
        "# from google.colab import drive\n",
        "# drive.mount('/content/gdrive',force_remount=True)"
      ],
      "execution_count": 0,
      "outputs": []
    },
    {
      "cell_type": "code",
      "metadata": {
        "id": "t9nu9GDEozuE",
        "colab_type": "code",
        "colab": {}
      },
      "source": [
        "# import os"
      ],
      "execution_count": 0,
      "outputs": []
    },
    {
      "cell_type": "code",
      "metadata": {
        "id": "4kMCX-Ppozyy",
        "colab_type": "code",
        "colab": {}
      },
      "source": [
        "# # Set input directory, and change working directory\n",
        "# inDir = '/content/gdrive/My Drive/Colab Notebooks/Mercari(DataMiningProject)'          # IMPORTANT: Update to reflect directory on your OS\n",
        "# os.path.isdir(inDir)                                                               # Change to working directory\n"
      ],
      "execution_count": 0,
      "outputs": []
    },
    {
      "cell_type": "code",
      "metadata": {
        "id": "cbZzV8W3pcWr",
        "colab_type": "code",
        "colab": {}
      },
      "source": [
        "# cd '/content/gdrive/My Drive/Colab Notebooks/Mercari(DataMiningProject)'"
      ],
      "execution_count": 0,
      "outputs": []
    },
    {
      "cell_type": "code",
      "metadata": {
        "id": "C_lE3or5pJm5",
        "colab_type": "code",
        "colab": {}
      },
      "source": [
        "# data1.to_pickle(inDir+\"/labelEncoded_withStats.pkl\")"
      ],
      "execution_count": 0,
      "outputs": []
    }
  ]
}