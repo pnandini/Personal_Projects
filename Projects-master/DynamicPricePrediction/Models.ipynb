{
  "nbformat": 4,
  "nbformat_minor": 0,
  "metadata": {
    "colab": {
      "name": "Models.ipynb",
      "provenance": [],
      "collapsed_sections": [
        "tpeFXVMBwi7c",
        "_KbHoj5xgh5B",
        "nNo7zdGI1B3b",
        "kg2gyGHHg-oR",
        "WyfHveyMi9r8",
        "ZydPp4KcrIcF",
        "4ktTS0JH3bLf",
        "kmf1SHH52i2D",
        "Q_m9UXGzxBH_"
      ]
    },
    "kernelspec": {
      "name": "python3",
      "display_name": "Python 3"
    },
    "accelerator": "GPU"
  },
  "cells": [
    {
      "cell_type": "code",
      "metadata": {
        "id": "2ogPvGWCdBLr",
        "colab_type": "code",
        "colab": {}
      },
      "source": [
        "import numpy as np\n",
        "import pandas as pd\n",
        "import matplotlib.pyplot as plt\n",
        "import seaborn as sns\n",
        "from sklearn.model_selection import train_test_split\n",
        "import warnings\n",
        "warnings.filterwarnings('ignore')\n",
        "from joblib import Parallel, delayed\n",
        "import string\n",
        "from nltk.tokenize import sent_tokenize, word_tokenize\n",
        "import nltk\n",
        "import time\n",
        "from sklearn.preprocessing import OneHotEncoder"
      ],
      "execution_count": 0,
      "outputs": []
    },
    {
      "cell_type": "markdown",
      "metadata": {
        "id": "tpeFXVMBwi7c",
        "colab_type": "text"
      },
      "source": [
        "## pydrive"
      ]
    },
    {
      "cell_type": "code",
      "metadata": {
        "id": "nRyS1J65pK0Z",
        "colab_type": "code",
        "colab": {}
      },
      "source": [
        "#for connecting to google drive\n",
        "!pip install -U -q PyDrive              \n",
        "\n",
        "from pydrive.auth import GoogleAuth\n",
        "from pydrive.drive import GoogleDrive\n",
        "from google.colab import auth\n",
        "from oauth2client.client import GoogleCredentials\n",
        "\n",
        "auth.authenticate_user()\n",
        "gauth = GoogleAuth()\n",
        "gauth.credentials = GoogleCredentials.get_application_default()\n",
        "drive = GoogleDrive(gauth)"
      ],
      "execution_count": 0,
      "outputs": []
    },
    {
      "cell_type": "code",
      "metadata": {
        "id": "etba1Xo9pXOD",
        "colab_type": "code",
        "colab": {}
      },
      "source": [
        "data = 'https://drive.google.com/open?id=13bGLEThO-5lfRCEl2Nvbsva9r75OV63b'   #Shareable link for train.tsv in Google Drive "
      ],
      "execution_count": 0,
      "outputs": []
    },
    {
      "cell_type": "code",
      "metadata": {
        "id": "biEnW8kHpgaO",
        "colab_type": "code",
        "outputId": "dc543698-e8ea-4572-bd77-edd5fa54c330",
        "colab": {
          "base_uri": "https://localhost:8080/",
          "height": 35
        }
      },
      "source": [
        "fluff, data_id = data.split('=')\n",
        "print (data_id) "
      ],
      "execution_count": 0,
      "outputs": [
        {
          "output_type": "stream",
          "text": [
            "13bGLEThO-5lfRCEl2Nvbsva9r75OV63b\n"
          ],
          "name": "stdout"
        }
      ]
    },
    {
      "cell_type": "code",
      "metadata": {
        "id": "NvJto1mgpscC",
        "colab_type": "code",
        "colab": {}
      },
      "source": [
        "downloaded_data = drive.CreateFile({'id':data_id}) \n",
        "downloaded_data.GetContentFile('labelencoded_withoutstats.pkl') "
      ],
      "execution_count": 0,
      "outputs": []
    },
    {
      "cell_type": "markdown",
      "metadata": {
        "id": "_KbHoj5xgh5B",
        "colab_type": "text"
      },
      "source": [
        "## Model Params"
      ]
    },
    {
      "cell_type": "code",
      "metadata": {
        "id": "aWMaOmGYfRNh",
        "colab_type": "code",
        "colab": {}
      },
      "source": [
        "# Loading pickle file for data.\n",
        "data1 = pd.read_pickle('labelencoded_withoutstats.pkl')"
      ],
      "execution_count": 0,
      "outputs": []
    },
    {
      "cell_type": "code",
      "metadata": {
        "id": "9yvlUt3CfsOH",
        "colab_type": "code",
        "outputId": "7f1fc5b0-6b39-4d5a-beff-84aa5952e079",
        "colab": {
          "base_uri": "https://localhost:8080/",
          "height": 35
        }
      },
      "source": [
        "data1.shape"
      ],
      "execution_count": 0,
      "outputs": [
        {
          "output_type": "execute_result",
          "data": {
            "text/plain": [
              "(1478823, 207)"
            ]
          },
          "metadata": {
            "tags": []
          },
          "execution_count": 7
        }
      ]
    },
    {
      "cell_type": "code",
      "metadata": {
        "id": "DaSnD6d-qYcN",
        "colab_type": "code",
        "outputId": "4e3e3ffe-1b96-430a-c875-c912679723db",
        "colab": {
          "base_uri": "https://localhost:8080/",
          "height": 139
        }
      },
      "source": [
        "data1.columns"
      ],
      "execution_count": 0,
      "outputs": [
        {
          "output_type": "execute_result",
          "data": {
            "text/plain": [
              "Index(['item_condition_id', 'brand_name', 'shipping', 'log_transform_price',\n",
              "       'main_category', 'subcategory_1', 'subcategory_2', 'desc_0', 'desc_1',\n",
              "       'desc_2',\n",
              "       ...\n",
              "       'name_70', 'name_71', 'name_72', 'name_73', 'name_74', 'name_75',\n",
              "       'name_76', 'name_77', 'name_78', 'name_79'],\n",
              "      dtype='object', length=207)"
            ]
          },
          "metadata": {
            "tags": []
          },
          "execution_count": 8
        }
      ]
    },
    {
      "cell_type": "code",
      "metadata": {
        "id": "6hQ_HaSvf7Pu",
        "colab_type": "code",
        "colab": {}
      },
      "source": [
        "data1.fillna(0, inplace=True)"
      ],
      "execution_count": 0,
      "outputs": []
    },
    {
      "cell_type": "code",
      "metadata": {
        "id": "WbwPRIkJfyXl",
        "colab_type": "code",
        "outputId": "466c70e8-31dd-4f4c-8caf-86f1971c1312",
        "colab": {
          "base_uri": "https://localhost:8080/",
          "height": 225
        }
      },
      "source": [
        "data1.isnull().sum()"
      ],
      "execution_count": 0,
      "outputs": [
        {
          "output_type": "execute_result",
          "data": {
            "text/plain": [
              "item_condition_id      0\n",
              "brand_name             0\n",
              "shipping               0\n",
              "log_transform_price    0\n",
              "main_category          0\n",
              "                      ..\n",
              "name_75                0\n",
              "name_76                0\n",
              "name_77                0\n",
              "name_78                0\n",
              "name_79                0\n",
              "Length: 207, dtype: int64"
            ]
          },
          "metadata": {
            "tags": []
          },
          "execution_count": 10
        }
      ]
    },
    {
      "cell_type": "code",
      "metadata": {
        "id": "KycbBL4Af3k6",
        "colab_type": "code",
        "colab": {}
      },
      "source": [
        "y = data1['log_transform_price']"
      ],
      "execution_count": 0,
      "outputs": []
    },
    {
      "cell_type": "code",
      "metadata": {
        "id": "7CyonW5wgRPS",
        "colab_type": "code",
        "colab": {}
      },
      "source": [
        "data1.drop(columns={'log_transform_price'},inplace = True)"
      ],
      "execution_count": 0,
      "outputs": []
    },
    {
      "cell_type": "code",
      "metadata": {
        "id": "EZapkgWMgX_6",
        "colab_type": "code",
        "colab": {}
      },
      "source": [
        "  # Feature Scaling\n",
        "  from sklearn.preprocessing import StandardScaler"
      ],
      "execution_count": 0,
      "outputs": []
    },
    {
      "cell_type": "markdown",
      "metadata": {
        "id": "nNo7zdGI1B3b",
        "colab_type": "text"
      },
      "source": [
        "## My DRive, save pickle"
      ]
    },
    {
      "cell_type": "code",
      "metadata": {
        "id": "Ff-6qDRDgaum",
        "colab_type": "code",
        "colab": {}
      },
      "source": [
        "  sc = StandardScaler()\n",
        "  data1 = sc.fit_transform(data1)\n"
      ],
      "execution_count": 0,
      "outputs": []
    },
    {
      "cell_type": "code",
      "metadata": {
        "id": "aHb_S6pAv9nq",
        "colab_type": "code",
        "colab": {}
      },
      "source": [
        "#serializing our model to a file called sc.pkl\n",
        "# import pickle\n",
        "# pickle.dump(sc, open(inDir+\"/sc.pkl\",\"wb\"))"
      ],
      "execution_count": 0,
      "outputs": []
    },
    {
      "cell_type": "code",
      "metadata": {
        "id": "s_9w34Gj1M4V",
        "colab_type": "code",
        "colab": {}
      },
      "source": [
        "from sklearn.model_selection import train_test_split\n",
        "X_train, X_test, y_train, y_test = train_test_split(data1, y, test_size = 0.2)"
      ],
      "execution_count": 0,
      "outputs": []
    },
    {
      "cell_type": "code",
      "metadata": {
        "id": "S4EkOJ0o1-RG",
        "colab_type": "code",
        "colab": {}
      },
      "source": [
        "X_train = sc.transform(X_train)"
      ],
      "execution_count": 0,
      "outputs": []
    },
    {
      "cell_type": "code",
      "metadata": {
        "id": "nRZgwprwvVd1",
        "colab_type": "code",
        "colab": {}
      },
      "source": [
        "X_test = sc.transform(X_test)"
      ],
      "execution_count": 0,
      "outputs": []
    },
    {
      "cell_type": "code",
      "metadata": {
        "id": "UauE1Eg6gccw",
        "colab_type": "code",
        "outputId": "87ebc4e1-bfb4-4662-87c3-b1cb2da452fe",
        "colab": {
          "base_uri": "https://localhost:8080/",
          "height": 52
        }
      },
      "source": [
        "print(X_train.shape, y_train.shape)\n",
        "print(X_test.shape, y_test.shape) "
      ],
      "execution_count": 0,
      "outputs": [
        {
          "output_type": "stream",
          "text": [
            "(1183058, 206) (1183058,)\n",
            "(295765, 206) (295765,)\n"
          ],
          "name": "stdout"
        }
      ]
    },
    {
      "cell_type": "code",
      "metadata": {
        "id": "a3Zxz2fwgevs",
        "colab_type": "code",
        "colab": {}
      },
      "source": [
        "from __future__ import print_function\n",
        "import keras\n",
        "from tensorflow.keras.models import Sequential , load_model , model_from_json\n",
        "# from tensorflow.python.keras.layers import Dense, Dropout, Flatten, Activation\n",
        "from tensorflow.keras.optimizers import Adam, SGD\n",
        "from tensorflow.keras.callbacks import ModelCheckpoint,EarlyStopping\n",
        "from tensorflow.keras.utils import to_categorical\n",
        "from keras.constraints import maxnorm\n",
        "import tensorflow as tf\n",
        "\n",
        "\n",
        "\n",
        "# Convolutional Neural Network\n",
        "# from keras.layers.convolutional import Conv1D\n",
        "# from keras.layers.pooling import MaxPooling1D\n"
      ],
      "execution_count": 0,
      "outputs": []
    },
    {
      "cell_type": "code",
      "metadata": {
        "id": "K9TbHDsaw29_",
        "colab_type": "code",
        "colab": {}
      },
      "source": [
        "# import tensorflow as tf\n",
        "# tf.__version__"
      ],
      "execution_count": 0,
      "outputs": []
    },
    {
      "cell_type": "code",
      "metadata": {
        "id": "B1LXkNDpxcWY",
        "colab_type": "code",
        "colab": {}
      },
      "source": [
        "# !pip uninstall tensorflow"
      ],
      "execution_count": 0,
      "outputs": []
    },
    {
      "cell_type": "code",
      "metadata": {
        "id": "HCMk4fvuyMIz",
        "colab_type": "code",
        "colab": {}
      },
      "source": [
        "# !pip install tensorflow==2.0.0\n"
      ],
      "execution_count": 0,
      "outputs": []
    },
    {
      "cell_type": "code",
      "metadata": {
        "id": "diSN0WhPgnHy",
        "colab_type": "code",
        "colab": {}
      },
      "source": [
        "from tensorflow.keras.layers import Dense, Flatten, Conv1D,MaxPooling1D, Input, Dropout, LSTM\n",
        "from tensorflow.keras.callbacks import ModelCheckpoint\n",
        "# from keras.models import model_from_json\n",
        "from tensorflow.keras import backend as K\n",
        "\n",
        "from tensorflow.keras.utils import plot_model\n",
        "from IPython.display import SVG\n",
        "from keras.utils.vis_utils import model_to_dot\n",
        "from tensorflow.keras.utils import plot_model"
      ],
      "execution_count": 0,
      "outputs": []
    },
    {
      "cell_type": "code",
      "metadata": {
        "id": "pp0mWoVwgpa-",
        "colab_type": "code",
        "colab": {}
      },
      "source": [
        "  # from sklearn.datasets import make_regression\n",
        "  # from sklearn.preprocessing import MinMaxScaler"
      ],
      "execution_count": 0,
      "outputs": []
    },
    {
      "cell_type": "code",
      "metadata": {
        "id": "_mHCKWobgv6s",
        "colab_type": "code",
        "colab": {}
      },
      "source": [
        "X = X_train.reshape((X_train.shape[0], X_train.shape[1], 1))"
      ],
      "execution_count": 0,
      "outputs": []
    },
    {
      "cell_type": "code",
      "metadata": {
        "id": "rsirPp5kgx5E",
        "colab_type": "code",
        "colab": {}
      },
      "source": [
        "X_t = X_test.reshape(X_test.shape[0], X_test.shape[1], 1)"
      ],
      "execution_count": 0,
      "outputs": []
    },
    {
      "cell_type": "code",
      "metadata": {
        "id": "XpF5-JZEah7S",
        "colab_type": "code",
        "outputId": "2df900f6-7a27-41cf-ea76-0af1beefb357",
        "colab": {
          "base_uri": "https://localhost:8080/",
          "height": 35
        }
      },
      "source": [
        "X.shape"
      ],
      "execution_count": 0,
      "outputs": [
        {
          "output_type": "execute_result",
          "data": {
            "text/plain": [
              "(1183058, 206, 1)"
            ]
          },
          "metadata": {
            "tags": []
          },
          "execution_count": 28
        }
      ]
    },
    {
      "cell_type": "code",
      "metadata": {
        "id": "iz7yVAOOaZHn",
        "colab_type": "code",
        "outputId": "32a30378-7c65-4e30-b330-f97f0ce6d288",
        "colab": {
          "base_uri": "https://localhost:8080/",
          "height": 693
        }
      },
      "source": [
        "# 3D view of sample data for CNN\n",
        "X[:5]"
      ],
      "execution_count": 0,
      "outputs": [
        {
          "output_type": "execute_result",
          "data": {
            "text/plain": [
              "array([[[-1.99843717],\n",
              "        [-2.25214736],\n",
              "        [ 1.33611515],\n",
              "        ...,\n",
              "        [-0.33576472],\n",
              "        [-7.86285215],\n",
              "        [-0.07648946]],\n",
              "\n",
              "       [[-1.99843717],\n",
              "        [-2.25214736],\n",
              "        [ 1.33611515],\n",
              "        ...,\n",
              "        [ 0.83481269],\n",
              "        [-5.99048226],\n",
              "        [ 2.19767815]],\n",
              "\n",
              "       [[-3.22442881],\n",
              "        [-2.25138757],\n",
              "        [ 1.33611515],\n",
              "        ...,\n",
              "        [ 5.62034245],\n",
              "        [-0.10525979],\n",
              "        [ 3.14697469]],\n",
              "\n",
              "       [[-0.77244552],\n",
              "        [-2.25138757],\n",
              "        [-2.70884347],\n",
              "        ...,\n",
              "        [ 1.38050582],\n",
              "        [-4.45021986],\n",
              "        [-0.70012632]],\n",
              "\n",
              "       [[-0.77244552],\n",
              "        [-2.25151912],\n",
              "        [-2.70884347],\n",
              "        ...,\n",
              "        [-0.5358798 ],\n",
              "        [-1.52756714],\n",
              "        [-2.89130434]]])"
            ]
          },
          "metadata": {
            "tags": []
          },
          "execution_count": 29
        }
      ]
    },
    {
      "cell_type": "markdown",
      "metadata": {
        "id": "kg2gyGHHg-oR",
        "colab_type": "text"
      },
      "source": [
        "## Model 1 - CNN(4 layer network)"
      ]
    },
    {
      "cell_type": "code",
      "metadata": {
        "id": "r-5Ja7zng1Km",
        "colab_type": "code",
        "colab": {}
      },
      "source": [
        "  # define model\n",
        "  model2 = Sequential()\n",
        "  model2.add(Conv1D(filters = 64,kernel_size = 2,activation='relu',input_shape=(206,1)))\n",
        "  model2.add(MaxPooling1D(pool_size=2))\n",
        "  model2.add(Flatten())\n",
        "  model2.add(Dense(50, activation='relu'))\n",
        "  model2.add(Dense(1))"
      ],
      "execution_count": 0,
      "outputs": []
    },
    {
      "cell_type": "code",
      "metadata": {
        "id": "Ljskm9rLhCoh",
        "colab_type": "code",
        "colab": {}
      },
      "source": [
        "def r_square(y_true, y_pred):\n",
        "    from keras import backend as K\n",
        "    SS_res =  K.sum(K.square(y_true - y_pred)) \n",
        "    SS_tot = K.sum(K.square(y_true - K.mean(y_true))) \n",
        "    return ( 1 - SS_res/(SS_tot + K.epsilon()) )\n",
        "\n",
        "def rmse(y_true, y_pred):\n",
        "    from keras import backend\n",
        "    return backend.sqrt(backend.mean(backend.square(y_pred - y_true), axis=-1))"
      ],
      "execution_count": 0,
      "outputs": []
    },
    {
      "cell_type": "code",
      "metadata": {
        "id": "l8LGRtvGhGwp",
        "colab_type": "code",
        "colab": {}
      },
      "source": [
        "model2.compile(optimizer='adam', loss='mean_squared_error')"
      ],
      "execution_count": 0,
      "outputs": []
    },
    {
      "cell_type": "code",
      "metadata": {
        "id": "_Q8OhjKxhJ1W",
        "colab_type": "code",
        "outputId": "8328e13f-2d58-4d3c-c3a1-49743cc1161c",
        "colab": {
          "base_uri": "https://localhost:8080/",
          "height": 329
        }
      },
      "source": [
        "model2.summary()"
      ],
      "execution_count": 0,
      "outputs": [
        {
          "output_type": "stream",
          "text": [
            "Model: \"sequential_1\"\n",
            "_________________________________________________________________\n",
            "Layer (type)                 Output Shape              Param #   \n",
            "=================================================================\n",
            "conv1d_1 (Conv1D)            (None, 205, 64)           192       \n",
            "_________________________________________________________________\n",
            "max_pooling1d_1 (MaxPooling1 (None, 102, 64)           0         \n",
            "_________________________________________________________________\n",
            "flatten_1 (Flatten)          (None, 6528)              0         \n",
            "_________________________________________________________________\n",
            "dense_1 (Dense)              (None, 50)                326450    \n",
            "_________________________________________________________________\n",
            "dense_2 (Dense)              (None, 1)                 51        \n",
            "=================================================================\n",
            "Total params: 326,693\n",
            "Trainable params: 326,693\n",
            "Non-trainable params: 0\n",
            "_________________________________________________________________\n"
          ],
          "name": "stdout"
        }
      ]
    },
    {
      "cell_type": "code",
      "metadata": {
        "id": "axZC2Op8hMG_",
        "colab_type": "code",
        "outputId": "5d7bc61c-5cc7-4469-965c-7b87c196e92b",
        "colab": {
          "base_uri": "https://localhost:8080/",
          "height": 679
        }
      },
      "source": [
        "batch_size = 128\n",
        "epochs = 10\n",
        "history = model2.fit(X, y_train,\n",
        "          batch_size=batch_size,\n",
        "          epochs=epochs,\n",
        "          verbose=1, validation_data=(X_t, y_test))"
      ],
      "execution_count": 0,
      "outputs": [
        {
          "output_type": "stream",
          "text": [
            "WARNING:tensorflow:From /usr/local/lib/python3.6/dist-packages/keras/backend/tensorflow_backend.py:1033: The name tf.assign_add is deprecated. Please use tf.compat.v1.assign_add instead.\n",
            "\n",
            "WARNING:tensorflow:From /usr/local/lib/python3.6/dist-packages/keras/backend/tensorflow_backend.py:1020: The name tf.assign is deprecated. Please use tf.compat.v1.assign instead.\n",
            "\n",
            "WARNING:tensorflow:From /usr/local/lib/python3.6/dist-packages/keras/backend/tensorflow_backend.py:3005: The name tf.Session is deprecated. Please use tf.compat.v1.Session instead.\n",
            "\n",
            "Train on 1183058 samples, validate on 295765 samples\n",
            "Epoch 1/10\n",
            "WARNING:tensorflow:From /usr/local/lib/python3.6/dist-packages/keras/backend/tensorflow_backend.py:190: The name tf.get_default_session is deprecated. Please use tf.compat.v1.get_default_session instead.\n",
            "\n",
            "WARNING:tensorflow:From /usr/local/lib/python3.6/dist-packages/keras/backend/tensorflow_backend.py:197: The name tf.ConfigProto is deprecated. Please use tf.compat.v1.ConfigProto instead.\n",
            "\n",
            "WARNING:tensorflow:From /usr/local/lib/python3.6/dist-packages/keras/backend/tensorflow_backend.py:207: The name tf.global_variables is deprecated. Please use tf.compat.v1.global_variables instead.\n",
            "\n",
            "WARNING:tensorflow:From /usr/local/lib/python3.6/dist-packages/keras/backend/tensorflow_backend.py:216: The name tf.is_variable_initialized is deprecated. Please use tf.compat.v1.is_variable_initialized instead.\n",
            "\n",
            "WARNING:tensorflow:From /usr/local/lib/python3.6/dist-packages/keras/backend/tensorflow_backend.py:223: The name tf.variables_initializer is deprecated. Please use tf.compat.v1.variables_initializer instead.\n",
            "\n",
            "1183058/1183058 [==============================] - 44s 38us/step - loss: 0.5550 - val_loss: 0.5254\n",
            "Epoch 2/10\n",
            "1183058/1183058 [==============================] - 36s 31us/step - loss: 0.5270 - val_loss: 0.5241\n",
            "Epoch 3/10\n",
            "1183058/1183058 [==============================] - 36s 30us/step - loss: 0.5249 - val_loss: 0.5224\n",
            "Epoch 4/10\n",
            "1183058/1183058 [==============================] - 36s 30us/step - loss: 0.5241 - val_loss: 0.5238\n",
            "Epoch 5/10\n",
            "1183058/1183058 [==============================] - 36s 31us/step - loss: 0.5237 - val_loss: 0.5232\n",
            "Epoch 6/10\n",
            "1183058/1183058 [==============================] - 36s 30us/step - loss: 0.5235 - val_loss: 0.5232\n",
            "Epoch 7/10\n",
            "1183058/1183058 [==============================] - 36s 30us/step - loss: 0.5233 - val_loss: 0.5241\n",
            "Epoch 8/10\n",
            "1183058/1183058 [==============================] - 37s 31us/step - loss: 0.5229 - val_loss: 0.5282\n",
            "Epoch 9/10\n",
            "1183058/1183058 [==============================] - 36s 30us/step - loss: 0.5230 - val_loss: 0.5232\n",
            "Epoch 10/10\n",
            "1183058/1183058 [==============================] - 36s 30us/step - loss: 0.5227 - val_loss: 0.5210\n"
          ],
          "name": "stdout"
        }
      ]
    },
    {
      "cell_type": "code",
      "metadata": {
        "id": "T6azXdFshP_u",
        "colab_type": "code",
        "colab": {}
      },
      "source": [
        "# import matplotlib.pyplot as plt\n",
        "# # plot metrics\n",
        "# plt.plot(history.history['mean_squared_error'])\n",
        "# # pyplot.plot(history.history['mean_squared_logarithmic_error'])\n",
        "# plt.show()"
      ],
      "execution_count": 0,
      "outputs": []
    },
    {
      "cell_type": "code",
      "metadata": {
        "id": "GRiJflVehZVw",
        "colab_type": "code",
        "colab": {}
      },
      "source": [
        "y_pred = model2.predict(X_t)"
      ],
      "execution_count": 0,
      "outputs": []
    },
    {
      "cell_type": "code",
      "metadata": {
        "id": "rdfYyehPZKSQ",
        "colab_type": "code",
        "outputId": "55006be6-d208-4a29-a107-c50eb159d81b",
        "colab": {
          "base_uri": "https://localhost:8080/",
          "height": 35
        }
      },
      "source": [
        "from sklearn.metrics import mean_squared_log_error\n",
        "rmsle = np.sqrt(mean_squared_log_error(y_test, y_pred))\n",
        "print(rmsle)"
      ],
      "execution_count": 0,
      "outputs": [
        {
          "output_type": "stream",
          "text": [
            "0.18013035219422666\n"
          ],
          "name": "stdout"
        }
      ]
    },
    {
      "cell_type": "markdown",
      "metadata": {
        "id": "lBgkfM9WhfZK",
        "colab_type": "text"
      },
      "source": [
        "### Model Evaluation"
      ]
    },
    {
      "cell_type": "code",
      "metadata": {
        "id": "qe-j1Zm8hbfY",
        "colab_type": "code",
        "outputId": "80221170-4a7f-4e91-a526-d166b99ca98e",
        "colab": {
          "base_uri": "https://localhost:8080/",
          "height": 35
        }
      },
      "source": [
        "from sklearn.metrics import mean_squared_log_error\n",
        "score2 = np.sqrt(mean_squared_log_error(y_test, y_pred))\n",
        "print(score2)"
      ],
      "execution_count": 0,
      "outputs": [
        {
          "output_type": "stream",
          "text": [
            "0.1794135394993634\n"
          ],
          "name": "stdout"
        }
      ]
    },
    {
      "cell_type": "code",
      "metadata": {
        "id": "RaCy6eVdDOnv",
        "colab_type": "code",
        "colab": {}
      },
      "source": [
        "#serializing our model to a file called model.pkl\n",
        "import pickle\n",
        "pickle.dump(model2, open(inDir+\"/model.pkl\",\"wb\"))\n",
        "\n",
        "# model2.to_pickle(inDir+\"/model.pkl\")"
      ],
      "execution_count": 0,
      "outputs": []
    },
    {
      "cell_type": "markdown",
      "metadata": {
        "id": "WyfHveyMi9r8",
        "colab_type": "text"
      },
      "source": [
        "## Model 2 - MLP(4 layer)"
      ]
    },
    {
      "cell_type": "code",
      "metadata": {
        "id": "h2EX40kM7B0g",
        "colab_type": "code",
        "outputId": "8062d7af-d6ab-477b-aea1-57423e692466",
        "colab": {
          "base_uri": "https://localhost:8080/",
          "height": 35
        }
      },
      "source": [
        "\n",
        "print(type(X_train),type(X_test),type(y_train),type(y_test))\n",
        "\n",
        "y_train= np.asarray(y_train) \n",
        "y_test= np.asarray(y_test)"
      ],
      "execution_count": 0,
      "outputs": [
        {
          "output_type": "stream",
          "text": [
            "<class 'numpy.ndarray'> <class 'numpy.ndarray'> <class 'pandas.core.series.Series'> <class 'pandas.core.series.Series'>\n"
          ],
          "name": "stdout"
        }
      ]
    },
    {
      "cell_type": "code",
      "metadata": {
        "id": "o4mTkVnGi9RF",
        "colab_type": "code",
        "colab": {}
      },
      "source": [
        "model = Sequential()\n",
        "input_size =X_train.shape[1]\n",
        "model.add(Dense(1024, input_dim=input_size))\n",
        "model.add(Activation('relu'))\n",
        "model.add(Dropout(0.1))\n",
        "\n",
        "model.add(Dense(512))\n",
        "model.add(Activation('relu'))\n",
        "model.add(Dropout(0.1))\n",
        "\n",
        "model.add(Dense(256))\n",
        "model.add(Activation('relu'))\n",
        "model.add(Dropout(0.1))\n",
        "model.add(Dense(1))\n",
        "\n",
        "sgd = SGD(lr=0.001, nesterov=True);\n",
        "model.compile(loss='mse', optimizer=sgd)\n"
      ],
      "execution_count": 0,
      "outputs": []
    },
    {
      "cell_type": "code",
      "metadata": {
        "id": "pMtFVjR67gVd",
        "colab_type": "code",
        "outputId": "dc1ea938-7752-40bb-e4d7-65929d76294c",
        "colab": {
          "base_uri": "https://localhost:8080/",
          "height": 503
        }
      },
      "source": [
        "model.summary()"
      ],
      "execution_count": 0,
      "outputs": [
        {
          "output_type": "stream",
          "text": [
            "Model: \"sequential_7\"\n",
            "_________________________________________________________________\n",
            "Layer (type)                 Output Shape              Param #   \n",
            "=================================================================\n",
            "dense_18 (Dense)             (None, 1024)              211968    \n",
            "_________________________________________________________________\n",
            "activation_9 (Activation)    (None, 1024)              0         \n",
            "_________________________________________________________________\n",
            "dropout_9 (Dropout)          (None, 1024)              0         \n",
            "_________________________________________________________________\n",
            "dense_19 (Dense)             (None, 512)               524800    \n",
            "_________________________________________________________________\n",
            "activation_10 (Activation)   (None, 512)               0         \n",
            "_________________________________________________________________\n",
            "dropout_10 (Dropout)         (None, 512)               0         \n",
            "_________________________________________________________________\n",
            "dense_20 (Dense)             (None, 256)               131328    \n",
            "_________________________________________________________________\n",
            "activation_11 (Activation)   (None, 256)               0         \n",
            "_________________________________________________________________\n",
            "dropout_11 (Dropout)         (None, 256)               0         \n",
            "_________________________________________________________________\n",
            "dense_21 (Dense)             (None, 1)                 257       \n",
            "=================================================================\n",
            "Total params: 868,353\n",
            "Trainable params: 868,353\n",
            "Non-trainable params: 0\n",
            "_________________________________________________________________\n"
          ],
          "name": "stdout"
        }
      ]
    },
    {
      "cell_type": "code",
      "metadata": {
        "id": "KhoDym7X7dut",
        "colab_type": "code",
        "colab": {}
      },
      "source": [
        "model.fit(X_train, y_train, batch_size=128, nb_epoch=10, verbose=1, validation_data=(X_test,y_test), callbacks=[EarlyStopping(monitor='val_loss', patience=4)] )"
      ],
      "execution_count": 0,
      "outputs": []
    },
    {
      "cell_type": "code",
      "metadata": {
        "id": "RoR60tqgqigR",
        "colab_type": "code",
        "colab": {}
      },
      "source": [
        "predictions = model.predict(X_test)\n",
        "# score =model.evaluate(X_test, y_test, batch_size=20,  verbose=0)\n",
        "\n",
        "# # print('Mean Squared Error: %.2f'% (score[0]))"
      ],
      "execution_count": 0,
      "outputs": []
    },
    {
      "cell_type": "code",
      "metadata": {
        "id": "1kjt1Ip22Yc_",
        "colab_type": "code",
        "outputId": "f1f0699a-c8d1-4e9c-b033-3d3e3c62bcc2",
        "colab": {
          "base_uri": "https://localhost:8080/",
          "height": 35
        }
      },
      "source": [
        "from sklearn.metrics import mean_squared_log_error\n",
        "rmsle = np.sqrt(mean_squared_log_error(y_test, predictions))\n",
        "print(rmsle)"
      ],
      "execution_count": 0,
      "outputs": [
        {
          "output_type": "stream",
          "text": [
            "0.18171821341353686\n"
          ],
          "name": "stdout"
        }
      ]
    },
    {
      "cell_type": "markdown",
      "metadata": {
        "id": "ZydPp4KcrIcF",
        "colab_type": "text"
      },
      "source": [
        "## Model3 - 2 Layer MLP"
      ]
    },
    {
      "cell_type": "code",
      "metadata": {
        "id": "V-l8rGGErKAx",
        "colab_type": "code",
        "colab": {}
      },
      "source": [
        "# define model\n",
        "# from HW9 Machine learning\n",
        "model4 = Sequential()\n",
        "\n",
        "model4.add(Dense(25, input_dim=X_train.shape[1], activation='relu'))\n",
        "model4.add(Dense(1, activation='relu'))\n",
        "opt = SGD(lr=0.01, momentum=0.9)\n",
        "model4.compile(loss='mse', optimizer=opt)\n"
      ],
      "execution_count": 0,
      "outputs": []
    },
    {
      "cell_type": "code",
      "metadata": {
        "id": "Lk4icTjw39i2",
        "colab_type": "code",
        "outputId": "42f3d776-1111-45f6-d74f-50a4cb7104df",
        "colab": {
          "base_uri": "https://localhost:8080/",
          "height": 225
        }
      },
      "source": [
        "model4.summary()"
      ],
      "execution_count": 0,
      "outputs": [
        {
          "output_type": "stream",
          "text": [
            "Model: \"sequential_1\"\n",
            "_________________________________________________________________\n",
            "Layer (type)                 Output Shape              Param #   \n",
            "=================================================================\n",
            "dense_2 (Dense)              (None, 25)                5175      \n",
            "_________________________________________________________________\n",
            "dense_3 (Dense)              (None, 1)                 26        \n",
            "=================================================================\n",
            "Total params: 5,201\n",
            "Trainable params: 5,201\n",
            "Non-trainable params: 0\n",
            "_________________________________________________________________\n"
          ],
          "name": "stdout"
        }
      ]
    },
    {
      "cell_type": "code",
      "metadata": {
        "id": "qRyya4UDL0qU",
        "colab_type": "code",
        "outputId": "0bc27c98-2016-40a1-f90d-7066df79e4f9",
        "colab": {
          "base_uri": "https://localhost:8080/",
          "height": 381
        }
      },
      "source": [
        "# fit model\n",
        "history4 = model4.fit(X_train, y_train, validation_data=(X_test, y_test), epochs=10, verbose=1)\n"
      ],
      "execution_count": 0,
      "outputs": [
        {
          "output_type": "stream",
          "text": [
            "Train on 1183058 samples, validate on 295765 samples\n",
            "Epoch 1/10\n",
            "1183058/1183058 [==============================] - 93s 78us/step - loss: 0.8566 - acc: 2.4513e-05 - val_loss: 0.5727 - val_acc: 0.0000e+00\n",
            "Epoch 2/10\n",
            "1183058/1183058 [==============================] - 93s 79us/step - loss: 0.5665 - acc: 0.0000e+00 - val_loss: 0.5630 - val_acc: 0.0000e+00\n",
            "Epoch 3/10\n",
            "1183058/1183058 [==============================] - 93s 78us/step - loss: 0.5640 - acc: 0.0000e+00 - val_loss: 0.5634 - val_acc: 0.0000e+00\n",
            "Epoch 4/10\n",
            "1183058/1183058 [==============================] - 92s 78us/step - loss: 0.5635 - acc: 0.0000e+00 - val_loss: 0.5622 - val_acc: 0.0000e+00\n",
            "Epoch 5/10\n",
            "1183058/1183058 [==============================] - 92s 78us/step - loss: 0.5649 - acc: 0.0000e+00 - val_loss: 0.5669 - val_acc: 0.0000e+00\n",
            "Epoch 6/10\n",
            "1183058/1183058 [==============================] - 91s 77us/step - loss: 0.5633 - acc: 0.0000e+00 - val_loss: 0.5615 - val_acc: 0.0000e+00\n",
            "Epoch 7/10\n",
            "1183058/1183058 [==============================] - 91s 77us/step - loss: 0.5632 - acc: 0.0000e+00 - val_loss: 0.5620 - val_acc: 0.0000e+00\n",
            "Epoch 8/10\n",
            "1183058/1183058 [==============================] - 92s 77us/step - loss: 0.5638 - acc: 0.0000e+00 - val_loss: 0.5616 - val_acc: 0.0000e+00\n",
            "Epoch 9/10\n",
            "1183058/1183058 [==============================] - 92s 78us/step - loss: 0.5635 - acc: 0.0000e+00 - val_loss: 0.5625 - val_acc: 0.0000e+00\n",
            "Epoch 10/10\n",
            "1183058/1183058 [==============================] - 92s 77us/step - loss: 0.5633 - acc: 0.0000e+00 - val_loss: 0.5619 - val_acc: 0.0000e+00\n"
          ],
          "name": "stdout"
        }
      ]
    },
    {
      "cell_type": "code",
      "metadata": {
        "id": "tRw0FZ0mL4eb",
        "colab_type": "code",
        "colab": {}
      },
      "source": [
        "# evaluate the model\n",
        "_, train_acc = model4.evaluate(X_train, y_train, verbose=0)\n",
        "_, test_acc = model4.evaluate(X_test, y_test, verbose=0)\n",
        "print('Train: %.3f, Test: %.3f' % (train_acc, test_acc))\n",
        "# # learning curves of model accuracy\n",
        "# plt.plot(history4.history['accuracy'], label='train')\n",
        "# plt.plot(history4.history['val_accuracy'], label='test')\n",
        "# plt.legend()\n",
        "# plt.show()"
      ],
      "execution_count": 0,
      "outputs": []
    },
    {
      "cell_type": "code",
      "metadata": {
        "id": "1sc4JOn9lbxm",
        "colab_type": "code",
        "outputId": "ab4c5360-6fb5-4646-a766-414c7be1cdec",
        "colab": {
          "base_uri": "https://localhost:8080/",
          "height": 35
        }
      },
      "source": [
        "y_pred4 = model4.predict(X_test)\n",
        "\n",
        "from sklearn.metrics import mean_squared_log_error\n",
        "rmsle = np.sqrt(mean_squared_log_error(y_test, y_pred4))\n",
        "print(rmsle)"
      ],
      "execution_count": 0,
      "outputs": [
        {
          "output_type": "stream",
          "text": [
            "0.18859559669791073\n"
          ],
          "name": "stdout"
        }
      ]
    },
    {
      "cell_type": "markdown",
      "metadata": {
        "id": "4ktTS0JH3bLf",
        "colab_type": "text"
      },
      "source": [
        "## Model 4 - with CNN multilayer"
      ]
    },
    {
      "cell_type": "code",
      "metadata": {
        "id": "1pX-Dfs03dqI",
        "colab_type": "code",
        "outputId": "11c1f4ae-bf9c-4a1b-8847-d45db349940d",
        "colab": {
          "base_uri": "https://localhost:8080/",
          "height": 176
        }
      },
      "source": [
        "# define model\n",
        "# from HW9 Machine learning\n",
        "# define model\n",
        "model7 = Sequential()\n",
        "model7.add(Conv1D(filters = 128,kernel_size = 2,activation='relu',input_shape=(206,1)))\n",
        "# model7.add(LSTM(10,activation='relu'))\n",
        "model7.add(MaxPooling1D(pool_size=2))\n",
        "model7.add(Conv1D(filters = 64,kernel_size = 2,activation='relu'))\n",
        "# model7.add(LSTM(10,activation='relu'))\n",
        "model7.add(MaxPooling1D(pool_size=2))\n",
        "model7.add(Flatten())\n",
        "\n",
        "model7.add(Dense(50, activation='relu'))\n",
        "model7.add(Dense(1))"
      ],
      "execution_count": 0,
      "outputs": [
        {
          "output_type": "stream",
          "text": [
            "WARNING:tensorflow:From /usr/local/lib/python3.6/dist-packages/keras/backend/tensorflow_backend.py:66: The name tf.get_default_graph is deprecated. Please use tf.compat.v1.get_default_graph instead.\n",
            "\n",
            "WARNING:tensorflow:From /usr/local/lib/python3.6/dist-packages/keras/backend/tensorflow_backend.py:541: The name tf.placeholder is deprecated. Please use tf.compat.v1.placeholder instead.\n",
            "\n",
            "WARNING:tensorflow:From /usr/local/lib/python3.6/dist-packages/keras/backend/tensorflow_backend.py:4432: The name tf.random_uniform is deprecated. Please use tf.random.uniform instead.\n",
            "\n",
            "WARNING:tensorflow:From /usr/local/lib/python3.6/dist-packages/keras/backend/tensorflow_backend.py:4267: The name tf.nn.max_pool is deprecated. Please use tf.nn.max_pool2d instead.\n",
            "\n"
          ],
          "name": "stdout"
        }
      ]
    },
    {
      "cell_type": "code",
      "metadata": {
        "id": "s79GxaW753Sg",
        "colab_type": "code",
        "outputId": "b80f44a3-ec1e-4b7b-c835-0125aa204747",
        "colab": {
          "base_uri": "https://localhost:8080/",
          "height": 72
        }
      },
      "source": [
        "model7.compile(optimizer='adam', loss='mse', metrics=['mse','mae'])"
      ],
      "execution_count": 0,
      "outputs": [
        {
          "output_type": "stream",
          "text": [
            "WARNING:tensorflow:From /usr/local/lib/python3.6/dist-packages/keras/optimizers.py:793: The name tf.train.Optimizer is deprecated. Please use tf.compat.v1.train.Optimizer instead.\n",
            "\n"
          ],
          "name": "stdout"
        }
      ]
    },
    {
      "cell_type": "code",
      "metadata": {
        "id": "ieJCRijGQRrt",
        "colab_type": "code",
        "outputId": "9b76ae9c-028c-4791-a9c6-de680a9bf2f8",
        "colab": {
          "base_uri": "https://localhost:8080/",
          "height": 399
        }
      },
      "source": [
        "model7.summary()"
      ],
      "execution_count": 0,
      "outputs": [
        {
          "output_type": "stream",
          "text": [
            "Model: \"sequential_1\"\n",
            "_________________________________________________________________\n",
            "Layer (type)                 Output Shape              Param #   \n",
            "=================================================================\n",
            "conv1d_1 (Conv1D)            (None, 205, 128)          384       \n",
            "_________________________________________________________________\n",
            "max_pooling1d_1 (MaxPooling1 (None, 102, 128)          0         \n",
            "_________________________________________________________________\n",
            "conv1d_2 (Conv1D)            (None, 101, 64)           16448     \n",
            "_________________________________________________________________\n",
            "max_pooling1d_2 (MaxPooling1 (None, 50, 64)            0         \n",
            "_________________________________________________________________\n",
            "flatten_1 (Flatten)          (None, 3200)              0         \n",
            "_________________________________________________________________\n",
            "dense_1 (Dense)              (None, 50)                160050    \n",
            "_________________________________________________________________\n",
            "dense_2 (Dense)              (None, 1)                 51        \n",
            "=================================================================\n",
            "Total params: 176,933\n",
            "Trainable params: 176,933\n",
            "Non-trainable params: 0\n",
            "_________________________________________________________________\n"
          ],
          "name": "stdout"
        }
      ]
    },
    {
      "cell_type": "code",
      "metadata": {
        "id": "6mxzWjvAQLvK",
        "colab_type": "code",
        "outputId": "827ed621-b110-4608-8854-022ecfb4ef6a",
        "colab": {
          "base_uri": "https://localhost:8080/",
          "height": 679
        }
      },
      "source": [
        "batch_size = 128\n",
        "epochs = 10\n",
        "history = model7.fit(X, y_train,\n",
        "          batch_size=batch_size,\n",
        "          epochs=epochs,\n",
        "          verbose=1, validation_data=(X_t, y_test))"
      ],
      "execution_count": 0,
      "outputs": [
        {
          "output_type": "stream",
          "text": [
            "WARNING:tensorflow:From /usr/local/lib/python3.6/dist-packages/keras/backend/tensorflow_backend.py:1033: The name tf.assign_add is deprecated. Please use tf.compat.v1.assign_add instead.\n",
            "\n",
            "WARNING:tensorflow:From /usr/local/lib/python3.6/dist-packages/keras/backend/tensorflow_backend.py:1020: The name tf.assign is deprecated. Please use tf.compat.v1.assign instead.\n",
            "\n",
            "WARNING:tensorflow:From /usr/local/lib/python3.6/dist-packages/keras/backend/tensorflow_backend.py:3005: The name tf.Session is deprecated. Please use tf.compat.v1.Session instead.\n",
            "\n",
            "Train on 1183058 samples, validate on 295765 samples\n",
            "Epoch 1/10\n",
            "WARNING:tensorflow:From /usr/local/lib/python3.6/dist-packages/keras/backend/tensorflow_backend.py:190: The name tf.get_default_session is deprecated. Please use tf.compat.v1.get_default_session instead.\n",
            "\n",
            "WARNING:tensorflow:From /usr/local/lib/python3.6/dist-packages/keras/backend/tensorflow_backend.py:197: The name tf.ConfigProto is deprecated. Please use tf.compat.v1.ConfigProto instead.\n",
            "\n",
            "WARNING:tensorflow:From /usr/local/lib/python3.6/dist-packages/keras/backend/tensorflow_backend.py:207: The name tf.global_variables is deprecated. Please use tf.compat.v1.global_variables instead.\n",
            "\n",
            "WARNING:tensorflow:From /usr/local/lib/python3.6/dist-packages/keras/backend/tensorflow_backend.py:216: The name tf.is_variable_initialized is deprecated. Please use tf.compat.v1.is_variable_initialized instead.\n",
            "\n",
            "WARNING:tensorflow:From /usr/local/lib/python3.6/dist-packages/keras/backend/tensorflow_backend.py:223: The name tf.variables_initializer is deprecated. Please use tf.compat.v1.variables_initializer instead.\n",
            "\n",
            "1183058/1183058 [==============================] - 119s 100us/step - loss: 0.5338 - mean_squared_error: 0.5338 - mean_absolute_error: 0.5677 - val_loss: 0.5193 - val_mean_squared_error: 0.5193 - val_mean_absolute_error: 0.5579\n",
            "Epoch 2/10\n",
            "1183058/1183058 [==============================] - 111s 94us/step - loss: 0.5204 - mean_squared_error: 0.5204 - mean_absolute_error: 0.5606 - val_loss: 0.5207 - val_mean_squared_error: 0.5207 - val_mean_absolute_error: 0.5643\n",
            "Epoch 3/10\n",
            "1183058/1183058 [==============================] - 112s 95us/step - loss: 0.5179 - mean_squared_error: 0.5179 - mean_absolute_error: 0.5592 - val_loss: 0.5169 - val_mean_squared_error: 0.5169 - val_mean_absolute_error: 0.5569\n",
            "Epoch 4/10\n",
            "1183058/1183058 [==============================] - 114s 96us/step - loss: 0.5161 - mean_squared_error: 0.5161 - mean_absolute_error: 0.5582 - val_loss: 0.5159 - val_mean_squared_error: 0.5159 - val_mean_absolute_error: 0.5601\n",
            "Epoch 5/10\n",
            "1183058/1183058 [==============================] - 112s 95us/step - loss: 0.5148 - mean_squared_error: 0.5148 - mean_absolute_error: 0.5573 - val_loss: 0.5169 - val_mean_squared_error: 0.5169 - val_mean_absolute_error: 0.5526\n",
            "Epoch 6/10\n",
            "1183058/1183058 [==============================] - 110s 93us/step - loss: 0.5133 - mean_squared_error: 0.5133 - mean_absolute_error: 0.5564 - val_loss: 0.5147 - val_mean_squared_error: 0.5147 - val_mean_absolute_error: 0.5556\n",
            "Epoch 7/10\n",
            "1183058/1183058 [==============================] - 110s 93us/step - loss: 0.5125 - mean_squared_error: 0.5125 - mean_absolute_error: 0.5560 - val_loss: 0.5114 - val_mean_squared_error: 0.5114 - val_mean_absolute_error: 0.5520\n",
            "Epoch 8/10\n",
            "1183058/1183058 [==============================] - 109s 92us/step - loss: 0.5113 - mean_squared_error: 0.5113 - mean_absolute_error: 0.5553 - val_loss: 0.5107 - val_mean_squared_error: 0.5107 - val_mean_absolute_error: 0.5530\n",
            "Epoch 9/10\n",
            "1183058/1183058 [==============================] - 108s 92us/step - loss: 0.5106 - mean_squared_error: 0.5106 - mean_absolute_error: 0.5549 - val_loss: 0.5122 - val_mean_squared_error: 0.5122 - val_mean_absolute_error: 0.5551\n",
            "Epoch 10/10\n",
            "1183058/1183058 [==============================] - 112s 94us/step - loss: 0.5099 - mean_squared_error: 0.5099 - mean_absolute_error: 0.5546 - val_loss: 0.5125 - val_mean_squared_error: 0.5125 - val_mean_absolute_error: 0.5491\n"
          ],
          "name": "stdout"
        }
      ]
    },
    {
      "cell_type": "code",
      "metadata": {
        "id": "zmS9wD9aP8nB",
        "colab_type": "code",
        "outputId": "5c56ec7a-89f6-47f9-843d-c25e39e423bd",
        "colab": {
          "base_uri": "https://localhost:8080/",
          "height": 35
        }
      },
      "source": [
        "y_pred7 = model7.predict(X_t)\n",
        "\n",
        "from sklearn.metrics import mean_squared_log_error\n",
        "rmsle = np.sqrt(mean_squared_log_error(y_test, y_pred7))\n",
        "print(rmsle)"
      ],
      "execution_count": 0,
      "outputs": [
        {
          "output_type": "stream",
          "text": [
            "0.17723910899660375\n"
          ],
          "name": "stdout"
        }
      ]
    },
    {
      "cell_type": "markdown",
      "metadata": {
        "id": "aHzRmDZh08iv",
        "colab_type": "text"
      },
      "source": [
        "## Model-8"
      ]
    },
    {
      "cell_type": "code",
      "metadata": {
        "id": "LUWJ7MFk0748",
        "colab_type": "code",
        "colab": {}
      },
      "source": [
        "# define model\n",
        "model8 = Sequential()\n",
        "model8.add(Conv1D(filters = 512,kernel_size = 2,activation='relu',input_shape=(206,1)))\n",
        "model8.add(Dropout(0.1))\n",
        "# model7.add(LSTM(10,activation='relu'))\n",
        "# model8.add(MaxPooling1D(pool_size=2))\n",
        "model8.add(Conv1D(filters = 256,kernel_size = 2,activation='relu'))\n",
        "model8.add(Dropout(0.1))\n",
        "# model8.add(MaxPooling1D(pool_size=2))\n",
        "model8.add(Conv1D(filters = 128,kernel_size = 2,activation='relu'))\n",
        "model8.add(Dropout(0.1))\n",
        "# model7.add(LSTM(10,activation='relu'))\n",
        "model8.add(MaxPooling1D(pool_size=2))\n",
        "model8.add(Conv1D(filters = 64,kernel_size = 2,activation='relu'))\n",
        "model8.add(Dropout(0.1))\n",
        "# model7.add(LSTM(10,activation='relu'))\n",
        "model8.add(MaxPooling1D(pool_size=2))\n",
        "# model8.add(Conv1D(filters = 64,kernel_size = 2,activation='relu'))\n",
        "# # model7.add(LSTM(10,activation='relu'))\n",
        "# model8.add(MaxPooling1D(pool_size=2))\n",
        "model8.add(Flatten())\n",
        "\n",
        "model8.add(Dense(50, activation='relu'))\n",
        "model8.add(Dense(1))\n",
        "# model8.add(LSTM(1, activation='relu'))"
      ],
      "execution_count": 0,
      "outputs": []
    },
    {
      "cell_type": "code",
      "metadata": {
        "id": "v1HTH0VeQGkR",
        "colab_type": "code",
        "colab": {}
      },
      "source": [
        "model8.compile(optimizer='adam', loss='mse', metrics=['mse','mae'])"
      ],
      "execution_count": 0,
      "outputs": []
    },
    {
      "cell_type": "code",
      "metadata": {
        "id": "YF4LUd4U2RiZ",
        "colab_type": "code",
        "outputId": "634e8aa7-5e9f-483e-89f6-7f6b34419e25",
        "colab": {
          "base_uri": "https://localhost:8080/",
          "height": 607
        }
      },
      "source": [
        "model8.summary()"
      ],
      "execution_count": 0,
      "outputs": [
        {
          "output_type": "stream",
          "text": [
            "Model: \"sequential_6\"\n",
            "_________________________________________________________________\n",
            "Layer (type)                 Output Shape              Param #   \n",
            "=================================================================\n",
            "conv1d_20 (Conv1D)           (None, 205, 512)          1536      \n",
            "_________________________________________________________________\n",
            "dropout_6 (Dropout)          (None, 205, 512)          0         \n",
            "_________________________________________________________________\n",
            "conv1d_21 (Conv1D)           (None, 204, 256)          262400    \n",
            "_________________________________________________________________\n",
            "dropout_7 (Dropout)          (None, 204, 256)          0         \n",
            "_________________________________________________________________\n",
            "conv1d_22 (Conv1D)           (None, 203, 128)          65664     \n",
            "_________________________________________________________________\n",
            "dropout_8 (Dropout)          (None, 203, 128)          0         \n",
            "_________________________________________________________________\n",
            "max_pooling1d_20 (MaxPooling (None, 101, 128)          0         \n",
            "_________________________________________________________________\n",
            "conv1d_23 (Conv1D)           (None, 100, 64)           16448     \n",
            "_________________________________________________________________\n",
            "dropout_9 (Dropout)          (None, 100, 64)           0         \n",
            "_________________________________________________________________\n",
            "max_pooling1d_21 (MaxPooling (None, 50, 64)            0         \n",
            "_________________________________________________________________\n",
            "flatten_6 (Flatten)          (None, 3200)              0         \n",
            "_________________________________________________________________\n",
            "dense_10 (Dense)             (None, 50)                160050    \n",
            "_________________________________________________________________\n",
            "dense_11 (Dense)             (None, 1)                 51        \n",
            "=================================================================\n",
            "Total params: 506,149\n",
            "Trainable params: 506,149\n",
            "Non-trainable params: 0\n",
            "_________________________________________________________________\n"
          ],
          "name": "stdout"
        }
      ]
    },
    {
      "cell_type": "code",
      "metadata": {
        "id": "csE_hh_C2Ua9",
        "colab_type": "code",
        "colab": {}
      },
      "source": [
        "batch_size = 128\n",
        "epochs = 10\n",
        "history8 = model8.fit(X, y_train,\n",
        "          batch_size=batch_size,\n",
        "          epochs=epochs,\n",
        "          verbose=1, validation_data=(X_t, y_test))"
      ],
      "execution_count": 0,
      "outputs": []
    },
    {
      "cell_type": "code",
      "metadata": {
        "id": "jcie-FAo2byd",
        "colab_type": "code",
        "outputId": "786fb84d-974b-4c80-d55e-8a27e2185468",
        "colab": {
          "base_uri": "https://localhost:8080/",
          "height": 35
        }
      },
      "source": [
        "y_pred8 = model8.predict(X_t)\n",
        "\n",
        "from sklearn.metrics import mean_squared_log_error\n",
        "rmsle = np.sqrt(mean_squared_log_error(y_test, y_pred8))\n",
        "print(rmsle)"
      ],
      "execution_count": 0,
      "outputs": [
        {
          "output_type": "stream",
          "text": [
            "0.17962092775729005\n"
          ],
          "name": "stdout"
        }
      ]
    },
    {
      "cell_type": "markdown",
      "metadata": {
        "id": "kmf1SHH52i2D",
        "colab_type": "text"
      },
      "source": [
        "## Model 5 - LSTM"
      ]
    },
    {
      "cell_type": "code",
      "metadata": {
        "id": "2Z393yEH5Cgh",
        "colab_type": "code",
        "outputId": "bc9b4c84-1e89-4cae-8051-d259d6a6dee0",
        "colab": {
          "base_uri": "https://localhost:8080/",
          "height": 35
        }
      },
      "source": [
        "X.shape"
      ],
      "execution_count": 0,
      "outputs": [
        {
          "output_type": "execute_result",
          "data": {
            "text/plain": [
              "(1183058, 206, 1)"
            ]
          },
          "metadata": {
            "tags": []
          },
          "execution_count": 46
        }
      ]
    },
    {
      "cell_type": "code",
      "metadata": {
        "id": "9pRXLFnx89Wt",
        "colab_type": "code",
        "colab": {}
      },
      "source": [
        "x_train_lstm = X_train.reshape(-1, 1, 206)\n",
        "x_test_lstm  = X_test.reshape(-1, 1, 206)\n",
        "y_train_lstm = y_train.reshape(-1, 1, 1)\n",
        "y_test_lstm = y_test.reshape(-1, 1, 1)"
      ],
      "execution_count": 0,
      "outputs": []
    },
    {
      "cell_type": "code",
      "metadata": {
        "id": "AZGxanr49-HR",
        "colab_type": "code",
        "outputId": "e04dd508-5deb-4c36-d88a-02909a5574e4",
        "colab": {
          "base_uri": "https://localhost:8080/",
          "height": 35
        }
      },
      "source": [
        "x_train_lstm.shape"
      ],
      "execution_count": 0,
      "outputs": [
        {
          "output_type": "execute_result",
          "data": {
            "text/plain": [
              "(1183058, 1, 206)"
            ]
          },
          "metadata": {
            "tags": []
          },
          "execution_count": 49
        }
      ]
    },
    {
      "cell_type": "code",
      "metadata": {
        "id": "p8awLezP2h-S",
        "colab_type": "code",
        "colab": {}
      },
      "source": [
        "model9 = Sequential()\n",
        "model9.add(LSTM(10, input_shape=(1, 206), return_sequences=True))\n",
        "model9.add(LSTM(1, input_shape=(1, 206), return_sequences=True))\n",
        "model9.compile(loss=\"mean_absolute_error\", optimizer=\"adam\")"
      ],
      "execution_count": 0,
      "outputs": []
    },
    {
      "cell_type": "code",
      "metadata": {
        "id": "LFGNSU0A9vMm",
        "colab_type": "code",
        "outputId": "4611a2ec-98d7-4ece-b145-f9fc2eb1b6bc",
        "colab": {
          "base_uri": "https://localhost:8080/",
          "height": 225
        }
      },
      "source": [
        "model9.summary()"
      ],
      "execution_count": 0,
      "outputs": [
        {
          "output_type": "stream",
          "text": [
            "Model: \"sequential_8\"\n",
            "_________________________________________________________________\n",
            "Layer (type)                 Output Shape              Param #   \n",
            "=================================================================\n",
            "lstm (LSTM)                  (None, 1, 10)             8680      \n",
            "_________________________________________________________________\n",
            "lstm_1 (LSTM)                (None, 1, 1)              48        \n",
            "=================================================================\n",
            "Total params: 8,728\n",
            "Trainable params: 8,728\n",
            "Non-trainable params: 0\n",
            "_________________________________________________________________\n"
          ],
          "name": "stdout"
        }
      ]
    },
    {
      "cell_type": "code",
      "metadata": {
        "id": "cHuyqV23b1EY",
        "colab_type": "code",
        "colab": {}
      },
      "source": [
        "history = model9.fit(x_train_lstm,y_train_lstm,epochs=5, validation_data=(x_test_lstm,y_test_lstm))"
      ],
      "execution_count": 0,
      "outputs": []
    },
    {
      "cell_type": "code",
      "metadata": {
        "id": "WqSnqSalbr6P",
        "colab_type": "code",
        "colab": {}
      },
      "source": [
        "y_pred9 = y_pred9.reshape(-1,1)\n",
        "y_test_lstm = y_test_lstm.reshape(-1,1)"
      ],
      "execution_count": 0,
      "outputs": []
    },
    {
      "cell_type": "code",
      "metadata": {
        "id": "CrQJ-O0EbNsO",
        "colab_type": "code",
        "outputId": "ac4e08de-58f0-4748-897b-76a2cf8f043b",
        "colab": {
          "base_uri": "https://localhost:8080/",
          "height": 35
        }
      },
      "source": [
        "y_test_lstm.shape"
      ],
      "execution_count": 0,
      "outputs": [
        {
          "output_type": "execute_result",
          "data": {
            "text/plain": [
              "(295765, 1)"
            ]
          },
          "metadata": {
            "tags": []
          },
          "execution_count": 71
        }
      ]
    },
    {
      "cell_type": "code",
      "metadata": {
        "id": "e7dgu9d9cfu1",
        "colab_type": "code",
        "colab": {}
      },
      "source": [
        ""
      ],
      "execution_count": 0,
      "outputs": []
    },
    {
      "cell_type": "code",
      "metadata": {
        "id": "IGNRUkLKbREz",
        "colab_type": "code",
        "outputId": "d584097a-82fa-46a6-d6bf-42c74df6603e",
        "colab": {
          "base_uri": "https://localhost:8080/",
          "height": 35
        }
      },
      "source": [
        "y_pred9.shape"
      ],
      "execution_count": 0,
      "outputs": [
        {
          "output_type": "execute_result",
          "data": {
            "text/plain": [
              "(295765, 1)"
            ]
          },
          "metadata": {
            "tags": []
          },
          "execution_count": 72
        }
      ]
    },
    {
      "cell_type": "code",
      "metadata": {
        "id": "bPoCD36Y8oS7",
        "colab_type": "code",
        "outputId": "a89d6ed0-65f1-40c3-9315-0c76222690a1",
        "colab": {
          "base_uri": "https://localhost:8080/",
          "height": 35
        }
      },
      "source": [
        "# y_pred9 = model9.predict(x_test_lstm)\n",
        "\n",
        "from sklearn.metrics import mean_squared_log_error\n",
        "rmsle = np.sqrt(mean_squared_log_error(y_test_lstm, y_pred9))\n",
        "print(rmsle)"
      ],
      "execution_count": 0,
      "outputs": [
        {
          "output_type": "stream",
          "text": [
            "0.8191935748877457\n"
          ],
          "name": "stdout"
        }
      ]
    },
    {
      "cell_type": "code",
      "metadata": {
        "id": "3Sh6-H-9GWwz",
        "colab_type": "code",
        "colab": {}
      },
      "source": [
        ""
      ],
      "execution_count": 0,
      "outputs": []
    },
    {
      "cell_type": "markdown",
      "metadata": {
        "id": "Q_m9UXGzxBH_",
        "colab_type": "text"
      },
      "source": [
        "## Model 6 - with dropouts - Final Model"
      ]
    },
    {
      "cell_type": "code",
      "metadata": {
        "id": "sLfGVOlt6Erw",
        "colab_type": "code",
        "colab": {}
      },
      "source": [
        "def rmsle(y_true, y_pred):\n",
        "    return K.sqrt(K.mean(K.square(tf.math.log1p(y_pred) - tf.math.log1p(y_true))))"
      ],
      "execution_count": 0,
      "outputs": []
    },
    {
      "cell_type": "code",
      "metadata": {
        "id": "BbZwGnyvxRC-",
        "colab_type": "code",
        "colab": {}
      },
      "source": [
        "# define model\n",
        "model10 = Sequential()\n",
        "model10.add(Conv1D(filters = 128,kernel_size = 2,activation='relu',input_shape=(206,1)))\n",
        "model10.add(Dropout(0.1))\n",
        "model10.add(MaxPooling1D(pool_size=2))\n",
        "model10.add(Conv1D(filters = 64,kernel_size = 2,activation='relu'))\n",
        "model10.add(Dropout(0.1))\n",
        "model10.add(MaxPooling1D(pool_size=2))\n",
        "model10.add(Flatten())\n",
        "\n",
        "model10.add(Dense(50, activation='relu'))\n",
        "model10.add(Dense(10, activation='relu'))\n",
        "model10.add(Dense(1))"
      ],
      "execution_count": 0,
      "outputs": []
    },
    {
      "cell_type": "code",
      "metadata": {
        "id": "VmnugHGHzgD8",
        "colab_type": "code",
        "colab": {}
      },
      "source": [
        "model10.compile(optimizer='adam', loss='mse', metrics=[rmsle])"
      ],
      "execution_count": 0,
      "outputs": []
    },
    {
      "cell_type": "code",
      "metadata": {
        "id": "rXRCLeKUzqNe",
        "colab_type": "code",
        "outputId": "b09d0611-c63e-45ad-cf55-5c7d1c4194b0",
        "colab": {
          "base_uri": "https://localhost:8080/",
          "height": 503
        }
      },
      "source": [
        "model10.summary()"
      ],
      "execution_count": 0,
      "outputs": [
        {
          "output_type": "stream",
          "text": [
            "Model: \"sequential_10\"\n",
            "_________________________________________________________________\n",
            "Layer (type)                 Output Shape              Param #   \n",
            "=================================================================\n",
            "conv1d_3 (Conv1D)            (None, 205, 128)          384       \n",
            "_________________________________________________________________\n",
            "dropout_14 (Dropout)         (None, 205, 128)          0         \n",
            "_________________________________________________________________\n",
            "max_pooling1d_3 (MaxPooling1 (None, 102, 128)          0         \n",
            "_________________________________________________________________\n",
            "conv1d_4 (Conv1D)            (None, 101, 64)           16448     \n",
            "_________________________________________________________________\n",
            "dropout_15 (Dropout)         (None, 101, 64)           0         \n",
            "_________________________________________________________________\n",
            "max_pooling1d_4 (MaxPooling1 (None, 50, 64)            0         \n",
            "_________________________________________________________________\n",
            "flatten_2 (Flatten)          (None, 3200)              0         \n",
            "_________________________________________________________________\n",
            "dense_25 (Dense)             (None, 50)                160050    \n",
            "_________________________________________________________________\n",
            "dense_26 (Dense)             (None, 10)                510       \n",
            "_________________________________________________________________\n",
            "dense_27 (Dense)             (None, 1)                 11        \n",
            "=================================================================\n",
            "Total params: 177,403\n",
            "Trainable params: 177,403\n",
            "Non-trainable params: 0\n",
            "_________________________________________________________________\n"
          ],
          "name": "stdout"
        }
      ]
    },
    {
      "cell_type": "code",
      "metadata": {
        "id": "rlA3uVYh8Zfh",
        "colab_type": "code",
        "colab": {}
      },
      "source": [
        "y_train= np.asarray(y_train) \n",
        "y_test= np.asarray(y_test)"
      ],
      "execution_count": 0,
      "outputs": []
    },
    {
      "cell_type": "code",
      "metadata": {
        "id": "IXaPKwErzurN",
        "colab_type": "code",
        "outputId": "34bdc4e7-64ff-4fc6-d35e-78602f19f0f0",
        "colab": {
          "base_uri": "https://localhost:8080/",
          "height": 381
        }
      },
      "source": [
        "batch_size = 128\n",
        "epochs = 10\n",
        "history10 = model10.fit(X, y_train,\n",
        "          batch_size=batch_size,\n",
        "          epochs=epochs,\n",
        "          verbose=1, validation_data=(X_t, y_test))"
      ],
      "execution_count": 0,
      "outputs": [
        {
          "output_type": "stream",
          "text": [
            "Train on 1183058 samples, validate on 295765 samples\n",
            "Epoch 1/10\n",
            "1183058/1183058 [==============================] - 1099s 929us/sample - loss: 0.5398 - rmsle: 0.1823 - val_loss: 0.6087 - val_rmsle: 0.1886\n",
            "Epoch 2/10\n",
            "1183058/1183058 [==============================] - 1058s 894us/sample - loss: 0.5228 - rmsle: 0.1796 - val_loss: 0.5257 - val_rmsle: 0.1784\n",
            "Epoch 3/10\n",
            "1183058/1183058 [==============================] - 1049s 887us/sample - loss: 0.5204 - rmsle: 0.1792 - val_loss: 0.5611 - val_rmsle: 0.1820\n",
            "Epoch 4/10\n",
            "1183058/1183058 [==============================] - 1051s 888us/sample - loss: 0.5195 - rmsle: 0.1790 - val_loss: 0.5403 - val_rmsle: 0.1796\n",
            "Epoch 5/10\n",
            "1183058/1183058 [==============================] - 1050s 887us/sample - loss: 0.5186 - rmsle: 0.1789 - val_loss: 0.5212 - val_rmsle: 0.1783\n",
            "Epoch 6/10\n",
            "1183058/1183058 [==============================] - 1068s 903us/sample - loss: 0.5181 - rmsle: 0.1788 - val_loss: 0.5200 - val_rmsle: 0.1784\n",
            "Epoch 7/10\n",
            "1183058/1183058 [==============================] - 1090s 921us/sample - loss: 0.5177 - rmsle: 0.1788 - val_loss: 0.5189 - val_rmsle: 0.1784\n",
            "Epoch 8/10\n",
            "1183058/1183058 [==============================] - 1072s 906us/sample - loss: 0.5168 - rmsle: 0.1786 - val_loss: 0.5187 - val_rmsle: 0.1784\n",
            "Epoch 9/10\n",
            "1183058/1183058 [==============================] - 1045s 883us/sample - loss: 0.5166 - rmsle: 0.1786 - val_loss: 0.5178 - val_rmsle: 0.1789\n",
            "Epoch 10/10\n",
            "1183058/1183058 [==============================] - 1055s 892us/sample - loss: 0.5156 - rmsle: 0.1784 - val_loss: 0.5157 - val_rmsle: 0.1783\n"
          ],
          "name": "stdout"
        }
      ]
    },
    {
      "cell_type": "code",
      "metadata": {
        "id": "dmriEeKHE9dg",
        "colab_type": "code",
        "outputId": "fb8f78c0-83ed-44ca-ef04-f5543f9088bf",
        "colab": {
          "base_uri": "https://localhost:8080/",
          "height": 350
        }
      },
      "source": [
        "rmsle_train = history10.history['rmsle']\n",
        "val_mse = history10.history['rmsle']\n",
        "loss = history10.history['loss']\n",
        "val_loss = history10.history['val_loss']\n",
        "epochs = range(10)\n",
        "\n",
        "fig = plt.figure(figsize= (15,5))\n",
        "ax1 = fig.add_subplot(121)\n",
        "ax2 = fig.add_subplot(122)\n",
        "\n",
        "ax1.title.set_text(\"Training RMSLE\")\n",
        "ax2.title.set_text(\"Validation RMSLE\")\n",
        "\n",
        "ax1.plot(epochs, rmsle_train, 'b', label='Training RMSLE', )\n",
        "ax1.set(xlabel = \"Epochs\", ylabel= \"Train RMSLE\")\n",
        "\n",
        "ax2.plot(epochs, val_mse, 'r', label='Test RMSLE')\n",
        "ax2.set(xlabel = \"Epochs\", ylabel= \"Test RMSLE\")\n",
        "# plt.legend()\n",
        "# plt.figure()\n",
        "# plt.plot(epochs, loss, 'b', label='Training loss',)\n",
        "# plt.plot(epochs, val_loss, 'r', label='Validation loss')\n",
        "# plt.title('Training and validation loss')\n",
        "# plt.legend()\n",
        "plt.show()"
      ],
      "execution_count": 0,
      "outputs": [
        {
          "output_type": "display_data",
          "data": {
            "image/png": "[encoded data removed]",
            "text/plain": [
              "<Figure size 1080x360 with 2 Axes>"
            ]
          },
          "metadata": {
            "tags": []
          }
        }
      ]
    },
    {
      "cell_type": "code",
      "metadata": {
        "id": "RWuRXobr0Q-5",
        "colab_type": "code",
        "outputId": "00f60e0e-59fc-4ef8-89ad-e92233e04ca2",
        "colab": {
          "base_uri": "https://localhost:8080/",
          "height": 35
        }
      },
      "source": [
        "y_pred10 = model10.predict(X_t)\n",
        "\n",
        "from sklearn.metrics import mean_squared_log_error\n",
        "rmsle = np.sqrt(mean_squared_log_error(y_test, y_pred10))\n",
        "print(rmsle)"
      ],
      "execution_count": 0,
      "outputs": [
        {
          "output_type": "stream",
          "text": [
            "0.17882677593330223\n"
          ],
          "name": "stdout"
        }
      ]
    },
    {
      "cell_type": "code",
      "metadata": {
        "id": "ad7UqgTFHDPl",
        "colab_type": "code",
        "colab": {}
      },
      "source": [
        ""
      ],
      "execution_count": 0,
      "outputs": []
    }
  ]
}