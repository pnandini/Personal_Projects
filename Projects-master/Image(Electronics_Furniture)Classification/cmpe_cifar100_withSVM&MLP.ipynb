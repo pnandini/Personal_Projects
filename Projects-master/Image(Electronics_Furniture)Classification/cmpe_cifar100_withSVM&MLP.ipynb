{
  "nbformat": 4,
  "nbformat_minor": 0,
  "metadata": {
    "colab": {
      "name": "cmpe-cifar100_withSVM&MLP.ipynb",
      "provenance": [],
      "collapsed_sections": []
    },
    "kernelspec": {
      "name": "python3",
      "display_name": "Python 3"
    }
  },
  "cells": [
    {
      "cell_type": "code",
      "metadata": {
        "id": "bdouvvC0B3tF",
        "colab_type": "code",
        "outputId": "3649cca6-c9b9-4417-b92c-6b37f1a7cc5a",
        "colab": {
          "base_uri": "https://localhost:8080/",
          "height": 35
        }
      },
      "source": [
        "import os\n",
        "os.environ[\"THEANO_FLAGS\"] = \"mode=FAST_RUN,device=gpu,floatX=float32\"\n",
        "\n",
        "from keras import backend as K\n",
        "if K.backend()=='tensorflow':\n",
        "    K.set_image_dim_ordering(\"th\")"
      ],
      "execution_count": 0,
      "outputs": [
        {
          "output_type": "stream",
          "text": [
            "Using TensorFlow backend.\n"
          ],
          "name": "stderr"
        }
      ]
    },
    {
      "cell_type": "code",
      "metadata": {
        "id": "IpKA_Kv4CF6Q",
        "colab_type": "code",
        "colab": {}
      },
      "source": [
        "from __future__ import print_function\n",
        "import tensorflow as tf\n",
        "import keras\n",
        "from keras.datasets import cifar100\n",
        "\n",
        "from keras.preprocessing.image import ImageDataGenerator\n",
        "from keras.models import Sequential\n",
        "from keras.layers.core import Dense, Dropout, Flatten\n",
        "from keras.layers.convolutional import Conv2D\n",
        "from keras.optimizers import Adam\n",
        "from keras.layers.pooling import MaxPooling2D\n",
        "from keras.callbacks import ModelCheckpoint,EarlyStopping\n",
        "from keras.utils import to_categorical\n",
        "from keras.models import load_model\n",
        "from keras.constraints import maxnorm\n",
        "from keras.optimizers import SGD\n",
        "import os\n",
        "import numpy as np\n",
        "import pandas as pd\n",
        "import matplotlib.pyplot as plt\n",
        "from math import *\n",
        "import warnings\n",
        "warnings.filterwarnings('ignore')"
      ],
      "execution_count": 0,
      "outputs": []
    },
    {
      "cell_type": "code",
      "metadata": {
        "id": "nySjslwdUrUg",
        "colab_type": "code",
        "colab": {}
      },
      "source": [
        "import numpy as np\n",
        "import pandas as pd\n",
        "from sklearn.linear_model import LogisticRegression, LogisticRegressionCV\n",
        "from sklearn.neural_network import MLPClassifier\n",
        "from sklearn.datasets import make_moons\n",
        "from matplotlib import pyplot as plt\n",
        "from itertools import product\n",
        "from scipy import optimize\n",
        "from sklearn.datasets import load_digits\n",
        "from sklearn.model_selection import train_test_split\n",
        "from sklearn.preprocessing import StandardScaler\n",
        "import seaborn as sns\n",
        "# Create first network with Keras\n",
        "from keras.models import Sequential\n",
        "from keras.layers import Dense\n",
        "from keras import utils\n",
        "import warnings\n",
        "warnings.filterwarnings('ignore')\n",
        "%matplotlib inline"
      ],
      "execution_count": 0,
      "outputs": []
    },
    {
      "cell_type": "code",
      "metadata": {
        "id": "2kCeZ1PICPo_",
        "colab_type": "code",
        "outputId": "add2fde8-4bd3-410a-a5ac-fa15c03aeceb",
        "colab": {
          "base_uri": "https://localhost:8080/",
          "height": 104
        }
      },
      "source": [
        "tf.reset_default_graph()\n",
        "tf.set_random_seed(343)\n",
        "np.random.seed(343)\n",
        "# The data, shuffled and split between train and test sets:\n",
        "(x_train, y_train), (x_test, y_test) = cifar100.load_data()\n",
        "print('x_train shape:', x_train.shape)\n",
        "print(x_train.shape[0], 'train samples')\n",
        "print(x_test.shape[0], 'test samples')\n"
      ],
      "execution_count": 0,
      "outputs": [
        {
          "output_type": "stream",
          "text": [
            "Downloading data from https://www.cs.toronto.edu/~kriz/cifar-100-python.tar.gz\n",
            "169009152/169001437 [==============================] - 8s 0us/step\n",
            "x_train shape: (50000, 3, 32, 32)\n",
            "50000 train samples\n",
            "10000 test samples\n"
          ],
          "name": "stdout"
        }
      ]
    },
    {
      "cell_type": "code",
      "metadata": {
        "id": "Bo4rG7772_6R",
        "colab_type": "code",
        "outputId": "f210ee4c-614d-4b2c-9e70-2a3cc2a95b26",
        "colab": {
          "base_uri": "https://localhost:8080/",
          "height": 235
        }
      },
      "source": [
        "import cv2\n",
        "items = os.listdir('C://Users//koour//Downloads')\n",
        "print(items)\n",
        "# for each_image in items:\n",
        "#   if each_image.endswith(\".jpg\"):\n",
        "#     print (each_image)\n",
        "#     full_path = \"/content/\" + each_image\n",
        "#     print (full_path)\n",
        "#     image = cv2.imread(full_path)\n",
        "#     print (image)"
      ],
      "execution_count": 0,
      "outputs": [
        {
          "output_type": "error",
          "ename": "FileNotFoundError",
          "evalue": "ignored",
          "traceback": [
            "\u001b[0;31m---------------------------------------------------------------------------\u001b[0m",
            "\u001b[0;31mFileNotFoundError\u001b[0m                         Traceback (most recent call last)",
            "\u001b[0;32m<ipython-input-8-2782e02c5ca1>\u001b[0m in \u001b[0;36m<module>\u001b[0;34m()\u001b[0m\n\u001b[1;32m      1\u001b[0m \u001b[0;32mimport\u001b[0m \u001b[0mcv2\u001b[0m\u001b[0;34m\u001b[0m\u001b[0;34m\u001b[0m\u001b[0m\n\u001b[0;32m----> 2\u001b[0;31m \u001b[0mitems\u001b[0m \u001b[0;34m=\u001b[0m \u001b[0mos\u001b[0m\u001b[0;34m.\u001b[0m\u001b[0mlistdir\u001b[0m\u001b[0;34m(\u001b[0m\u001b[0;34m'C://Users//koour//Downloads'\u001b[0m\u001b[0;34m)\u001b[0m\u001b[0;34m\u001b[0m\u001b[0;34m\u001b[0m\u001b[0m\n\u001b[0m\u001b[1;32m      3\u001b[0m \u001b[0mprint\u001b[0m \u001b[0;34m(\u001b[0m\u001b[0mitems\u001b[0m\u001b[0;34m)\u001b[0m\u001b[0;34m\u001b[0m\u001b[0;34m\u001b[0m\u001b[0m\n\u001b[1;32m      4\u001b[0m \u001b[0;31m# for each_image in items:\u001b[0m\u001b[0;34m\u001b[0m\u001b[0;34m\u001b[0m\u001b[0;34m\u001b[0m\u001b[0m\n\u001b[1;32m      5\u001b[0m \u001b[0;31m#   if each_image.endswith(\".jpg\"):\u001b[0m\u001b[0;34m\u001b[0m\u001b[0;34m\u001b[0m\u001b[0;34m\u001b[0m\u001b[0m\n",
            "\u001b[0;31mFileNotFoundError\u001b[0m: [Errno 2] No such file or directory: 'C://Users//koour//Downloads'"
          ]
        }
      ]
    },
    {
      "cell_type": "code",
      "metadata": {
        "id": "MerztTSgCg_x",
        "colab_type": "code",
        "outputId": "ebcf57af-d1bb-49bb-9646-4f6de1153013",
        "colab": {
          "base_uri": "https://localhost:8080/",
          "height": 35
        }
      },
      "source": [
        "x_train.shape"
      ],
      "execution_count": 0,
      "outputs": [
        {
          "output_type": "execute_result",
          "data": {
            "text/plain": [
              "(50000, 3, 32, 32)"
            ]
          },
          "metadata": {
            "tags": []
          },
          "execution_count": 5
        }
      ]
    },
    {
      "cell_type": "code",
      "metadata": {
        "id": "0AS2GEhPCkoX",
        "colab_type": "code",
        "outputId": "851d6d3c-7be4-4cf6-9c9b-33c2e9334ec5",
        "colab": {
          "base_uri": "https://localhost:8080/",
          "height": 35
        }
      },
      "source": [
        "y_train.shape"
      ],
      "execution_count": 0,
      "outputs": [
        {
          "output_type": "execute_result",
          "data": {
            "text/plain": [
              "(50000, 1)"
            ]
          },
          "metadata": {
            "tags": []
          },
          "execution_count": 6
        }
      ]
    },
    {
      "cell_type": "code",
      "metadata": {
        "id": "vY_2tgZ4aLuN",
        "colab_type": "code",
        "outputId": "7262b35d-5f5c-477f-970c-b50c8fd3f196",
        "colab": {
          "base_uri": "https://localhost:8080/",
          "height": 139
        }
      },
      "source": [
        "y_train"
      ],
      "execution_count": 0,
      "outputs": [
        {
          "output_type": "execute_result",
          "data": {
            "text/plain": [
              "array([[19],\n",
              "       [29],\n",
              "       [ 0],\n",
              "       ...,\n",
              "       [ 3],\n",
              "       [ 7],\n",
              "       [73]])"
            ]
          },
          "metadata": {
            "tags": []
          },
          "execution_count": 7
        }
      ]
    },
    {
      "cell_type": "code",
      "metadata": {
        "id": "rJ_WoCduGFhW",
        "colab_type": "code",
        "outputId": "e66ffb25-bbf1-437d-b003-aea4e58f80e3",
        "colab": {
          "base_uri": "https://localhost:8080/",
          "height": 121
        }
      },
      "source": [
        "np.unique(y_train)"
      ],
      "execution_count": 0,
      "outputs": [
        {
          "output_type": "execute_result",
          "data": {
            "text/plain": [
              "array([ 0,  1,  2,  3,  4,  5,  6,  7,  8,  9, 10, 11, 12, 13, 14, 15, 16,\n",
              "       17, 18, 19, 20, 21, 22, 23, 24, 25, 26, 27, 28, 29, 30, 31, 32, 33,\n",
              "       34, 35, 36, 37, 38, 39, 40, 41, 42, 43, 44, 45, 46, 47, 48, 49, 50,\n",
              "       51, 52, 53, 54, 55, 56, 57, 58, 59, 60, 61, 62, 63, 64, 65, 66, 67,\n",
              "       68, 69, 70, 71, 72, 73, 74, 75, 76, 77, 78, 79, 80, 81, 82, 83, 84,\n",
              "       85, 86, 87, 88, 89, 90, 91, 92, 93, 94, 95, 96, 97, 98, 99])"
            ]
          },
          "metadata": {
            "tags": []
          },
          "execution_count": 8
        }
      ]
    },
    {
      "cell_type": "code",
      "metadata": {
        "id": "GpEGazBnIQ_1",
        "colab_type": "code",
        "outputId": "655913a4-1d0b-4224-ebd4-b7590b90b52c",
        "colab": {
          "base_uri": "https://localhost:8080/",
          "height": 269
        }
      },
      "source": [
        "img = x_train[35].reshape(3,32,32).transpose([1, 2, 0])\n",
        "plt.imshow(img, interpolation='nearest');"
      ],
      "execution_count": 0,
      "outputs": [
        {
          "output_type": "display_data",
          "data": {
            "image/png": "[encoded data removed]",
            "text/plain": [
              "<Figure size 432x288 with 1 Axes>"
            ]
          },
          "metadata": {
            "tags": []
          }
        }
      ]
    },
    {
      "cell_type": "code",
      "metadata": {
        "id": "Bvf_OpaqorCU",
        "colab_type": "code",
        "outputId": "b4544003-8d1e-4c00-bc4c-05123de7c674",
        "colab": {
          "base_uri": "https://localhost:8080/",
          "height": 35
        }
      },
      "source": [
        "y_train[40]"
      ],
      "execution_count": 0,
      "outputs": [
        {
          "output_type": "execute_result",
          "data": {
            "text/plain": [
              "array([78])"
            ]
          },
          "metadata": {
            "tags": []
          },
          "execution_count": 10
        }
      ]
    },
    {
      "cell_type": "code",
      "metadata": {
        "id": "GVCCxphoFwwC",
        "colab_type": "code",
        "outputId": "c04ca984-47fb-4df4-d142-152ac3ff3cf4",
        "colab": {
          "base_uri": "https://localhost:8080/",
          "height": 121
        }
      },
      "source": [
        "# Let's see what values are in the label y_train\n",
        "np.unique(y_train)"
      ],
      "execution_count": 0,
      "outputs": [
        {
          "output_type": "execute_result",
          "data": {
            "text/plain": [
              "array([ 0,  1,  2,  3,  4,  5,  6,  7,  8,  9, 10, 11, 12, 13, 14, 15, 16,\n",
              "       17, 18, 19, 20, 21, 22, 23, 24, 25, 26, 27, 28, 29, 30, 31, 32, 33,\n",
              "       34, 35, 36, 37, 38, 39, 40, 41, 42, 43, 44, 45, 46, 47, 48, 49, 50,\n",
              "       51, 52, 53, 54, 55, 56, 57, 58, 59, 60, 61, 62, 63, 64, 65, 66, 67,\n",
              "       68, 69, 70, 71, 72, 73, 74, 75, 76, 77, 78, 79, 80, 81, 82, 83, 84,\n",
              "       85, 86, 87, 88, 89, 90, 91, 92, 93, 94, 95, 96, 97, 98, 99])"
            ]
          },
          "metadata": {
            "tags": []
          },
          "execution_count": 11
        }
      ]
    },
    {
      "cell_type": "code",
      "metadata": {
        "id": "6RSMKdqwN8zm",
        "colab_type": "code",
        "outputId": "6eff7033-af9d-4519-bec7-2172a2a93268",
        "colab": {
          "base_uri": "https://localhost:8080/",
          "height": 52
        }
      },
      "source": [
        "x = np.concatenate((x_train,x_test))\n",
        "y = np.concatenate((y_train,y_test))\n",
        "print('x shape:', x.shape)\n",
        "print('y shape:', y.shape)"
      ],
      "execution_count": 0,
      "outputs": [
        {
          "output_type": "stream",
          "text": [
            "x shape: (60000, 3, 32, 32)\n",
            "y shape: (60000, 1)\n"
          ],
          "name": "stdout"
        }
      ]
    },
    {
      "cell_type": "code",
      "metadata": {
        "id": "V9ajRR1dwuTh",
        "colab_type": "code",
        "outputId": "5049254b-3023-4227-e0b0-89d030040270",
        "colab": {
          "base_uri": "https://localhost:8080/",
          "height": 35
        }
      },
      "source": [
        "df=pd.DataFrame(y)\n",
        "f=df[df[0].isin([22,39,40,86,87,5,20,25,84,94])].index\n",
        "y=y[f]\n",
        "#y_train=y_train[f]\n",
        "#y_train.shape\n",
        "y.shape"
      ],
      "execution_count": 0,
      "outputs": [
        {
          "output_type": "execute_result",
          "data": {
            "text/plain": [
              "(6000, 1)"
            ]
          },
          "metadata": {
            "tags": []
          },
          "execution_count": 13
        }
      ]
    },
    {
      "cell_type": "code",
      "metadata": {
        "id": "CJ9hxkney5hR",
        "colab_type": "code",
        "outputId": "a4b3b661-4a06-4c78-9248-7784918b6e63",
        "colab": {
          "base_uri": "https://localhost:8080/",
          "height": 416
        }
      },
      "source": [
        "x=x[f]\n",
        "x[1]\n"
      ],
      "execution_count": 0,
      "outputs": [
        {
          "output_type": "execute_result",
          "data": {
            "text/plain": [
              "array([[[ 83,  67,  61, ...,   9,  16,  35],\n",
              "        [ 75,  71,  55, ...,  39,   9,  12],\n",
              "        [ 73,  68,  74, ...,  91,  53,  14],\n",
              "        ...,\n",
              "        [159, 150, 191, ..., 152, 173, 122],\n",
              "        [157, 155, 183, ..., 213, 196, 169],\n",
              "        [150, 155, 179, ..., 212, 187, 148]],\n",
              "\n",
              "       [[132, 114, 108, ...,  26,  34,  59],\n",
              "        [124, 119, 103, ...,  67,  28,  31],\n",
              "        [121, 115, 122, ..., 132,  83,  34],\n",
              "        ...,\n",
              "        [187, 146, 154, ..., 131, 143, 123],\n",
              "        [171, 133, 152, ..., 168, 146, 157],\n",
              "        [160, 127, 149, ..., 159, 136, 135]],\n",
              "\n",
              "       [[178, 160, 154, ...,  57,  66,  94],\n",
              "        [173, 167, 152, ..., 107,  65,  66],\n",
              "        [173, 166, 172, ..., 178, 125,  70],\n",
              "        ...,\n",
              "        [223, 159, 143, ..., 136, 158, 150],\n",
              "        [202, 132, 141, ..., 159, 153, 180],\n",
              "        [186, 122, 139, ..., 148, 135, 154]]], dtype=uint8)"
            ]
          },
          "metadata": {
            "tags": []
          },
          "execution_count": 14
        }
      ]
    },
    {
      "cell_type": "code",
      "metadata": {
        "id": "AfXuGkDA4xEw",
        "colab_type": "code",
        "outputId": "75514043-9685-4c9e-e6f1-e4f0ae710a12",
        "colab": {
          "base_uri": "https://localhost:8080/",
          "height": 35
        }
      },
      "source": [
        "x.shape"
      ],
      "execution_count": 0,
      "outputs": [
        {
          "output_type": "execute_result",
          "data": {
            "text/plain": [
              "(6000, 3, 32, 32)"
            ]
          },
          "metadata": {
            "tags": []
          },
          "execution_count": 15
        }
      ]
    },
    {
      "cell_type": "code",
      "metadata": {
        "id": "E3MDlZGW-fGX",
        "colab_type": "code",
        "outputId": "d5a96256-1d00-4098-b5d2-94ab199f73b1",
        "colab": {
          "base_uri": "https://localhost:8080/",
          "height": 269
        }
      },
      "source": [
        "img = x[0].reshape(3,32,32).transpose([1, 2, 0])\n",
        "plt.imshow(img, interpolation='nearest');"
      ],
      "execution_count": 0,
      "outputs": [
        {
          "output_type": "display_data",
          "data": {
            "image/png": "[encoded data removed]",
            "text/plain": [
              "<Figure size 432x288 with 1 Axes>"
            ]
          },
          "metadata": {
            "tags": []
          }
        }
      ]
    },
    {
      "cell_type": "code",
      "metadata": {
        "id": "C-jwCq4MRIvP",
        "colab_type": "code",
        "colab": {}
      },
      "source": [
        "y_class=[[0] if i in [22,39,40,86,87] else [1] for i in y]\n",
        "y_class_name=[\"Electronics\" if i in [22,39,40,86,87] else \"Furniture\" for i in y]"
      ],
      "execution_count": 0,
      "outputs": []
    },
    {
      "cell_type": "code",
      "metadata": {
        "id": "gfvrJl01YSqz",
        "colab_type": "code",
        "outputId": "26d7c583-45ec-43ce-c980-4be63981b638",
        "colab": {
          "base_uri": "https://localhost:8080/",
          "height": 69
        }
      },
      "source": [
        "y_class_1 = pd.DataFrame(y_class, columns=list('x'))\n",
        "y_class_1['x'].value_counts()"
      ],
      "execution_count": 0,
      "outputs": [
        {
          "output_type": "execute_result",
          "data": {
            "text/plain": [
              "1    3000\n",
              "0    3000\n",
              "Name: x, dtype: int64"
            ]
          },
          "metadata": {
            "tags": []
          },
          "execution_count": 18
        }
      ]
    },
    {
      "cell_type": "code",
      "metadata": {
        "id": "FHufFudDORaw",
        "colab_type": "code",
        "colab": {}
      },
      "source": [
        "def cifar_grid(X,Y,inds,n_col):#print out randomly selected images and their labels\n",
        "  N = len(inds)\n",
        "  n_row = int(ceil(1.0*N/n_col))\n",
        "  fig = plt.figure(figsize=(10, 10))\n",
        "  \n",
        "# align labels in the right order, i.e., from 0 to 9\n",
        "  clabels = {22:'clock', 39:'computer keyboard', 40:'lamp', 86:'telephone', 87:'television',5: 'bed',20: 'chair', 25:'couch', 84:'table', 94:'wardrobe'}\n",
        "  print(type(clabels))\n",
        "  for j in range(n_row):\n",
        "    for k in range(n_col):\n",
        "      i_inds = (j*n_col)+k\n",
        "      i_data = inds[i_inds]\n",
        "      \n",
        "      if i_inds < N:\n",
        "        rgb = X[[i_data,...]]\n",
        "        label =clabels[Y[i_data][0]]\n",
        "        img = rgb.reshape(3,32,32).transpose([1, 2, 0])\n",
        "        fig.add_subplot(n_row,n_col, i_inds+1)\n",
        "        plt.imshow(img, interpolation='nearest')\n",
        "        plt.title(\"{}, {}\".format(y_class_name[i_data],label))\n",
        "        \n",
        "         \n",
        "  fig.set_tight_layout(True)"
      ],
      "execution_count": 0,
      "outputs": []
    },
    {
      "cell_type": "code",
      "metadata": {
        "id": "Sfbq6CQ9PcPH",
        "colab_type": "code",
        "outputId": "1b5dc6f8-5564-47ae-e125-d7d599cc2c90",
        "colab": {
          "base_uri": "https://localhost:8080/",
          "height": 752
        }
      },
      "source": [
        "indices = [np.random.choice(range(len(x))) for i in range(16)]\n",
        "print (indices)\n",
        "\n",
        "cifar_grid(x,y,indices,4)"
      ],
      "execution_count": 0,
      "outputs": [
        {
          "output_type": "stream",
          "text": [
            "[146, 3180, 2070, 1970, 2198, 3716, 3366, 1089, 2707, 3835, 3569, 4087, 2164, 1805, 2611, 3627]\n",
            "<class 'dict'>\n"
          ],
          "name": "stdout"
        },
        {
          "output_type": "display_data",
          "data": {
            "image/png": "[encoded data removed]",
            "text/plain": [
              "<Figure size 720x720 with 16 Axes>"
            ]
          },
          "metadata": {
            "tags": []
          }
        }
      ]
    },
    {
      "cell_type": "code",
      "metadata": {
        "id": "dgGMCNVTZ3u5",
        "colab_type": "code",
        "outputId": "93ba1f30-2f24-4454-f964-78daf80b3f9f",
        "colab": {
          "base_uri": "https://localhost:8080/",
          "height": 35
        }
      },
      "source": [
        "y.shape"
      ],
      "execution_count": 0,
      "outputs": [
        {
          "output_type": "execute_result",
          "data": {
            "text/plain": [
              "(6000, 1)"
            ]
          },
          "metadata": {
            "tags": []
          },
          "execution_count": 21
        }
      ]
    },
    {
      "cell_type": "code",
      "metadata": {
        "id": "zEx7j-AIUcAR",
        "colab_type": "code",
        "outputId": "1a44d617-b01d-488e-c323-743e1434ffe0",
        "colab": {
          "base_uri": "https://localhost:8080/",
          "height": 35
        }
      },
      "source": [
        "np.unique(y)"
      ],
      "execution_count": 0,
      "outputs": [
        {
          "output_type": "execute_result",
          "data": {
            "text/plain": [
              "array([ 5, 20, 22, 25, 39, 40, 84, 86, 87, 94])"
            ]
          },
          "metadata": {
            "tags": []
          },
          "execution_count": 22
        }
      ]
    },
    {
      "cell_type": "code",
      "metadata": {
        "id": "zpctvQ4PT9AD",
        "colab_type": "code",
        "outputId": "0e9a5c13-ec2c-4e54-befc-61ceed87bdfd",
        "colab": {
          "base_uri": "https://localhost:8080/",
          "height": 52
        }
      },
      "source": [
        "X_train, X_test, y_train, y_test = train_test_split(x, y, test_size=0.20,random_state=1, stratify=y)\n",
        "print(X_train.shape)\n",
        "print(y_train.shape)"
      ],
      "execution_count": 0,
      "outputs": [
        {
          "output_type": "stream",
          "text": [
            "(4800, 3, 32, 32)\n",
            "(4800, 1)\n"
          ],
          "name": "stdout"
        }
      ]
    },
    {
      "cell_type": "code",
      "metadata": {
        "id": "700pqO8N-vEk",
        "colab_type": "code",
        "colab": {}
      },
      "source": [
        "y_train_class=[[0] if i in [22,39,40,86,87] else [1] for i in y_train]\n",
        "y_test_class=[[0] if i in [22,39,40,86,87] else [1] for i in y_test]"
      ],
      "execution_count": 0,
      "outputs": []
    },
    {
      "cell_type": "code",
      "metadata": {
        "id": "cnDnIIlRZlPi",
        "colab_type": "code",
        "outputId": "b2b85a40-add2-473a-a6e6-0ee08a324e70",
        "colab": {
          "base_uri": "https://localhost:8080/",
          "height": 69
        }
      },
      "source": [
        "y_test_class_1 = pd.DataFrame(y_test_class, columns=list('x'))\n",
        "y_test_class_1['x'].value_counts()"
      ],
      "execution_count": 0,
      "outputs": [
        {
          "output_type": "execute_result",
          "data": {
            "text/plain": [
              "1    600\n",
              "0    600\n",
              "Name: x, dtype: int64"
            ]
          },
          "metadata": {
            "tags": []
          },
          "execution_count": 25
        }
      ]
    },
    {
      "cell_type": "code",
      "metadata": {
        "id": "As3Jd8FxUxZd",
        "colab_type": "code",
        "outputId": "0a30dde2-38f1-49dc-da7f-55d9d0f7e6fa",
        "colab": {
          "base_uri": "https://localhost:8080/",
          "height": 52
        }
      },
      "source": [
        "print(X_test.shape)\n",
        "print(y_test.shape)"
      ],
      "execution_count": 0,
      "outputs": [
        {
          "output_type": "stream",
          "text": [
            "(1200, 3, 32, 32)\n",
            "(1200, 1)\n"
          ],
          "name": "stdout"
        }
      ]
    },
    {
      "cell_type": "code",
      "metadata": {
        "id": "wJ7eOKVjVjt2",
        "colab_type": "code",
        "colab": {}
      },
      "source": [
        "# Convert class vectors to binary class matrices.\n",
        "y_train_c = to_categorical(y_train_class, 2)\n",
        "y_test_c = to_categorical(y_test_class, 2)\n",
        "#Normalize data\n",
        "X_train = X_train.astype('float32')\n",
        "X_test = X_test.astype('float32')\n",
        "X_train /= 255.0\n",
        "X_test /= 255.0"
      ],
      "execution_count": 0,
      "outputs": []
    },
    {
      "cell_type": "code",
      "metadata": {
        "id": "7Zk_x_LZx_01",
        "colab_type": "code",
        "outputId": "96f4a6a7-23e6-46dd-f953-920c28a3a801",
        "colab": {
          "base_uri": "https://localhost:8080/",
          "height": 35
        }
      },
      "source": [
        "y_test_c.shape[1]"
      ],
      "execution_count": 0,
      "outputs": [
        {
          "output_type": "execute_result",
          "data": {
            "text/plain": [
              "2"
            ]
          },
          "metadata": {
            "tags": []
          },
          "execution_count": 28
        }
      ]
    },
    {
      "cell_type": "code",
      "metadata": {
        "id": "pMd9qv1U_VHV",
        "colab_type": "code",
        "outputId": "1acc87a9-322d-455f-8a7b-efda51a146b9",
        "colab": {
          "base_uri": "https://localhost:8080/",
          "height": 139
        }
      },
      "source": [
        "y_train_c"
      ],
      "execution_count": 0,
      "outputs": [
        {
          "output_type": "execute_result",
          "data": {
            "text/plain": [
              "array([[1., 0.],\n",
              "       [0., 1.],\n",
              "       [0., 1.],\n",
              "       ...,\n",
              "       [1., 0.],\n",
              "       [1., 0.],\n",
              "       [0., 1.]], dtype=float32)"
            ]
          },
          "metadata": {
            "tags": []
          },
          "execution_count": 29
        }
      ]
    },
    {
      "cell_type": "code",
      "metadata": {
        "id": "0VmX1rfW_bCk",
        "colab_type": "code",
        "outputId": "7e75c1a7-79b0-4bd3-bacf-bd6d9b50ab88",
        "colab": {
          "base_uri": "https://localhost:8080/",
          "height": 35
        }
      },
      "source": [
        "y_train_c.shape"
      ],
      "execution_count": 0,
      "outputs": [
        {
          "output_type": "execute_result",
          "data": {
            "text/plain": [
              "(4800, 2)"
            ]
          },
          "metadata": {
            "tags": []
          },
          "execution_count": 30
        }
      ]
    },
    {
      "cell_type": "code",
      "metadata": {
        "id": "179PhFov_q8s",
        "colab_type": "code",
        "outputId": "e3e38312-1e7d-4fef-de37-2e81ccaa5534",
        "colab": {
          "base_uri": "https://localhost:8080/",
          "height": 35
        }
      },
      "source": [
        "X_train.shape"
      ],
      "execution_count": 0,
      "outputs": [
        {
          "output_type": "execute_result",
          "data": {
            "text/plain": [
              "(4800, 3, 32, 32)"
            ]
          },
          "metadata": {
            "tags": []
          },
          "execution_count": 31
        }
      ]
    },
    {
      "cell_type": "code",
      "metadata": {
        "id": "M54FpGGx_uCB",
        "colab_type": "code",
        "outputId": "dce29103-dd2c-4d01-c064-3e0c7609e270",
        "colab": {
          "base_uri": "https://localhost:8080/",
          "height": 35
        }
      },
      "source": [
        "y_train.shape"
      ],
      "execution_count": 0,
      "outputs": [
        {
          "output_type": "execute_result",
          "data": {
            "text/plain": [
              "(4800, 1)"
            ]
          },
          "metadata": {
            "tags": []
          },
          "execution_count": 32
        }
      ]
    },
    {
      "cell_type": "code",
      "metadata": {
        "id": "ulU2Jcxd2eK-",
        "colab_type": "code",
        "colab": {}
      },
      "source": [
        "X_train_1 = X_train.reshape(X_train.shape[0],3*32*32)\n",
        "X_test_1 = X_test.reshape(X_test.shape[0],3*32*32)"
      ],
      "execution_count": 0,
      "outputs": []
    },
    {
      "cell_type": "markdown",
      "metadata": {
        "id": "NFYLPVLp_D4-",
        "colab_type": "text"
      },
      "source": [
        "**Random Forest**"
      ]
    },
    {
      "cell_type": "code",
      "metadata": {
        "id": "b4rQVDaUVMZw",
        "colab_type": "code",
        "outputId": "24742845-eb4f-4d40-844e-b086a9ebec0e",
        "colab": {
          "base_uri": "https://localhost:8080/",
          "height": 235
        }
      },
      "source": [
        "#Let's see how good is RandomForest \n",
        "from datetime import datetime\n",
        "from sklearn.ensemble import RandomForestClassifier\n",
        "logit = RandomForestClassifier(random_state=25)\n",
        "X_train_1 = X_train.reshape(X_train.shape[0],3*32*32)\n",
        "X_test_1 = X_test.reshape(X_test.shape[0],3*32*32)\n",
        "logit.fit(X_train_1, y_train_class)\n",
        "print (\"RandomForest Accuracy: {}%\".format(logit.score(X_test_1, y_test_class)*100))"
      ],
      "execution_count": 0,
      "outputs": [
        {
          "output_type": "error",
          "ename": "NameError",
          "evalue": "ignored",
          "traceback": [
            "\u001b[0;31m---------------------------------------------------------------------------\u001b[0m",
            "\u001b[0;31mNameError\u001b[0m                                 Traceback (most recent call last)",
            "\u001b[0;32m<ipython-input-2-ca7a5c2400cf>\u001b[0m in \u001b[0;36m<module>\u001b[0;34m()\u001b[0m\n\u001b[1;32m      2\u001b[0m \u001b[0;32mfrom\u001b[0m \u001b[0msklearn\u001b[0m\u001b[0;34m.\u001b[0m\u001b[0mensemble\u001b[0m \u001b[0;32mimport\u001b[0m \u001b[0mRandomForestClassifier\u001b[0m\u001b[0;34m\u001b[0m\u001b[0;34m\u001b[0m\u001b[0m\n\u001b[1;32m      3\u001b[0m \u001b[0mlogit\u001b[0m \u001b[0;34m=\u001b[0m \u001b[0mRandomForestClassifier\u001b[0m\u001b[0;34m(\u001b[0m\u001b[0mrandom_state\u001b[0m\u001b[0;34m=\u001b[0m\u001b[0;36m25\u001b[0m\u001b[0;34m)\u001b[0m\u001b[0;34m\u001b[0m\u001b[0;34m\u001b[0m\u001b[0m\n\u001b[0;32m----> 4\u001b[0;31m \u001b[0mX_train_1\u001b[0m \u001b[0;34m=\u001b[0m \u001b[0mX_train\u001b[0m\u001b[0;34m.\u001b[0m\u001b[0mreshape\u001b[0m\u001b[0;34m(\u001b[0m\u001b[0mX_train\u001b[0m\u001b[0;34m.\u001b[0m\u001b[0mshape\u001b[0m\u001b[0;34m[\u001b[0m\u001b[0;36m0\u001b[0m\u001b[0;34m]\u001b[0m\u001b[0;34m,\u001b[0m\u001b[0;36m3\u001b[0m\u001b[0;34m*\u001b[0m\u001b[0;36m32\u001b[0m\u001b[0;34m*\u001b[0m\u001b[0;36m32\u001b[0m\u001b[0;34m)\u001b[0m\u001b[0;34m\u001b[0m\u001b[0;34m\u001b[0m\u001b[0m\n\u001b[0m\u001b[1;32m      5\u001b[0m \u001b[0mX_test_1\u001b[0m \u001b[0;34m=\u001b[0m \u001b[0mX_test\u001b[0m\u001b[0;34m.\u001b[0m\u001b[0mreshape\u001b[0m\u001b[0;34m(\u001b[0m\u001b[0mX_test\u001b[0m\u001b[0;34m.\u001b[0m\u001b[0mshape\u001b[0m\u001b[0;34m[\u001b[0m\u001b[0;36m0\u001b[0m\u001b[0;34m]\u001b[0m\u001b[0;34m,\u001b[0m\u001b[0;36m3\u001b[0m\u001b[0;34m*\u001b[0m\u001b[0;36m32\u001b[0m\u001b[0;34m*\u001b[0m\u001b[0;36m32\u001b[0m\u001b[0;34m)\u001b[0m\u001b[0;34m\u001b[0m\u001b[0;34m\u001b[0m\u001b[0m\n\u001b[1;32m      6\u001b[0m \u001b[0mlogit\u001b[0m\u001b[0;34m.\u001b[0m\u001b[0mfit\u001b[0m\u001b[0;34m(\u001b[0m\u001b[0mX_train_1\u001b[0m\u001b[0;34m,\u001b[0m \u001b[0my_train_class\u001b[0m\u001b[0;34m)\u001b[0m\u001b[0;34m\u001b[0m\u001b[0;34m\u001b[0m\u001b[0m\n",
            "\u001b[0;31mNameError\u001b[0m: name 'X_train' is not defined"
          ]
        }
      ]
    },
    {
      "cell_type": "code",
      "metadata": {
        "id": "5ndFrD47AdFk",
        "colab_type": "code",
        "outputId": "9b3ee382-7c27-4d97-9a07-5e8a6b5b3e84",
        "colab": {
          "base_uri": "https://localhost:8080/",
          "height": 52
        }
      },
      "source": [
        "#Let's see how good is RandomForest \n",
        "from sklearn.neighbors import KNeighborsClassifier\n",
        "\n",
        "logit = KNeighborsClassifier()\n",
        "X_train_1 = X_train.reshape(X_train.shape[0],3*32*32)\n",
        "X_test_1 = X_test.reshape(X_test.shape[0],3*32*32)\n",
        "t1 = datetime.now()\n",
        "logit.fit(X_train_1, y_train_class)\n",
        "print(\"time taken =\", datetime.now()-t1)\n",
        "print (\" KNeighborsClassifier Accuracy: {}%\".format(logit.score(X_test_1, y_test_class)*100))"
      ],
      "execution_count": 0,
      "outputs": [
        {
          "output_type": "stream",
          "text": [
            "time taken = 0:00:01.411477\n",
            " KNeighborsClassifier Accuracy: 69.83333333333334%\n"
          ],
          "name": "stdout"
        }
      ]
    },
    {
      "cell_type": "code",
      "metadata": {
        "id": "CI-fRJMSBJVh",
        "colab_type": "code",
        "outputId": "01746dbd-d92a-4096-ce6f-b4605aa7d049",
        "colab": {
          "base_uri": "https://localhost:8080/",
          "height": 235
        }
      },
      "source": [
        "#Let's review how MLPClassifier got trained and do prediction\n",
        "from sklearn.neural_network import MLPClassifier\n",
        "mlp = MLPClassifier(hidden_layer_sizes=(1000), activation='relu')\n",
        "t1 = datetime.now()\n",
        "mlp.fit(X_train_1, y_train_class)\n",
        "print(\"time taken =\", datetime.now()-t1)\n",
        "score =mlp.score(X_test_1, y_test_class)\n",
        "print('MLP NN score: %.2f%%' %(score*100))"
      ],
      "execution_count": 0,
      "outputs": [
        {
          "output_type": "error",
          "ename": "NameError",
          "evalue": "ignored",
          "traceback": [
            "\u001b[0;31m---------------------------------------------------------------------------\u001b[0m",
            "\u001b[0;31mNameError\u001b[0m                                 Traceback (most recent call last)",
            "\u001b[0;32m<ipython-input-1-75bb410db7bc>\u001b[0m in \u001b[0;36m<module>\u001b[0;34m()\u001b[0m\n\u001b[1;32m      1\u001b[0m \u001b[0;32mfrom\u001b[0m \u001b[0msklearn\u001b[0m\u001b[0;34m.\u001b[0m\u001b[0mneural_network\u001b[0m \u001b[0;32mimport\u001b[0m \u001b[0mMLPClassifier\u001b[0m\u001b[0;34m\u001b[0m\u001b[0;34m\u001b[0m\u001b[0m\n\u001b[1;32m      2\u001b[0m \u001b[0mmlp\u001b[0m \u001b[0;34m=\u001b[0m \u001b[0mMLPClassifier\u001b[0m\u001b[0;34m(\u001b[0m\u001b[0mhidden_layer_sizes\u001b[0m\u001b[0;34m=\u001b[0m\u001b[0;34m(\u001b[0m\u001b[0;36m1000\u001b[0m\u001b[0;34m)\u001b[0m\u001b[0;34m,\u001b[0m \u001b[0mactivation\u001b[0m\u001b[0;34m=\u001b[0m\u001b[0;34m'softmax'\u001b[0m\u001b[0;34m)\u001b[0m\u001b[0;34m\u001b[0m\u001b[0;34m\u001b[0m\u001b[0m\n\u001b[0;32m----> 3\u001b[0;31m \u001b[0mt1\u001b[0m \u001b[0;34m=\u001b[0m \u001b[0mdatetime\u001b[0m\u001b[0;34m.\u001b[0m\u001b[0mnow\u001b[0m\u001b[0;34m(\u001b[0m\u001b[0;34m)\u001b[0m\u001b[0;34m\u001b[0m\u001b[0;34m\u001b[0m\u001b[0m\n\u001b[0m\u001b[1;32m      4\u001b[0m \u001b[0mmlp\u001b[0m\u001b[0;34m.\u001b[0m\u001b[0mfit\u001b[0m\u001b[0;34m(\u001b[0m\u001b[0mX_train_1\u001b[0m\u001b[0;34m,\u001b[0m \u001b[0my_train_class\u001b[0m\u001b[0;34m)\u001b[0m\u001b[0;34m\u001b[0m\u001b[0;34m\u001b[0m\u001b[0m\n\u001b[1;32m      5\u001b[0m \u001b[0mprint\u001b[0m\u001b[0;34m(\u001b[0m\u001b[0;34m\"time taken =\"\u001b[0m\u001b[0;34m,\u001b[0m \u001b[0mdatetime\u001b[0m\u001b[0;34m.\u001b[0m\u001b[0mnow\u001b[0m\u001b[0;34m(\u001b[0m\u001b[0;34m)\u001b[0m\u001b[0;34m-\u001b[0m\u001b[0mt1\u001b[0m\u001b[0;34m)\u001b[0m\u001b[0;34m\u001b[0m\u001b[0;34m\u001b[0m\u001b[0m\n",
            "\u001b[0;31mNameError\u001b[0m: name 'datetime' is not defined"
          ]
        }
      ]
    },
    {
      "cell_type": "markdown",
      "metadata": {
        "id": "nXLsJKoGtvt9",
        "colab_type": "text"
      },
      "source": [
        "## SVM  with GridSearchCV"
      ]
    },
    {
      "cell_type": "code",
      "metadata": {
        "id": "CzoL9KiaMvT1",
        "colab_type": "code",
        "colab": {}
      },
      "source": [
        "from datetime import datetime\n",
        "from sklearn import svm"
      ],
      "execution_count": 0,
      "outputs": []
    },
    {
      "cell_type": "code",
      "metadata": {
        "id": "X55ZVhADtvIX",
        "colab_type": "code",
        "outputId": "83dc571a-3093-4eba-865b-1b9ad2a4bc29",
        "colab": {
          "base_uri": "https://localhost:8080/",
          "height": 35
        }
      },
      "source": [
        "\n",
        "from sklearn.model_selection import GridSearchCV\n",
        "t1 = datetime.now()\n",
        "param_grid = [\n",
        " {'C': [1, 10], 'kernel': ['linear']},\n",
        " {'C': [1, 10], 'gamma': [0.01, 0.001], 'kernel': ['rbf']},\n",
        " {'C': [1, 10],'degree':[2,3], 'kernel': ['poly']}\n",
        "]\n",
        "svc = svm.SVC()\n",
        "clf = GridSearchCV(svc, param_grid)\n",
        "clf.fit(X_train_1, y_train_class)\n",
        "print(\"time taken =\", datetime.now()-t1)"
      ],
      "execution_count": 0,
      "outputs": [
        {
          "output_type": "stream",
          "text": [
            "time taken = 1:00:55.444201\n"
          ],
          "name": "stdout"
        }
      ]
    },
    {
      "cell_type": "code",
      "metadata": {
        "id": "xV_P88iYKxqy",
        "colab_type": "code",
        "outputId": "2aac6e35-fae5-4f32-d216-34c8d80f4cfb",
        "colab": {
          "base_uri": "https://localhost:8080/",
          "height": 35
        }
      },
      "source": [
        "clf.score(X_test_1, y_test_class)"
      ],
      "execution_count": 0,
      "outputs": [
        {
          "output_type": "execute_result",
          "data": {
            "text/plain": [
              "0.7958333333333333"
            ]
          },
          "metadata": {
            "tags": []
          },
          "execution_count": 81
        }
      ]
    },
    {
      "cell_type": "code",
      "metadata": {
        "id": "l5x6tZLb74NM",
        "colab_type": "code",
        "outputId": "80081778-b30f-4ce7-8101-c3be85a9d9be",
        "colab": {
          "base_uri": "https://localhost:8080/",
          "height": 52
        }
      },
      "source": [
        "# Train a new classifier using the best parameters found by the grid search\n",
        "t1 = datetime.now()\n",
        "model1 = svm.SVC(C=1, kernel='rbf', gamma=0.01)\n",
        "model1.fit(X_train_1, y_train_class)\n",
        "print(\"time taken =\", datetime.now()-t1)\n",
        "score = model1.score(X_test_1, y_test_class)\n",
        "print(score)"
      ],
      "execution_count": 0,
      "outputs": [
        {
          "output_type": "stream",
          "text": [
            "time taken = 0:01:19.767309\n",
            "0.77\n"
          ],
          "name": "stdout"
        }
      ]
    },
    {
      "cell_type": "code",
      "metadata": {
        "id": "J6MrUU6fqKVo",
        "colab_type": "code",
        "outputId": "6097aa81-bdaf-480b-9905-2f23bedaa9fb",
        "colab": {
          "base_uri": "https://localhost:8080/",
          "height": 69
        }
      },
      "source": [
        "# View the best parameters for the model found using grid search\n",
        "print('Best C:',clf.best_estimator_.C) \n",
        "print('Best Kernel:',clf.best_estimator_.kernel)\n",
        "print('Best Gamma:',clf.best_estimator_.gamma)\n",
        "# print('Best Degree:',clf.best_estimator_.degree)"
      ],
      "execution_count": 0,
      "outputs": [
        {
          "output_type": "stream",
          "text": [
            "Best C: 1\n",
            "Best Kernel: rbf\n",
            "Best Gamma: 0.01\n"
          ],
          "name": "stdout"
        }
      ]
    },
    {
      "cell_type": "code",
      "metadata": {
        "id": "4qty9TUqy0hH",
        "colab_type": "code",
        "colab": {}
      },
      "source": [
        "y_pred = clf.predict(X_test_1)"
      ],
      "execution_count": 0,
      "outputs": []
    },
    {
      "cell_type": "code",
      "metadata": {
        "id": "oD2yX9qp1nGo",
        "colab_type": "code",
        "outputId": "62619dcf-37da-4283-8ee7-7b3acf535343",
        "colab": {
          "base_uri": "https://localhost:8080/",
          "height": 104
        }
      },
      "source": [
        "y_test[:5]"
      ],
      "execution_count": 0,
      "outputs": [
        {
          "output_type": "execute_result",
          "data": {
            "text/plain": [
              "array([[84],\n",
              "       [84],\n",
              "       [94],\n",
              "       [40],\n",
              "       [87]])"
            ]
          },
          "metadata": {
            "tags": []
          },
          "execution_count": 84
        }
      ]
    },
    {
      "cell_type": "code",
      "metadata": {
        "id": "vpXxRNxEuKpk",
        "colab_type": "code",
        "outputId": "2293fb0c-0c34-42b9-80a6-f9637f190d04",
        "colab": {
          "base_uri": "https://localhost:8080/",
          "height": 69
        }
      },
      "source": [
        "from sklearn.metrics import confusion_matrix\n",
        "import pandas as pd\n",
        "\n",
        "confusion_df = pd.DataFrame(confusion_matrix(y_test_class,y_pred),\n",
        "             columns=[\"Predicted Class \" + str(class_name) for class_name in ['Electronics','Furniture']],\n",
        "             index = [\"Class \" + str(class_name) for class_name in ['Electronics','Furniture']])\n",
        "\n",
        "print(confusion_df)"
      ],
      "execution_count": 0,
      "outputs": [
        {
          "output_type": "stream",
          "text": [
            "                   Predicted Class Electronics  Predicted Class Furniture\n",
            "Class Electronics                          481                        121\n",
            "Class Furniture                            124                        474\n"
          ],
          "name": "stdout"
        }
      ]
    },
    {
      "cell_type": "markdown",
      "metadata": {
        "id": "KXQexbUQvqE2",
        "colab_type": "text"
      },
      "source": [
        "## Simple neural network"
      ]
    },
    {
      "cell_type": "code",
      "metadata": {
        "id": "qOpTMjusv3Mz",
        "colab_type": "code",
        "colab": {}
      },
      "source": [
        "model_nn = Sequential()\n",
        "\n",
        "#inputing layers\n",
        "model_nn.add(Dense(1000, activation=\"relu\",input_shape=(3072,)))  # The input_shape is 1024 so that each pixel from the image is represented (32x32x3)\n",
        "# model_nn.add(Dense(1000, activation=\"relu\"))\n",
        "model_nn.add(Dense(2, activation='softmax'))"
      ],
      "execution_count": 0,
      "outputs": []
    },
    {
      "cell_type": "code",
      "metadata": {
        "id": "i9nFU3a1NOKt",
        "colab_type": "code",
        "outputId": "acafa2d2-3d86-4d95-99b2-70c4c8ca0734",
        "colab": {
          "base_uri": "https://localhost:8080/",
          "height": 208
        }
      },
      "source": [
        "model_nn.summary()"
      ],
      "execution_count": 0,
      "outputs": [
        {
          "output_type": "stream",
          "text": [
            "_________________________________________________________________\n",
            "Layer (type)                 Output Shape              Param #   \n",
            "=================================================================\n",
            "dense_21 (Dense)             (None, 1000)              3073000   \n",
            "_________________________________________________________________\n",
            "dense_22 (Dense)             (None, 2)                 2002      \n",
            "=================================================================\n",
            "Total params: 3,075,002\n",
            "Trainable params: 3,075,002\n",
            "Non-trainable params: 0\n",
            "_________________________________________________________________\n"
          ],
          "name": "stdout"
        }
      ]
    },
    {
      "cell_type": "code",
      "metadata": {
        "id": "8Zz1MMGJv2_-",
        "colab_type": "code",
        "colab": {}
      },
      "source": [
        "#compiling the model, using the adam optimizer\n",
        "model_nn.compile(optimizer='adam', loss='categorical_crossentropy', metrics=['accuracy'])"
      ],
      "execution_count": 0,
      "outputs": []
    },
    {
      "cell_type": "code",
      "metadata": {
        "id": "_Sg5x2uAv2zt",
        "colab_type": "code",
        "outputId": "10b252ad-5c4f-4699-f6af-4f9560ef89ae",
        "colab": {
          "base_uri": "https://localhost:8080/",
          "height": 312
        }
      },
      "source": [
        "early_stop=EarlyStopping(patience=2)\n",
        "\n",
        "hist= model_nn.fit(X_train_1, y_train_c,validation_split=0.3, epochs=20, callbacks=[early_stop])"
      ],
      "execution_count": 0,
      "outputs": [
        {
          "output_type": "stream",
          "text": [
            "Train on 3360 samples, validate on 1440 samples\n",
            "Epoch 1/20\n",
            "3360/3360 [==============================] - 6s 2ms/step - loss: 6.3526 - acc: 0.5354 - val_loss: 3.6201 - val_acc: 0.5549\n",
            "Epoch 2/20\n",
            "3360/3360 [==============================] - 6s 2ms/step - loss: 1.4818 - acc: 0.6310 - val_loss: 0.7774 - val_acc: 0.6674\n",
            "Epoch 3/20\n",
            "3360/3360 [==============================] - 6s 2ms/step - loss: 0.7632 - acc: 0.6437 - val_loss: 0.7702 - val_acc: 0.6347\n",
            "Epoch 4/20\n",
            "3360/3360 [==============================] - 6s 2ms/step - loss: 0.8157 - acc: 0.6533 - val_loss: 0.7595 - val_acc: 0.6354\n",
            "Epoch 5/20\n",
            "3360/3360 [==============================] - 6s 2ms/step - loss: 0.7239 - acc: 0.6661 - val_loss: 0.6404 - val_acc: 0.6757\n",
            "Epoch 6/20\n",
            "3360/3360 [==============================] - 6s 2ms/step - loss: 0.6739 - acc: 0.6696 - val_loss: 0.6174 - val_acc: 0.6924\n",
            "Epoch 7/20\n",
            "3360/3360 [==============================] - 6s 2ms/step - loss: 0.6376 - acc: 0.6973 - val_loss: 0.8290 - val_acc: 0.6083\n",
            "Epoch 8/20\n",
            "3360/3360 [==============================] - 6s 2ms/step - loss: 0.6070 - acc: 0.7033 - val_loss: 0.6373 - val_acc: 0.6785\n"
          ],
          "name": "stdout"
        }
      ]
    },
    {
      "cell_type": "code",
      "metadata": {
        "id": "BGLego02xju-",
        "colab_type": "code",
        "outputId": "2287328a-0869-4cf5-ae19-bca0527c2fdc",
        "colab": {
          "base_uri": "https://localhost:8080/",
          "height": 35
        }
      },
      "source": [
        "scores = model_nn.evaluate(X_test_1, y_test_c, verbose=0)\n",
        "print(\"NN score: %.2f%%\" % (scores[1]*100))"
      ],
      "execution_count": 0,
      "outputs": [
        {
          "output_type": "stream",
          "text": [
            "NN score: 69.50%\n"
          ],
          "name": "stdout"
        }
      ]
    },
    {
      "cell_type": "markdown",
      "metadata": {
        "id": "dYfqKz3_GDVM",
        "colab_type": "text"
      },
      "source": [
        "## CNN "
      ]
    },
    {
      "cell_type": "code",
      "metadata": {
        "id": "wxJE3IMdHyTr",
        "colab_type": "code",
        "colab": {}
      },
      "source": [
        "model_cnn1 = Sequential()\n",
        "\n",
        "model_cnn1.add(Conv2D(32, 3, 3, border_mode='same', input_shape=X_train.shape[1:], activation='relu', ))\n",
        "\n",
        "model_cnn1.add(MaxPooling2D(pool_size=(2, 2)))\n",
        "#model.add(Dropout(0.5))\n",
        "\n",
        "\n",
        "\n",
        "model_cnn1.add(Conv2D(128, 3, 3, border_mode='same', activation='relu'))\n",
        "\n",
        "model_cnn1.add(MaxPooling2D(pool_size=(2, 2)))\n",
        "model_cnn1.add(Dropout(0.5))\n",
        "\n",
        "\n",
        "\n",
        "#model.add(Conv2D(128, 3, 3, border_mode='same', activation='relu'))\n",
        "\n",
        "#model.add(MaxPooling2D(pool_size=(2, 2)))\n",
        "\n",
        "\n",
        "model_cnn1.add(Flatten())\n",
        "model_cnn1.add(Dense(256, activation='relu'))\n",
        "model_cnn1.add(Dropout(0.5))\n",
        "\n",
        "\n",
        "\n",
        "model_cnn1.add(Dense(2, activation='softmax'))\n",
        "\n",
        "opt = Adam(lr=0.0004, decay=1e-6)\n",
        "   \n",
        "model_cnn1.compile(loss='categorical_crossentropy',\n",
        "           optimizer=opt,\n",
        "           metrics=['accuracy'])"
      ],
      "execution_count": 0,
      "outputs": []
    },
    {
      "cell_type": "code",
      "metadata": {
        "id": "BLBjHpomJh3R",
        "colab_type": "code",
        "outputId": "98aa5efe-8086-4fc4-c17e-c7eb5c5d6ba0",
        "colab": {
          "base_uri": "https://localhost:8080/",
          "height": 35
        }
      },
      "source": [
        "print('Using real-time data augmentation.')\n",
        "datagen = ImageDataGenerator(\n",
        "featurewise_center=False, \n",
        "samplewise_center=False,  \n",
        "featurewise_std_normalization=False,\n",
        "samplewise_std_normalization=False, \n",
        "zca_whitening=False, \n",
        "rotation_range=0, \n",
        "width_shift_range=0, \n",
        "height_shift_range=0,\n",
        "horizontal_flip=True, \n",
        "vertical_flip=False) \n",
        "\n",
        "datagen.fit(X_train)"
      ],
      "execution_count": 0,
      "outputs": [
        {
          "output_type": "stream",
          "text": [
            "Using real-time data augmentation.\n"
          ],
          "name": "stdout"
        }
      ]
    },
    {
      "cell_type": "code",
      "metadata": {
        "id": "VaKm7N2jKwHq",
        "colab_type": "code",
        "outputId": "694f3337-7cae-4df0-b6cd-f50fe3e25b76",
        "colab": {
          "base_uri": "https://localhost:8080/",
          "height": 156
        }
      },
      "source": [
        "epochs = 10\n",
        "batch_size=32\n",
        "early_stop=EarlyStopping(patience=2)\n",
        "hist = model_cnn1.fit_generator(datagen.flow(X_train, y_train_c,batch_size=batch_size,shuffle=True),\n",
        "  steps_per_epoch=x_train.shape[0] // batch_size,\n",
        "  epochs=epochs,\n",
        "  validation_data=(X_test, y_test_c),\n",
        "  workers=4, \n",
        "  callbacks=[early_stop])"
      ],
      "execution_count": 0,
      "outputs": [
        {
          "output_type": "stream",
          "text": [
            "Epoch 1/10\n",
            "1562/1562 [==============================] - 227s 145ms/step - loss: 0.4480 - acc: 0.7867 - val_loss: 0.4170 - val_acc: 0.8033\n",
            "Epoch 2/10\n",
            "1562/1562 [==============================] - 228s 146ms/step - loss: 0.2933 - acc: 0.8728 - val_loss: 0.4022 - val_acc: 0.8250\n",
            "Epoch 3/10\n",
            "1562/1562 [==============================] - 224s 144ms/step - loss: 0.2069 - acc: 0.9138 - val_loss: 0.4034 - val_acc: 0.8325\n",
            "Epoch 4/10\n",
            "1562/1562 [==============================] - 218s 140ms/step - loss: 0.1426 - acc: 0.9444 - val_loss: 0.4445 - val_acc: 0.8333\n"
          ],
          "name": "stdout"
        }
      ]
    },
    {
      "cell_type": "code",
      "metadata": {
        "id": "yN2ZiVgAJhtK",
        "colab_type": "code",
        "outputId": "dffb3e40-8555-4550-9c0c-b341443ff0e3",
        "colab": {
          "base_uri": "https://localhost:8080/",
          "height": 35
        }
      },
      "source": [
        "scores = model_cnn1.evaluate(X_test, y_test_c, verbose=0)\n",
        "print(\"CNN score: %.2f%%\" % (scores[1]*100))"
      ],
      "execution_count": 0,
      "outputs": [
        {
          "output_type": "stream",
          "text": [
            "CNN score: 83.33%\n"
          ],
          "name": "stdout"
        }
      ]
    },
    {
      "cell_type": "code",
      "metadata": {
        "id": "5rnhdqIwJhq0",
        "colab_type": "code",
        "colab": {}
      },
      "source": [
        "def plot_model_history(model_history):\n",
        "   fig, axs = plt.subplots(1,2,figsize=(15,5))\n",
        "   # summarize history for accuracy\n",
        "   axs[0].plot(range(1,len(model_history.history['acc'])+1),model_history.history['acc'])\n",
        "   axs[0].plot(range(1,len(model_history.history['val_acc'])+1),model_history.history['val_acc'])\n",
        "   axs[0].set_title('Model Accuracy')\n",
        "   axs[0].set_ylabel('Accuracy')\n",
        "   axs[0].set_xlabel('Epoch')\n",
        "   axs[0].set_xticks(np.arange(1,len(model_history.history['acc'])+1),len(model_history.history['acc'])/10)\n",
        "   axs[0].legend(['train', 'test'], loc='best')\n",
        "   # summarize history for loss\n",
        "   axs[1].plot(range(1,len(model_history.history['loss'])+1),model_history.history['loss'])\n",
        "   axs[1].plot(range(1,len(model_history.history['val_loss'])+1),model_history.history['val_loss'])\n",
        "   axs[1].set_title('Model Loss')\n",
        "   axs[1].set_ylabel('Loss')\n",
        "   axs[1].set_xlabel('Epoch')\n",
        "   axs[1].set_xticks(np.arange(1,len(model_history.history['loss'])+1),len(model_history.history['loss'])/10)\n",
        "   axs[1].legend(['train', 'test'], loc='best')\n",
        "   plt.show()\n",
        "  "
      ],
      "execution_count": 0,
      "outputs": []
    },
    {
      "cell_type": "code",
      "metadata": {
        "id": "G9fULUiRJhnh",
        "colab_type": "code",
        "outputId": "bab831cb-ba88-4763-c74d-ca9b9cb530e0",
        "colab": {
          "base_uri": "https://localhost:8080/",
          "height": 351
        }
      },
      "source": [
        "plot_model_history(hist)"
      ],
      "execution_count": 0,
      "outputs": [
        {
          "output_type": "display_data",
          "data": {
            "image/png": "[encoded data removed]",
            "text/plain": [
              "<Figure size 1080x360 with 2 Axes>"
            ]
          },
          "metadata": {
            "tags": []
          }
        }
      ]
    },
    {
      "cell_type": "code",
      "metadata": {
        "id": "9ymXAOJ0Jhif",
        "colab_type": "code",
        "colab": {}
      },
      "source": [
        ""
      ],
      "execution_count": 0,
      "outputs": []
    },
    {
      "cell_type": "markdown",
      "metadata": {
        "id": "CiOBttF6Jio6",
        "colab_type": "text"
      },
      "source": [
        "## CNN 2"
      ]
    },
    {
      "cell_type": "code",
      "metadata": {
        "id": "vvTk9BieDsHw",
        "colab_type": "code",
        "colab": {}
      },
      "source": [
        "model_cnn2 = Sequential()\n",
        "\n",
        "model_cnn2.add(Conv2D(16, kernel_size=(3, 3), activation='relu', input_shape=X_train.shape[1:]))\n",
        "model_cnn2.add(MaxPooling2D(pool_size=(2, 2)))\n",
        "\n",
        "model_cnn2.add(Conv2D(16, kernel_size=(3, 3), activation='relu'))\n",
        "model_cnn2.add(MaxPooling2D(pool_size=(2, 2)))\n",
        "\n",
        "model_cnn2.add(Conv2D(32, kernel_size=(3, 3), activation='relu'))\n",
        "model_cnn2.add(MaxPooling2D(pool_size=(2, 2)))\n",
        "\n",
        "model_cnn2.add(Flatten())\n",
        "model_cnn2.add(Dense(64, activation='relu'))\n",
        "model_cnn2.add(Dropout(0.5))\n",
        "model_cnn2.add(Dense(2, activation='sigmoid'))\n",
        "\n",
        "\n",
        "opt = Adam(lr=0.0001, decay=1e-6)\n",
        "\n",
        "model_cnn2.compile(loss='categorical_crossentropy',\n",
        "             optimizer=opt,\n",
        "             metrics=['accuracy'])"
      ],
      "execution_count": 0,
      "outputs": []
    },
    {
      "cell_type": "code",
      "metadata": {
        "id": "fc2fmDE_DuyQ",
        "colab_type": "code",
        "outputId": "fa097a1b-f810-4b8a-c19e-769f520f432e",
        "colab": {
          "base_uri": "https://localhost:8080/",
          "height": 35
        }
      },
      "source": [
        "print('Using real-time data augmentation.')\n",
        "\n",
        "datagen = ImageDataGenerator(\n",
        "featurewise_center=False, \n",
        "samplewise_center=False,  \n",
        "featurewise_std_normalization=False,\n",
        "samplewise_std_normalization=False, \n",
        "zca_whitening=False, \n",
        "rotation_range=0, \n",
        "width_shift_range=0.1, \n",
        "height_shift_range=0.1,\n",
        "horizontal_flip=True, \n",
        "vertical_flip=False) \n",
        "\n",
        "datagen.fit(X_train)"
      ],
      "execution_count": 0,
      "outputs": [
        {
          "output_type": "stream",
          "text": [
            "Using real-time data augmentation.\n"
          ],
          "name": "stdout"
        }
      ]
    },
    {
      "cell_type": "code",
      "metadata": {
        "id": "6vYRs8_eGs74",
        "colab_type": "code",
        "colab": {}
      },
      "source": [
        "batch_size = 256 \n",
        "num_classes = 10\n"
      ],
      "execution_count": 0,
      "outputs": []
    },
    {
      "cell_type": "code",
      "metadata": {
        "id": "qYFldD0oD7Jc",
        "colab_type": "code",
        "outputId": "9b338479-4d1f-48d7-edf4-2e5b2ed37ced",
        "colab": {
          "base_uri": "https://localhost:8080/",
          "height": 364
        }
      },
      "source": [
        "#Let's train the model\n",
        "batch_size = 256 \n",
        "epochs = 10\n",
        "hist_2 = model_cnn2.fit_generator(datagen.flow(X_train, y_train_c,batch_size=batch_size,shuffle=True),\n",
        "   steps_per_epoch=x_train.shape[0] // batch_size,\n",
        "   epochs=epochs,\n",
        "   validation_data=(X_test, y_test_c),\n",
        "   workers=4)\n"
      ],
      "execution_count": 0,
      "outputs": [
        {
          "output_type": "stream",
          "text": [
            "Epoch 1/10\n",
            "195/195 [==============================] - 61s 313ms/step - loss: 0.6666 - acc: 0.6044 - val_loss: 0.6040 - val_acc: 0.7042\n",
            "Epoch 2/10\n",
            "195/195 [==============================] - 60s 306ms/step - loss: 0.6097 - acc: 0.6852 - val_loss: 0.5796 - val_acc: 0.7175\n",
            "Epoch 3/10\n",
            "195/195 [==============================] - 60s 305ms/step - loss: 0.5952 - acc: 0.6971 - val_loss: 0.5707 - val_acc: 0.7317\n",
            "Epoch 4/10\n",
            "195/195 [==============================] - 60s 307ms/step - loss: 0.5805 - acc: 0.7075 - val_loss: 0.5564 - val_acc: 0.7317\n",
            "Epoch 5/10\n",
            "195/195 [==============================] - 59s 305ms/step - loss: 0.5646 - acc: 0.7197 - val_loss: 0.5422 - val_acc: 0.7533\n",
            "Epoch 6/10\n",
            "195/195 [==============================] - 59s 304ms/step - loss: 0.5514 - acc: 0.7279 - val_loss: 0.5360 - val_acc: 0.7492\n",
            "Epoch 7/10\n",
            "195/195 [==============================] - 60s 310ms/step - loss: 0.5384 - acc: 0.7356 - val_loss: 0.5187 - val_acc: 0.7592\n",
            "Epoch 8/10\n",
            "195/195 [==============================] - 60s 309ms/step - loss: 0.5300 - acc: 0.7409 - val_loss: 0.5161 - val_acc: 0.7575\n",
            "Epoch 9/10\n",
            "195/195 [==============================] - 61s 311ms/step - loss: 0.5197 - acc: 0.7480 - val_loss: 0.5101 - val_acc: 0.7642\n",
            "Epoch 10/10\n",
            "195/195 [==============================] - 60s 308ms/step - loss: 0.5096 - acc: 0.7538 - val_loss: 0.5008 - val_acc: 0.7658\n"
          ],
          "name": "stdout"
        }
      ]
    },
    {
      "cell_type": "code",
      "metadata": {
        "id": "SVbdCseTavVb",
        "colab_type": "code",
        "outputId": "214e61a4-1e77-4bba-a479-ce4dff837f02",
        "colab": {
          "base_uri": "https://localhost:8080/",
          "height": 364
        }
      },
      "source": [
        "#Let's train the model\n",
        "batch_size = 256 \n",
        "epochs = 10\n",
        "hist_2 = model_cnn2.fit_generator(datagen.flow(X_train, y_train_c,batch_size=batch_size,shuffle=True),\n",
        "   steps_per_epoch=x_train.shape[0] // batch_size,\n",
        "   epochs=epochs,\n",
        "   validation_data=(X_test, y_test_c),\n",
        "   workers=4)"
      ],
      "execution_count": 0,
      "outputs": [
        {
          "output_type": "stream",
          "text": [
            "Epoch 1/10\n",
            "195/195 [==============================] - 61s 312ms/step - loss: 0.5041 - acc: 0.7577 - val_loss: 0.5046 - val_acc: 0.7600\n",
            "Epoch 2/10\n",
            "195/195 [==============================] - 59s 304ms/step - loss: 0.4986 - acc: 0.7620 - val_loss: 0.5076 - val_acc: 0.7558\n",
            "Epoch 3/10\n",
            "195/195 [==============================] - 59s 304ms/step - loss: 0.4902 - acc: 0.7656 - val_loss: 0.4949 - val_acc: 0.7600\n",
            "Epoch 4/10\n",
            "195/195 [==============================] - 59s 303ms/step - loss: 0.4865 - acc: 0.7667 - val_loss: 0.5011 - val_acc: 0.7533\n",
            "Epoch 5/10\n",
            "195/195 [==============================] - 59s 304ms/step - loss: 0.4807 - acc: 0.7689 - val_loss: 0.4839 - val_acc: 0.7725\n",
            "Epoch 6/10\n",
            "195/195 [==============================] - 60s 305ms/step - loss: 0.4791 - acc: 0.7727 - val_loss: 0.4802 - val_acc: 0.7808\n",
            "Epoch 7/10\n",
            "195/195 [==============================] - 59s 305ms/step - loss: 0.4746 - acc: 0.7739 - val_loss: 0.4782 - val_acc: 0.7758\n",
            "Epoch 8/10\n",
            "195/195 [==============================] - 59s 302ms/step - loss: nan - acc: 0.7652 - val_loss: nan - val_acc: 0.5017\n",
            "Epoch 9/10\n",
            "195/195 [==============================] - 58s 295ms/step - loss: nan - acc: 0.4999 - val_loss: nan - val_acc: 0.5017\n",
            "Epoch 10/10\n",
            "195/195 [==============================] - 59s 300ms/step - loss: nan - acc: 0.4994 - val_loss: nan - val_acc: 0.5017\n"
          ],
          "name": "stdout"
        }
      ]
    },
    {
      "cell_type": "code",
      "metadata": {
        "id": "4I-0e8vED7xJ",
        "colab_type": "code",
        "outputId": "c1732cc7-e071-49b9-dcbf-2ad1c423f8ac",
        "colab": {
          "base_uri": "https://localhost:8080/",
          "height": 35
        }
      },
      "source": [
        "scores = model_cnn2.evaluate(X_test, y_test_c, verbose=0)\n",
        "print(\"CNN score: %.2f%%\" % (scores[1]*100))"
      ],
      "execution_count": 0,
      "outputs": [
        {
          "output_type": "stream",
          "text": [
            "CNN score: 76.58%\n"
          ],
          "name": "stdout"
        }
      ]
    },
    {
      "cell_type": "code",
      "metadata": {
        "id": "pRmsQ8WQWdvK",
        "colab_type": "code",
        "outputId": "41a0d927-5e88-43a8-b2f5-0a9c1b49722a",
        "colab": {
          "base_uri": "https://localhost:8080/",
          "height": 351
        }
      },
      "source": [
        "plot_model_history(hist_2)"
      ],
      "execution_count": 0,
      "outputs": [
        {
          "output_type": "display_data",
          "data": {
            "image/png": "[encoded data removed]",
            "text/plain": [
              "<Figure size 1080x360 with 2 Axes>"
            ]
          },
          "metadata": {
            "tags": []
          }
        }
      ]
    },
    {
      "cell_type": "code",
      "metadata": {
        "id": "_phIwO43Wi_f",
        "colab_type": "code",
        "outputId": "8d3d161e-84f5-46b3-bdaa-4fce3928ad5d",
        "colab": {
          "base_uri": "https://localhost:8080/",
          "height": 35
        }
      },
      "source": [
        "scores = model_cnn2.evaluate(X_test, y_test_c, verbose=0)\n",
        "print(\"CNN score: %.2f%%\" % (scores[1]*100))"
      ],
      "execution_count": 0,
      "outputs": [
        {
          "output_type": "stream",
          "text": [
            "CNN score: 50.17%\n"
          ],
          "name": "stdout"
        }
      ]
    },
    {
      "cell_type": "code",
      "metadata": {
        "id": "5FdBce6bdW4i",
        "colab_type": "code",
        "colab": {}
      },
      "source": [
        ""
      ],
      "execution_count": 0,
      "outputs": []
    },
    {
      "cell_type": "markdown",
      "metadata": {
        "id": "CRqpxgTTb52a",
        "colab_type": "text"
      },
      "source": [
        "## CNN3"
      ]
    },
    {
      "cell_type": "code",
      "metadata": {
        "id": "2I5q4J0Ob3ZM",
        "colab_type": "code",
        "colab": {}
      },
      "source": [
        "model_cnn3 = Sequential()\n",
        "\n",
        "model_cnn3.add(Conv2D(32, kernel_size=(3, 3), activation='relu', input_shape=X_train.shape[1:]))\n",
        "# model.add(Conv2D(48, kernel_size=(3, 3), activation='relu'))\n",
        "model_cnn3.add(MaxPooling2D(pool_size=(2, 2)))\n",
        "# model.add(Dropout(1))\n",
        "\n",
        "model_cnn3.add(Conv2D(32, kernel_size=(3, 3), activation='relu'))\n",
        "model_cnn3.add(MaxPooling2D(pool_size=(2, 2)))\n",
        "# model.add(Conv2D(96, kernel_size=(3, 3), activation='relu'))\n",
        "# model.add(MaxPooling2D(pool_size=(2, 2)))\n",
        "# model.add(Dropout(0.25))\n",
        "\n",
        "model_cnn3.add(Conv2D(64, kernel_size=(3, 3), activation='relu'))\n",
        "model_cnn3.add(MaxPooling2D(pool_size=(2, 2)))\n",
        "\n",
        "model_cnn3.add(Flatten())\n",
        "model_cnn3.add(Dense(64, activation='relu'))\n",
        "model_cnn3.add(Dropout(0.5))\n",
        "model_cnn3.add(Dense(2, activation='sigmoid'))\n",
        "\n",
        "\n",
        "opt = Adam(lr=0.0001, decay=1e-6)\n",
        "\n",
        "model_cnn3.compile(loss='categorical_crossentropy',\n",
        "             optimizer= opt,\n",
        "             metrics=['accuracy'])"
      ],
      "execution_count": 0,
      "outputs": []
    },
    {
      "cell_type": "code",
      "metadata": {
        "id": "FPyxpUihp6mU",
        "colab_type": "code",
        "outputId": "8ce859b5-8277-4f6e-ea57-4fa167a90ee2",
        "colab": {
          "base_uri": "https://localhost:8080/",
          "height": 35
        }
      },
      "source": [
        "print('Using real-time data augmentation.')\n",
        "\n",
        "datagen = ImageDataGenerator(\n",
        "featurewise_center=False, \n",
        "samplewise_center=False,  \n",
        "featurewise_std_normalization=False,\n",
        "samplewise_std_normalization=False, \n",
        "zca_whitening=False, \n",
        "rotation_range=0, \n",
        "width_shift_range=0.1, \n",
        "height_shift_range=0.1,\n",
        "horizontal_flip=True, \n",
        "vertical_flip=False) \n",
        "\n",
        "datagen.fit(X_train)"
      ],
      "execution_count": 0,
      "outputs": [
        {
          "output_type": "stream",
          "text": [
            "Using real-time data augmentation.\n"
          ],
          "name": "stdout"
        }
      ]
    },
    {
      "cell_type": "code",
      "metadata": {
        "id": "KdxG0mgYp9iX",
        "colab_type": "code",
        "outputId": "235bb581-583a-418f-b7f8-03b9ff79d0f5",
        "colab": {
          "base_uri": "https://localhost:8080/",
          "height": 364
        }
      },
      "source": [
        "#Let's train the model\n",
        "batch_size = 256 \n",
        "epochs = 10\n",
        "early_stop =EarlyStopping(patience=2)\n",
        "\n",
        "hist_3 = model_cnn3.fit_generator(datagen.flow(X_train, y_train_c,batch_size=batch_size,shuffle=True),\n",
        "   steps_per_epoch=x_train.shape[0] // batch_size,\n",
        "   epochs=epochs,\n",
        "   validation_data=(X_test, y_test_c),\n",
        "   workers=4,\n",
        "   callbacks=[early_stop])"
      ],
      "execution_count": 0,
      "outputs": [
        {
          "output_type": "stream",
          "text": [
            "Epoch 1/10\n",
            "195/195 [==============================] - 93s 479ms/step - loss: 0.6398 - acc: 0.6514 - val_loss: 0.5746 - val_acc: 0.7217\n",
            "Epoch 2/10\n",
            "195/195 [==============================] - 93s 476ms/step - loss: 0.5885 - acc: 0.7027 - val_loss: 0.5569 - val_acc: 0.7300\n",
            "Epoch 3/10\n",
            "195/195 [==============================] - 93s 476ms/step - loss: 0.5700 - acc: 0.7175 - val_loss: 0.5488 - val_acc: 0.7250\n",
            "Epoch 4/10\n",
            "195/195 [==============================] - 93s 476ms/step - loss: 0.5513 - acc: 0.7291 - val_loss: 0.5335 - val_acc: 0.7350\n",
            "Epoch 5/10\n",
            "195/195 [==============================] - 93s 474ms/step - loss: 0.5325 - acc: 0.7438 - val_loss: 0.5114 - val_acc: 0.7600\n",
            "Epoch 6/10\n",
            "195/195 [==============================] - 92s 474ms/step - loss: 0.5167 - acc: 0.7519 - val_loss: 0.5114 - val_acc: 0.7542\n",
            "Epoch 7/10\n",
            "195/195 [==============================] - 92s 474ms/step - loss: 0.5018 - acc: 0.7614 - val_loss: 0.5010 - val_acc: 0.7583\n",
            "Epoch 8/10\n",
            "195/195 [==============================] - 92s 474ms/step - loss: 0.4895 - acc: 0.7698 - val_loss: 0.4913 - val_acc: 0.7708\n",
            "Epoch 9/10\n",
            "195/195 [==============================] - 92s 473ms/step - loss: 0.4833 - acc: 0.7737 - val_loss: 0.5065 - val_acc: 0.7483\n",
            "Epoch 10/10\n",
            "195/195 [==============================] - 93s 476ms/step - loss: 0.4716 - acc: 0.7785 - val_loss: 0.4697 - val_acc: 0.7792\n"
          ],
          "name": "stdout"
        }
      ]
    },
    {
      "cell_type": "code",
      "metadata": {
        "id": "mZzigr0FcLm3",
        "colab_type": "code",
        "outputId": "e95b2756-77c6-4ca0-e023-7da637577b26",
        "colab": {
          "base_uri": "https://localhost:8080/",
          "height": 35
        }
      },
      "source": [
        "scores = model_cnn3.evaluate(X_test, y_test_c, verbose=0)\n",
        "print(\"CNN score: %.2f%%\" % (scores[1]*100))"
      ],
      "execution_count": 0,
      "outputs": [
        {
          "output_type": "stream",
          "text": [
            "CNN score: 77.92%\n"
          ],
          "name": "stdout"
        }
      ]
    },
    {
      "cell_type": "code",
      "metadata": {
        "id": "w4l7vSWNfyqV",
        "colab_type": "code",
        "outputId": "aa1f7e4b-bef5-423b-f8cd-cf6585b6007a",
        "colab": {
          "base_uri": "https://localhost:8080/",
          "height": 351
        }
      },
      "source": [
        "plot_model_history(hist_3)"
      ],
      "execution_count": 0,
      "outputs": [
        {
          "output_type": "display_data",
          "data": {
            "image/png": "[encoded data removed]",
            "text/plain": [
              "<Figure size 1080x360 with 2 Axes>"
            ]
          },
          "metadata": {
            "tags": []
          }
        }
      ]
    },
    {
      "cell_type": "markdown",
      "metadata": {
        "id": "Gvne1TNMf_b9",
        "colab_type": "text"
      },
      "source": [
        "## CNN 4"
      ]
    },
    {
      "cell_type": "code",
      "metadata": {
        "id": "RSgzSlENfqkG",
        "colab_type": "code",
        "colab": {}
      },
      "source": [
        "model_cnn4 = Sequential()\n",
        "\n",
        "model_cnn4.add(Conv2D(32, kernel_size=(3, 3), activation='relu', input_shape=X_train.shape[1:]))\n",
        "model_cnn4.add(MaxPooling2D(pool_size=(2, 2)))\n",
        "model_cnn4.add(Dropout(1))\n",
        "\n",
        "model_cnn4.add(Conv2D(32, kernel_size=(3, 3), activation='relu'))\n",
        "model_cnn4.add(MaxPooling2D(pool_size=(2, 2)))\n",
        "model_cnn4.add(Dropout(0.25))\n",
        "\n",
        "model_cnn4.add(Conv2D(64, kernel_size=(3, 3), activation='relu'))\n",
        "model_cnn4.add(MaxPooling2D(pool_size=(2, 2)))\n",
        "model_cnn4.add(Dropout(0.25))\n",
        "\n",
        "model_cnn4.add(Flatten())\n",
        "model_cnn4.add(Dense(128, activation='relu'))\n",
        "model_cnn4.add(Dropout(0.5))\n",
        "model_cnn4.add(Dense(2, activation='sigmoid'))\n",
        "\n",
        "\n",
        "opt = Adam(lr=0.0001, decay=1e-6, )\n",
        "\n",
        "model_cnn4.compile(loss='categorical_crossentropy',\n",
        "             optimizer= opt,\n",
        "             metrics=['accuracy'])"
      ],
      "execution_count": 0,
      "outputs": []
    },
    {
      "cell_type": "code",
      "metadata": {
        "id": "UHZKQI7ygYy1",
        "colab_type": "code",
        "outputId": "8926ad3e-3c5d-455b-859d-32db698eeb64",
        "colab": {
          "base_uri": "https://localhost:8080/",
          "height": 35
        }
      },
      "source": [
        "print('Using real-time data augmentation.')\n",
        "\n",
        "datagen = ImageDataGenerator(\n",
        "featurewise_center=False, \n",
        "samplewise_center=False,  \n",
        "featurewise_std_normalization=False,\n",
        "samplewise_std_normalization=False, \n",
        "zca_whitening=False, \n",
        "rotation_range=0, \n",
        "width_shift_range=0.1, \n",
        "height_shift_range=0.1,\n",
        "horizontal_flip=True, \n",
        "vertical_flip=False) \n",
        "\n",
        "datagen.fit(X_train)"
      ],
      "execution_count": 0,
      "outputs": [
        {
          "output_type": "stream",
          "text": [
            "Using real-time data augmentation.\n"
          ],
          "name": "stdout"
        }
      ]
    },
    {
      "cell_type": "code",
      "metadata": {
        "id": "MmXP54R8hLsU",
        "colab_type": "code",
        "outputId": "c5ed4d09-2194-401e-f1d2-86b604b0954b",
        "colab": {
          "base_uri": "https://localhost:8080/",
          "height": 364
        }
      },
      "source": [
        "#Let's train the model\n",
        "batch_size = 32 \n",
        "epochs = 10\n",
        "hist_4 = model_cnn4.fit_generator(datagen.flow(X_train, y_train_c,batch_size=batch_size,shuffle=True),\n",
        "   steps_per_epoch=200,\n",
        "   epochs=epochs,\n",
        "   validation_data=(X_test, y_test_c),\n",
        "   workers=4)"
      ],
      "execution_count": 0,
      "outputs": [
        {
          "output_type": "stream",
          "text": [
            "Epoch 1/10\n",
            "200/200 [==============================] - 18s 89ms/step - loss: 0.6854 - acc: 0.5458 - val_loss: 0.6561 - val_acc: 0.6425\n",
            "Epoch 2/10\n",
            "200/200 [==============================] - 15s 75ms/step - loss: 0.6316 - acc: 0.6641 - val_loss: 0.5988 - val_acc: 0.7167\n",
            "Epoch 3/10\n",
            "200/200 [==============================] - 15s 75ms/step - loss: 0.6117 - acc: 0.6823 - val_loss: 0.5899 - val_acc: 0.7075\n",
            "Epoch 4/10\n",
            "200/200 [==============================] - 15s 75ms/step - loss: 0.6016 - acc: 0.6872 - val_loss: 0.5944 - val_acc: 0.6992\n",
            "Epoch 5/10\n",
            "200/200 [==============================] - 15s 75ms/step - loss: 0.6039 - acc: 0.6837 - val_loss: 0.5813 - val_acc: 0.7133\n",
            "Epoch 6/10\n",
            "200/200 [==============================] - 15s 76ms/step - loss: 0.5878 - acc: 0.7044 - val_loss: 0.5810 - val_acc: 0.7033\n",
            "Epoch 7/10\n",
            "200/200 [==============================] - 15s 75ms/step - loss: 0.5849 - acc: 0.7005 - val_loss: 0.5708 - val_acc: 0.7167\n",
            "Epoch 8/10\n",
            "200/200 [==============================] - 15s 75ms/step - loss: 0.5785 - acc: 0.7080 - val_loss: 0.5635 - val_acc: 0.7192\n",
            "Epoch 9/10\n",
            "200/200 [==============================] - 15s 75ms/step - loss: 0.5772 - acc: 0.7102 - val_loss: 0.5563 - val_acc: 0.7233\n",
            "Epoch 10/10\n",
            "200/200 [==============================] - 15s 76ms/step - loss: 0.5659 - acc: 0.7169 - val_loss: 0.5507 - val_acc: 0.7242\n"
          ],
          "name": "stdout"
        }
      ]
    },
    {
      "cell_type": "code",
      "metadata": {
        "id": "Syp9My6ZhTda",
        "colab_type": "code",
        "outputId": "9364c2e8-e0b0-4f7d-a05c-f00d532df67e",
        "colab": {
          "base_uri": "https://localhost:8080/",
          "height": 35
        }
      },
      "source": [
        "scores = model_cnn4.evaluate(X_test, y_test_c, verbose=0)\n",
        "print(\"CNN score: %.2f%%\" % (scores[1]*100))"
      ],
      "execution_count": 0,
      "outputs": [
        {
          "output_type": "stream",
          "text": [
            "CNN score: 72.42%\n"
          ],
          "name": "stdout"
        }
      ]
    },
    {
      "cell_type": "code",
      "metadata": {
        "id": "EBV8jmXWiFXp",
        "colab_type": "code",
        "outputId": "1f9673c1-75a5-4e9a-9274-d2bda4c9ff9d",
        "colab": {
          "base_uri": "https://localhost:8080/",
          "height": 351
        }
      },
      "source": [
        "plot_model_history(hist_4)"
      ],
      "execution_count": 0,
      "outputs": [
        {
          "output_type": "display_data",
          "data": {
            "image/png": "[encoded data removed]",
            "text/plain": [
              "<Figure size 1080x360 with 2 Axes>"
            ]
          },
          "metadata": {
            "tags": []
          }
        }
      ]
    },
    {
      "cell_type": "markdown",
      "metadata": {
        "id": "tgCAoQUIoXIL",
        "colab_type": "text"
      },
      "source": [
        "# CNN 5"
      ]
    },
    {
      "cell_type": "code",
      "metadata": {
        "id": "X8FEbBn9oRSZ",
        "colab_type": "code",
        "colab": {}
      },
      "source": [
        "model_cnn5 = Sequential()\n",
        "\n",
        "model_cnn5.add(Conv2D(32, kernel_size=(3, 3), activation='relu', input_shape=X_train.shape[1:]))\n",
        "model_cnn5.add(MaxPooling2D(pool_size=(2, 2)))\n",
        "model_cnn5.add(Dropout(0.25))\n",
        "\n",
        "model_cnn5.add(Conv2D(32, kernel_size=(3, 3), activation='relu'))\n",
        "model_cnn5.add(MaxPooling2D(pool_size=(2, 2)))\n",
        "model_cnn5.add(Dropout(0.25))\n",
        "\n",
        "model_cnn5.add(Conv2D(64, kernel_size=(3, 3), activation='relu'))\n",
        "model_cnn5.add(MaxPooling2D(pool_size=(2, 2)))\n",
        "model_cnn5.add(Dropout(0.25))\n",
        "\n",
        "model_cnn5.add(Flatten())\n",
        "model_cnn5.add(Dense(128, activation='relu'))\n",
        "model_cnn5.add(Dropout(0.5))\n",
        "model_cnn5.add(Dense(2, activation='softmax'))\n",
        "\n",
        "\n",
        "opt = Adam(lr=0.0001, decay=1e-3)\n",
        "\n",
        "model_cnn5.compile(loss='categorical_crossentropy',\n",
        "             optimizer= opt,\n",
        "             metrics=['accuracy'])"
      ],
      "execution_count": 0,
      "outputs": []
    },
    {
      "cell_type": "code",
      "metadata": {
        "id": "1JjdhycIqSMo",
        "colab_type": "code",
        "outputId": "679f33d1-b7ab-436a-95a3-340a7c22e9d5",
        "colab": {
          "base_uri": "https://localhost:8080/",
          "height": 35
        }
      },
      "source": [
        "print('Using real-time data augmentation.')\n",
        "\n",
        "datagen = ImageDataGenerator(\n",
        "featurewise_center=False, \n",
        "samplewise_center=False,  \n",
        "featurewise_std_normalization=False,\n",
        "samplewise_std_normalization=False, \n",
        "zca_whitening=False, \n",
        "rotation_range=0, \n",
        "width_shift_range=0.1, \n",
        "height_shift_range=0.1,\n",
        "horizontal_flip=True, \n",
        "vertical_flip=False) \n",
        "\n",
        "datagen.fit(X_train)"
      ],
      "execution_count": 0,
      "outputs": [
        {
          "output_type": "stream",
          "text": [
            "Using real-time data augmentation.\n"
          ],
          "name": "stdout"
        }
      ]
    },
    {
      "cell_type": "code",
      "metadata": {
        "id": "EahxFrpBqVdj",
        "colab_type": "code",
        "outputId": "0f5949a4-4391-47e1-a6c8-bfd04c1fa3c7",
        "colab": {
          "base_uri": "https://localhost:8080/",
          "height": 329
        }
      },
      "source": [
        "#Let's train the model\n",
        "batch_size = 32 \n",
        "epochs = 10\n",
        "early_stop =EarlyStopping(patience=2)\n",
        "\n",
        "hist_4 = model_cnn5.fit_generator(datagen.flow(X_train, y_train_c,batch_size=batch_size,shuffle=True),\n",
        "   steps_per_epoch=X_train.shape[0] // batch_size,\n",
        "   epochs=epochs,\n",
        "   validation_data=(X_test, y_test_c),\n",
        "   workers=4,\n",
        "   callbacks=[early_stop])"
      ],
      "execution_count": 0,
      "outputs": [
        {
          "output_type": "stream",
          "text": [
            "Epoch 1/10\n",
            "150/150 [==============================] - 12s 83ms/step - loss: 0.6670 - acc: 0.6056 - val_loss: 0.6470 - val_acc: 0.6725\n",
            "Epoch 2/10\n",
            "150/150 [==============================] - 12s 81ms/step - loss: 0.6221 - acc: 0.6700 - val_loss: 0.6023 - val_acc: 0.7142\n",
            "Epoch 3/10\n",
            "150/150 [==============================] - 12s 83ms/step - loss: 0.6124 - acc: 0.6821 - val_loss: 0.6039 - val_acc: 0.7075\n",
            "Epoch 4/10\n",
            "150/150 [==============================] - 12s 81ms/step - loss: 0.6089 - acc: 0.6827 - val_loss: 0.5978 - val_acc: 0.7192\n",
            "Epoch 5/10\n",
            "150/150 [==============================] - 12s 83ms/step - loss: 0.6086 - acc: 0.6875 - val_loss: 0.5971 - val_acc: 0.7183\n",
            "Epoch 6/10\n",
            "150/150 [==============================] - 12s 83ms/step - loss: 0.6016 - acc: 0.6923 - val_loss: 0.5948 - val_acc: 0.7183\n",
            "Epoch 7/10\n",
            "150/150 [==============================] - 13s 84ms/step - loss: 0.6017 - acc: 0.6915 - val_loss: 0.5932 - val_acc: 0.7175\n",
            "Epoch 8/10\n",
            "150/150 [==============================] - 13s 83ms/step - loss: 0.6034 - acc: 0.6892 - val_loss: 0.5955 - val_acc: 0.7133\n",
            "Epoch 9/10\n",
            "150/150 [==============================] - 12s 83ms/step - loss: 0.6012 - acc: 0.6887 - val_loss: 0.5944 - val_acc: 0.7117\n"
          ],
          "name": "stdout"
        }
      ]
    },
    {
      "cell_type": "code",
      "metadata": {
        "id": "o_YbDsOP0j82",
        "colab_type": "code",
        "outputId": "2235a861-78d7-456b-e338-60cfcff750a6",
        "colab": {
          "base_uri": "https://localhost:8080/",
          "height": 35
        }
      },
      "source": [
        "scores = model_cnn5.evaluate(X_test, y_test_c, verbose=0)\n",
        "print(\"CNN score: %.2f%%\" % (scores[1]*100))"
      ],
      "execution_count": 0,
      "outputs": [
        {
          "output_type": "stream",
          "text": [
            "CNN score: 71.17%\n"
          ],
          "name": "stdout"
        }
      ]
    },
    {
      "cell_type": "code",
      "metadata": {
        "id": "0EXx5C8a1Xhd",
        "colab_type": "code",
        "outputId": "efd86198-828b-463a-c3a1-0bfb818daf8d",
        "colab": {
          "base_uri": "https://localhost:8080/",
          "height": 351
        }
      },
      "source": [
        "plot_model_history(hist_4)"
      ],
      "execution_count": 0,
      "outputs": [
        {
          "output_type": "display_data",
          "data": {
            "image/png": "[encoded data removed]",
            "text/plain": [
              "<Figure size 1080x360 with 2 Axes>"
            ]
          },
          "metadata": {
            "tags": []
          }
        }
      ]
    },
    {
      "cell_type": "markdown",
      "metadata": {
        "id": "t6NiCoBwE23K",
        "colab_type": "text"
      },
      "source": [
        "## CNN6"
      ]
    },
    {
      "cell_type": "code",
      "metadata": {
        "id": "ujQJw0Ga13w9",
        "colab_type": "code",
        "colab": {}
      },
      "source": [
        "model = Sequential()\n",
        "\n",
        "model.add(Conv2D(32, kernel_size=(3, 3), activation='relu', input_shape=X_train.shape[1:]))\n",
        "# model.add(Conv2D(48, kernel_size=(3, 3), activation='relu'))\n",
        "model.add(MaxPooling2D(pool_size=(2, 2)))\n",
        "# model.add(Dropout(1))\n",
        "\n",
        "model.add(Conv2D(32, kernel_size=(3, 3), activation='relu'))\n",
        "model.add(MaxPooling2D(pool_size=(2, 2)))\n",
        "# # model.add(Conv2D(96, kernel_size=(3, 3), activation='relu'))\n",
        "# # model.add(MaxPooling2D(pool_size=(2, 2)))\n",
        "# # model.add(Dropout(0.25))\n",
        "\n",
        "# model.add(Conv2D(128, kernel_size=(3, 3), activation='relu'))\n",
        "# model.add(MaxPooling2D(pool_size=(2, 2)))\n",
        "\n",
        "model.add(Flatten())\n",
        "model.add(Dense(64, activation='relu'))\n",
        "model.add(Dropout(0.5))\n",
        "model.add(Dense(2, activation='softmax'))\n",
        "\n",
        "\n",
        "opt = Adam(lr=0.0004)\n",
        "\n",
        "model.compile(loss='categorical_crossentropy',\n",
        "            optimizer= opt,\n",
        "            metrics=['accuracy'])"
      ],
      "execution_count": 0,
      "outputs": []
    },
    {
      "cell_type": "code",
      "metadata": {
        "id": "VDmz4mz8FGKi",
        "colab_type": "code",
        "outputId": "876c43a8-d5b4-471e-91ff-85d85d1e9941",
        "colab": {
          "base_uri": "https://localhost:8080/",
          "height": 35
        }
      },
      "source": [
        "print('Using real-time data augmentation.')\n",
        "\n",
        "datagen = ImageDataGenerator(\n",
        "featurewise_center=False, \n",
        "samplewise_center=False,  \n",
        "featurewise_std_normalization=False,\n",
        "samplewise_std_normalization=False, \n",
        "zca_whitening=False, \n",
        "rotation_range=0, \n",
        "width_shift_range=0.1, \n",
        "height_shift_range=0.1,\n",
        "horizontal_flip=True, \n",
        "vertical_flip=False) \n",
        "\n",
        "datagen.fit(X_train)"
      ],
      "execution_count": 0,
      "outputs": [
        {
          "output_type": "stream",
          "text": [
            "Using real-time data augmentation.\n"
          ],
          "name": "stdout"
        }
      ]
    },
    {
      "cell_type": "code",
      "metadata": {
        "id": "uwHodDYsFKjE",
        "colab_type": "code",
        "outputId": "331ae040-5df7-439f-a746-6b2badc2b03a",
        "colab": {
          "base_uri": "https://localhost:8080/",
          "height": 364
        }
      },
      "source": [
        "#Let's train the model\n",
        "batch_size = 32 \n",
        "epochs = 10\n",
        "early_stop =EarlyStopping(patience=2)\n",
        "\n",
        "hist_5 = model.fit_generator(datagen.flow(X_train, y_train_c,batch_size=batch_size,shuffle=True),\n",
        "   steps_per_epoch=x_train.shape[0] // batch_size,\n",
        "   epochs=epochs,\n",
        "   validation_data=(X_test, y_test_c),\n",
        "   workers=4)"
      ],
      "execution_count": 0,
      "outputs": [
        {
          "output_type": "stream",
          "text": [
            "Epoch 1/10\n",
            "1562/1562 [==============================] - 108s 69ms/step - loss: 0.5554 - acc: 0.7134 - val_loss: 0.4889 - val_acc: 0.7675\n",
            "Epoch 2/10\n",
            "1562/1562 [==============================] - 105s 67ms/step - loss: 0.4490 - acc: 0.7889 - val_loss: 0.4279 - val_acc: 0.8133\n",
            "Epoch 3/10\n",
            "1562/1562 [==============================] - 100s 64ms/step - loss: 0.4009 - acc: 0.8160 - val_loss: 0.4012 - val_acc: 0.8217\n",
            "Epoch 4/10\n",
            "1562/1562 [==============================] - 103s 66ms/step - loss: 0.3687 - acc: 0.8325 - val_loss: 0.4003 - val_acc: 0.8258\n",
            "Epoch 5/10\n",
            "1562/1562 [==============================] - 104s 66ms/step - loss: 0.3452 - acc: 0.8454 - val_loss: 0.3862 - val_acc: 0.8383\n",
            "Epoch 6/10\n",
            "1562/1562 [==============================] - 105s 67ms/step - loss: 0.3260 - acc: 0.8570 - val_loss: 0.3721 - val_acc: 0.8408\n",
            "Epoch 7/10\n",
            "1562/1562 [==============================] - 105s 67ms/step - loss: 0.3075 - acc: 0.8645 - val_loss: 0.3842 - val_acc: 0.8433\n",
            "Epoch 8/10\n",
            "1562/1562 [==============================] - 106s 68ms/step - loss: 0.2909 - acc: 0.8745 - val_loss: 0.3767 - val_acc: 0.8383\n",
            "Epoch 9/10\n",
            "1562/1562 [==============================] - 105s 67ms/step - loss: 0.2809 - acc: 0.8780 - val_loss: 0.3747 - val_acc: 0.8442\n",
            "Epoch 10/10\n",
            "1562/1562 [==============================] - 102s 65ms/step - loss: 0.2665 - acc: 0.8860 - val_loss: 0.3840 - val_acc: 0.8458\n"
          ],
          "name": "stdout"
        }
      ]
    },
    {
      "cell_type": "code",
      "metadata": {
        "id": "qxeWFVj7F0tr",
        "colab_type": "code",
        "outputId": "8aad6253-35e9-4e28-f335-0f525d9791c2",
        "colab": {
          "base_uri": "https://localhost:8080/",
          "height": 35
        }
      },
      "source": [
        "scores = model.evaluate(X_test, y_test_c, verbose=0)\n",
        "print(\"CNN score: %.2f%%\" % (scores[1]*100))"
      ],
      "execution_count": 0,
      "outputs": [
        {
          "output_type": "stream",
          "text": [
            "CNN score: 84.58%\n"
          ],
          "name": "stdout"
        }
      ]
    },
    {
      "cell_type": "code",
      "metadata": {
        "id": "psw7uGbLIFGu",
        "colab_type": "code",
        "outputId": "aeac0a1c-4982-467e-bc16-40c56da225f0",
        "colab": {
          "base_uri": "https://localhost:8080/",
          "height": 351
        }
      },
      "source": [
        "plot_model_history(hist_5)"
      ],
      "execution_count": 0,
      "outputs": [
        {
          "output_type": "display_data",
          "data": {
            "image/png": "[encoded data removed]",
            "text/plain": [
              "<Figure size 1080x360 with 2 Axes>"
            ]
          },
          "metadata": {
            "tags": []
          }
        }
      ]
    },
    {
      "cell_type": "markdown",
      "metadata": {
        "id": "2F-tkx4pWyuB",
        "colab_type": "text"
      },
      "source": [
        "## CNN-6"
      ]
    },
    {
      "cell_type": "code",
      "metadata": {
        "id": "AtlTT7l7WXva",
        "colab_type": "code",
        "colab": {}
      },
      "source": [
        "model = Sequential()\n",
        "\n",
        "model.add(Conv2D(32, kernel_size=(3, 3), activation='relu', input_shape=X_train.shape[1:]))\n",
        "# model.add(Conv2D(48, kernel_size=(3, 3), activation='relu'))\n",
        "model.add(MaxPooling2D(pool_size=(2, 2)))\n",
        "model.add(Dropout(0.5))\n",
        "\n",
        "model.add(Conv2D(32, kernel_size=(3, 3), activation='relu'))\n",
        "model.add(MaxPooling2D(pool_size=(2, 2)))\n",
        "# # model.add(Conv2D(96, kernel_size=(3, 3), activation='relu'))\n",
        "# # model.add(MaxPooling2D(pool_size=(2, 2)))\n",
        "model.add(Dropout(0.5))\n",
        "\n",
        "# model.add(Conv2D(128, kernel_size=(3, 3), activation='relu'))\n",
        "# model.add(MaxPooling2D(pool_size=(2, 2)))\n",
        "\n",
        "model.add(Flatten())\n",
        "model.add(Dense(64, activation='relu'))\n",
        "model.add(Dropout(0.5))\n",
        "model.add(Dense(2, activation='softmax'))\n",
        "\n",
        "\n",
        "opt = Adam(lr=0.0004)\n",
        "\n",
        "model.compile(loss='categorical_crossentropy',\n",
        "            optimizer= opt,\n",
        "            metrics=['accuracy'])"
      ],
      "execution_count": 0,
      "outputs": []
    },
    {
      "cell_type": "code",
      "metadata": {
        "id": "7-PoKmxDW_zu",
        "colab_type": "code",
        "outputId": "947fa93a-36c9-43ea-ece5-a61824601f6f",
        "colab": {
          "base_uri": "https://localhost:8080/",
          "height": 35
        }
      },
      "source": [
        "print('Using real-time data augmentation.')\n",
        "\n",
        "datagen = ImageDataGenerator(\n",
        "featurewise_center=False, \n",
        "samplewise_center=False,  \n",
        "featurewise_std_normalization=False,\n",
        "samplewise_std_normalization=False, \n",
        "zca_whitening=False, \n",
        "rotation_range=0, \n",
        "width_shift_range=0.1, \n",
        "height_shift_range=0.1,\n",
        "horizontal_flip=True, \n",
        "vertical_flip=False) \n",
        "\n",
        "datagen.fit(X_train)"
      ],
      "execution_count": 0,
      "outputs": [
        {
          "output_type": "stream",
          "text": [
            "Using real-time data augmentation.\n"
          ],
          "name": "stdout"
        }
      ]
    },
    {
      "cell_type": "code",
      "metadata": {
        "id": "5FQfDJ_QXEB3",
        "colab_type": "code",
        "outputId": "9d701418-cc31-4357-c176-0bbdf57749e5",
        "colab": {
          "base_uri": "https://localhost:8080/",
          "height": 364
        }
      },
      "source": [
        "#Let's train the model\n",
        "batch_size = 32 \n",
        "epochs = 10\n",
        "early_stop =EarlyStopping(patience=2)\n",
        "\n",
        "hist_6 = model.fit_generator(datagen.flow(X_train, y_train_c,batch_size=batch_size,shuffle=True),\n",
        "   steps_per_epoch=x_train.shape[0] // batch_size,\n",
        "   epochs=epochs,\n",
        "   validation_data=(X_test, y_test_c),\n",
        "   workers=4)"
      ],
      "execution_count": 0,
      "outputs": [
        {
          "output_type": "stream",
          "text": [
            "Epoch 1/10\n",
            "1562/1562 [==============================] - 115s 74ms/step - loss: 0.5887 - acc: 0.6939 - val_loss: 0.5188 - val_acc: 0.7475\n",
            "Epoch 2/10\n",
            "1562/1562 [==============================] - 112s 71ms/step - loss: 0.5204 - acc: 0.7429 - val_loss: 0.4769 - val_acc: 0.7642\n",
            "Epoch 3/10\n",
            "1562/1562 [==============================] - 111s 71ms/step - loss: 0.4875 - acc: 0.7640 - val_loss: 0.4802 - val_acc: 0.7683\n",
            "Epoch 4/10\n",
            "1562/1562 [==============================] - 112s 71ms/step - loss: 0.4639 - acc: 0.7764 - val_loss: 0.4476 - val_acc: 0.8058\n",
            "Epoch 5/10\n",
            "1562/1562 [==============================] - 112s 72ms/step - loss: 0.4467 - acc: 0.7870 - val_loss: 0.4187 - val_acc: 0.8142\n",
            "Epoch 6/10\n",
            "1562/1562 [==============================] - 113s 73ms/step - loss: 0.4307 - acc: 0.7995 - val_loss: 0.4223 - val_acc: 0.8150\n",
            "Epoch 7/10\n",
            "1562/1562 [==============================] - 113s 73ms/step - loss: 0.4198 - acc: 0.8030 - val_loss: 0.4392 - val_acc: 0.7850\n",
            "Epoch 8/10\n",
            "1562/1562 [==============================] - 113s 73ms/step - loss: 0.4101 - acc: 0.8105 - val_loss: 0.3940 - val_acc: 0.8358\n",
            "Epoch 9/10\n",
            "1562/1562 [==============================] - 113s 72ms/step - loss: 0.4033 - acc: 0.8138 - val_loss: 0.3857 - val_acc: 0.8317\n",
            "Epoch 10/10\n",
            "1562/1562 [==============================] - 113s 72ms/step - loss: 0.3959 - acc: 0.8186 - val_loss: 0.3809 - val_acc: 0.8350\n"
          ],
          "name": "stdout"
        }
      ]
    },
    {
      "cell_type": "code",
      "metadata": {
        "id": "9-IjieaNXHXH",
        "colab_type": "code",
        "outputId": "70c3f8d9-de2c-4501-bd26-55713d73ae7b",
        "colab": {
          "base_uri": "https://localhost:8080/",
          "height": 35
        }
      },
      "source": [
        "scores = model.evaluate(X_test, y_test_c, verbose=0)\n",
        "print(\"CNN score: %.2f%%\" % (scores[1]*100))"
      ],
      "execution_count": 0,
      "outputs": [
        {
          "output_type": "stream",
          "text": [
            "CNN score: 83.50%\n"
          ],
          "name": "stdout"
        }
      ]
    },
    {
      "cell_type": "code",
      "metadata": {
        "id": "QRk41jgGXIIM",
        "colab_type": "code",
        "outputId": "9ca3dc28-1205-4be0-e3e8-55d91071d500",
        "colab": {
          "base_uri": "https://localhost:8080/",
          "height": 351
        }
      },
      "source": [
        "plot_model_history(hist_6)"
      ],
      "execution_count": 0,
      "outputs": [
        {
          "output_type": "display_data",
          "data": {
            "image/png": "[encoded data removed]",
            "text/plain": [
              "<Figure size 1080x360 with 2 Axes>"
            ]
          },
          "metadata": {
            "tags": []
          }
        }
      ]
    },
    {
      "cell_type": "markdown",
      "metadata": {
        "id": "eoUoYW44eJ3Y",
        "colab_type": "text"
      },
      "source": [
        "# CNN7"
      ]
    },
    {
      "cell_type": "code",
      "metadata": {
        "id": "uNXwqJpEcB_L",
        "colab_type": "code",
        "colab": {}
      },
      "source": [
        "model = Sequential()\n",
        "\n",
        "model.add(Conv2D(32, kernel_size=(3, 3),padding=\"same\",activation='relu', input_shape=X_train.shape[1:]))\n",
        "model.add(MaxPooling2D(pool_size=(2, 2)))\n",
        "\n",
        "model.add(Conv2D(64, kernel_size=(2, 2),activation='relu'))\n",
        "model.add(MaxPooling2D(pool_size=(2, 2)))\n",
        "model.add(Dropout(0.5))\n",
        "\n",
        "\n",
        "model.add(Flatten())\n",
        "model.add(Dense(256, activation='relu'))\n",
        "model.add(Dropout(0.5))\n",
        "\n",
        "model.add(Dense(2, activation='softmax'))\n",
        "\n",
        "\n",
        "opt = Adam(lr=0.0004, decay=1e-6)\n",
        "\n",
        "model.compile(loss='categorical_crossentropy',\n",
        "           optimizer=opt,\n",
        "           metrics=['accuracy'])\n"
      ],
      "execution_count": 0,
      "outputs": []
    },
    {
      "cell_type": "code",
      "metadata": {
        "id": "tvoh3fsseUHY",
        "colab_type": "code",
        "outputId": "fca8725d-6275-4851-ddcb-91f3c99f222c",
        "colab": {
          "base_uri": "https://localhost:8080/",
          "height": 35
        }
      },
      "source": [
        "print('Using real-time data augmentation.')\n",
        "\n",
        "datagen = ImageDataGenerator(\n",
        "featurewise_center=False, \n",
        "samplewise_center=False,  \n",
        "featurewise_std_normalization=False,\n",
        "samplewise_std_normalization=False, \n",
        "zca_whitening=False, \n",
        "rotation_range=0, \n",
        "width_shift_range=0.1, \n",
        "height_shift_range=0.1,\n",
        "horizontal_flip=True, \n",
        "vertical_flip=False) \n",
        "\n",
        "datagen.fit(X_train)"
      ],
      "execution_count": 0,
      "outputs": [
        {
          "output_type": "stream",
          "text": [
            "Using real-time data augmentation.\n"
          ],
          "name": "stdout"
        }
      ]
    },
    {
      "cell_type": "code",
      "metadata": {
        "id": "rSHwAMm0eYbL",
        "colab_type": "code",
        "outputId": "2f904a20-3484-4307-89c2-f95d6ba30f03",
        "colab": {
          "base_uri": "https://localhost:8080/",
          "height": 364
        }
      },
      "source": [
        "#Let's train the model\n",
        "batch_size = 32 \n",
        "epochs = 10\n",
        "early_stop =EarlyStopping(patience=2)\n",
        "\n",
        "hist_7 = model.fit_generator(datagen.flow(X_train, y_train_c,batch_size=batch_size,shuffle=True),\n",
        "   steps_per_epoch=x_train.shape[0] // batch_size,\n",
        "   epochs=epochs,\n",
        "   validation_data=(X_test, y_test_c),\n",
        "   workers=4)"
      ],
      "execution_count": 0,
      "outputs": [
        {
          "output_type": "stream",
          "text": [
            "Epoch 1/10\n",
            "1562/1562 [==============================] - 146s 93ms/step - loss: 0.5348 - acc: 0.7327 - val_loss: 0.4737 - val_acc: 0.7683\n",
            "Epoch 2/10\n",
            "1562/1562 [==============================] - 138s 89ms/step - loss: 0.4394 - acc: 0.7931 - val_loss: 0.4301 - val_acc: 0.8042\n",
            "Epoch 3/10\n",
            "1562/1562 [==============================] - 140s 89ms/step - loss: 0.3902 - acc: 0.8206 - val_loss: 0.4001 - val_acc: 0.8367\n",
            "Epoch 4/10\n",
            "1562/1562 [==============================] - 138s 89ms/step - loss: 0.3557 - acc: 0.8385 - val_loss: 0.3761 - val_acc: 0.8342\n",
            "Epoch 5/10\n",
            "1562/1562 [==============================] - 140s 89ms/step - loss: 0.3349 - acc: 0.8500 - val_loss: 0.3538 - val_acc: 0.8492\n",
            "Epoch 6/10\n",
            "1562/1562 [==============================] - 141s 90ms/step - loss: 0.3135 - acc: 0.8616 - val_loss: 0.3713 - val_acc: 0.8358\n",
            "Epoch 7/10\n",
            "1562/1562 [==============================] - 140s 90ms/step - loss: 0.2924 - acc: 0.8736 - val_loss: 0.3840 - val_acc: 0.8208\n",
            "Epoch 8/10\n",
            "1562/1562 [==============================] - 140s 90ms/step - loss: 0.2761 - acc: 0.8818 - val_loss: 0.3640 - val_acc: 0.8442\n",
            "Epoch 9/10\n",
            "1562/1562 [==============================] - 142s 91ms/step - loss: 0.2617 - acc: 0.8885 - val_loss: 0.3459 - val_acc: 0.8425\n",
            "Epoch 10/10\n",
            "1562/1562 [==============================] - 147s 94ms/step - loss: 0.2488 - acc: 0.8933 - val_loss: 0.3565 - val_acc: 0.8483\n"
          ],
          "name": "stdout"
        }
      ]
    },
    {
      "cell_type": "code",
      "metadata": {
        "id": "2W6IiwL_ecgy",
        "colab_type": "code",
        "outputId": "1d1ce99e-b230-4e32-913a-a86213c08c90",
        "colab": {
          "base_uri": "https://localhost:8080/",
          "height": 35
        }
      },
      "source": [
        "scores = model.evaluate(X_test, y_test_c, verbose=0)\n",
        "print(\"CNN score: %.2f%%\" % (scores[1]*100))"
      ],
      "execution_count": 0,
      "outputs": [
        {
          "output_type": "stream",
          "text": [
            "CNN score: 84.83%\n"
          ],
          "name": "stdout"
        }
      ]
    },
    {
      "cell_type": "code",
      "metadata": {
        "id": "GQKJHGoueo7t",
        "colab_type": "code",
        "outputId": "93600e72-7db7-447a-cea8-f9f019f87bd7",
        "colab": {
          "base_uri": "https://localhost:8080/",
          "height": 351
        }
      },
      "source": [
        "plot_model_history(hist_7)"
      ],
      "execution_count": 0,
      "outputs": [
        {
          "output_type": "display_data",
          "data": {
            "image/png": "[encoded data removed]",
            "text/plain": [
              "<Figure size 1080x360 with 2 Axes>"
            ]
          },
          "metadata": {
            "tags": []
          }
        }
      ]
    },
    {
      "cell_type": "markdown",
      "metadata": {
        "id": "i3H-wZZtmis9",
        "colab_type": "text"
      },
      "source": [
        "# CNN 8"
      ]
    },
    {
      "cell_type": "code",
      "metadata": {
        "id": "7Pin9HPYlyY2",
        "colab_type": "code",
        "colab": {}
      },
      "source": [
        "model_cnn9 = Sequential()\n",
        "\n",
        "model_cnn9.add(Conv2D(32, kernel_size=(3, 3),padding=\"same\",activation='relu', input_shape=X_train.shape[1:]))\n",
        "model_cnn9.add(MaxPooling2D(pool_size=(2, 2)))\n",
        "\n",
        "model_cnn9.add(Conv2D(64, kernel_size=(2, 2),activation='relu'))\n",
        "model_cnn9.add(MaxPooling2D(pool_size=(2, 2)))\n",
        "#model_cnn9.add(Dropout(0.5))\n",
        "\n",
        "\n",
        "model_cnn9.add(Flatten())\n",
        "model_cnn9.add(Dense(256, activation='relu'))\n",
        "model_cnn9.add(Dropout(0.5))\n",
        "\n",
        "model_cnn9.add(Dense(2, activation='softmax'))\n",
        "\n",
        "\n",
        "opt = Adam(lr=0.0004, decay=1e-6)\n",
        "\n",
        "model_cnn9.compile(loss='categorical_crossentropy',\n",
        "           optimizer=opt,\n",
        "           metrics=['accuracy'])\n"
      ],
      "execution_count": 0,
      "outputs": []
    },
    {
      "cell_type": "code",
      "metadata": {
        "id": "SXQ0_DSbnBXN",
        "colab_type": "code",
        "outputId": "491c0675-c317-4b2e-c339-14166e801af7",
        "colab": {
          "base_uri": "https://localhost:8080/",
          "height": 35
        }
      },
      "source": [
        "print('Using real-time data augmentation.')\n",
        "\n",
        "datagen = ImageDataGenerator(\n",
        "featurewise_center=False, \n",
        "samplewise_center=False,  \n",
        "featurewise_std_normalization=False,\n",
        "samplewise_std_normalization=False, \n",
        "zca_whitening=False, \n",
        "rotation_range=0, \n",
        "width_shift_range=0.1, \n",
        "height_shift_range=0.1,\n",
        "horizontal_flip=True, \n",
        "vertical_flip=False) \n",
        "\n",
        "datagen.fit(X_train)"
      ],
      "execution_count": 0,
      "outputs": [
        {
          "output_type": "stream",
          "text": [
            "Using real-time data augmentation.\n"
          ],
          "name": "stdout"
        }
      ]
    },
    {
      "cell_type": "code",
      "metadata": {
        "id": "HfHFnpNgnGJH",
        "colab_type": "code",
        "outputId": "d3be8a5b-5e6b-423a-c406-da2b3aa0f02f",
        "colab": {
          "base_uri": "https://localhost:8080/",
          "height": 364
        }
      },
      "source": [
        "#Let's train the model\n",
        "batch_size = 32 \n",
        "epochs = 10\n",
        "early_stop =EarlyStopping(patience=2)\n",
        "\n",
        "hist_9 = model_cnn9.fit_generator(datagen.flow(X_train, y_train_c,batch_size=batch_size,shuffle=True),\n",
        "   steps_per_epoch=x_train.shape[0] // batch_size,\n",
        "   epochs=epochs,\n",
        "   validation_data=(X_test, y_test_c),\n",
        "   workers=4)"
      ],
      "execution_count": 0,
      "outputs": [
        {
          "output_type": "stream",
          "text": [
            "Epoch 1/10\n",
            "1562/1562 [==============================] - 148s 95ms/step - loss: 0.5030 - acc: 0.7503 - val_loss: 0.4427 - val_acc: 0.7833\n",
            "Epoch 2/10\n",
            "1562/1562 [==============================] - 131s 84ms/step - loss: 0.4016 - acc: 0.8133 - val_loss: 0.4064 - val_acc: 0.8200\n",
            "Epoch 3/10\n",
            "1562/1562 [==============================] - 140s 90ms/step - loss: 0.3453 - acc: 0.8455 - val_loss: 0.3758 - val_acc: 0.8325\n",
            "Epoch 4/10\n",
            "1562/1562 [==============================] - 137s 88ms/step - loss: 0.3079 - acc: 0.8647 - val_loss: 0.4126 - val_acc: 0.8267\n",
            "Epoch 5/10\n",
            "1562/1562 [==============================] - 140s 90ms/step - loss: 0.2776 - acc: 0.8801 - val_loss: 0.3735 - val_acc: 0.8533\n",
            "Epoch 6/10\n",
            "1562/1562 [==============================] - 149s 95ms/step - loss: 0.2517 - acc: 0.8923 - val_loss: 0.3600 - val_acc: 0.8425\n",
            "Epoch 7/10\n",
            "1562/1562 [==============================] - 144s 92ms/step - loss: 0.2299 - acc: 0.9027 - val_loss: 0.3505 - val_acc: 0.8600\n",
            "Epoch 8/10\n",
            "1562/1562 [==============================] - 143s 92ms/step - loss: 0.2072 - acc: 0.9139 - val_loss: 0.3695 - val_acc: 0.8500\n",
            "Epoch 9/10\n",
            "1562/1562 [==============================] - 141s 90ms/step - loss: 0.1864 - acc: 0.9233 - val_loss: 0.3726 - val_acc: 0.8633\n",
            "Epoch 10/10\n",
            "1562/1562 [==============================] - 141s 90ms/step - loss: 0.1695 - acc: 0.9325 - val_loss: 0.3833 - val_acc: 0.8500\n"
          ],
          "name": "stdout"
        }
      ]
    },
    {
      "cell_type": "code",
      "metadata": {
        "id": "d9LwMWXDnGFZ",
        "colab_type": "code",
        "outputId": "75588026-8791-4018-8dcb-a8eb37e4c0b3",
        "colab": {
          "base_uri": "https://localhost:8080/",
          "height": 35
        }
      },
      "source": [
        "scores = model_cnn9.evaluate(X_test, y_test_c, verbose=0)\n",
        "print(\"CNN score: %.2f%%\" % (scores[1]*100))"
      ],
      "execution_count": 0,
      "outputs": [
        {
          "output_type": "stream",
          "text": [
            "CNN score: 85.00%\n"
          ],
          "name": "stdout"
        }
      ]
    },
    {
      "cell_type": "code",
      "metadata": {
        "id": "ifN8lqFinF9K",
        "colab_type": "code",
        "outputId": "5bec63bd-ba46-4127-916c-cd1ce313f498",
        "colab": {
          "base_uri": "https://localhost:8080/",
          "height": 351
        }
      },
      "source": [
        "plot_model_history(hist_9)"
      ],
      "execution_count": 0,
      "outputs": [
        {
          "output_type": "display_data",
          "data": {
            "image/png": "[encoded data removed]",
            "text/plain": [
              "<Figure size 1080x360 with 2 Axes>"
            ]
          },
          "metadata": {
            "tags": []
          }
        }
      ]
    },
    {
      "cell_type": "code",
      "metadata": {
        "id": "kbyBki3q9ZiI",
        "colab_type": "code",
        "colab": {}
      },
      "source": [
        ""
      ],
      "execution_count": 0,
      "outputs": []
    },
    {
      "cell_type": "code",
      "metadata": {
        "id": "LIxTRFHa9Zds",
        "colab_type": "code",
        "colab": {}
      },
      "source": [
        ""
      ],
      "execution_count": 0,
      "outputs": []
    },
    {
      "cell_type": "code",
      "metadata": {
        "id": "As7I4kr99ZXQ",
        "colab_type": "code",
        "colab": {}
      },
      "source": [
        ""
      ],
      "execution_count": 0,
      "outputs": []
    },
    {
      "cell_type": "code",
      "metadata": {
        "id": "xj4zwLVD9ZTV",
        "colab_type": "code",
        "colab": {}
      },
      "source": [
        ""
      ],
      "execution_count": 0,
      "outputs": []
    },
    {
      "cell_type": "code",
      "metadata": {
        "id": "hM2nXo1x9ZOA",
        "colab_type": "code",
        "colab": {}
      },
      "source": [
        ""
      ],
      "execution_count": 0,
      "outputs": []
    },
    {
      "cell_type": "code",
      "metadata": {
        "id": "jYvHiLyd9ZHv",
        "colab_type": "code",
        "colab": {}
      },
      "source": [
        ""
      ],
      "execution_count": 0,
      "outputs": []
    },
    {
      "cell_type": "code",
      "metadata": {
        "id": "Wwv8wD409YWI",
        "colab_type": "code",
        "colab": {}
      },
      "source": [
        ""
      ],
      "execution_count": 0,
      "outputs": []
    },
    {
      "cell_type": "markdown",
      "metadata": {
        "id": "GWQ_3O9IznE9",
        "colab_type": "text"
      },
      "source": [
        "## CNN 10"
      ]
    },
    {
      "cell_type": "code",
      "metadata": {
        "id": "T-CcmvA1zl2z",
        "colab_type": "code",
        "outputId": "c7527d28-46a7-4582-f4be-bf143bb9bbdf",
        "colab": {
          "base_uri": "https://localhost:8080/",
          "height": 141
        }
      },
      "source": [
        "model_cnn10 = Sequential()\n",
        "\n",
        "model_cnn10.add(Conv2D(32, kernel_size=(3, 3),padding=\"same\",activation='relu', input_shape=X_train.shape[1:]))\n",
        "model_cnn10.add(MaxPooling2D(pool_size=(2, 2)))\n",
        "model_cnn10.add(Dropout(0.5))\n",
        "\n",
        "model_cnn10.add(Conv2D(64, kernel_size=(2, 2),activation='relu'))\n",
        "model_cnn10.add(MaxPooling2D(pool_size=(2, 2)))\n",
        "model_cnn10.add(Dropout(0.5))\n",
        "\n",
        "\n",
        "model_cnn10.add(Flatten())\n",
        "model_cnn10.add(Dense(256, activation='relu'))\n",
        "model_cnn10.add(Dropout(0.5))\n",
        "\n",
        "model_cnn10.add(Dense(2, activation='softmax'))\n",
        "\n",
        "\n",
        "opt = Adam(lr=0.0004, decay=1e-6)\n",
        "\n",
        "model_cnn10.compile(loss='categorical_crossentropy',\n",
        "           optimizer=opt,\n",
        "           metrics=['accuracy'])"
      ],
      "execution_count": 0,
      "outputs": [
        {
          "output_type": "stream",
          "text": [
            "WARNING:tensorflow:From /usr/local/lib/python3.6/dist-packages/tensorflow/python/framework/op_def_library.py:263: colocate_with (from tensorflow.python.framework.ops) is deprecated and will be removed in a future version.\n",
            "Instructions for updating:\n",
            "Colocations handled automatically by placer.\n",
            "WARNING:tensorflow:From /usr/local/lib/python3.6/dist-packages/keras/backend/tensorflow_backend.py:3445: calling dropout (from tensorflow.python.ops.nn_ops) with keep_prob is deprecated and will be removed in a future version.\n",
            "Instructions for updating:\n",
            "Please use `rate` instead of `keep_prob`. Rate should be set to `rate = 1 - keep_prob`.\n"
          ],
          "name": "stdout"
        }
      ]
    },
    {
      "cell_type": "code",
      "metadata": {
        "id": "ur5m2TynzHCw",
        "colab_type": "code",
        "outputId": "72eb0910-7cb0-4dd0-9931-2129fc065363",
        "colab": {
          "base_uri": "https://localhost:8080/",
          "height": 35
        }
      },
      "source": [
        "print('Using real-time data augmentation.')\n",
        "\n",
        "datagen = ImageDataGenerator(\n",
        "featurewise_center=False, \n",
        "samplewise_center=False,  \n",
        "featurewise_std_normalization=False,\n",
        "samplewise_std_normalization=False, \n",
        "zca_whitening=False, \n",
        "rotation_range=0, \n",
        "width_shift_range=0.1, \n",
        "height_shift_range=0.1,\n",
        "horizontal_flip=True, \n",
        "vertical_flip=False) \n",
        "\n",
        "datagen.fit(X_train)"
      ],
      "execution_count": 0,
      "outputs": [
        {
          "output_type": "stream",
          "text": [
            "Using real-time data augmentation.\n"
          ],
          "name": "stdout"
        }
      ]
    },
    {
      "cell_type": "code",
      "metadata": {
        "id": "I0a0ejv_0rNK",
        "colab_type": "code",
        "outputId": "b28ea02a-4ad8-4582-b02c-bd97bde02f59",
        "colab": {
          "base_uri": "https://localhost:8080/",
          "height": 436
        }
      },
      "source": [
        "#Let's train the model\n",
        "batch_size = 32 \n",
        "epochs = 10\n",
        "early_stop =EarlyStopping(patience=2)\n",
        "\n",
        "hist_10 = model_cnn10.fit_generator(datagen.flow(X_train, y_train_c,batch_size=batch_size,shuffle=True),\n",
        "   steps_per_epoch=x_train.shape[0] // batch_size,\n",
        "   epochs=epochs,\n",
        "   validation_data=(X_test, y_test_c),\n",
        "   workers=4)"
      ],
      "execution_count": 0,
      "outputs": [
        {
          "output_type": "stream",
          "text": [
            "WARNING:tensorflow:From /usr/local/lib/python3.6/dist-packages/tensorflow/python/ops/math_ops.py:3066: to_int32 (from tensorflow.python.ops.math_ops) is deprecated and will be removed in a future version.\n",
            "Instructions for updating:\n",
            "Use tf.cast instead.\n",
            "Epoch 1/10\n",
            "1562/1562 [==============================] - 166s 106ms/step - loss: 0.5671 - acc: 0.7062 - val_loss: 0.4980 - val_acc: 0.7633\n",
            "Epoch 2/10\n",
            "1562/1562 [==============================] - 164s 105ms/step - loss: 0.4952 - acc: 0.7584 - val_loss: 0.4739 - val_acc: 0.7817\n",
            "Epoch 3/10\n",
            "1562/1562 [==============================] - 164s 105ms/step - loss: 0.4583 - acc: 0.7792 - val_loss: 0.4308 - val_acc: 0.8042\n",
            "Epoch 4/10\n",
            "1562/1562 [==============================] - 165s 106ms/step - loss: 0.4260 - acc: 0.7989 - val_loss: 0.4045 - val_acc: 0.8233\n",
            "Epoch 5/10\n",
            "1562/1562 [==============================] - 166s 106ms/step - loss: 0.4042 - acc: 0.8132 - val_loss: 0.4158 - val_acc: 0.8133\n",
            "Epoch 6/10\n",
            "1562/1562 [==============================] - 166s 106ms/step - loss: 0.3846 - acc: 0.8231 - val_loss: 0.3810 - val_acc: 0.8250\n",
            "Epoch 7/10\n",
            "1562/1562 [==============================] - 158s 101ms/step - loss: 0.3685 - acc: 0.8323 - val_loss: 0.3691 - val_acc: 0.8275\n",
            "Epoch 8/10\n",
            "1562/1562 [==============================] - 156s 100ms/step - loss: 0.3528 - acc: 0.8403 - val_loss: 0.3693 - val_acc: 0.8367\n",
            "Epoch 9/10\n",
            "1562/1562 [==============================] - 156s 100ms/step - loss: 0.3474 - acc: 0.8447 - val_loss: 0.3633 - val_acc: 0.8408\n",
            "Epoch 10/10\n",
            "1562/1562 [==============================] - 158s 101ms/step - loss: 0.3342 - acc: 0.8517 - val_loss: 0.3475 - val_acc: 0.8417\n"
          ],
          "name": "stdout"
        }
      ]
    },
    {
      "cell_type": "code",
      "metadata": {
        "id": "_hPihHXY09LV",
        "colab_type": "code",
        "outputId": "79974d17-7ef0-4abf-a638-a5d6f8e70636",
        "colab": {
          "base_uri": "https://localhost:8080/",
          "height": 35
        }
      },
      "source": [
        "scores = model_cnn10.evaluate(X_test, y_test_c, verbose=0)\n",
        "print(\"CNN score: %.2f%%\" % (scores[1]*100))"
      ],
      "execution_count": 0,
      "outputs": [
        {
          "output_type": "stream",
          "text": [
            "CNN score: 84.92%\n"
          ],
          "name": "stdout"
        }
      ]
    },
    {
      "cell_type": "code",
      "metadata": {
        "id": "Zx2p7V4C7yDZ",
        "colab_type": "code",
        "outputId": "b9ec866d-8358-4106-ba81-c1ed84dd5439",
        "colab": {
          "base_uri": "https://localhost:8080/",
          "height": 351
        }
      },
      "source": [
        "plot_model_history(hist_10)"
      ],
      "execution_count": 0,
      "outputs": [
        {
          "output_type": "display_data",
          "data": {
            "image/png": "[encoded data removed]",
            "text/plain": [
              "<Figure size 1080x360 with 2 Axes>"
            ]
          },
          "metadata": {
            "tags": []
          }
        }
      ]
    },
    {
      "cell_type": "code",
      "metadata": {
        "id": "1XcADa8f8GFO",
        "colab_type": "code",
        "outputId": "f4b8329b-442f-49ce-ca0b-c402ce15b458",
        "colab": {
          "base_uri": "https://localhost:8080/",
          "height": 235
        }
      },
      "source": [
        "Y_pred = model_cnn10.predict(X_test, verbose=2)\n",
        "y_pred = np.argmax(Y_pred, axis=1)\n",
        "from sklearn.metrics import confusion_matrix\n",
        "import pandas as pd\n",
        "\n",
        "confusion_df = pd.DataFrame(confusion_matrix(np.argmax(y_test_c,axis=1),y_pred),\n",
        "            columns=[\"Predicted Class \" + str(class_name) for class_name in ['Electronics','Furniture']],\n",
        "            index = [\"Class \" + str(class_name) for class_name in ['Electronics','Furniture']])\n",
        "\n",
        "print(confusion_df)"
      ],
      "execution_count": 0,
      "outputs": [
        {
          "output_type": "error",
          "ename": "NameError",
          "evalue": "ignored",
          "traceback": [
            "\u001b[0;31m---------------------------------------------------------------------------\u001b[0m",
            "\u001b[0;31mNameError\u001b[0m                                 Traceback (most recent call last)",
            "\u001b[0;32m<ipython-input-2-251c2b8e6c03>\u001b[0m in \u001b[0;36m<module>\u001b[0;34m()\u001b[0m\n\u001b[0;32m----> 1\u001b[0;31m \u001b[0mY_pred\u001b[0m \u001b[0;34m=\u001b[0m \u001b[0mmodel_cnn10\u001b[0m\u001b[0;34m.\u001b[0m\u001b[0mpredict\u001b[0m\u001b[0;34m(\u001b[0m\u001b[0mX_test\u001b[0m\u001b[0;34m,\u001b[0m \u001b[0mverbose\u001b[0m\u001b[0;34m=\u001b[0m\u001b[0;36m2\u001b[0m\u001b[0;34m)\u001b[0m\u001b[0;34m\u001b[0m\u001b[0;34m\u001b[0m\u001b[0m\n\u001b[0m\u001b[1;32m      2\u001b[0m \u001b[0my_pred\u001b[0m \u001b[0;34m=\u001b[0m \u001b[0mnp\u001b[0m\u001b[0;34m.\u001b[0m\u001b[0margmax\u001b[0m\u001b[0;34m(\u001b[0m\u001b[0mY_pred\u001b[0m\u001b[0;34m,\u001b[0m \u001b[0maxis\u001b[0m\u001b[0;34m=\u001b[0m\u001b[0;36m1\u001b[0m\u001b[0;34m)\u001b[0m\u001b[0;34m\u001b[0m\u001b[0;34m\u001b[0m\u001b[0m\n\u001b[1;32m      3\u001b[0m \u001b[0;32mfrom\u001b[0m \u001b[0msklearn\u001b[0m\u001b[0;34m.\u001b[0m\u001b[0mmetrics\u001b[0m \u001b[0;32mimport\u001b[0m \u001b[0mconfusion_matrix\u001b[0m\u001b[0;34m\u001b[0m\u001b[0;34m\u001b[0m\u001b[0m\n\u001b[1;32m      4\u001b[0m \u001b[0;32mimport\u001b[0m \u001b[0mpandas\u001b[0m \u001b[0;32mas\u001b[0m \u001b[0mpd\u001b[0m\u001b[0;34m\u001b[0m\u001b[0;34m\u001b[0m\u001b[0m\n\u001b[1;32m      5\u001b[0m \u001b[0;34m\u001b[0m\u001b[0m\n",
            "\u001b[0;31mNameError\u001b[0m: name 'model_cnn10' is not defined"
          ]
        }
      ]
    },
    {
      "cell_type": "code",
      "metadata": {
        "id": "7_JrS20w9yYe",
        "colab_type": "code",
        "colab": {}
      },
      "source": [
        "from sklearn.metrics import classification_report\n",
        "target_names = ['Electronics','Furniture']\n",
        "print(classification_report(np.argmax(y_test_c,axis=1), y_pred, target_names=target_names))"
      ],
      "execution_count": 0,
      "outputs": []
    },
    {
      "cell_type": "code",
      "metadata": {
        "id": "SOX5o25A-Ptc",
        "colab_type": "code",
        "colab": {}
      },
      "source": [
        "from sklearn.metrics import confusion_matrix\n",
        "import seaborn as sn\n",
        "labels = np.unique(y)\n",
        "#cm = confusion_matrix(y, predicted,labels)\n",
        "\n",
        "plt.figure(figsize = (6,6))\n",
        "#df_cm = pd.DataFrame(cm, index = [i for i in labels],\n",
        "#                 columns = [i for i in labels])\n",
        "\n",
        "ax=sn.heatmap(confusion_df, annot=True)\n"
      ],
      "execution_count": 0,
      "outputs": []
    },
    {
      "cell_type": "markdown",
      "metadata": {
        "id": "5de5YN5Z-PTU",
        "colab_type": "text"
      },
      "source": [
        ""
      ]
    }
  ]
}