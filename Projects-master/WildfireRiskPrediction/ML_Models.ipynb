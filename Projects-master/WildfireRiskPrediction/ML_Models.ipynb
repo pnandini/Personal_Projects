{
  "nbformat": 4,
  "nbformat_minor": 0,
  "metadata": {
    "colab": {
      "name": "1dayPositive&1dayNegative_allGrids(nandini)",
      "provenance": [],
      "collapsed_sections": [
        "uboX2upA13Fe",
        "gLNK2HSwkeI4",
        "93atCt5GldIH",
        "IAMEmN2Y2o4a",
        "DXhysDMkL_em",
        "ySqFlltCfenN",
        "tJCmC42oDCef",
        "0OCn05d-4m75",
        "AmPDWvBhnICw",
        "WEHBZFPNjk8F",
        "oZTV16rn6_11",
        "5nOl8Gk-KDhF",
        "-kgwc05mFCWm",
        "AgMQjq1L4pVN",
        "PUGhDhtDElw5"
      ]
    },
    "kernelspec": {
      "name": "python3",
      "display_name": "Python 3"
    }
  },
  "cells": [
    {
      "cell_type": "markdown",
      "metadata": {
        "id": "uboX2upA13Fe",
        "colab_type": "text"
      },
      "source": [
        "#Setting up"
      ]
    },
    {
      "cell_type": "code",
      "metadata": {
        "id": "e5fzisXYC3Nk",
        "colab_type": "code",
        "outputId": "0325658f-d1b0-4d8b-a6c1-ed44776514c6",
        "colab": {
          "base_uri": "https://localhost:8080/",
          "height": 437
        }
      },
      "source": [
        "!pip install geopandas"
      ],
      "execution_count": 0,
      "outputs": [
        {
          "output_type": "stream",
          "text": [
            "Collecting geopandas\n",
            "\u001b[?25l  Downloading https://files.pythonhosted.org/packages/83/c5/3cf9cdc39a6f2552922f79915f36b45a95b71fd343cfc51170a5b6ddb6e8/geopandas-0.7.0-py2.py3-none-any.whl (928kB)\n",
            "\u001b[K     |████████████████████████████████| 931kB 4.7MB/s \n",
            "\u001b[?25hRequirement already satisfied: pandas>=0.23.0 in /usr/local/lib/python3.6/dist-packages (from geopandas) (1.0.3)\n",
            "Collecting fiona\n",
            "\u001b[?25l  Downloading https://files.pythonhosted.org/packages/ec/20/4e63bc5c6e62df889297b382c3ccd4a7a488b00946aaaf81a118158c6f09/Fiona-1.8.13.post1-cp36-cp36m-manylinux1_x86_64.whl (14.7MB)\n",
            "\u001b[K     |████████████████████████████████| 14.7MB 274kB/s \n",
            "\u001b[?25hRequirement already satisfied: shapely in /usr/local/lib/python3.6/dist-packages (from geopandas) (1.7.0)\n",
            "Collecting pyproj>=2.2.0\n",
            "\u001b[?25l  Downloading https://files.pythonhosted.org/packages/ce/37/705ee471f71130d4ceee41bbcb06f3b52175cb89273cbb5755ed5e6374e0/pyproj-2.6.0-cp36-cp36m-manylinux2010_x86_64.whl (10.4MB)\n",
            "\u001b[K     |████████████████████████████████| 10.4MB 42.6MB/s \n",
            "\u001b[?25hRequirement already satisfied: python-dateutil>=2.6.1 in /usr/local/lib/python3.6/dist-packages (from pandas>=0.23.0->geopandas) (2.8.1)\n",
            "Requirement already satisfied: pytz>=2017.2 in /usr/local/lib/python3.6/dist-packages (from pandas>=0.23.0->geopandas) (2018.9)\n",
            "Requirement already satisfied: numpy>=1.13.3 in /usr/local/lib/python3.6/dist-packages (from pandas>=0.23.0->geopandas) (1.18.3)\n",
            "Collecting cligj>=0.5\n",
            "  Downloading https://files.pythonhosted.org/packages/e4/be/30a58b4b0733850280d01f8bd132591b4668ed5c7046761098d665ac2174/cligj-0.5.0-py3-none-any.whl\n",
            "Requirement already satisfied: six>=1.7 in /usr/local/lib/python3.6/dist-packages (from fiona->geopandas) (1.12.0)\n",
            "Collecting munch\n",
            "  Downloading https://files.pythonhosted.org/packages/cc/ab/85d8da5c9a45e072301beb37ad7f833cd344e04c817d97e0cc75681d248f/munch-2.5.0-py2.py3-none-any.whl\n",
            "Collecting click-plugins>=1.0\n",
            "  Downloading https://files.pythonhosted.org/packages/e9/da/824b92d9942f4e472702488857914bdd50f73021efea15b4cad9aca8ecef/click_plugins-1.1.1-py2.py3-none-any.whl\n",
            "Requirement already satisfied: click<8,>=4.0 in /usr/local/lib/python3.6/dist-packages (from fiona->geopandas) (7.1.1)\n",
            "Requirement already satisfied: attrs>=17 in /usr/local/lib/python3.6/dist-packages (from fiona->geopandas) (19.3.0)\n",
            "Installing collected packages: cligj, munch, click-plugins, fiona, pyproj, geopandas\n",
            "Successfully installed click-plugins-1.1.1 cligj-0.5.0 fiona-1.8.13.post1 geopandas-0.7.0 munch-2.5.0 pyproj-2.6.0\n"
          ],
          "name": "stdout"
        }
      ]
    },
    {
      "cell_type": "code",
      "metadata": {
        "id": "iZRht3QjkLqc",
        "colab_type": "code",
        "colab": {}
      },
      "source": [
        "import pandas as pd\n",
        "import numpy as np\n",
        "import datetime \n",
        "from geopandas import GeoDataFrame\n",
        "from shapely.geometry import Polygon \n",
        "import fiona"
      ],
      "execution_count": 0,
      "outputs": []
    },
    {
      "cell_type": "code",
      "metadata": {
        "id": "JHkojvlJDAO4",
        "colab_type": "code",
        "colab": {}
      },
      "source": [
        "!pip install -U -q PyDrive\n",
        "from pydrive.auth import GoogleAuth\n",
        "from pydrive.drive import GoogleDrive\n",
        "from google.colab import auth\n",
        "from oauth2client.client import GoogleCredentials\n",
        "\n",
        "# 1. Authenticate and create the PyDrive client.\n",
        "auth.authenticate_user()\n",
        "gauth = GoogleAuth()\n",
        "gauth.credentials = GoogleCredentials.get_application_default()\n",
        "drive = GoogleDrive(gauth)"
      ],
      "execution_count": 0,
      "outputs": []
    },
    {
      "cell_type": "code",
      "metadata": {
        "id": "b33Rw9097LIN",
        "colab_type": "code",
        "outputId": "ef8762eb-6d58-45fd-bf9f-184e45ce6742",
        "colab": {
          "base_uri": "https://localhost:8080/",
          "height": 104
        }
      },
      "source": [
        "from sklearn import datasets\n",
        "from sklearn.model_selection import train_test_split\n",
        "from sklearn.model_selection import GridSearchCV\n",
        "from sklearn.metrics import classification_report\n",
        "from sklearn.svm import SVC\n",
        "import imblearn\n",
        "from sklearn.datasets import make_classification\n",
        "from imblearn.over_sampling import SMOTE\n",
        "from sklearn.model_selection import cross_val_score, StratifiedKFold\n",
        "from sklearn.tree import DecisionTreeClassifier\n",
        "from sklearn.ensemble import RandomForestClassifier, ExtraTreesClassifier, BaggingClassifier\n",
        "from sklearn.preprocessing import StandardScaler\n",
        "# cv = StratifiedKFold(n_splits=3, shuffle=True)\n",
        "from sklearn.model_selection import GridSearchCV\n",
        "from sklearn.calibration import CalibratedClassifierCV\n",
        "from sklearn.metrics import confusion_matrix \n",
        "from sklearn.metrics import accuracy_score \n",
        "from sklearn.metrics import classification_report \n",
        "from sklearn.metrics import roc_curve\n",
        "from matplotlib import pyplot\n",
        "from sklearn.linear_model import LogisticRegression\n",
        "# from sklearn.linear_model import LogisticRegression\n",
        " \n",
        "#from sklearn.model_selection import train_test_split"
      ],
      "execution_count": 0,
      "outputs": [
        {
          "output_type": "stream",
          "text": [
            "/usr/local/lib/python3.6/dist-packages/sklearn/externals/six.py:31: FutureWarning: The module is deprecated in version 0.21 and will be removed in version 0.23 since we've dropped support for Python 2.7. Please rely on the official version of six (https://pypi.org/project/six/).\n",
            "  \"(https://pypi.org/project/six/).\", FutureWarning)\n",
            "/usr/local/lib/python3.6/dist-packages/sklearn/utils/deprecation.py:144: FutureWarning: The sklearn.neighbors.base module is  deprecated in version 0.22 and will be removed in version 0.24. The corresponding classes / functions should instead be imported from sklearn.neighbors. Anything that cannot be imported from sklearn.neighbors is now part of the private API.\n",
            "  warnings.warn(message, FutureWarning)\n"
          ],
          "name": "stderr"
        }
      ]
    },
    {
      "cell_type": "markdown",
      "metadata": {
        "id": "PNH2AZI6LGN6",
        "colab_type": "text"
      },
      "source": [
        "This colab has vegetaion data with fire one week before fire as positive and \n",
        "\n",
        "all records one week before that as no fire -- and it also has the non fire grids (indices) as well for each fire day"
      ]
    },
    {
      "cell_type": "markdown",
      "metadata": {
        "id": "gLNK2HSwkeI4",
        "colab_type": "text"
      },
      "source": [
        "#Import vegetation data"
      ]
    },
    {
      "cell_type": "markdown",
      "metadata": {
        "id": "_rDHuoX2LacO",
        "colab_type": "text"
      },
      "source": [
        "Below is 8 day aggregate vegetation data for all years from 2014 to 2019\n",
        "\n"
      ]
    },
    {
      "cell_type": "code",
      "metadata": {
        "id": "yrRqFGpGkvBo",
        "colab_type": "code",
        "outputId": "80e1fb97-c504-44f2-a114-ad5284935319",
        "colab": {
          "base_uri": "https://localhost:8080/",
          "height": 400
        }
      },
      "source": [
        "downloaded_veg = drive.CreateFile({'id':'1eRfdmOvwxt5YgTeq_oHcnXo8fA18U13Y'}) \n",
        "downloaded_veg.GetContentFile('vegetation.csv')\n",
        "veg_dat = pd.read_csv('vegetation.csv')\n",
        "veg_dat.head()"
      ],
      "execution_count": 0,
      "outputs": [
        {
          "output_type": "execute_result",
          "data": {
            "text/html": [
              "<div>\n",
              "<style scoped>\n",
              "    .dataframe tbody tr th:only-of-type {\n",
              "        vertical-align: middle;\n",
              "    }\n",
              "\n",
              "    .dataframe tbody tr th {\n",
              "        vertical-align: top;\n",
              "    }\n",
              "\n",
              "    .dataframe thead th {\n",
              "        text-align: right;\n",
              "    }\n",
              "</style>\n",
              "<table border=\"1\" class=\"dataframe\">\n",
              "  <thead>\n",
              "    <tr style=\"text-align: right;\">\n",
              "      <th></th>\n",
              "      <th>Unnamed: 0</th>\n",
              "      <th>left</th>\n",
              "      <th>top</th>\n",
              "      <th>right</th>\n",
              "      <th>bottom</th>\n",
              "      <th>id</th>\n",
              "      <th>geometry</th>\n",
              "      <th>Centroid Longitude</th>\n",
              "      <th>Centroid Latitude</th>\n",
              "      <th>Start Date</th>\n",
              "      <th>End Date</th>\n",
              "      <th>NDVI</th>\n",
              "      <th>EVI</th>\n",
              "      <th>NDWI</th>\n",
              "      <th>topLeft_coords</th>\n",
              "      <th>topRight_coords</th>\n",
              "      <th>bottomLeft_coords</th>\n",
              "      <th>bottomRight_coords</th>\n",
              "      <th>centroid_coords</th>\n",
              "      <th>midLeft_coords</th>\n",
              "      <th>midRight_coords</th>\n",
              "      <th>midTop_coords</th>\n",
              "      <th>midBottom_coords</th>\n",
              "      <th>diagonal1</th>\n",
              "      <th>diagonal2</th>\n",
              "      <th>diagonal3</th>\n",
              "      <th>diagonal4</th>\n",
              "      <th>fire_2018_COUNTY2</th>\n",
              "      <th>fire_2017_WINTER2</th>\n",
              "      <th>fire_2016_COLD2</th>\n",
              "      <th>fire_2015_WRAGG2</th>\n",
              "      <th>fire_2014_MONTICELLO2</th>\n",
              "      <th>target</th>\n",
              "    </tr>\n",
              "  </thead>\n",
              "  <tbody>\n",
              "    <tr>\n",
              "      <th>0</th>\n",
              "      <td>0</td>\n",
              "      <td>-122.124189</td>\n",
              "      <td>38.56926</td>\n",
              "      <td>-122.114189</td>\n",
              "      <td>38.55926</td>\n",
              "      <td>1</td>\n",
              "      <td>POLYGON ((-122.1241886091637 38.56925978424475...</td>\n",
              "      <td>-122.119189</td>\n",
              "      <td>38.56426</td>\n",
              "      <td>2014-01-01</td>\n",
              "      <td>2014-01-08</td>\n",
              "      <td>0.416393</td>\n",
              "      <td>0.340703</td>\n",
              "      <td>0.094683</td>\n",
              "      <td>(-122.1241886091637, 38.56925978424475)</td>\n",
              "      <td>(-122.11418860916369, 38.56925978424475)</td>\n",
              "      <td>(-122.1241886091637, 38.55925978424475)</td>\n",
              "      <td>(-122.11418860916369, 38.55925978424475)</td>\n",
              "      <td>(-122.11918860916371, 38.56425978424475)</td>\n",
              "      <td>(-122.1241886091637, 38.56425978424475)</td>\n",
              "      <td>(-122.11418860916369, 38.56425978424475)</td>\n",
              "      <td>(-122.11918860916371, 38.56925978424475)</td>\n",
              "      <td>(-122.11918860916371, 38.55925978424475)</td>\n",
              "      <td>(-122.12143860916372, 38.566509784244744)</td>\n",
              "      <td>(-122.11693860916371, 38.566509784244744)</td>\n",
              "      <td>(-122.11693860916371, 38.56200978424475)</td>\n",
              "      <td>(-122.12143860916372, 38.56200978424475)</td>\n",
              "      <td>False</td>\n",
              "      <td>False</td>\n",
              "      <td>False</td>\n",
              "      <td>False</td>\n",
              "      <td>False</td>\n",
              "      <td>False</td>\n",
              "    </tr>\n",
              "    <tr>\n",
              "      <th>1</th>\n",
              "      <td>1</td>\n",
              "      <td>-122.124189</td>\n",
              "      <td>38.56926</td>\n",
              "      <td>-122.114189</td>\n",
              "      <td>38.55926</td>\n",
              "      <td>1</td>\n",
              "      <td>POLYGON ((-122.1241886091637 38.56925978424475...</td>\n",
              "      <td>-122.119189</td>\n",
              "      <td>38.56426</td>\n",
              "      <td>2014-01-09</td>\n",
              "      <td>2014-01-16</td>\n",
              "      <td>0.416393</td>\n",
              "      <td>0.340703</td>\n",
              "      <td>0.094683</td>\n",
              "      <td>(-122.1241886091637, 38.56925978424475)</td>\n",
              "      <td>(-122.11418860916369, 38.56925978424475)</td>\n",
              "      <td>(-122.1241886091637, 38.55925978424475)</td>\n",
              "      <td>(-122.11418860916369, 38.55925978424475)</td>\n",
              "      <td>(-122.11918860916371, 38.56425978424475)</td>\n",
              "      <td>(-122.1241886091637, 38.56425978424475)</td>\n",
              "      <td>(-122.11418860916369, 38.56425978424475)</td>\n",
              "      <td>(-122.11918860916371, 38.56925978424475)</td>\n",
              "      <td>(-122.11918860916371, 38.55925978424475)</td>\n",
              "      <td>(-122.12143860916372, 38.566509784244744)</td>\n",
              "      <td>(-122.11693860916371, 38.566509784244744)</td>\n",
              "      <td>(-122.11693860916371, 38.56200978424475)</td>\n",
              "      <td>(-122.12143860916372, 38.56200978424475)</td>\n",
              "      <td>False</td>\n",
              "      <td>False</td>\n",
              "      <td>False</td>\n",
              "      <td>False</td>\n",
              "      <td>False</td>\n",
              "      <td>False</td>\n",
              "    </tr>\n",
              "    <tr>\n",
              "      <th>2</th>\n",
              "      <td>2</td>\n",
              "      <td>-122.124189</td>\n",
              "      <td>38.56926</td>\n",
              "      <td>-122.114189</td>\n",
              "      <td>38.55926</td>\n",
              "      <td>1</td>\n",
              "      <td>POLYGON ((-122.1241886091637 38.56925978424475...</td>\n",
              "      <td>-122.119189</td>\n",
              "      <td>38.56426</td>\n",
              "      <td>2014-01-17</td>\n",
              "      <td>2014-01-24</td>\n",
              "      <td>0.337617</td>\n",
              "      <td>0.310645</td>\n",
              "      <td>0.110320</td>\n",
              "      <td>(-122.1241886091637, 38.56925978424475)</td>\n",
              "      <td>(-122.11418860916369, 38.56925978424475)</td>\n",
              "      <td>(-122.1241886091637, 38.55925978424475)</td>\n",
              "      <td>(-122.11418860916369, 38.55925978424475)</td>\n",
              "      <td>(-122.11918860916371, 38.56425978424475)</td>\n",
              "      <td>(-122.1241886091637, 38.56425978424475)</td>\n",
              "      <td>(-122.11418860916369, 38.56425978424475)</td>\n",
              "      <td>(-122.11918860916371, 38.56925978424475)</td>\n",
              "      <td>(-122.11918860916371, 38.55925978424475)</td>\n",
              "      <td>(-122.12143860916372, 38.566509784244744)</td>\n",
              "      <td>(-122.11693860916371, 38.566509784244744)</td>\n",
              "      <td>(-122.11693860916371, 38.56200978424475)</td>\n",
              "      <td>(-122.12143860916372, 38.56200978424475)</td>\n",
              "      <td>False</td>\n",
              "      <td>False</td>\n",
              "      <td>False</td>\n",
              "      <td>False</td>\n",
              "      <td>False</td>\n",
              "      <td>False</td>\n",
              "    </tr>\n",
              "    <tr>\n",
              "      <th>3</th>\n",
              "      <td>3</td>\n",
              "      <td>-122.124189</td>\n",
              "      <td>38.56926</td>\n",
              "      <td>-122.114189</td>\n",
              "      <td>38.55926</td>\n",
              "      <td>1</td>\n",
              "      <td>POLYGON ((-122.1241886091637 38.56925978424475...</td>\n",
              "      <td>-122.119189</td>\n",
              "      <td>38.56426</td>\n",
              "      <td>2014-01-25</td>\n",
              "      <td>2014-02-01</td>\n",
              "      <td>0.258841</td>\n",
              "      <td>0.280587</td>\n",
              "      <td>0.125957</td>\n",
              "      <td>(-122.1241886091637, 38.56925978424475)</td>\n",
              "      <td>(-122.11418860916369, 38.56925978424475)</td>\n",
              "      <td>(-122.1241886091637, 38.55925978424475)</td>\n",
              "      <td>(-122.11418860916369, 38.55925978424475)</td>\n",
              "      <td>(-122.11918860916371, 38.56425978424475)</td>\n",
              "      <td>(-122.1241886091637, 38.56425978424475)</td>\n",
              "      <td>(-122.11418860916369, 38.56425978424475)</td>\n",
              "      <td>(-122.11918860916371, 38.56925978424475)</td>\n",
              "      <td>(-122.11918860916371, 38.55925978424475)</td>\n",
              "      <td>(-122.12143860916372, 38.566509784244744)</td>\n",
              "      <td>(-122.11693860916371, 38.566509784244744)</td>\n",
              "      <td>(-122.11693860916371, 38.56200978424475)</td>\n",
              "      <td>(-122.12143860916372, 38.56200978424475)</td>\n",
              "      <td>False</td>\n",
              "      <td>False</td>\n",
              "      <td>False</td>\n",
              "      <td>False</td>\n",
              "      <td>False</td>\n",
              "      <td>False</td>\n",
              "    </tr>\n",
              "    <tr>\n",
              "      <th>4</th>\n",
              "      <td>4</td>\n",
              "      <td>-122.124189</td>\n",
              "      <td>38.56926</td>\n",
              "      <td>-122.114189</td>\n",
              "      <td>38.55926</td>\n",
              "      <td>1</td>\n",
              "      <td>POLYGON ((-122.1241886091637 38.56925978424475...</td>\n",
              "      <td>-122.119189</td>\n",
              "      <td>38.56426</td>\n",
              "      <td>2014-02-02</td>\n",
              "      <td>2014-02-09</td>\n",
              "      <td>0.180065</td>\n",
              "      <td>0.250529</td>\n",
              "      <td>0.141595</td>\n",
              "      <td>(-122.1241886091637, 38.56925978424475)</td>\n",
              "      <td>(-122.11418860916369, 38.56925978424475)</td>\n",
              "      <td>(-122.1241886091637, 38.55925978424475)</td>\n",
              "      <td>(-122.11418860916369, 38.55925978424475)</td>\n",
              "      <td>(-122.11918860916371, 38.56425978424475)</td>\n",
              "      <td>(-122.1241886091637, 38.56425978424475)</td>\n",
              "      <td>(-122.11418860916369, 38.56425978424475)</td>\n",
              "      <td>(-122.11918860916371, 38.56925978424475)</td>\n",
              "      <td>(-122.11918860916371, 38.55925978424475)</td>\n",
              "      <td>(-122.12143860916372, 38.566509784244744)</td>\n",
              "      <td>(-122.11693860916371, 38.566509784244744)</td>\n",
              "      <td>(-122.11693860916371, 38.56200978424475)</td>\n",
              "      <td>(-122.12143860916372, 38.56200978424475)</td>\n",
              "      <td>False</td>\n",
              "      <td>False</td>\n",
              "      <td>False</td>\n",
              "      <td>False</td>\n",
              "      <td>False</td>\n",
              "      <td>False</td>\n",
              "    </tr>\n",
              "  </tbody>\n",
              "</table>\n",
              "</div>"
            ],
            "text/plain": [
              "   Unnamed: 0        left  ...  fire_2014_MONTICELLO2  target\n",
              "0           0 -122.124189  ...                  False   False\n",
              "1           1 -122.124189  ...                  False   False\n",
              "2           2 -122.124189  ...                  False   False\n",
              "3           3 -122.124189  ...                  False   False\n",
              "4           4 -122.124189  ...                  False   False\n",
              "\n",
              "[5 rows x 33 columns]"
            ]
          },
          "metadata": {
            "tags": []
          },
          "execution_count": 6
        }
      ]
    },
    {
      "cell_type": "code",
      "metadata": {
        "id": "nTyDVtYPt-0C",
        "colab_type": "code",
        "outputId": "8aa2e3d0-f976-4084-d42a-97923c97f8bf",
        "colab": {
          "base_uri": "https://localhost:8080/",
          "height": 34
        }
      },
      "source": [
        "veg_dat.shape"
      ],
      "execution_count": 0,
      "outputs": [
        {
          "output_type": "execute_result",
          "data": {
            "text/plain": [
              "(17388, 33)"
            ]
          },
          "metadata": {
            "tags": []
          },
          "execution_count": 7
        }
      ]
    },
    {
      "cell_type": "markdown",
      "metadata": {
        "id": "93atCt5GldIH",
        "colab_type": "text"
      },
      "source": [
        "#Filter vegetation data fro years - 2015,2016,2017,2018 as we do no have 2014 weather data"
      ]
    },
    {
      "cell_type": "code",
      "metadata": {
        "id": "7y0jSin5lf6K",
        "colab_type": "code",
        "colab": {}
      },
      "source": [
        "veg_dat['Start Date'] = pd.to_datetime(veg_dat['Start Date'])"
      ],
      "execution_count": 0,
      "outputs": []
    },
    {
      "cell_type": "code",
      "metadata": {
        "id": "Zs4tyMT6lpUr",
        "colab_type": "code",
        "colab": {}
      },
      "source": [
        "veg_train = veg_dat[(veg_dat['Start Date'] > datetime.datetime(2014, 12, 31)) & (veg_dat['Start Date'] < datetime.datetime(2019, 1, 1))]"
      ],
      "execution_count": 0,
      "outputs": []
    },
    {
      "cell_type": "code",
      "metadata": {
        "id": "jzxUxRbfmrMP",
        "colab_type": "code",
        "outputId": "f6f18175-18f9-4f1b-e1ea-0091cfb26198",
        "colab": {
          "base_uri": "https://localhost:8080/",
          "height": 689
        }
      },
      "source": [
        "veg_train.info()"
      ],
      "execution_count": 0,
      "outputs": [
        {
          "output_type": "stream",
          "text": [
            "<class 'pandas.core.frame.DataFrame'>\n",
            "Int64Index: 11592 entries, 46 to 17341\n",
            "Data columns (total 33 columns):\n",
            " #   Column                 Non-Null Count  Dtype         \n",
            "---  ------                 --------------  -----         \n",
            " 0   Unnamed: 0             11592 non-null  int64         \n",
            " 1   left                   11592 non-null  float64       \n",
            " 2   top                    11592 non-null  float64       \n",
            " 3   right                  11592 non-null  float64       \n",
            " 4   bottom                 11592 non-null  float64       \n",
            " 5   id                     11592 non-null  int64         \n",
            " 6   geometry               11592 non-null  object        \n",
            " 7   Centroid Longitude     11592 non-null  float64       \n",
            " 8   Centroid Latitude      11592 non-null  float64       \n",
            " 9   Start Date             11592 non-null  datetime64[ns]\n",
            " 10  End Date               11592 non-null  object        \n",
            " 11  NDVI                   11592 non-null  float64       \n",
            " 12  EVI                    11592 non-null  float64       \n",
            " 13  NDWI                   11592 non-null  float64       \n",
            " 14  topLeft_coords         11592 non-null  object        \n",
            " 15  topRight_coords        11592 non-null  object        \n",
            " 16  bottomLeft_coords      11592 non-null  object        \n",
            " 17  bottomRight_coords     11592 non-null  object        \n",
            " 18  centroid_coords        11592 non-null  object        \n",
            " 19  midLeft_coords         11592 non-null  object        \n",
            " 20  midRight_coords        11592 non-null  object        \n",
            " 21  midTop_coords          11592 non-null  object        \n",
            " 22  midBottom_coords       11592 non-null  object        \n",
            " 23  diagonal1              11592 non-null  object        \n",
            " 24  diagonal2              11592 non-null  object        \n",
            " 25  diagonal3              11592 non-null  object        \n",
            " 26  diagonal4              11592 non-null  object        \n",
            " 27  fire_2018_COUNTY2      11592 non-null  bool          \n",
            " 28  fire_2017_WINTER2      11592 non-null  bool          \n",
            " 29  fire_2016_COLD2        11592 non-null  bool          \n",
            " 30  fire_2015_WRAGG2       11592 non-null  bool          \n",
            " 31  fire_2014_MONTICELLO2  11592 non-null  bool          \n",
            " 32  target                 11592 non-null  bool          \n",
            "dtypes: bool(6), datetime64[ns](1), float64(9), int64(2), object(15)\n",
            "memory usage: 2.5+ MB\n"
          ],
          "name": "stdout"
        }
      ]
    },
    {
      "cell_type": "markdown",
      "metadata": {
        "id": "IAMEmN2Y2o4a",
        "colab_type": "text"
      },
      "source": [
        "#Convert target to 0 and 1"
      ]
    },
    {
      "cell_type": "code",
      "metadata": {
        "id": "6BoNOwDY-Ntp",
        "colab_type": "code",
        "outputId": "fc15430c-3440-47d0-dbd9-d9d04b3cd1ee",
        "colab": {
          "base_uri": "https://localhost:8080/",
          "height": 118
        }
      },
      "source": [
        "veg_train['target'] = veg_train['target'].astype(int)"
      ],
      "execution_count": 0,
      "outputs": [
        {
          "output_type": "stream",
          "text": [
            "/usr/local/lib/python3.6/dist-packages/ipykernel_launcher.py:1: SettingWithCopyWarning: \n",
            "A value is trying to be set on a copy of a slice from a DataFrame.\n",
            "Try using .loc[row_indexer,col_indexer] = value instead\n",
            "\n",
            "See the caveats in the documentation: https://pandas.pydata.org/pandas-docs/stable/user_guide/indexing.html#returning-a-view-versus-a-copy\n",
            "  \"\"\"Entry point for launching an IPython kernel.\n"
          ],
          "name": "stderr"
        }
      ]
    },
    {
      "cell_type": "code",
      "metadata": {
        "id": "LdDianG2-XSz",
        "colab_type": "code",
        "outputId": "c823072c-2ac4-48f1-dd4e-1d24d5e202da",
        "colab": {
          "base_uri": "https://localhost:8080/",
          "height": 67
        }
      },
      "source": [
        "veg_train['target'].value_counts()"
      ],
      "execution_count": 0,
      "outputs": [
        {
          "output_type": "execute_result",
          "data": {
            "text/plain": [
              "0    11470\n",
              "1      122\n",
              "Name: target, dtype: int64"
            ]
          },
          "metadata": {
            "tags": []
          },
          "execution_count": 12
        }
      ]
    },
    {
      "cell_type": "markdown",
      "metadata": {
        "id": "EXPyDy7SxfIi",
        "colab_type": "text"
      },
      "source": [
        "2015 fire : start- 2015/07/22 end -2015/08/05  \n",
        "\n",
        "2016 fire : start- 2016/08/02 end - 2016/08/09\n",
        "\n",
        "2017 fire : start- 2017/07/06 end - 2017/07/12\n",
        "\n",
        "2018 fire : start- 2018/06/30 end - 2018/07/11"
      ]
    },
    {
      "cell_type": "markdown",
      "metadata": {
        "id": "DXhysDMkL_em",
        "colab_type": "text"
      },
      "source": [
        "#Create postive and negative vegetation data"
      ]
    },
    {
      "cell_type": "code",
      "metadata": {
        "id": "IPwea8De4ygg",
        "colab_type": "code",
        "colab": {}
      },
      "source": [
        "#create 1 day layer of positive data\n",
        "veg_2015_positive = veg_train[(veg_train['Start Date'] == pd.to_datetime('2015-07-12'))] #positive 2015-07-12 negative 2015-07-04 --  8 day aggregate before fire \n",
        "veg_2016_positive = veg_train[(veg_train['Start Date'] == pd.to_datetime('2016-07-27'))] #positive 2016-07-27 negative 2016-07-19 --8 day aggregate before fire, but for 2016 we took next record as the fire started on 2016-08-2  \n",
        "veg_2017_positive = veg_train[(veg_train['Start Date'] == pd.to_datetime('2017-06-26'))] #positive 2017-06-26 negative 2017-06-18 --  8 day aggregate before fire \n",
        "veg_2018_positive = veg_train[(veg_train['Start Date'] == pd.to_datetime('2018-06-18'))] #positive 2018-06-18   negative 2018-06-10 --  8 day aggregate before fire "
      ],
      "execution_count": 0,
      "outputs": []
    },
    {
      "cell_type": "code",
      "metadata": {
        "id": "-MzPSCm7YDeB",
        "colab_type": "code",
        "colab": {}
      },
      "source": [
        "veg_wragg = veg_train[veg_train['fire_2015_WRAGG2'] == True]\n",
        "veg_cold = veg_train[veg_train['fire_2016_COLD2'] == True]\n",
        "veg_winter = veg_train[veg_train['fire_2017_WINTER2'] == True]\n",
        "veg_county = veg_train[veg_train['fire_2018_COUNTY2'] == True]"
      ],
      "execution_count": 0,
      "outputs": []
    },
    {
      "cell_type": "code",
      "metadata": {
        "id": "JiEQlbx0YGhy",
        "colab_type": "code",
        "colab": {}
      },
      "source": [
        "veg_2015_index = veg_wragg['id'].value_counts().index.tolist()\n",
        "veg_2016_index = veg_cold['id'].value_counts().index.tolist()\n",
        "veg_2017_index = veg_winter['id'].value_counts().index.tolist()\n",
        "veg_2018_index = veg_county['id'].value_counts().index.tolist()"
      ],
      "execution_count": 0,
      "outputs": []
    },
    {
      "cell_type": "code",
      "metadata": {
        "id": "RnvJklUEZQkc",
        "colab_type": "code",
        "outputId": "2ccb6df4-d745-457e-e143-fa99411cd957",
        "colab": {
          "base_uri": "https://localhost:8080/",
          "height": 34
        }
      },
      "source": [
        "veg_2015_index"
      ],
      "execution_count": 0,
      "outputs": [
        {
          "output_type": "execute_result",
          "data": {
            "text/plain": [
              "[63, 28, 27, 56, 55, 21, 20, 49, 48, 14, 13, 42, 41, 7, 35, 34]"
            ]
          },
          "metadata": {
            "tags": []
          },
          "execution_count": 16
        }
      ]
    },
    {
      "cell_type": "code",
      "metadata": {
        "id": "KyaG2ZSlZVC3",
        "colab_type": "code",
        "outputId": "2a597b3f-8125-4df0-d4db-589f2c941885",
        "colab": {
          "base_uri": "https://localhost:8080/",
          "height": 118
        }
      },
      "source": [
        "veg_2015_positive.loc[veg_2015_positive['id'].isin(veg_2015_index), 'target'] = 1\n",
        "veg_2015_positive.loc[~veg_2015_positive['id'].isin(veg_2015_index), 'target'] = 0\n",
        "veg_2016_positive.loc[veg_2016_positive['id'].isin(veg_2016_index), 'target'] = 1\n",
        "veg_2016_positive.loc[~veg_2016_positive['id'].isin(veg_2016_index), 'target'] = 0\n",
        "veg_2017_positive.loc[veg_2017_positive['id'].isin(veg_2017_index), 'target'] = 1\n",
        "veg_2017_positive.loc[~veg_2017_positive['id'].isin(veg_2017_index), 'target'] = 0\n",
        "veg_2018_positive.loc[veg_2018_positive['id'].isin(veg_2018_index), 'target'] = 1\n",
        "veg_2018_positive.loc[~veg_2018_positive['id'].isin(veg_2018_index), 'target'] = 0"
      ],
      "execution_count": 0,
      "outputs": [
        {
          "output_type": "stream",
          "text": [
            "/usr/local/lib/python3.6/dist-packages/pandas/core/indexing.py:966: SettingWithCopyWarning: \n",
            "A value is trying to be set on a copy of a slice from a DataFrame.\n",
            "Try using .loc[row_indexer,col_indexer] = value instead\n",
            "\n",
            "See the caveats in the documentation: https://pandas.pydata.org/pandas-docs/stable/user_guide/indexing.html#returning-a-view-versus-a-copy\n",
            "  self.obj[item] = s\n"
          ],
          "name": "stderr"
        }
      ]
    },
    {
      "cell_type": "code",
      "metadata": {
        "id": "uId2cjjCZdSm",
        "colab_type": "code",
        "outputId": "9459d3aa-8ee4-4496-9999-1876d625843f",
        "colab": {
          "base_uri": "https://localhost:8080/",
          "height": 84
        }
      },
      "source": [
        "print(veg_2015_positive['target'].value_counts())\n",
        "print(len(veg_2015_index))"
      ],
      "execution_count": 0,
      "outputs": [
        {
          "output_type": "stream",
          "text": [
            "0    47\n",
            "1    16\n",
            "Name: target, dtype: int64\n",
            "16\n"
          ],
          "name": "stdout"
        }
      ]
    },
    {
      "cell_type": "code",
      "metadata": {
        "id": "RyQZdjwicZYW",
        "colab_type": "code",
        "outputId": "2fdc53b4-71c8-45bb-d375-6d56cb2c0dca",
        "colab": {
          "base_uri": "https://localhost:8080/",
          "height": 84
        }
      },
      "source": [
        "print(veg_2016_positive['target'].value_counts())\n",
        "print(len(veg_2016_index))"
      ],
      "execution_count": 0,
      "outputs": [
        {
          "output_type": "stream",
          "text": [
            "1    43\n",
            "0    20\n",
            "Name: target, dtype: int64\n",
            "43\n"
          ],
          "name": "stdout"
        }
      ]
    },
    {
      "cell_type": "code",
      "metadata": {
        "id": "MF-MEZLgcZd5",
        "colab_type": "code",
        "outputId": "bd6a0267-645c-4cef-98c9-e2cf3bab5032",
        "colab": {
          "base_uri": "https://localhost:8080/",
          "height": 84
        }
      },
      "source": [
        "print(veg_2017_positive['target'].value_counts())\n",
        "print(len(veg_2017_index))"
      ],
      "execution_count": 0,
      "outputs": [
        {
          "output_type": "stream",
          "text": [
            "0    46\n",
            "1    17\n",
            "Name: target, dtype: int64\n",
            "17\n"
          ],
          "name": "stdout"
        }
      ]
    },
    {
      "cell_type": "code",
      "metadata": {
        "id": "UA_KPhqNcZsM",
        "colab_type": "code",
        "outputId": "2312736e-fe46-418c-b2d8-82e2266512de",
        "colab": {
          "base_uri": "https://localhost:8080/",
          "height": 84
        }
      },
      "source": [
        "print(veg_2018_positive['target'].value_counts())\n",
        "print(len(veg_2018_index))"
      ],
      "execution_count": 0,
      "outputs": [
        {
          "output_type": "stream",
          "text": [
            "1    46\n",
            "0    17\n",
            "Name: target, dtype: int64\n",
            "46\n"
          ],
          "name": "stdout"
        }
      ]
    },
    {
      "cell_type": "code",
      "metadata": {
        "id": "Iiu9D6In8ifz",
        "colab_type": "code",
        "colab": {}
      },
      "source": [
        "#create 1 day layer of empty data\n",
        "veg_2015_empty = veg_train[(veg_train['Start Date'] == pd.to_datetime('2015-07-04'))]\n",
        "veg_2016_empty = veg_train[(veg_train['Start Date'] == pd.to_datetime('2016-07-19'))]\n",
        "veg_2017_empty = veg_train[(veg_train['Start Date'] == pd.to_datetime('2017-06-18'))]\n",
        "veg_2018_empty = veg_train[(veg_train['Start Date'] == pd.to_datetime('2018-06-10'))]"
      ],
      "execution_count": 0,
      "outputs": []
    },
    {
      "cell_type": "code",
      "metadata": {
        "id": "4z3Wtt3WD6wo",
        "colab_type": "code",
        "outputId": "d40b2812-1d60-45d8-d223-aa8d96e8edfd",
        "colab": {
          "base_uri": "https://localhost:8080/",
          "height": 168
        }
      },
      "source": [
        "veg_2015_empty.columns"
      ],
      "execution_count": 0,
      "outputs": [
        {
          "output_type": "execute_result",
          "data": {
            "text/plain": [
              "Index(['Unnamed: 0', 'left', 'top', 'right', 'bottom', 'id', 'geometry',\n",
              "       'Centroid Longitude', 'Centroid Latitude', 'Start Date', 'End Date',\n",
              "       'NDVI', 'EVI', 'NDWI', 'topLeft_coords', 'topRight_coords',\n",
              "       'bottomLeft_coords', 'bottomRight_coords', 'centroid_coords',\n",
              "       'midLeft_coords', 'midRight_coords', 'midTop_coords',\n",
              "       'midBottom_coords', 'diagonal1', 'diagonal2', 'diagonal3', 'diagonal4',\n",
              "       'fire_2018_COUNTY2', 'fire_2017_WINTER2', 'fire_2016_COLD2',\n",
              "       'fire_2015_WRAGG2', 'fire_2014_MONTICELLO2', 'target'],\n",
              "      dtype='object')"
            ]
          },
          "metadata": {
            "tags": []
          },
          "execution_count": 23
        }
      ]
    },
    {
      "cell_type": "markdown",
      "metadata": {
        "id": "ySqFlltCfenN",
        "colab_type": "text"
      },
      "source": [
        "#Vegetation seperate model"
      ]
    },
    {
      "cell_type": "code",
      "metadata": {
        "id": "p0HRmZrffDZc",
        "colab_type": "code",
        "outputId": "1854c75b-63a2-4b17-b44c-c74b9c3bb987",
        "colab": {
          "base_uri": "https://localhost:8080/",
          "height": 34
        }
      },
      "source": [
        "#individual vegetation model\n",
        "veg_2018_positive.shape"
      ],
      "execution_count": 0,
      "outputs": [
        {
          "output_type": "execute_result",
          "data": {
            "text/plain": [
              "(63, 33)"
            ]
          },
          "metadata": {
            "tags": []
          },
          "execution_count": 24
        }
      ]
    },
    {
      "cell_type": "code",
      "metadata": {
        "id": "-cMFUPAHfXf0",
        "colab_type": "code",
        "colab": {}
      },
      "source": [
        "veg_data = pd.concat([veg_2015_empty, veg_2016_empty, veg_2017_empty,veg_2018_empty,veg_2015_positive,veg_2016_positive,veg_2017_positive,veg_2018_positive], axis = 0, ignore_index=True)"
      ],
      "execution_count": 0,
      "outputs": []
    },
    {
      "cell_type": "code",
      "metadata": {
        "id": "8gUWGedk8Qvm",
        "colab_type": "code",
        "outputId": "10478717-f749-4e37-a5e4-ed234ba36f4f",
        "colab": {
          "base_uri": "https://localhost:8080/",
          "height": 67
        }
      },
      "source": [
        "veg_data.target.value_counts()"
      ],
      "execution_count": 0,
      "outputs": [
        {
          "output_type": "execute_result",
          "data": {
            "text/plain": [
              "0    382\n",
              "1    122\n",
              "Name: target, dtype: int64"
            ]
          },
          "metadata": {
            "tags": []
          },
          "execution_count": 26
        }
      ]
    },
    {
      "cell_type": "code",
      "metadata": {
        "id": "v5__GKbgzHYi",
        "colab_type": "code",
        "colab": {}
      },
      "source": [
        "# #Filter and seperate train and test based on years \n",
        "# def filter_data_train(year_del,data):\n",
        "#   X_Train = data[~(data['Start Date'].dt.year == year_del)].reset_index(drop=True).drop(['Unnamed: 0', 'left', 'top', 'right', 'bottom', 'id', 'geometry', 'Start Date', 'End Date',\n",
        "#        'topLeft_coords', 'topRight_coords',\n",
        "#        'bottomLeft_coords', 'bottomRight_coords', 'centroid_coords',\n",
        "#        'midLeft_coords', 'midRight_coords', 'midTop_coords',\n",
        "#        'midBottom_coords', 'diagonal1', 'diagonal2', 'diagonal3', 'diagonal4',\n",
        "#        'fire_2018_COUNTY2', 'fire_2017_WINTER2', 'fire_2016_COLD2',\n",
        "#        'fire_2015_WRAGG2', 'fire_2014_MONTICELLO2', 'target'], axis=1)\n",
        "#   Y_Train = data[~(data['Start Date'].dt.year == year_del)]['target']\n",
        "#   X_Test = data[data['Start Date'].dt.year == year_del].reset_index(drop=True).drop(['Unnamed: 0', 'left', 'top', 'right', 'bottom', 'id', 'geometry', 'Start Date', 'End Date',\n",
        "#        'topLeft_coords', 'topRight_coords',\n",
        "#        'bottomLeft_coords', 'bottomRight_coords', 'centroid_coords',\n",
        "#        'midLeft_coords', 'midRight_coords', 'midTop_coords',\n",
        "#        'midBottom_coords', 'diagonal1', 'diagonal2', 'diagonal3', 'diagonal4',\n",
        "#        'fire_2018_COUNTY2', 'fire_2017_WINTER2', 'fire_2016_COLD2',\n",
        "#        'fire_2015_WRAGG2', 'fire_2014_MONTICELLO2', 'target'], axis=1)\n",
        "#   Y_Test = data[data['Start Date'].dt.year == year_del]['target']\n",
        "#   return X_Train,X_Test,Y_Train, Y_Test\n",
        "# # X_train['Start Date'].dt.year.value_counts()\n",
        "# # X_test['Start Date'].dt.year.value_counts()\n",
        "# X_train, X_test, y_train, y_test = filter_data_train(2018,data)"
      ],
      "execution_count": 0,
      "outputs": []
    },
    {
      "cell_type": "code",
      "metadata": {
        "id": "7EiFC_6rubRe",
        "colab_type": "code",
        "colab": {}
      },
      "source": [
        "# rf_veg = RandomForestClassifier(n_estimators = 200, random_state = 42)\n",
        "# rf_veg.fit(X_train, y_train)\n",
        "# predictions = rf_veg.predict(X_test)\n",
        "# numpy_data = np.array([predictions, y_test])\n",
        "# result = pd.DataFrame(data=np.transpose(numpy_data), columns=['predict', 'target'])\n",
        "# result['error'] = result['predict'] - result['target']\n",
        "# correct = result[result['error'] == 0]\n",
        "# print('Accuracy:%.2f%%' % (correct.shape[0]/result.shape[0]))\n",
        "# actual = y_test\n",
        "# predicted = predictions\n",
        "# results = confusion_matrix(actual, predicted) \n",
        "  \n",
        "# print('Confusion Matrix :')\n",
        "# print(results) \n",
        "# print('Accuracy Score :',accuracy_score(actual, predicted))\n",
        "# print('Report : ')\n",
        "# print(classification_report(actual, predicted))"
      ],
      "execution_count": 0,
      "outputs": []
    },
    {
      "cell_type": "code",
      "metadata": {
        "id": "H6-7cgDxfYiD",
        "colab_type": "code",
        "colab": {}
      },
      "source": [
        "X_1 = veg_data.reset_index(drop=True).drop(['Unnamed: 0', 'left', 'top', 'right', 'bottom', 'id', 'geometry', 'Start Date', 'End Date',\n",
        "       'topLeft_coords', 'topRight_coords',\n",
        "       'bottomLeft_coords', 'bottomRight_coords', 'centroid_coords',\n",
        "       'midLeft_coords', 'midRight_coords', 'midTop_coords',\n",
        "       'midBottom_coords', 'diagonal1', 'diagonal2', 'diagonal3', 'diagonal4',\n",
        "       'fire_2018_COUNTY2', 'fire_2017_WINTER2', 'fire_2016_COLD2',\n",
        "       'fire_2015_WRAGG2', 'fire_2014_MONTICELLO2', 'target'], axis=1)"
      ],
      "execution_count": 0,
      "outputs": []
    },
    {
      "cell_type": "code",
      "metadata": {
        "id": "2dXUO9sDDtHQ",
        "colab_type": "code",
        "colab": {}
      },
      "source": [
        "#  'id', 'Start Date'"
      ],
      "execution_count": 0,
      "outputs": []
    },
    {
      "cell_type": "code",
      "metadata": {
        "id": "arQC7kx8eCRH",
        "colab_type": "code",
        "outputId": "b276f088-7f24-49b8-98d5-4af21024bba6",
        "colab": {
          "base_uri": "https://localhost:8080/",
          "height": 34
        }
      },
      "source": [
        "X_1.columns"
      ],
      "execution_count": 0,
      "outputs": [
        {
          "output_type": "execute_result",
          "data": {
            "text/plain": [
              "Index(['Centroid Longitude', 'Centroid Latitude', 'NDVI', 'EVI', 'NDWI'], dtype='object')"
            ]
          },
          "metadata": {
            "tags": []
          },
          "execution_count": 31
        }
      ]
    },
    {
      "cell_type": "code",
      "metadata": {
        "id": "opRE9FaBfand",
        "colab_type": "code",
        "colab": {}
      },
      "source": [
        "y_1 = veg_data['target']\n"
      ],
      "execution_count": 0,
      "outputs": []
    },
    {
      "cell_type": "code",
      "metadata": {
        "id": "1n60Q6OjApYv",
        "colab_type": "code",
        "outputId": "1ae80a5f-6f8a-4688-ac9c-acdfd494e03a",
        "colab": {
          "base_uri": "https://localhost:8080/",
          "height": 34
        }
      },
      "source": [
        "X_1.shape"
      ],
      "execution_count": 0,
      "outputs": [
        {
          "output_type": "execute_result",
          "data": {
            "text/plain": [
              "(504, 5)"
            ]
          },
          "metadata": {
            "tags": []
          },
          "execution_count": 33
        }
      ]
    },
    {
      "cell_type": "code",
      "metadata": {
        "id": "O_CrHRd2MpaE",
        "colab_type": "code",
        "outputId": "8eeb18e2-965c-4f7d-80ba-f1211ff1d80a",
        "colab": {
          "base_uri": "https://localhost:8080/",
          "height": 70
        }
      },
      "source": [
        "# import imblearn\n",
        "# from sklearn.datasets import make_classification\n",
        "# from imblearn.over_sampling import SMOTE\n",
        "\n",
        "oversample = SMOTE()\n",
        "X, y = oversample.fit_resample(X_1, y_1)"
      ],
      "execution_count": 0,
      "outputs": [
        {
          "output_type": "stream",
          "text": [
            "/usr/local/lib/python3.6/dist-packages/sklearn/utils/deprecation.py:87: FutureWarning: Function safe_indexing is deprecated; safe_indexing is deprecated in version 0.22 and will be removed in version 0.24.\n",
            "  warnings.warn(msg, category=FutureWarning)\n"
          ],
          "name": "stderr"
        }
      ]
    },
    {
      "cell_type": "code",
      "metadata": {
        "id": "BwRORN0BAxtW",
        "colab_type": "code",
        "outputId": "fe9ad0e2-8232-4cfb-d03c-c15f4e775988",
        "colab": {
          "base_uri": "https://localhost:8080/",
          "height": 34
        }
      },
      "source": [
        "y.shape"
      ],
      "execution_count": 0,
      "outputs": [
        {
          "output_type": "execute_result",
          "data": {
            "text/plain": [
              "(764,)"
            ]
          },
          "metadata": {
            "tags": []
          },
          "execution_count": 35
        }
      ]
    },
    {
      "cell_type": "code",
      "metadata": {
        "id": "9AeBNiyOfcpx",
        "colab_type": "code",
        "colab": {}
      },
      "source": [
        "# Split the dataset in two equal parts\n",
        "X_train, X_test, y_train, y_test = train_test_split(X, y, test_size=0.2,stratify= y)\n",
        "#X_train, X_test, y_train, y_test = train_test_split(X, y, test_size=0.2, random_state=42, stratify= y)"
      ],
      "execution_count": 0,
      "outputs": []
    },
    {
      "cell_type": "code",
      "metadata": {
        "id": "3PfZuKfjfpCE",
        "colab_type": "code",
        "colab": {}
      },
      "source": [
        "# from sklearn.model_selection import cross_val_score, StratifiedKFold\n",
        "# from sklearn.tree import DecisionTreeClassifier\n",
        "# from sklearn.ensemble import RandomForestClassifier, ExtraTreesClassifier, BaggingClassifier\n",
        "# from sklearn.preprocessing import StandardScaler\n",
        "# # cv = StratifiedKFold(n_splits=3, shuffle=True)\n",
        "# from sklearn.model_selection import GridSearchCV\n",
        "# from sklearn.calibration import CalibratedClassifierCV\n",
        "# from sklearn.metrics import confusion_matrix \n",
        "# from sklearn.metrics import accuracy_score \n",
        "# from sklearn.metrics import classification_report "
      ],
      "execution_count": 0,
      "outputs": []
    },
    {
      "cell_type": "code",
      "metadata": {
        "id": "EF1dx_N7frYn",
        "colab_type": "code",
        "outputId": "24131938-dca3-4007-d9c5-1e91272152cb",
        "colab": {
          "base_uri": "https://localhost:8080/",
          "height": 151
        }
      },
      "source": [
        "rf_veg = RandomForestClassifier(n_estimators = 200, random_state = 42)\n",
        "rf_veg.fit(X_train, y_train)"
      ],
      "execution_count": 0,
      "outputs": [
        {
          "output_type": "execute_result",
          "data": {
            "text/plain": [
              "RandomForestClassifier(bootstrap=True, ccp_alpha=0.0, class_weight=None,\n",
              "                       criterion='gini', max_depth=None, max_features='auto',\n",
              "                       max_leaf_nodes=None, max_samples=None,\n",
              "                       min_impurity_decrease=0.0, min_impurity_split=None,\n",
              "                       min_samples_leaf=1, min_samples_split=2,\n",
              "                       min_weight_fraction_leaf=0.0, n_estimators=200,\n",
              "                       n_jobs=None, oob_score=False, random_state=42, verbose=0,\n",
              "                       warm_start=False)"
            ]
          },
          "metadata": {
            "tags": []
          },
          "execution_count": 38
        }
      ]
    },
    {
      "cell_type": "code",
      "metadata": {
        "id": "YDhumbhuWCGf",
        "colab_type": "code",
        "colab": {}
      },
      "source": [
        "predictions = rf_veg.predict(X_test)"
      ],
      "execution_count": 0,
      "outputs": []
    },
    {
      "cell_type": "code",
      "metadata": {
        "id": "tgyFazagf2hl",
        "colab_type": "code",
        "outputId": "189f1df0-63a3-486f-f2bc-763f8886b339",
        "colab": {
          "base_uri": "https://localhost:8080/",
          "height": 252
        }
      },
      "source": [
        "from sklearn.metrics import confusion_matrix \n",
        "from sklearn.metrics import accuracy_score \n",
        "from sklearn.metrics import classification_report \n",
        "actual = y_test\n",
        "predicted = predictions\n",
        "results = confusion_matrix(actual, predicted) \n",
        "  \n",
        "print('Confusion Matrix :')\n",
        "print(results) \n",
        "print('Accuracy Score :',round(accuracy_score(actual, predicted)*100,3))\n",
        "print('Report : ')\n",
        "print(classification_report(actual, predicted))"
      ],
      "execution_count": 0,
      "outputs": [
        {
          "output_type": "stream",
          "text": [
            "Confusion Matrix :\n",
            "[[65 11]\n",
            " [11 66]]\n",
            "Accuracy Score : 85.621\n",
            "Report : \n",
            "              precision    recall  f1-score   support\n",
            "\n",
            "           0       0.86      0.86      0.86        76\n",
            "           1       0.86      0.86      0.86        77\n",
            "\n",
            "    accuracy                           0.86       153\n",
            "   macro avg       0.86      0.86      0.86       153\n",
            "weighted avg       0.86      0.86      0.86       153\n",
            "\n"
          ],
          "name": "stdout"
        }
      ]
    },
    {
      "cell_type": "code",
      "metadata": {
        "colab_type": "code",
        "id": "YFEyfmst3zU3",
        "outputId": "5e9d8005-3285-4641-cf82-3c0a35aff7be",
        "colab": {
          "base_uri": "https://localhost:8080/",
          "height": 279
        }
      },
      "source": [
        "# roc curve\n",
        "yhat = rf_veg.predict_proba(X_test)\n",
        "# keep probabilities for the positive outcome only\n",
        "yhat = yhat[:, 1]\n",
        "# calculate roc curves\n",
        "fpr, tpr, thresholds = roc_curve(y_test, yhat)\n",
        "# plot the roc curve for the model\n",
        "pyplot.plot([0,1], [0,1], linestyle='--', label='No Skill')\n",
        "pyplot.plot(fpr, tpr, marker='.', label='rf')\n",
        "# axis labels\n",
        "pyplot.xlabel('False Positive Rate')\n",
        "pyplot.ylabel('True Positive Rate')\n",
        "pyplot.legend()\n",
        "# show the plot\n",
        "pyplot.show()"
      ],
      "execution_count": 0,
      "outputs": [
        {
          "output_type": "display_data",
          "data": {
            "image/png": "[encoded data removed]",
            "text/plain": [
              "<Figure size 432x288 with 1 Axes>"
            ]
          },
          "metadata": {
            "tags": [],
            "needs_background": "light"
          }
        }
      ]
    },
    {
      "cell_type": "code",
      "metadata": {
        "colab_type": "code",
        "id": "tdBawm4i3zVG",
        "outputId": "226be44f-7719-4202-b4c0-5399b5995aad",
        "colab": {
          "base_uri": "https://localhost:8080/",
          "height": 296
        }
      },
      "source": [
        "# calculate the g-mean for each threshold\n",
        "from numpy import sqrt\n",
        "from numpy import argmax\n",
        "gmeans = sqrt(tpr * (1-fpr))\n",
        "# locate the index of the largest g-mean\n",
        "ix = argmax(gmeans)\n",
        "print('Best Threshold=%f, G-Mean=%.3f' % (thresholds[ix], gmeans[ix]))\n",
        "# plot the roc curve for the model\n",
        "pyplot.plot([0,1], [0,1], linestyle='--', label='No Skill')\n",
        "pyplot.plot(fpr, tpr, marker='.', label='rf')\n",
        "pyplot.scatter(fpr[ix], tpr[ix], marker='o', color='black', label='Best')\n",
        "# axis labels\n",
        "pyplot.xlabel('False Positive Rate')\n",
        "pyplot.ylabel('True Positive Rate')\n",
        "pyplot.legend()\n",
        "# show the plot\n",
        "pyplot.show()"
      ],
      "execution_count": 0,
      "outputs": [
        {
          "output_type": "stream",
          "text": [
            "Best Threshold=0.430000, G-Mean=0.875\n"
          ],
          "name": "stdout"
        },
        {
          "output_type": "display_data",
          "data": {
            "image/png": "[encoded data removed]",
            "text/plain": [
              "<Figure size 432x288 with 1 Axes>"
            ]
          },
          "metadata": {
            "tags": [],
            "needs_background": "light"
          }
        }
      ]
    },
    {
      "cell_type": "code",
      "metadata": {
        "colab_type": "code",
        "id": "jr1eHlI33zVO",
        "outputId": "0f47d5d4-c713-4874-acee-536fa3f974c1",
        "colab": {
          "base_uri": "https://localhost:8080/",
          "height": 34
        }
      },
      "source": [
        "threshold = 0.4\n",
        "\n",
        "predicted_proba = rf_veg.predict_proba(X_test)\n",
        "predicted10 = (predicted_proba [:,1] >= threshold).astype('int')\n",
        "\n",
        "accuracy = accuracy_score(y_test, predicted10)\n",
        "print(accuracy)"
      ],
      "execution_count": 0,
      "outputs": [
        {
          "output_type": "stream",
          "text": [
            "0.8562091503267973\n"
          ],
          "name": "stdout"
        }
      ]
    },
    {
      "cell_type": "code",
      "metadata": {
        "colab_type": "code",
        "id": "ub2lyHfB3zVa",
        "outputId": "4c0409f2-96c6-4817-cde5-95b7347d5ca2",
        "colab": {
          "base_uri": "https://localhost:8080/",
          "height": 269
        }
      },
      "source": [
        "actual10 = y_test\n",
        "results = confusion_matrix(actual10, predicted10) \n",
        "print('Threshold: ', threshold)\n",
        "print('Confusion Matrix :')\n",
        "print(results) \n",
        "print('Accuracy Score :',round(accuracy_score(actual10, predicted10)*100,3))\n",
        "print('Report : ')\n",
        "print(classification_report(actual, predicted10))"
      ],
      "execution_count": 0,
      "outputs": [
        {
          "output_type": "stream",
          "text": [
            "Threshold:  0.4\n",
            "Confusion Matrix :\n",
            "[[59 17]\n",
            " [ 5 72]]\n",
            "Accuracy Score : 85.621\n",
            "Report : \n",
            "              precision    recall  f1-score   support\n",
            "\n",
            "           0       0.92      0.78      0.84        76\n",
            "           1       0.81      0.94      0.87        77\n",
            "\n",
            "    accuracy                           0.86       153\n",
            "   macro avg       0.87      0.86      0.86       153\n",
            "weighted avg       0.87      0.86      0.86       153\n",
            "\n"
          ],
          "name": "stdout"
        }
      ]
    },
    {
      "cell_type": "code",
      "metadata": {
        "id": "v3rEQvjJjHnl",
        "colab_type": "code",
        "outputId": "9de7734e-6880-4103-a157-0439a27f7292",
        "colab": {
          "base_uri": "https://localhost:8080/",
          "height": 470
        }
      },
      "source": [
        "import pandas as pd\n",
        "%matplotlib inline\n",
        "#do code to support model\n",
        "#\"data\" is the X dataframe and model is the SKlearn object\n",
        "\n",
        "feats = {} # a dict to hold feature_name: feature_importance\n",
        "for feature, importance in zip(X_1.columns, rf_veg.feature_importances_):\n",
        "    feats[feature] = importance #add the name/value pair \n",
        "\n",
        "importances = pd.DataFrame.from_dict(feats, orient='index').rename(columns={0: 'Gini-importance'})\n",
        "importances.sort_values(by='Gini-importance').plot(kind='bar', rot=80, figsize=(25, 6))"
      ],
      "execution_count": 0,
      "outputs": [
        {
          "output_type": "execute_result",
          "data": {
            "text/plain": [
              "<matplotlib.axes._subplots.AxesSubplot at 0x7f14092379e8>"
            ]
          },
          "metadata": {
            "tags": []
          },
          "execution_count": 45
        },
        {
          "output_type": "display_data",
          "data": {
            "image/png": "[encoded data removed]",
            "text/plain": [
              "<Figure size 1800x432 with 1 Axes>"
            ]
          },
          "metadata": {
            "tags": [],
            "needs_background": "light"
          }
        }
      ]
    },
    {
      "cell_type": "code",
      "metadata": {
        "id": "PTfwymV1lttb",
        "colab_type": "code",
        "outputId": "eee6f6b1-23b6-4da9-80ee-76238a6bef46",
        "colab": {
          "base_uri": "https://localhost:8080/",
          "height": 34
        }
      },
      "source": [
        "# from sklearn.datasets import load_iris\n",
        "# iris = load_iris()\n",
        "\n",
        "# # Model (can also use single decision tree)\n",
        "# from sklearn.ensemble import RandomForestClassifier\n",
        "# model = RandomForestClassifier(n_estimators=10)\n",
        "\n",
        "# # Train\n",
        "# model.fit(iris.data, iris.target)\n",
        "# # Extract single tree\n",
        "estimator = rf_veg.estimators_[5]\n",
        "\n",
        "from sklearn.tree import export_graphviz\n",
        "# Export as dot file\n",
        "export_graphviz(estimator, out_file='tree.dot', \n",
        "                feature_names = X_1.columns,\n",
        "                class_names = ['Positive','Negative'],\n",
        "                rounded = True, proportion = False, \n",
        "                precision = 2, filled = True)\n",
        "\n",
        "# Convert to png using system command (requires Graphviz)\n",
        "from subprocess import call\n",
        "call(['dot', '-Tpng', 'tree.dot', '-o', 'tree.png', '-Gdpi=600'])\n"
      ],
      "execution_count": 0,
      "outputs": [
        {
          "output_type": "execute_result",
          "data": {
            "text/plain": [
              "0"
            ]
          },
          "metadata": {
            "tags": []
          },
          "execution_count": 50
        }
      ]
    },
    {
      "cell_type": "code",
      "metadata": {
        "id": "7jTZbqNRYpnY",
        "colab_type": "code",
        "outputId": "360d8295-19f4-447b-a64c-9e885872f7ab",
        "colab": {
          "base_uri": "https://localhost:8080/",
          "height": 517
        }
      },
      "source": [
        "# Display in jupyter notebook\n",
        "from IPython.display import Image\n",
        "Image(filename = 'tree.png', height=500)"
      ],
      "execution_count": 0,
      "outputs": []
    },
    {
      "cell_type": "markdown",
      "metadata": {
        "id": "n4M7xnv8Rd99",
        "colab_type": "text"
      },
      "source": [
        "## save to drive"
      ]
    },
    {
      "cell_type": "code",
      "metadata": {
        "id": "rPAakU6-MP5Q",
        "colab_type": "code",
        "colab": {}
      },
      "source": [
        "tableau_veg_X = veg_data.reset_index(drop=True).drop(['Unnamed: 0', 'left', 'top', 'right', 'bottom', 'id', 'geometry', 'Start Date', 'End Date',\n",
        "       'topLeft_coords', 'topRight_coords',\n",
        "       'bottomLeft_coords', 'bottomRight_coords', 'centroid_coords',\n",
        "       'midLeft_coords', 'midRight_coords', 'midTop_coords',\n",
        "       'midBottom_coords', 'diagonal1', 'diagonal2', 'diagonal3', 'diagonal4',\n",
        "       'fire_2018_COUNTY2', 'fire_2017_WINTER2', 'fire_2016_COLD2',\n",
        "       'fire_2015_WRAGG2', 'fire_2014_MONTICELLO2', 'target'], axis=1)"
      ],
      "execution_count": 0,
      "outputs": []
    },
    {
      "cell_type": "code",
      "metadata": {
        "id": "qv1M3QLRMhFp",
        "colab_type": "code",
        "colab": {}
      },
      "source": [
        "tableau_veg_y = veg_data['target']"
      ],
      "execution_count": 0,
      "outputs": []
    },
    {
      "cell_type": "code",
      "metadata": {
        "id": "DSQJCQqnfxwt",
        "colab_type": "code",
        "colab": {}
      },
      "source": [
        "predict = rf_veg.predict(tableau_veg_X)\n",
        "proba = rf_veg.predict_proba(tableau_veg_X)\n"
      ],
      "execution_count": 0,
      "outputs": []
    },
    {
      "cell_type": "code",
      "metadata": {
        "id": "BoIjdO_EbJmn",
        "colab_type": "code",
        "colab": {}
      },
      "source": [
        "veg_data['predictions'] = predict\n",
        "veg_data['prob_0'] = proba[:,0] \n",
        "veg_data['prob_1'] = proba[:,1]"
      ],
      "execution_count": 0,
      "outputs": []
    },
    {
      "cell_type": "code",
      "metadata": {
        "id": "2Ljsr8LuM953",
        "colab_type": "code",
        "outputId": "51a7d0a9-7ef6-4cff-f17f-d45db9b9164e",
        "colab": {
          "base_uri": "https://localhost:8080/",
          "height": 400
        }
      },
      "source": [
        "veg_data.head()"
      ],
      "execution_count": 0,
      "outputs": [
        {
          "output_type": "execute_result",
          "data": {
            "text/html": [
              "<div>\n",
              "<style scoped>\n",
              "    .dataframe tbody tr th:only-of-type {\n",
              "        vertical-align: middle;\n",
              "    }\n",
              "\n",
              "    .dataframe tbody tr th {\n",
              "        vertical-align: top;\n",
              "    }\n",
              "\n",
              "    .dataframe thead th {\n",
              "        text-align: right;\n",
              "    }\n",
              "</style>\n",
              "<table border=\"1\" class=\"dataframe\">\n",
              "  <thead>\n",
              "    <tr style=\"text-align: right;\">\n",
              "      <th></th>\n",
              "      <th>Unnamed: 0</th>\n",
              "      <th>left</th>\n",
              "      <th>top</th>\n",
              "      <th>right</th>\n",
              "      <th>bottom</th>\n",
              "      <th>id</th>\n",
              "      <th>geometry</th>\n",
              "      <th>Centroid Longitude</th>\n",
              "      <th>Centroid Latitude</th>\n",
              "      <th>Start Date</th>\n",
              "      <th>End Date</th>\n",
              "      <th>NDVI</th>\n",
              "      <th>EVI</th>\n",
              "      <th>NDWI</th>\n",
              "      <th>topLeft_coords</th>\n",
              "      <th>topRight_coords</th>\n",
              "      <th>bottomLeft_coords</th>\n",
              "      <th>bottomRight_coords</th>\n",
              "      <th>centroid_coords</th>\n",
              "      <th>midLeft_coords</th>\n",
              "      <th>midRight_coords</th>\n",
              "      <th>midTop_coords</th>\n",
              "      <th>midBottom_coords</th>\n",
              "      <th>diagonal1</th>\n",
              "      <th>diagonal2</th>\n",
              "      <th>diagonal3</th>\n",
              "      <th>diagonal4</th>\n",
              "      <th>fire_2018_COUNTY2</th>\n",
              "      <th>fire_2017_WINTER2</th>\n",
              "      <th>fire_2016_COLD2</th>\n",
              "      <th>fire_2015_WRAGG2</th>\n",
              "      <th>fire_2014_MONTICELLO2</th>\n",
              "      <th>target</th>\n",
              "      <th>predictions</th>\n",
              "      <th>prob_0</th>\n",
              "      <th>prob_1</th>\n",
              "    </tr>\n",
              "  </thead>\n",
              "  <tbody>\n",
              "    <tr>\n",
              "      <th>0</th>\n",
              "      <td>69</td>\n",
              "      <td>-122.124189</td>\n",
              "      <td>38.56926</td>\n",
              "      <td>-122.114189</td>\n",
              "      <td>38.55926</td>\n",
              "      <td>1</td>\n",
              "      <td>POLYGON ((-122.1241886091637 38.56925978424475...</td>\n",
              "      <td>-122.119189</td>\n",
              "      <td>38.56426</td>\n",
              "      <td>2015-07-04</td>\n",
              "      <td>2015-07-11</td>\n",
              "      <td>0.486477</td>\n",
              "      <td>0.407889</td>\n",
              "      <td>0.120923</td>\n",
              "      <td>(-122.1241886091637, 38.56925978424475)</td>\n",
              "      <td>(-122.11418860916369, 38.56925978424475)</td>\n",
              "      <td>(-122.1241886091637, 38.55925978424475)</td>\n",
              "      <td>(-122.11418860916369, 38.55925978424475)</td>\n",
              "      <td>(-122.11918860916371, 38.56425978424475)</td>\n",
              "      <td>(-122.1241886091637, 38.56425978424475)</td>\n",
              "      <td>(-122.11418860916369, 38.56425978424475)</td>\n",
              "      <td>(-122.11918860916371, 38.56925978424475)</td>\n",
              "      <td>(-122.11918860916371, 38.55925978424475)</td>\n",
              "      <td>(-122.12143860916372, 38.566509784244744)</td>\n",
              "      <td>(-122.11693860916371, 38.566509784244744)</td>\n",
              "      <td>(-122.11693860916371, 38.56200978424475)</td>\n",
              "      <td>(-122.12143860916372, 38.56200978424475)</td>\n",
              "      <td>False</td>\n",
              "      <td>False</td>\n",
              "      <td>False</td>\n",
              "      <td>False</td>\n",
              "      <td>False</td>\n",
              "      <td>0</td>\n",
              "      <td>0</td>\n",
              "      <td>1.000</td>\n",
              "      <td>0.000</td>\n",
              "    </tr>\n",
              "    <tr>\n",
              "      <th>1</th>\n",
              "      <td>345</td>\n",
              "      <td>-122.124189</td>\n",
              "      <td>38.55926</td>\n",
              "      <td>-122.114189</td>\n",
              "      <td>38.54926</td>\n",
              "      <td>2</td>\n",
              "      <td>POLYGON ((-122.1241886091637 38.55925978424475...</td>\n",
              "      <td>-122.119189</td>\n",
              "      <td>38.55426</td>\n",
              "      <td>2015-07-04</td>\n",
              "      <td>2015-07-11</td>\n",
              "      <td>0.443379</td>\n",
              "      <td>0.342385</td>\n",
              "      <td>0.085150</td>\n",
              "      <td>(-122.1241886091637, 38.55925978424475)</td>\n",
              "      <td>(-122.11418860916369, 38.55925978424475)</td>\n",
              "      <td>(-122.1241886091637, 38.549259784244754)</td>\n",
              "      <td>(-122.11418860916369, 38.549259784244754)</td>\n",
              "      <td>(-122.11918860916371, 38.554259784244756)</td>\n",
              "      <td>(-122.1241886091637, 38.554259784244756)</td>\n",
              "      <td>(-122.11418860916369, 38.554259784244756)</td>\n",
              "      <td>(-122.11918860916371, 38.55925978424475)</td>\n",
              "      <td>(-122.11918860916371, 38.549259784244754)</td>\n",
              "      <td>(-122.12143860916372, 38.55650978424475)</td>\n",
              "      <td>(-122.11693860916371, 38.55650978424475)</td>\n",
              "      <td>(-122.11693860916371, 38.55200978424476)</td>\n",
              "      <td>(-122.12143860916372, 38.55200978424476)</td>\n",
              "      <td>False</td>\n",
              "      <td>False</td>\n",
              "      <td>False</td>\n",
              "      <td>False</td>\n",
              "      <td>False</td>\n",
              "      <td>0</td>\n",
              "      <td>0</td>\n",
              "      <td>0.975</td>\n",
              "      <td>0.025</td>\n",
              "    </tr>\n",
              "    <tr>\n",
              "      <th>2</th>\n",
              "      <td>621</td>\n",
              "      <td>-122.124189</td>\n",
              "      <td>38.54926</td>\n",
              "      <td>-122.114189</td>\n",
              "      <td>38.53926</td>\n",
              "      <td>3</td>\n",
              "      <td>POLYGON ((-122.1241886091637 38.54925978424475...</td>\n",
              "      <td>-122.119189</td>\n",
              "      <td>38.54426</td>\n",
              "      <td>2015-07-04</td>\n",
              "      <td>2015-07-11</td>\n",
              "      <td>0.414332</td>\n",
              "      <td>0.322549</td>\n",
              "      <td>0.064991</td>\n",
              "      <td>(-122.1241886091637, 38.54925978424475)</td>\n",
              "      <td>(-122.11418860916369, 38.54925978424475)</td>\n",
              "      <td>(-122.1241886091637, 38.53925978424475)</td>\n",
              "      <td>(-122.11418860916369, 38.53925978424475)</td>\n",
              "      <td>(-122.11918860916371, 38.54425978424475)</td>\n",
              "      <td>(-122.1241886091637, 38.54425978424475)</td>\n",
              "      <td>(-122.11418860916369, 38.54425978424475)</td>\n",
              "      <td>(-122.11918860916371, 38.54925978424475)</td>\n",
              "      <td>(-122.11918860916371, 38.53925978424475)</td>\n",
              "      <td>(-122.12143860916372, 38.54650978424475)</td>\n",
              "      <td>(-122.11693860916371, 38.54650978424475)</td>\n",
              "      <td>(-122.11693860916371, 38.542009784244755)</td>\n",
              "      <td>(-122.12143860916372, 38.542009784244755)</td>\n",
              "      <td>False</td>\n",
              "      <td>False</td>\n",
              "      <td>False</td>\n",
              "      <td>False</td>\n",
              "      <td>False</td>\n",
              "      <td>0</td>\n",
              "      <td>0</td>\n",
              "      <td>0.815</td>\n",
              "      <td>0.185</td>\n",
              "    </tr>\n",
              "    <tr>\n",
              "      <th>3</th>\n",
              "      <td>897</td>\n",
              "      <td>-122.124189</td>\n",
              "      <td>38.53926</td>\n",
              "      <td>-122.114189</td>\n",
              "      <td>38.52926</td>\n",
              "      <td>4</td>\n",
              "      <td>POLYGON ((-122.1241886091637 38.53925978424475...</td>\n",
              "      <td>-122.119189</td>\n",
              "      <td>38.53426</td>\n",
              "      <td>2015-07-04</td>\n",
              "      <td>2015-07-11</td>\n",
              "      <td>0.432825</td>\n",
              "      <td>0.346805</td>\n",
              "      <td>0.098064</td>\n",
              "      <td>(-122.1241886091637, 38.53925978424475)</td>\n",
              "      <td>(-122.11418860916369, 38.53925978424475)</td>\n",
              "      <td>(-122.1241886091637, 38.52925978424475)</td>\n",
              "      <td>(-122.11418860916369, 38.52925978424475)</td>\n",
              "      <td>(-122.11918860916371, 38.53425978424475)</td>\n",
              "      <td>(-122.1241886091637, 38.53425978424475)</td>\n",
              "      <td>(-122.11418860916369, 38.53425978424475)</td>\n",
              "      <td>(-122.11918860916371, 38.53925978424475)</td>\n",
              "      <td>(-122.11918860916371, 38.52925978424475)</td>\n",
              "      <td>(-122.12143860916372, 38.53650978424475)</td>\n",
              "      <td>(-122.11693860916371, 38.53650978424475)</td>\n",
              "      <td>(-122.11693860916371, 38.53200978424476)</td>\n",
              "      <td>(-122.12143860916372, 38.53200978424476)</td>\n",
              "      <td>False</td>\n",
              "      <td>False</td>\n",
              "      <td>False</td>\n",
              "      <td>False</td>\n",
              "      <td>False</td>\n",
              "      <td>0</td>\n",
              "      <td>0</td>\n",
              "      <td>0.960</td>\n",
              "      <td>0.040</td>\n",
              "    </tr>\n",
              "    <tr>\n",
              "      <th>4</th>\n",
              "      <td>1173</td>\n",
              "      <td>-122.124189</td>\n",
              "      <td>38.52926</td>\n",
              "      <td>-122.114189</td>\n",
              "      <td>38.51926</td>\n",
              "      <td>5</td>\n",
              "      <td>POLYGON ((-122.1241886091637 38.52925978424475...</td>\n",
              "      <td>-122.119189</td>\n",
              "      <td>38.52426</td>\n",
              "      <td>2015-07-04</td>\n",
              "      <td>2015-07-11</td>\n",
              "      <td>0.352972</td>\n",
              "      <td>0.292811</td>\n",
              "      <td>0.105769</td>\n",
              "      <td>(-122.1241886091637, 38.52925978424475)</td>\n",
              "      <td>(-122.11418860916369, 38.52925978424475)</td>\n",
              "      <td>(-122.1241886091637, 38.51925978424475)</td>\n",
              "      <td>(-122.11418860916369, 38.51925978424475)</td>\n",
              "      <td>(-122.11918860916371, 38.524259784244755)</td>\n",
              "      <td>(-122.1241886091637, 38.524259784244755)</td>\n",
              "      <td>(-122.11418860916369, 38.524259784244755)</td>\n",
              "      <td>(-122.11918860916371, 38.52925978424475)</td>\n",
              "      <td>(-122.11918860916371, 38.51925978424475)</td>\n",
              "      <td>(-122.12143860916372, 38.52650978424475)</td>\n",
              "      <td>(-122.11693860916371, 38.52650978424475)</td>\n",
              "      <td>(-122.11693860916371, 38.52200978424476)</td>\n",
              "      <td>(-122.12143860916372, 38.52200978424476)</td>\n",
              "      <td>False</td>\n",
              "      <td>False</td>\n",
              "      <td>False</td>\n",
              "      <td>False</td>\n",
              "      <td>False</td>\n",
              "      <td>0</td>\n",
              "      <td>0</td>\n",
              "      <td>0.930</td>\n",
              "      <td>0.070</td>\n",
              "    </tr>\n",
              "  </tbody>\n",
              "</table>\n",
              "</div>"
            ],
            "text/plain": [
              "   Unnamed: 0        left       top  ...  predictions  prob_0  prob_1\n",
              "0          69 -122.124189  38.56926  ...            0   1.000   0.000\n",
              "1         345 -122.124189  38.55926  ...            0   0.975   0.025\n",
              "2         621 -122.124189  38.54926  ...            0   0.815   0.185\n",
              "3         897 -122.124189  38.53926  ...            0   0.960   0.040\n",
              "4        1173 -122.124189  38.52926  ...            0   0.930   0.070\n",
              "\n",
              "[5 rows x 36 columns]"
            ]
          },
          "metadata": {
            "tags": []
          },
          "execution_count": 56
        }
      ]
    },
    {
      "cell_type": "code",
      "metadata": {
        "id": "YNiXRwWyNC3h",
        "colab_type": "code",
        "outputId": "13be1ca7-4ae1-4f5a-efe1-f82be5e89f16",
        "colab": {
          "base_uri": "https://localhost:8080/",
          "height": 121
        }
      },
      "source": [
        "from google.colab import drive as dr\n",
        "dr.mount('/content/gdrive')"
      ],
      "execution_count": 0,
      "outputs": [
        {
          "output_type": "stream",
          "text": [
            "Go to this URL in a browser: https://accounts.google.com/o/oauth2/auth?client_id=947318989803-6bn6qk8qdgf4n4g3pfee6491hc0brc4i.apps.googleusercontent.com&redirect_uri=urn%3aietf%3awg%3aoauth%3a2.0%3aoob&response_type=code&scope=email%20https%3a%2f%2fwww.googleapis.com%2fauth%2fdocs.test%20https%3a%2f%2fwww.googleapis.com%2fauth%2fdrive%20https%3a%2f%2fwww.googleapis.com%2fauth%2fdrive.photos.readonly%20https%3a%2f%2fwww.googleapis.com%2fauth%2fpeopleapi.readonly\n",
            "\n",
            "Enter your authorization code:\n",
            "··········\n",
            "Mounted at /content/gdrive\n"
          ],
          "name": "stdout"
        }
      ]
    },
    {
      "cell_type": "code",
      "metadata": {
        "id": "pfzAulopNlF2",
        "colab_type": "code",
        "colab": {}
      },
      "source": [
        "root_path = '/content/gdrive/My Drive/Colab Notebooks/MasterProject_WildFirePrediction/predicted_csvfiles/'"
      ],
      "execution_count": 0,
      "outputs": []
    },
    {
      "cell_type": "code",
      "metadata": {
        "id": "QM2hXoHEZ-n7",
        "colab_type": "code",
        "outputId": "65655db9-40b1-42db-dc78-b6d3850e7910",
        "colab": {
          "base_uri": "https://localhost:8080/",
          "height": 34
        }
      },
      "source": [
        "root_path+ 'b'"
      ],
      "execution_count": 0,
      "outputs": [
        {
          "output_type": "execute_result",
          "data": {
            "text/plain": [
              "'/content/gdrive/My Drive/Colab Notebooks/MasterProject_WildFirePrediction/predicted_csvfiles/b'"
            ]
          },
          "metadata": {
            "tags": []
          },
          "execution_count": 59
        }
      ]
    },
    {
      "cell_type": "code",
      "metadata": {
        "id": "2oZq0Mtsd-yh",
        "colab_type": "code",
        "outputId": "98e21451-31a7-441f-d584-d69c2d79057a",
        "colab": {
          "base_uri": "https://localhost:8080/",
          "height": 34
        }
      },
      "source": [
        "root_path"
      ],
      "execution_count": 0,
      "outputs": [
        {
          "output_type": "execute_result",
          "data": {
            "text/plain": [
              "'/content/gdrive/My Drive/Colab Notebooks/MasterProject_WildFirePrediction/predicted_csvfiles/'"
            ]
          },
          "metadata": {
            "tags": []
          },
          "execution_count": 60
        }
      ]
    },
    {
      "cell_type": "code",
      "metadata": {
        "id": "uDYLUleROTcp",
        "colab_type": "code",
        "colab": {}
      },
      "source": [
        "# veg_data.to_csv(root_path +'veg_data.csv')"
      ],
      "execution_count": 0,
      "outputs": []
    },
    {
      "cell_type": "markdown",
      "metadata": {
        "id": "tJCmC42oDCef",
        "colab_type": "text"
      },
      "source": [
        "# Download Positive weather data"
      ]
    },
    {
      "cell_type": "code",
      "metadata": {
        "id": "KrIqHpk0Eyhj",
        "colab_type": "code",
        "colab": {}
      },
      "source": [
        "# downloaded1 = drive.CreateFile({'id':'1EMqiSn9snQCPicKFfiHhxir1yzEMoKDU'}) \n",
        "# downloaded1.GetContentFile('WRAGG_2015_test.csv')\n",
        "# weather_2015_positive = pd.read_csv('WRAGG_2015_test.csv')\n",
        "# weather_2015_positive['target'].value_counts()"
      ],
      "execution_count": 0,
      "outputs": []
    },
    {
      "cell_type": "code",
      "metadata": {
        "id": "auTjck0cDFiw",
        "colab_type": "code",
        "outputId": "f7af2b23-c17b-49e1-f8fd-d5dffb9b3018",
        "colab": {
          "base_uri": "https://localhost:8080/",
          "height": 67
        }
      },
      "source": [
        "downloaded1 = drive.CreateFile({'id':'1EMqiSn9snQCPicKFfiHhxir1yzEMoKDU'}) \n",
        "downloaded1.GetContentFile('WRAGG_2015_test.csv')\n",
        "dat_2015 = pd.read_csv('WRAGG_2015_test.csv')\n",
        "dat_2015['target'].value_counts()"
      ],
      "execution_count": 0,
      "outputs": [
        {
          "output_type": "execute_result",
          "data": {
            "text/plain": [
              "0    1128\n",
              "1     384\n",
              "Name: target, dtype: int64"
            ]
          },
          "metadata": {
            "tags": []
          },
          "execution_count": 63
        }
      ]
    },
    {
      "cell_type": "code",
      "metadata": {
        "id": "ywdwpNBCXaRt",
        "colab_type": "code",
        "outputId": "05407c0a-ad77-4f4b-a228-6d8edb95c3bb",
        "colab": {
          "base_uri": "https://localhost:8080/",
          "height": 437
        }
      },
      "source": [
        "dat_2015['DATE'].value_counts()"
      ],
      "execution_count": 0,
      "outputs": [
        {
          "output_type": "execute_result",
          "data": {
            "text/plain": [
              "2015-07-22 16:53:00    63\n",
              "2015-07-22 04:53:00    63\n",
              "2015-07-22 14:53:00    63\n",
              "2015-07-22 12:53:00    63\n",
              "2015-07-22 03:53:00    63\n",
              "2015-07-22 05:53:00    63\n",
              "2015-07-22 22:53:00    63\n",
              "2015-07-22 20:53:00    63\n",
              "2015-07-22 19:53:00    63\n",
              "2015-07-22 23:53:00    63\n",
              "2015-07-22 15:53:00    63\n",
              "2015-07-22 11:53:00    63\n",
              "2015-07-22 09:53:00    63\n",
              "2015-07-22 06:53:00    63\n",
              "2015-07-22 01:53:00    63\n",
              "2015-07-22 18:53:00    63\n",
              "2015-07-22 21:53:00    63\n",
              "2015-07-22 13:53:00    63\n",
              "2015-07-22 17:53:00    63\n",
              "2015-07-22 00:53:00    63\n",
              "2015-07-22 08:53:00    63\n",
              "2015-07-22 07:53:00    63\n",
              "2015-07-22 10:53:00    63\n",
              "2015-07-22 02:53:00    63\n",
              "Name: DATE, dtype: int64"
            ]
          },
          "metadata": {
            "tags": []
          },
          "execution_count": 64
        }
      ]
    },
    {
      "cell_type": "code",
      "metadata": {
        "id": "F2QedgqgD4Uk",
        "colab_type": "code",
        "outputId": "26489a67-bebc-4788-87f4-b603d3fb4f33",
        "colab": {
          "base_uri": "https://localhost:8080/",
          "height": 67
        }
      },
      "source": [
        "downloaded2 = drive.CreateFile({'id':'1-2ZD_NZcxQQ-T-1DszSiNNeCo6ibx2Ht'}) \n",
        "downloaded2.GetContentFile('COLD_2016_test.csv')\n",
        "dat_2016 = pd.read_csv('COLD_2016_test.csv')\n",
        "dat_2016['target'].value_counts()"
      ],
      "execution_count": 0,
      "outputs": [
        {
          "output_type": "execute_result",
          "data": {
            "text/plain": [
              "1    1032\n",
              "0     480\n",
              "Name: target, dtype: int64"
            ]
          },
          "metadata": {
            "tags": []
          },
          "execution_count": 65
        }
      ]
    },
    {
      "cell_type": "code",
      "metadata": {
        "id": "NA059qaW3bIf",
        "colab_type": "code",
        "outputId": "2be7b9cb-d7d4-4d0c-d397-0a09924e27ba",
        "colab": {
          "base_uri": "https://localhost:8080/",
          "height": 437
        }
      },
      "source": [
        "dat_2016['DATE'].value_counts()"
      ],
      "execution_count": 0,
      "outputs": [
        {
          "output_type": "execute_result",
          "data": {
            "text/plain": [
              "2016-08-02 05:53:00    63\n",
              "2016-08-02 23:53:00    63\n",
              "2016-08-02 21:53:00    63\n",
              "2016-08-02 08:53:00    63\n",
              "2016-08-02 12:53:00    63\n",
              "2016-08-02 04:53:00    63\n",
              "2016-08-02 10:53:00    63\n",
              "2016-08-02 11:53:00    63\n",
              "2016-08-02 03:53:00    63\n",
              "2016-08-02 20:53:00    63\n",
              "2016-08-02 19:53:00    63\n",
              "2016-08-02 09:53:00    63\n",
              "2016-08-02 14:53:00    63\n",
              "2016-08-02 02:53:00    63\n",
              "2016-08-02 13:53:00    63\n",
              "2016-08-02 01:53:00    63\n",
              "2016-08-02 22:53:00    63\n",
              "2016-08-02 00:53:00    63\n",
              "2016-08-02 15:53:00    63\n",
              "2016-08-02 16:53:00    63\n",
              "2016-08-02 06:53:00    63\n",
              "2016-08-02 18:53:00    63\n",
              "2016-08-02 17:53:00    63\n",
              "2016-08-02 07:53:00    63\n",
              "Name: DATE, dtype: int64"
            ]
          },
          "metadata": {
            "tags": []
          },
          "execution_count": 66
        }
      ]
    },
    {
      "cell_type": "code",
      "metadata": {
        "id": "lXv0sfWWEL3c",
        "colab_type": "code",
        "outputId": "7435e4a9-516f-4f30-def2-4be0bad4b231",
        "colab": {
          "base_uri": "https://localhost:8080/",
          "height": 67
        }
      },
      "source": [
        "downloaded3 = drive.CreateFile({'id':'1-6ATDvR4YZn7j9fcnaQc1ZRLhMFY6ovs'}) \n",
        "downloaded3.GetContentFile('WINTER_2017during_train.csv')\n",
        "dat_2017 = pd.read_csv('WINTER_2017during_train.csv')\n",
        "dat_2017['target'].value_counts()"
      ],
      "execution_count": 0,
      "outputs": [
        {
          "output_type": "execute_result",
          "data": {
            "text/plain": [
              "0    1104\n",
              "1     408\n",
              "Name: target, dtype: int64"
            ]
          },
          "metadata": {
            "tags": []
          },
          "execution_count": 67
        }
      ]
    },
    {
      "cell_type": "code",
      "metadata": {
        "id": "G9HSTBjyjd6Y",
        "colab_type": "code",
        "outputId": "99ac7c0e-2868-40f5-e77f-5567f6450352",
        "colab": {
          "base_uri": "https://localhost:8080/",
          "height": 437
        }
      },
      "source": [
        "dat_2017['DATE'].value_counts()"
      ],
      "execution_count": 0,
      "outputs": [
        {
          "output_type": "execute_result",
          "data": {
            "text/plain": [
              "2017-07-06 22:53:00    63\n",
              "2017-07-06 21:53:00    63\n",
              "2017-07-06 00:53:00    63\n",
              "2017-07-06 18:53:00    63\n",
              "2017-07-06 06:53:00    63\n",
              "2017-07-06 16:53:00    63\n",
              "2017-07-06 07:53:00    63\n",
              "2017-07-06 02:53:00    63\n",
              "2017-07-06 12:53:00    63\n",
              "2017-07-06 05:53:00    63\n",
              "2017-07-06 13:53:00    63\n",
              "2017-07-06 11:53:00    63\n",
              "2017-07-06 17:53:00    63\n",
              "2017-07-06 08:53:00    63\n",
              "2017-07-06 04:53:00    63\n",
              "2017-07-06 19:53:00    63\n",
              "2017-07-06 23:53:00    63\n",
              "2017-07-06 20:53:00    63\n",
              "2017-07-06 15:53:00    63\n",
              "2017-07-06 10:53:00    63\n",
              "2017-07-06 09:53:00    63\n",
              "2017-07-06 14:53:00    63\n",
              "2017-07-06 03:53:00    63\n",
              "2017-07-06 01:53:00    63\n",
              "Name: DATE, dtype: int64"
            ]
          },
          "metadata": {
            "tags": []
          },
          "execution_count": 68
        }
      ]
    },
    {
      "cell_type": "code",
      "metadata": {
        "id": "a6Wr4Rwu3-Ot",
        "colab_type": "code",
        "outputId": "7a3b0f09-acde-40b8-853e-2725bf1fec5f",
        "colab": {
          "base_uri": "https://localhost:8080/",
          "height": 67
        }
      },
      "source": [
        "downloaded8 = drive.CreateFile({'id':'1-CR7IkiZ2PnNROZQqBpkZDDpqzMT-NQN'}) \n",
        "downloaded8.GetContentFile('COUNTY_2018during_train.csv')\n",
        "dat_2018 = pd.read_csv('COUNTY_2018during_train.csv')\n",
        "dat_2018['target'].value_counts()"
      ],
      "execution_count": 0,
      "outputs": [
        {
          "output_type": "execute_result",
          "data": {
            "text/plain": [
              "1    1104\n",
              "0     408\n",
              "Name: target, dtype: int64"
            ]
          },
          "metadata": {
            "tags": []
          },
          "execution_count": 69
        }
      ]
    },
    {
      "cell_type": "code",
      "metadata": {
        "id": "SJwlDa-f4coJ",
        "colab_type": "code",
        "outputId": "1fcc7718-f92f-425d-f480-1bf267ee116a",
        "colab": {
          "base_uri": "https://localhost:8080/",
          "height": 437
        }
      },
      "source": [
        "dat_2018['DATE'].value_counts()"
      ],
      "execution_count": 0,
      "outputs": [
        {
          "output_type": "execute_result",
          "data": {
            "text/plain": [
              "2018-06-30 02:53:00    63\n",
              "2018-06-30 23:53:00    63\n",
              "2018-06-30 19:53:00    63\n",
              "2018-06-30 07:53:00    63\n",
              "2018-06-30 10:53:00    63\n",
              "2018-06-30 06:53:00    63\n",
              "2018-06-30 21:53:00    63\n",
              "2018-06-30 08:53:00    63\n",
              "2018-06-30 05:53:00    63\n",
              "2018-06-30 20:53:00    63\n",
              "2018-06-30 17:53:00    63\n",
              "2018-06-30 04:53:00    63\n",
              "2018-06-30 22:53:00    63\n",
              "2018-06-30 14:53:00    63\n",
              "2018-06-30 12:53:00    63\n",
              "2018-06-30 09:53:00    63\n",
              "2018-06-30 11:53:00    63\n",
              "2018-06-30 00:53:00    63\n",
              "2018-06-30 13:53:00    63\n",
              "2018-06-30 15:53:00    63\n",
              "2018-06-30 03:53:00    63\n",
              "2018-06-30 01:53:00    63\n",
              "2018-06-30 18:53:00    63\n",
              "2018-06-30 16:53:00    63\n",
              "Name: DATE, dtype: int64"
            ]
          },
          "metadata": {
            "tags": []
          },
          "execution_count": 70
        }
      ]
    },
    {
      "cell_type": "markdown",
      "metadata": {
        "id": "0OCn05d-4m75",
        "colab_type": "text"
      },
      "source": [
        "# Dowload negative weather data"
      ]
    },
    {
      "cell_type": "markdown",
      "metadata": {
        "id": "Hu0XB2ksy1nj",
        "colab_type": "text"
      },
      "source": [
        "2015 -- negative weather date - 2015-07-11\n",
        "\n",
        "2016 -- negative weather date - 2016-07-26\n",
        "\n",
        "2017 -- negative weather date - 2017-06-25\n",
        "\n",
        "2018 -- negative weather date - 2018-06-17"
      ]
    },
    {
      "cell_type": "code",
      "metadata": {
        "id": "9DVyQ6tP66hj",
        "colab_type": "code",
        "outputId": "e79a2acb-7d5d-4213-813e-4fe3686a5fe5",
        "colab": {
          "base_uri": "https://localhost:8080/",
          "height": 50
        }
      },
      "source": [
        "downloaded4 = drive.CreateFile({'id':'1Owi-fRO1nAsflHLloBilzOsdGePsXRIQ'}) # https://drive.google.com/open?id=1Owi-fRO1nAsflHLloBilzOsdGePsXRIQ \n",
        "downloaded4.GetContentFile('WRAGG_2015before_train.csv')\n",
        "empty_2015 = pd.read_csv('WRAGG_2015before_train.csv')\n",
        "empty_2015['target'] = 0\n",
        "empty_2015['target'].value_counts()"
      ],
      "execution_count": 0,
      "outputs": [
        {
          "output_type": "execute_result",
          "data": {
            "text/plain": [
              "0    1512\n",
              "Name: target, dtype: int64"
            ]
          },
          "metadata": {
            "tags": []
          },
          "execution_count": 71
        }
      ]
    },
    {
      "cell_type": "code",
      "metadata": {
        "id": "thlyilN4USBF",
        "colab_type": "code",
        "outputId": "355abb6c-8138-4995-f69c-fdc03fc50243",
        "colab": {
          "base_uri": "https://localhost:8080/",
          "height": 437
        }
      },
      "source": [
        "empty_2015['DATE'].value_counts()"
      ],
      "execution_count": 0,
      "outputs": [
        {
          "output_type": "execute_result",
          "data": {
            "text/plain": [
              "2015-07-11 03:53:00    63\n",
              "2015-07-11 01:53:00    63\n",
              "2015-07-11 12:53:00    63\n",
              "2015-07-11 23:53:00    63\n",
              "2015-07-11 21:53:00    63\n",
              "2015-07-11 17:53:00    63\n",
              "2015-07-11 07:53:00    63\n",
              "2015-07-11 00:53:00    63\n",
              "2015-07-11 08:53:00    63\n",
              "2015-07-11 02:53:00    63\n",
              "2015-07-11 06:53:00    63\n",
              "2015-07-11 11:53:00    63\n",
              "2015-07-11 16:53:00    63\n",
              "2015-07-11 20:53:00    63\n",
              "2015-07-11 18:53:00    63\n",
              "2015-07-11 10:53:00    63\n",
              "2015-07-11 04:53:00    63\n",
              "2015-07-11 05:53:00    63\n",
              "2015-07-11 13:53:00    63\n",
              "2015-07-11 15:53:00    63\n",
              "2015-07-11 09:53:00    63\n",
              "2015-07-11 14:53:00    63\n",
              "2015-07-11 19:53:00    63\n",
              "2015-07-11 22:53:00    63\n",
              "Name: DATE, dtype: int64"
            ]
          },
          "metadata": {
            "tags": []
          },
          "execution_count": 72
        }
      ]
    },
    {
      "cell_type": "code",
      "metadata": {
        "id": "vnNOl1f_7Y0e",
        "colab_type": "code",
        "outputId": "8dadd89f-2fa3-4d14-b2e1-2ca0e84fb3e9",
        "colab": {
          "base_uri": "https://localhost:8080/",
          "height": 50
        }
      },
      "source": [
        "downloaded5 = drive.CreateFile({'id':'1-2XPDpG_njoiFDfrGtAuUuNivhW-0f7W'}) # https://drive.google.com/open?id=1-2XPDpG_njoiFDfrGtAuUuNivhW-0f7W\n",
        "downloaded5.GetContentFile('COLD_2016before_train.csv')\n",
        "empty_2016 = pd.read_csv('COLD_2016before_train.csv')\n",
        "empty_2016['target'] = 0\n",
        "empty_2016['target'].value_counts()"
      ],
      "execution_count": 0,
      "outputs": [
        {
          "output_type": "execute_result",
          "data": {
            "text/plain": [
              "0    1512\n",
              "Name: target, dtype: int64"
            ]
          },
          "metadata": {
            "tags": []
          },
          "execution_count": 73
        }
      ]
    },
    {
      "cell_type": "code",
      "metadata": {
        "id": "fS8u6mdg7w2S",
        "colab_type": "code",
        "outputId": "c5c4b1e4-5a0e-4316-94d6-d295a7eeced7",
        "colab": {
          "base_uri": "https://localhost:8080/",
          "height": 50
        }
      },
      "source": [
        "downloaded6 = drive.CreateFile({'id':'1-3gwEb8ql1UuBrOoC2b7vU0w-OWUga0V'}) #https://drive.google.com/open?id=1-3gwEb8ql1UuBrOoC2b7vU0w-OWUga0V\n",
        "downloaded6.GetContentFile('WINTER_2017before_train.csv')\n",
        "empty_2017 = pd.read_csv('WINTER_2017before_train.csv')\n",
        "empty_2017['target'] = 0\n",
        "empty_2017['target'].value_counts()"
      ],
      "execution_count": 0,
      "outputs": [
        {
          "output_type": "execute_result",
          "data": {
            "text/plain": [
              "0    1512\n",
              "Name: target, dtype: int64"
            ]
          },
          "metadata": {
            "tags": []
          },
          "execution_count": 74
        }
      ]
    },
    {
      "cell_type": "code",
      "metadata": {
        "id": "xmJ7OCaZEh67",
        "colab_type": "code",
        "outputId": "c2671abd-c4a2-44fc-a27f-daf0fdb86034",
        "colab": {
          "base_uri": "https://localhost:8080/",
          "height": 437
        }
      },
      "source": [
        "empty_2017['DATE'].value_counts()"
      ],
      "execution_count": 0,
      "outputs": [
        {
          "output_type": "execute_result",
          "data": {
            "text/plain": [
              "2017-07-06 22:53:00    63\n",
              "2017-07-06 21:53:00    63\n",
              "2017-07-06 00:53:00    63\n",
              "2017-07-06 18:53:00    63\n",
              "2017-07-06 06:53:00    63\n",
              "2017-07-06 16:53:00    63\n",
              "2017-07-06 07:53:00    63\n",
              "2017-07-06 02:53:00    63\n",
              "2017-07-06 12:53:00    63\n",
              "2017-07-06 05:53:00    63\n",
              "2017-07-06 13:53:00    63\n",
              "2017-07-06 11:53:00    63\n",
              "2017-07-06 17:53:00    63\n",
              "2017-07-06 08:53:00    63\n",
              "2017-07-06 04:53:00    63\n",
              "2017-07-06 19:53:00    63\n",
              "2017-07-06 23:53:00    63\n",
              "2017-07-06 20:53:00    63\n",
              "2017-07-06 15:53:00    63\n",
              "2017-07-06 10:53:00    63\n",
              "2017-07-06 09:53:00    63\n",
              "2017-07-06 14:53:00    63\n",
              "2017-07-06 03:53:00    63\n",
              "2017-07-06 01:53:00    63\n",
              "Name: DATE, dtype: int64"
            ]
          },
          "metadata": {
            "tags": []
          },
          "execution_count": 75
        }
      ]
    },
    {
      "cell_type": "code",
      "metadata": {
        "id": "f_Z925R3orC_",
        "colab_type": "code",
        "outputId": "956f2673-c862-483f-be5d-c6dd580b0541",
        "colab": {
          "base_uri": "https://localhost:8080/",
          "height": 50
        }
      },
      "source": [
        "downloaded9 = drive.CreateFile({'id':'1-8G2Jhuy9c5yxR3m3YSICn4ps7ljrnTw'}) #https://drive.google.com/open?id=1-8G2Jhuy9c5yxR3m3YSICn4ps7ljrnTw\n",
        "downloaded9.GetContentFile('COUNTY_2018before_train.csv')\n",
        "empty_2018 = pd.read_csv('COUNTY_2018before_train.csv')\n",
        "empty_2018['target'] = 0\n",
        "empty_2018['target'].value_counts()"
      ],
      "execution_count": 0,
      "outputs": [
        {
          "output_type": "execute_result",
          "data": {
            "text/plain": [
              "0    1512\n",
              "Name: target, dtype: int64"
            ]
          },
          "metadata": {
            "tags": []
          },
          "execution_count": 76
        }
      ]
    },
    {
      "cell_type": "code",
      "metadata": {
        "id": "wCOtymrK5Crv",
        "colab_type": "code",
        "outputId": "82c03d8c-9e6b-49a4-8368-c2cbee5ba253",
        "colab": {
          "base_uri": "https://localhost:8080/",
          "height": 437
        }
      },
      "source": [
        "empty_2018['DATE'].value_counts()"
      ],
      "execution_count": 0,
      "outputs": [
        {
          "output_type": "execute_result",
          "data": {
            "text/plain": [
              "2018-06-30 02:53:00    63\n",
              "2018-06-30 23:53:00    63\n",
              "2018-06-30 19:53:00    63\n",
              "2018-06-30 07:53:00    63\n",
              "2018-06-30 10:53:00    63\n",
              "2018-06-30 06:53:00    63\n",
              "2018-06-30 21:53:00    63\n",
              "2018-06-30 08:53:00    63\n",
              "2018-06-30 05:53:00    63\n",
              "2018-06-30 20:53:00    63\n",
              "2018-06-30 17:53:00    63\n",
              "2018-06-30 04:53:00    63\n",
              "2018-06-30 22:53:00    63\n",
              "2018-06-30 14:53:00    63\n",
              "2018-06-30 12:53:00    63\n",
              "2018-06-30 09:53:00    63\n",
              "2018-06-30 11:53:00    63\n",
              "2018-06-30 00:53:00    63\n",
              "2018-06-30 13:53:00    63\n",
              "2018-06-30 15:53:00    63\n",
              "2018-06-30 03:53:00    63\n",
              "2018-06-30 01:53:00    63\n",
              "2018-06-30 18:53:00    63\n",
              "2018-06-30 16:53:00    63\n",
              "Name: DATE, dtype: int64"
            ]
          },
          "metadata": {
            "tags": []
          },
          "execution_count": 77
        }
      ]
    },
    {
      "cell_type": "markdown",
      "metadata": {
        "id": "AmPDWvBhnICw",
        "colab_type": "text"
      },
      "source": [
        "#Powerlines and terrain data"
      ]
    },
    {
      "cell_type": "code",
      "metadata": {
        "id": "k7enPUBOnM2U",
        "colab_type": "code",
        "outputId": "fe9cbabd-ebb3-43dc-af12-3ae6d0e4dbf5",
        "colab": {
          "base_uri": "https://localhost:8080/",
          "height": 195
        }
      },
      "source": [
        "downloaded_terrain = drive.CreateFile({'id':'1RG_o-OU1BHhmdmi6BO9xWvjKY3IMazJp'}) \n",
        "downloaded_terrain.GetContentFile('terrain.csv')\n",
        "terrain = pd.read_csv('terrain.csv')\n",
        "terrain.head()"
      ],
      "execution_count": 0,
      "outputs": [
        {
          "output_type": "execute_result",
          "data": {
            "text/html": [
              "<div>\n",
              "<style scoped>\n",
              "    .dataframe tbody tr th:only-of-type {\n",
              "        vertical-align: middle;\n",
              "    }\n",
              "\n",
              "    .dataframe tbody tr th {\n",
              "        vertical-align: top;\n",
              "    }\n",
              "\n",
              "    .dataframe thead th {\n",
              "        text-align: right;\n",
              "    }\n",
              "</style>\n",
              "<table border=\"1\" class=\"dataframe\">\n",
              "  <thead>\n",
              "    <tr style=\"text-align: right;\">\n",
              "      <th></th>\n",
              "      <th>Unnamed: 0</th>\n",
              "      <th>geometry</th>\n",
              "      <th>left</th>\n",
              "      <th>top</th>\n",
              "      <th>right</th>\n",
              "      <th>bottom</th>\n",
              "      <th>id</th>\n",
              "      <th>Ascpect_Range</th>\n",
              "      <th>hillshade_direction</th>\n",
              "      <th>slope_range</th>\n",
              "    </tr>\n",
              "  </thead>\n",
              "  <tbody>\n",
              "    <tr>\n",
              "      <th>0</th>\n",
              "      <td>0</td>\n",
              "      <td>MULTIPOLYGON (((-122.0541886091637 38.53925978...</td>\n",
              "      <td>-122.054189</td>\n",
              "      <td>38.53926</td>\n",
              "      <td>-122.044189</td>\n",
              "      <td>38.52926</td>\n",
              "      <td>53</td>\n",
              "      <td>South East</td>\n",
              "      <td>North</td>\n",
              "      <td>High Slope</td>\n",
              "    </tr>\n",
              "    <tr>\n",
              "      <th>1</th>\n",
              "      <td>1</td>\n",
              "      <td>MULTIPOLYGON (((-122.0541886091637 38.52925978...</td>\n",
              "      <td>-122.054189</td>\n",
              "      <td>38.52926</td>\n",
              "      <td>-122.044189</td>\n",
              "      <td>38.51926</td>\n",
              "      <td>54</td>\n",
              "      <td>South</td>\n",
              "      <td>North</td>\n",
              "      <td>High Slope</td>\n",
              "    </tr>\n",
              "    <tr>\n",
              "      <th>2</th>\n",
              "      <td>2</td>\n",
              "      <td>MULTIPOLYGON (((-122.0541886091637 38.55925978...</td>\n",
              "      <td>-122.054189</td>\n",
              "      <td>38.55926</td>\n",
              "      <td>-122.044189</td>\n",
              "      <td>38.54926</td>\n",
              "      <td>51</td>\n",
              "      <td>South East</td>\n",
              "      <td>North</td>\n",
              "      <td>High Slope</td>\n",
              "    </tr>\n",
              "    <tr>\n",
              "      <th>3</th>\n",
              "      <td>3</td>\n",
              "      <td>MULTIPOLYGON (((-122.0541886091637 38.54925978...</td>\n",
              "      <td>-122.054189</td>\n",
              "      <td>38.54926</td>\n",
              "      <td>-122.044189</td>\n",
              "      <td>38.53926</td>\n",
              "      <td>52</td>\n",
              "      <td>South East</td>\n",
              "      <td>North</td>\n",
              "      <td>High Slope</td>\n",
              "    </tr>\n",
              "    <tr>\n",
              "      <th>4</th>\n",
              "      <td>4</td>\n",
              "      <td>MULTIPOLYGON (((-122.0641886091637 38.50925978...</td>\n",
              "      <td>-122.064189</td>\n",
              "      <td>38.50926</td>\n",
              "      <td>-122.054189</td>\n",
              "      <td>38.49926</td>\n",
              "      <td>49</td>\n",
              "      <td>South East</td>\n",
              "      <td>North</td>\n",
              "      <td>High Slope</td>\n",
              "    </tr>\n",
              "  </tbody>\n",
              "</table>\n",
              "</div>"
            ],
            "text/plain": [
              "   Unnamed: 0  ... slope_range\n",
              "0           0  ...  High Slope\n",
              "1           1  ...  High Slope\n",
              "2           2  ...  High Slope\n",
              "3           3  ...  High Slope\n",
              "4           4  ...  High Slope\n",
              "\n",
              "[5 rows x 10 columns]"
            ]
          },
          "metadata": {
            "tags": []
          },
          "execution_count": 78
        }
      ]
    },
    {
      "cell_type": "code",
      "metadata": {
        "id": "g0Wyc5U3nReQ",
        "colab_type": "code",
        "outputId": "cffe4d08-a926-49bf-844e-79011a5ec226",
        "colab": {
          "base_uri": "https://localhost:8080/",
          "height": 195
        }
      },
      "source": [
        "downloaded_powerlines = drive.CreateFile({'id':'1znnGM0Xvz6jyNykLY7U5BZvvPCShiK9W'}) \n",
        "downloaded_powerlines.GetContentFile('powerlinefinal.csv')\n",
        "powerline = pd.read_csv('powerlinefinal.csv')\n",
        "powerline.head()"
      ],
      "execution_count": 0,
      "outputs": [
        {
          "output_type": "execute_result",
          "data": {
            "text/html": [
              "<div>\n",
              "<style scoped>\n",
              "    .dataframe tbody tr th:only-of-type {\n",
              "        vertical-align: middle;\n",
              "    }\n",
              "\n",
              "    .dataframe tbody tr th {\n",
              "        vertical-align: top;\n",
              "    }\n",
              "\n",
              "    .dataframe thead th {\n",
              "        text-align: right;\n",
              "    }\n",
              "</style>\n",
              "<table border=\"1\" class=\"dataframe\">\n",
              "  <thead>\n",
              "    <tr style=\"text-align: right;\">\n",
              "      <th></th>\n",
              "      <th>Unnamed: 0</th>\n",
              "      <th>left</th>\n",
              "      <th>top</th>\n",
              "      <th>right</th>\n",
              "      <th>bottom</th>\n",
              "      <th>id</th>\n",
              "      <th>kV</th>\n",
              "      <th>Status</th>\n",
              "      <th>Circuit</th>\n",
              "      <th>Length_Mil</th>\n",
              "      <th>Length_Fee</th>\n",
              "      <th>geometry</th>\n",
              "    </tr>\n",
              "  </thead>\n",
              "  <tbody>\n",
              "    <tr>\n",
              "      <th>0</th>\n",
              "      <td>0</td>\n",
              "      <td>-122.094189</td>\n",
              "      <td>38.54926</td>\n",
              "      <td>-122.084189</td>\n",
              "      <td>38.53926</td>\n",
              "      <td>24</td>\n",
              "      <td>0.0</td>\n",
              "      <td>Not Operating</td>\n",
              "      <td>Other</td>\n",
              "      <td>0</td>\n",
              "      <td>0.0</td>\n",
              "      <td>MULTIPOLYGON (((-122.0941886091637 38.54925978...</td>\n",
              "    </tr>\n",
              "    <tr>\n",
              "      <th>1</th>\n",
              "      <td>1</td>\n",
              "      <td>-122.094189</td>\n",
              "      <td>38.53926</td>\n",
              "      <td>-122.084189</td>\n",
              "      <td>38.52926</td>\n",
              "      <td>25</td>\n",
              "      <td>0.0</td>\n",
              "      <td>Not Operating</td>\n",
              "      <td>Other</td>\n",
              "      <td>0</td>\n",
              "      <td>0.0</td>\n",
              "      <td>MULTIPOLYGON (((-122.0941886091637 38.53925978...</td>\n",
              "    </tr>\n",
              "    <tr>\n",
              "      <th>2</th>\n",
              "      <td>2</td>\n",
              "      <td>-122.094189</td>\n",
              "      <td>38.56926</td>\n",
              "      <td>-122.084189</td>\n",
              "      <td>38.55926</td>\n",
              "      <td>22</td>\n",
              "      <td>0.0</td>\n",
              "      <td>Not Operating</td>\n",
              "      <td>Other</td>\n",
              "      <td>0</td>\n",
              "      <td>0.0</td>\n",
              "      <td>MULTIPOLYGON (((-122.0941886091637 38.56925978...</td>\n",
              "    </tr>\n",
              "    <tr>\n",
              "      <th>3</th>\n",
              "      <td>3</td>\n",
              "      <td>-122.094189</td>\n",
              "      <td>38.55926</td>\n",
              "      <td>-122.084189</td>\n",
              "      <td>38.54926</td>\n",
              "      <td>23</td>\n",
              "      <td>0.0</td>\n",
              "      <td>Not Operating</td>\n",
              "      <td>Other</td>\n",
              "      <td>0</td>\n",
              "      <td>0.0</td>\n",
              "      <td>MULTIPOLYGON (((-122.0941886091637 38.55925978...</td>\n",
              "    </tr>\n",
              "    <tr>\n",
              "      <th>4</th>\n",
              "      <td>4</td>\n",
              "      <td>-122.114189</td>\n",
              "      <td>38.54926</td>\n",
              "      <td>-122.104189</td>\n",
              "      <td>38.53926</td>\n",
              "      <td>10</td>\n",
              "      <td>0.0</td>\n",
              "      <td>Not Operating</td>\n",
              "      <td>Other</td>\n",
              "      <td>0</td>\n",
              "      <td>0.0</td>\n",
              "      <td>MULTIPOLYGON (((-122.1141886091637 38.54925978...</td>\n",
              "    </tr>\n",
              "  </tbody>\n",
              "</table>\n",
              "</div>"
            ],
            "text/plain": [
              "   Unnamed: 0  ...                                           geometry\n",
              "0           0  ...  MULTIPOLYGON (((-122.0941886091637 38.54925978...\n",
              "1           1  ...  MULTIPOLYGON (((-122.0941886091637 38.53925978...\n",
              "2           2  ...  MULTIPOLYGON (((-122.0941886091637 38.56925978...\n",
              "3           3  ...  MULTIPOLYGON (((-122.0941886091637 38.55925978...\n",
              "4           4  ...  MULTIPOLYGON (((-122.1141886091637 38.54925978...\n",
              "\n",
              "[5 rows x 12 columns]"
            ]
          },
          "metadata": {
            "tags": []
          },
          "execution_count": 79
        }
      ]
    },
    {
      "cell_type": "markdown",
      "metadata": {
        "id": "WEHBZFPNjk8F",
        "colab_type": "text"
      },
      "source": [
        "#seperate weather model terrain and powerlines"
      ]
    },
    {
      "cell_type": "code",
      "metadata": {
        "id": "TOJQ4G03dPG2",
        "colab_type": "code",
        "colab": {}
      },
      "source": [
        "# print(write)"
      ],
      "execution_count": 0,
      "outputs": []
    },
    {
      "cell_type": "code",
      "metadata": {
        "id": "N0tIwklxjn4Z",
        "colab_type": "code",
        "colab": {}
      },
      "source": [
        "wea_data = pd.concat([empty_2018, empty_2017, empty_2016,empty_2015,dat_2015,dat_2016,dat_2017,dat_2018], axis = 0, ignore_index=True)"
      ],
      "execution_count": 0,
      "outputs": []
    },
    {
      "cell_type": "code",
      "metadata": {
        "id": "eV0yKLH-n2-w",
        "colab_type": "code",
        "colab": {}
      },
      "source": [
        "terrain = terrain[['id', 'Ascpect_Range',\t'hillshade_direction',\t'slope_range']]\n",
        "wea_veg_ter = pd.merge(wea_data, terrain, on='id')\n",
        "powerline = powerline[['id', 'kV', 'Status',\t'Circuit',\t'Length_Mil',\t'Length_Fee']]\n",
        "wea_data = pd.merge(wea_veg_ter, powerline, on='id')"
      ],
      "execution_count": 0,
      "outputs": []
    },
    {
      "cell_type": "code",
      "metadata": {
        "id": "clxsE29rlfMd",
        "colab_type": "code",
        "outputId": "de18ccfc-82af-411c-beac-e695e46b960b",
        "colab": {
          "base_uri": "https://localhost:8080/",
          "height": 34
        }
      },
      "source": [
        "wea_data.shape"
      ],
      "execution_count": 0,
      "outputs": [
        {
          "output_type": "execute_result",
          "data": {
            "text/plain": [
              "(12096, 25)"
            ]
          },
          "metadata": {
            "tags": []
          },
          "execution_count": 83
        }
      ]
    },
    {
      "cell_type": "code",
      "metadata": {
        "id": "L2UZor-elice",
        "colab_type": "code",
        "outputId": "7c6b5c18-bcf1-4381-96f8-3009d751ce4f",
        "colab": {
          "base_uri": "https://localhost:8080/",
          "height": 134
        }
      },
      "source": [
        "wea_data.columns"
      ],
      "execution_count": 0,
      "outputs": [
        {
          "output_type": "execute_result",
          "data": {
            "text/plain": [
              "Index(['Unnamed: 0', 'Unnamed: 0.1', 'WBAN', 'DATE',\n",
              "       'HourlyDryBulbTemperature', 'HourlyRelativeHumidity', 'HourlyWindSpeed',\n",
              "       'HourlyPrecipitation', 'left', 'top', 'right', 'bottom', 'id',\n",
              "       'Longitude', 'Latitude', 'target', 'geometry', 'Ascpect_Range',\n",
              "       'hillshade_direction', 'slope_range', 'kV', 'Status', 'Circuit',\n",
              "       'Length_Mil', 'Length_Fee'],\n",
              "      dtype='object')"
            ]
          },
          "metadata": {
            "tags": []
          },
          "execution_count": 84
        }
      ]
    },
    {
      "cell_type": "code",
      "metadata": {
        "id": "61nKGd6ko2sh",
        "colab_type": "code",
        "outputId": "b76a015b-73f3-4191-db42-0dabcf3f1e1a",
        "colab": {
          "base_uri": "https://localhost:8080/",
          "height": 554
        }
      },
      "source": [
        "wea_data.info()"
      ],
      "execution_count": 0,
      "outputs": [
        {
          "output_type": "stream",
          "text": [
            "<class 'pandas.core.frame.DataFrame'>\n",
            "Int64Index: 12096 entries, 0 to 12095\n",
            "Data columns (total 25 columns):\n",
            " #   Column                    Non-Null Count  Dtype  \n",
            "---  ------                    --------------  -----  \n",
            " 0   Unnamed: 0                12096 non-null  int64  \n",
            " 1   Unnamed: 0.1              12096 non-null  int64  \n",
            " 2   WBAN                      12096 non-null  int64  \n",
            " 3   DATE                      12096 non-null  object \n",
            " 4   HourlyDryBulbTemperature  12096 non-null  float64\n",
            " 5   HourlyRelativeHumidity    12096 non-null  float64\n",
            " 6   HourlyWindSpeed           12096 non-null  float64\n",
            " 7   HourlyPrecipitation       12096 non-null  float64\n",
            " 8   left                      12096 non-null  float64\n",
            " 9   top                       12096 non-null  float64\n",
            " 10  right                     12096 non-null  float64\n",
            " 11  bottom                    12096 non-null  float64\n",
            " 12  id                        12096 non-null  int64  \n",
            " 13  Longitude                 12096 non-null  float64\n",
            " 14  Latitude                  12096 non-null  float64\n",
            " 15  target                    12096 non-null  int64  \n",
            " 16  geometry                  12096 non-null  object \n",
            " 17  Ascpect_Range             12096 non-null  object \n",
            " 18  hillshade_direction       12096 non-null  object \n",
            " 19  slope_range               12096 non-null  object \n",
            " 20  kV                        12096 non-null  float64\n",
            " 21  Status                    12096 non-null  object \n",
            " 22  Circuit                   12096 non-null  object \n",
            " 23  Length_Mil                12096 non-null  int64  \n",
            " 24  Length_Fee                12096 non-null  float64\n",
            "dtypes: float64(12), int64(6), object(7)\n",
            "memory usage: 2.4+ MB\n"
          ],
          "name": "stdout"
        }
      ]
    },
    {
      "cell_type": "code",
      "metadata": {
        "id": "hW92un5Ok5ln",
        "colab_type": "code",
        "colab": {}
      },
      "source": [
        "from sklearn import datasets\n",
        "from sklearn.model_selection import train_test_split\n",
        "from sklearn.model_selection import GridSearchCV\n",
        "from sklearn.metrics import classification_report\n",
        "from sklearn.svm import SVC\n"
      ],
      "execution_count": 0,
      "outputs": []
    },
    {
      "cell_type": "code",
      "metadata": {
        "id": "OvPKD1c8rW_5",
        "colab_type": "code",
        "outputId": "54b50846-1802-412a-901c-168ab36be872",
        "colab": {
          "base_uri": "https://localhost:8080/",
          "height": 134
        }
      },
      "source": [
        "wea_data.columns"
      ],
      "execution_count": 0,
      "outputs": [
        {
          "output_type": "execute_result",
          "data": {
            "text/plain": [
              "Index(['Unnamed: 0', 'Unnamed: 0.1', 'WBAN', 'DATE',\n",
              "       'HourlyDryBulbTemperature', 'HourlyRelativeHumidity', 'HourlyWindSpeed',\n",
              "       'HourlyPrecipitation', 'left', 'top', 'right', 'bottom', 'id',\n",
              "       'Longitude', 'Latitude', 'target', 'geometry', 'Ascpect_Range',\n",
              "       'hillshade_direction', 'slope_range', 'kV', 'Status', 'Circuit',\n",
              "       'Length_Mil', 'Length_Fee'],\n",
              "      dtype='object')"
            ]
          },
          "metadata": {
            "tags": []
          },
          "execution_count": 87
        }
      ]
    },
    {
      "cell_type": "code",
      "metadata": {
        "id": "osSw2LD81QZ1",
        "colab_type": "code",
        "colab": {}
      },
      "source": [
        "categories = pd.get_dummies(wea_data[['Ascpect_Range','hillshade_direction','slope_range','Status','Circuit']])"
      ],
      "execution_count": 0,
      "outputs": []
    },
    {
      "cell_type": "code",
      "metadata": {
        "id": "j1Xl-OVm1Tqg",
        "colab_type": "code",
        "colab": {}
      },
      "source": [
        "wea_data = pd.concat([wea_data,categories],axis = 1) "
      ],
      "execution_count": 0,
      "outputs": []
    },
    {
      "cell_type": "code",
      "metadata": {
        "id": "6oSqe03QJ_CP",
        "colab_type": "code",
        "colab": {}
      },
      "source": [
        "wea_data.drop(columns={'Ascpect_Range','hillshade_direction','slope_range','Status','Circuit'},inplace = True)"
      ],
      "execution_count": 0,
      "outputs": []
    },
    {
      "cell_type": "code",
      "metadata": {
        "id": "scoJoprpLR6W",
        "colab_type": "code",
        "colab": {}
      },
      "source": [
        "# veg_dat['Start Date'] = pd.to_datetime(veg_dat['Start Date'])"
      ],
      "execution_count": 0,
      "outputs": []
    },
    {
      "cell_type": "code",
      "metadata": {
        "id": "Q-vsR8OgK2Ia",
        "colab_type": "code",
        "colab": {}
      },
      "source": [
        "# data[~(pd.to_datetime(data['DATE']).dt.year == 2015)].reset_index(drop=True).drop(['Unnamed: 0', 'Unnamed: 0.1', 'WBAN', 'DATE',\n",
        "#         'left', 'top', 'right', 'bottom', 'id',\n",
        "#        'target', 'geometry'], axis=1)"
      ],
      "execution_count": 0,
      "outputs": []
    },
    {
      "cell_type": "code",
      "metadata": {
        "id": "Kmg-iZhNJ12K",
        "colab_type": "code",
        "colab": {}
      },
      "source": [
        "# #Filter and seperate train and test based on years and fit models\n",
        "# def filter_data_weather_train(year_del,data):\n",
        "#   X_Train = data[~(pd.to_datetime(data['DATE']).dt.year == year_del)].reset_index(drop=True).drop(['Unnamed: 0', 'Unnamed: 0.1', 'WBAN', 'DATE',\n",
        "#         'left', 'top', 'right', 'bottom', 'id',\n",
        "#        'target', 'geometry'], axis=1)\n",
        "#   Y_Train = data[~(pd.to_datetime(data['DATE']).dt.year == year_del)]['target']\n",
        "#   X_Test = data[pd.to_datetime(data['DATE']).dt.year == year_del].reset_index(drop=True).drop(['Unnamed: 0', 'Unnamed: 0.1', 'WBAN', 'DATE',\n",
        "#         'left', 'top', 'right', 'bottom', 'id',\n",
        "#        'target', 'geometry'], axis=1)\n",
        "#   Y_Test = data[pd.to_datetime(data['DATE']).dt.year == year_del]['target']\n",
        "#   return X_Train,X_Test,Y_Train, Y_Test\n",
        "# # X_train['Start Date'].dt.year.value_counts()\n",
        "# # X_test['Start Date'].dt.year.value_counts()\n",
        "# X_train, X_test, y_train, y_test = filter_data_weather_train(2017,data)"
      ],
      "execution_count": 0,
      "outputs": []
    },
    {
      "cell_type": "code",
      "metadata": {
        "id": "uRGF0EYR1WSc",
        "colab_type": "code",
        "colab": {}
      },
      "source": [
        "X_1 = wea_data.reset_index(drop=True).drop(['Unnamed: 0', 'Unnamed: 0.1', 'WBAN', 'DATE',\n",
        "        'left', 'top', 'right', 'bottom', 'id',\n",
        "       'target', 'geometry'], axis=1)\n",
        "y_1 = wea_data['target']"
      ],
      "execution_count": 0,
      "outputs": []
    },
    {
      "cell_type": "code",
      "metadata": {
        "id": "ARlKOjGQsPy7",
        "colab_type": "code",
        "outputId": "826e74c9-8b44-4116-aae9-c080cf3f3a3b",
        "colab": {
          "base_uri": "https://localhost:8080/",
          "height": 185
        }
      },
      "source": [
        "len(X_1.columns)\n",
        "X_1.columns"
      ],
      "execution_count": 0,
      "outputs": [
        {
          "output_type": "execute_result",
          "data": {
            "text/plain": [
              "Index(['HourlyDryBulbTemperature', 'HourlyRelativeHumidity', 'HourlyWindSpeed',\n",
              "       'HourlyPrecipitation', 'Longitude', 'Latitude', 'kV', 'Length_Mil',\n",
              "       'Length_Fee', 'Ascpect_Range_East', 'Ascpect_Range_North East',\n",
              "       'Ascpect_Range_South', 'Ascpect_Range_South East',\n",
              "       'Ascpect_Range_South West', 'hillshade_direction_East',\n",
              "       'hillshade_direction_North', 'slope_range_High Slope',\n",
              "       'slope_range_Low Slope', 'slope_range_Moderate Slope',\n",
              "       'Status_Not Operating', 'Status_Operational', 'Circuit_Other',\n",
              "       'Circuit_Single'],\n",
              "      dtype='object')"
            ]
          },
          "metadata": {
            "tags": []
          },
          "execution_count": 95
        }
      ]
    },
    {
      "cell_type": "code",
      "metadata": {
        "id": "dCShMF3hPf1f",
        "colab_type": "code",
        "outputId": "a1a5611a-0401-4891-a0b4-4aba0c270661",
        "colab": {
          "base_uri": "https://localhost:8080/",
          "height": 70
        }
      },
      "source": [
        "import imblearn\n",
        "from sklearn.datasets import make_classification\n",
        "from imblearn.over_sampling import SMOTE\n",
        "\n",
        "oversample = SMOTE()\n",
        "X, y = oversample.fit_resample(X_1, y_1)"
      ],
      "execution_count": 0,
      "outputs": [
        {
          "output_type": "stream",
          "text": [
            "/usr/local/lib/python3.6/dist-packages/sklearn/utils/deprecation.py:87: FutureWarning: Function safe_indexing is deprecated; safe_indexing is deprecated in version 0.22 and will be removed in version 0.24.\n",
            "  warnings.warn(msg, category=FutureWarning)\n"
          ],
          "name": "stderr"
        }
      ]
    },
    {
      "cell_type": "code",
      "metadata": {
        "id": "EM1ks-YarStR",
        "colab_type": "code",
        "colab": {}
      },
      "source": [
        "# Split the dataset in two equal parts\n",
        "X_train, X_test, y_train, y_test = train_test_split(X, y, test_size=0.2, random_state=42, stratify= y)"
      ],
      "execution_count": 0,
      "outputs": []
    },
    {
      "cell_type": "code",
      "metadata": {
        "id": "VVI57dXik2am",
        "colab_type": "code",
        "colab": {}
      },
      "source": [
        "# X_train, X_test, y_train, y_test = train_test_split(X_1, y_1, test_size=0.2, random_state=1)"
      ],
      "execution_count": 0,
      "outputs": []
    },
    {
      "cell_type": "code",
      "metadata": {
        "id": "cvyg7_MorKqX",
        "colab_type": "code",
        "outputId": "cfed26b7-ee64-4019-e56c-a37fe50d896e",
        "colab": {
          "base_uri": "https://localhost:8080/",
          "height": 151
        }
      },
      "source": [
        "\n",
        "rf_weather = RandomForestClassifier(n_estimators = 200, random_state = 42)\n",
        "rf_weather.fit(X_train, y_train)\n"
      ],
      "execution_count": 0,
      "outputs": [
        {
          "output_type": "execute_result",
          "data": {
            "text/plain": [
              "RandomForestClassifier(bootstrap=True, ccp_alpha=0.0, class_weight=None,\n",
              "                       criterion='gini', max_depth=None, max_features='auto',\n",
              "                       max_leaf_nodes=None, max_samples=None,\n",
              "                       min_impurity_decrease=0.0, min_impurity_split=None,\n",
              "                       min_samples_leaf=1, min_samples_split=2,\n",
              "                       min_weight_fraction_leaf=0.0, n_estimators=200,\n",
              "                       n_jobs=None, oob_score=False, random_state=42, verbose=0,\n",
              "                       warm_start=False)"
            ]
          },
          "metadata": {
            "tags": []
          },
          "execution_count": 132
        }
      ]
    },
    {
      "cell_type": "code",
      "metadata": {
        "id": "6Bc1VWphriV-",
        "colab_type": "code",
        "colab": {}
      },
      "source": [
        "predictions = rf_weather.predict(X_test)\n",
        "# numpy_data = np.array([predictions, y_test])\n",
        "# result = pd.DataFrame(data=np.transpose(numpy_data), columns=['predict', 'target'])\n",
        "# result['error'] = result['predict'] - result['target']\n",
        "# correct = result[result['error'] == 0]\n",
        "# print('Accuracy:%.2f%%' % (correct.shape[0]/result.shape[0]))"
      ],
      "execution_count": 0,
      "outputs": []
    },
    {
      "cell_type": "code",
      "metadata": {
        "id": "oOyjQlB1l_dr",
        "colab_type": "code",
        "outputId": "f71435c7-d951-47fe-fcf8-3b0fc24c7c72",
        "colab": {
          "base_uri": "https://localhost:8080/",
          "height": 252
        }
      },
      "source": [
        "from sklearn.metrics import confusion_matrix \n",
        "from sklearn.metrics import accuracy_score \n",
        "from sklearn.metrics import classification_report \n",
        "actual = y_test\n",
        "predicted = predictions\n",
        "results = confusion_matrix(actual, predicted) \n",
        "  \n",
        "print('Confusion Matrix :')\n",
        "print(results) \n",
        "print('Accuracy Score :',round(accuracy_score(actual, predicted)*100,3))\n",
        "print('Report : ')\n",
        "print(classification_report(actual, predicted))"
      ],
      "execution_count": 0,
      "outputs": [
        {
          "output_type": "stream",
          "text": [
            "Confusion Matrix :\n",
            "[[1493  341]\n",
            " [ 324 1510]]\n",
            "Accuracy Score : 81.87\n",
            "Report : \n",
            "              precision    recall  f1-score   support\n",
            "\n",
            "           0       0.82      0.81      0.82      1834\n",
            "           1       0.82      0.82      0.82      1834\n",
            "\n",
            "    accuracy                           0.82      3668\n",
            "   macro avg       0.82      0.82      0.82      3668\n",
            "weighted avg       0.82      0.82      0.82      3668\n",
            "\n"
          ],
          "name": "stdout"
        }
      ]
    },
    {
      "cell_type": "code",
      "metadata": {
        "id": "Miw7jIJGRJ9t",
        "colab_type": "code",
        "outputId": "40191693-0c68-4463-d16a-3f0963666a6c",
        "colab": {
          "base_uri": "https://localhost:8080/",
          "height": 279
        }
      },
      "source": [
        "yhat = rf_weather.predict_proba(X_test)\n",
        "# keep probabilities for the positive outcome only\n",
        "yhat = yhat[:, 1]\n",
        "# calculate roc curves\n",
        "fpr, tpr, thresholds = roc_curve(y_test, yhat)\n",
        "# plot the roc curve for the model\n",
        "pyplot.plot([0,1], [0,1], linestyle='--', label='No Skill')\n",
        "pyplot.plot(fpr, tpr, marker='.', label='rf')\n",
        "# axis labels\n",
        "pyplot.xlabel('False Positive Rate')\n",
        "pyplot.ylabel('True Positive Rate')\n",
        "pyplot.legend()\n",
        "# show the plot\n",
        "pyplot.show()"
      ],
      "execution_count": 0,
      "outputs": [
        {
          "output_type": "display_data",
          "data": {
            "image/png": "[encoded data removed]",
            "text/plain": [
              "<Figure size 432x288 with 1 Axes>"
            ]
          },
          "metadata": {
            "tags": [],
            "needs_background": "light"
          }
        }
      ]
    },
    {
      "cell_type": "code",
      "metadata": {
        "colab_type": "code",
        "id": "i7cztaJ9VSJ0",
        "outputId": "1cda97ac-b64b-4b81-8601-df4d565634a6",
        "colab": {
          "base_uri": "https://localhost:8080/",
          "height": 296
        }
      },
      "source": [
        "# calculate the g-mean for each threshold\n",
        "from numpy import sqrt\n",
        "from numpy import argmax\n",
        "gmeans = sqrt(tpr * (1-fpr))\n",
        "# locate the index of the largest g-mean\n",
        "ix = argmax(gmeans)\n",
        "print('Best Threshold=%f, G-Mean=%.3f' % (thresholds[ix], gmeans[ix]))\n",
        "# plot the roc curve for the model\n",
        "pyplot.plot([0,1], [0,1], linestyle='--', label='No Skill')\n",
        "pyplot.plot(fpr, tpr, marker='.', label='rf')\n",
        "pyplot.scatter(fpr[ix], tpr[ix], marker='o', color='black', label='Best')\n",
        "# axis labels\n",
        "pyplot.xlabel('False Positive Rate')\n",
        "pyplot.ylabel('True Positive Rate')\n",
        "pyplot.legend()\n",
        "# show the plot\n",
        "pyplot.show()"
      ],
      "execution_count": 0,
      "outputs": [
        {
          "output_type": "stream",
          "text": [
            "Best Threshold=0.448750, G-Mean=0.820\n"
          ],
          "name": "stdout"
        },
        {
          "output_type": "display_data",
          "data": {
            "image/png": "[encoded data removed]",
            "text/plain": [
              "<Figure size 432x288 with 1 Axes>"
            ]
          },
          "metadata": {
            "tags": [],
            "needs_background": "light"
          }
        }
      ]
    },
    {
      "cell_type": "code",
      "metadata": {
        "colab_type": "code",
        "id": "976V9bQ-VSJ7",
        "outputId": "e4aa9dfa-c604-44e5-d31b-aa5d13b5162c",
        "colab": {
          "base_uri": "https://localhost:8080/",
          "height": 34
        }
      },
      "source": [
        "threshold = 0.4\n",
        "\n",
        "predicted_proba = rf_weather.predict_proba(X_test)\n",
        "predicted10 = (predicted_proba [:,1] >= threshold).astype('int')\n",
        "\n",
        "accuracy = accuracy_score(y_test, predicted10)\n",
        "print(accuracy)"
      ],
      "execution_count": 0,
      "outputs": [
        {
          "output_type": "stream",
          "text": [
            "0.816793893129771\n"
          ],
          "name": "stdout"
        }
      ]
    },
    {
      "cell_type": "code",
      "metadata": {
        "colab_type": "code",
        "id": "7uuBL1keVSJ_",
        "outputId": "d86906ff-a278-46d8-875e-5c7218d77a1c",
        "colab": {
          "base_uri": "https://localhost:8080/",
          "height": 269
        }
      },
      "source": [
        "actual10 = y_test\n",
        "results = confusion_matrix(actual10, predicted10) \n",
        "print('Threshold value:', threshold)\n",
        "print('Confusion Matrix :')\n",
        "print(results) \n",
        "print('Accuracy Score :',round(accuracy_score(actual10, predicted10)*100,3))\n",
        "print('Report : ')\n",
        "print(classification_report(actual, predicted10))"
      ],
      "execution_count": 0,
      "outputs": [
        {
          "output_type": "stream",
          "text": [
            "Threshold value: 0.4\n",
            "Confusion Matrix :\n",
            "[[1446  388]\n",
            " [ 284 1550]]\n",
            "Accuracy Score : 81.679\n",
            "Report : \n",
            "              precision    recall  f1-score   support\n",
            "\n",
            "           0       0.84      0.79      0.81      1834\n",
            "           1       0.80      0.85      0.82      1834\n",
            "\n",
            "    accuracy                           0.82      3668\n",
            "   macro avg       0.82      0.82      0.82      3668\n",
            "weighted avg       0.82      0.82      0.82      3668\n",
            "\n"
          ],
          "name": "stdout"
        }
      ]
    },
    {
      "cell_type": "code",
      "metadata": {
        "id": "42Tmy6CMmfZd",
        "colab_type": "code",
        "outputId": "9094a860-2ed8-4bab-9099-efd8d54bf346",
        "colab": {
          "base_uri": "https://localhost:8080/",
          "height": 514
        }
      },
      "source": [
        "import pandas as pd\n",
        "%matplotlib inline\n",
        "#do code to support model\n",
        "#\"data\" is the X dataframe and model is the SKlearn object\n",
        "\n",
        "feats = {} # a dict to hold feature_name: feature_importance\n",
        "for feature, importance in zip(X_1.columns, rf_weather.feature_importances_):\n",
        "    feats[feature] = importance #add the name/value pair \n",
        "\n",
        "importances = pd.DataFrame.from_dict(feats, orient='index').rename(columns={0: 'Gini-importance'})\n",
        "importances.sort_values(by='Gini-importance').plot(kind='bar', rot=80, figsize=(25, 6))"
      ],
      "execution_count": 0,
      "outputs": [
        {
          "output_type": "execute_result",
          "data": {
            "text/plain": [
              "<matplotlib.axes._subplots.AxesSubplot at 0x7f1406ab2278>"
            ]
          },
          "metadata": {
            "tags": []
          },
          "execution_count": 136
        },
        {
          "output_type": "display_data",
          "data": {
            "image/png": "[encoded data removed]",
            "text/plain": [
              "<Figure size 1800x432 with 1 Axes>"
            ]
          },
          "metadata": {
            "tags": [],
            "needs_background": "light"
          }
        }
      ]
    },
    {
      "cell_type": "code",
      "metadata": {
        "colab_type": "code",
        "id": "G-yTPK3vlZiI",
        "outputId": "7a1f2bb2-4f66-401f-81a3-a8fc8122ae27",
        "colab": {
          "base_uri": "https://localhost:8080/",
          "height": 34
        }
      },
      "source": [
        "estimator = rf_weather.estimators_[5]\n",
        "\n",
        "from sklearn.tree import export_graphviz\n",
        "# Export as dot file\n",
        "export_graphviz(estimator, out_file='tree.dot', \n",
        "                feature_names = X_1.columns,\n",
        "                class_names = ['Positive','Negative'],\n",
        "                rounded = True, proportion = False, \n",
        "                precision = 2, filled = True)\n",
        "\n",
        "# Convert to png using system command (requires Graphviz)\n",
        "from subprocess import call\n",
        "call(['dot', '-Tpng', 'tree.dot', '-o', 'tree.png', '-Gdpi=600'])\n"
      ],
      "execution_count": 0,
      "outputs": [
        {
          "output_type": "execute_result",
          "data": {
            "text/plain": [
              "0"
            ]
          },
          "metadata": {
            "tags": []
          },
          "execution_count": 137
        }
      ]
    },
    {
      "cell_type": "code",
      "metadata": {
        "colab_type": "code",
        "id": "Uu5tMePNlZiO",
        "outputId": "0ff000fd-c4be-4694-cb17-3c5a535b0caf",
        "colab": {
          "base_uri": "https://localhost:8080/",
          "height": 67
        }
      },
      "source": [
        "# Display in jupyter notebook\n",
        "from IPython.display import Image\n",
        "Image(filename = 'tree.png')"
      ],
      "execution_count": 0,
      "outputs": []
    },
    {
      "cell_type": "markdown",
      "metadata": {
        "colab_type": "text",
        "id": "nw5mkLGblZiR"
      },
      "source": [
        "## save to drive"
      ]
    },
    {
      "cell_type": "code",
      "metadata": {
        "colab_type": "code",
        "id": "2w_Wdbj6lZiR",
        "colab": {}
      },
      "source": [
        "tableau_wea_X = wea_data.reset_index(drop=True).drop(['Unnamed: 0', 'Unnamed: 0.1', 'WBAN', 'DATE',\n",
        "        'left', 'top', 'right', 'bottom', 'id',\n",
        "       'target', 'geometry'], axis=1)"
      ],
      "execution_count": 0,
      "outputs": []
    },
    {
      "cell_type": "code",
      "metadata": {
        "colab_type": "code",
        "id": "yMuWbqTVlZiT",
        "colab": {}
      },
      "source": [
        "tableau_wea_y = wea_data['target']"
      ],
      "execution_count": 0,
      "outputs": []
    },
    {
      "cell_type": "code",
      "metadata": {
        "colab_type": "code",
        "id": "oOmloqjSlZiX",
        "colab": {}
      },
      "source": [
        "predict = rf_weather.predict(tableau_wea_X)\n",
        "proba = rf_weather.predict_proba(tableau_wea_X)\n"
      ],
      "execution_count": 0,
      "outputs": []
    },
    {
      "cell_type": "code",
      "metadata": {
        "colab_type": "code",
        "id": "EBw3-nPQlZib",
        "colab": {}
      },
      "source": [
        "wea_data['predictions'] = predict\n",
        "wea_data['prob_0'] = proba[:,0] \n",
        "wea_data['prob_1'] = proba[:,1]"
      ],
      "execution_count": 0,
      "outputs": []
    },
    {
      "cell_type": "code",
      "metadata": {
        "colab_type": "code",
        "id": "eh-TTerVlZie",
        "outputId": "01b51ae3-ccdc-41fc-99b7-f214fd01b254",
        "colab": {
          "base_uri": "https://localhost:8080/",
          "height": 400
        }
      },
      "source": [
        "wea_data.head()"
      ],
      "execution_count": 0,
      "outputs": [
        {
          "output_type": "execute_result",
          "data": {
            "text/html": [
              "<div>\n",
              "<style scoped>\n",
              "    .dataframe tbody tr th:only-of-type {\n",
              "        vertical-align: middle;\n",
              "    }\n",
              "\n",
              "    .dataframe tbody tr th {\n",
              "        vertical-align: top;\n",
              "    }\n",
              "\n",
              "    .dataframe thead th {\n",
              "        text-align: right;\n",
              "    }\n",
              "</style>\n",
              "<table border=\"1\" class=\"dataframe\">\n",
              "  <thead>\n",
              "    <tr style=\"text-align: right;\">\n",
              "      <th></th>\n",
              "      <th>Unnamed: 0</th>\n",
              "      <th>Unnamed: 0.1</th>\n",
              "      <th>WBAN</th>\n",
              "      <th>DATE</th>\n",
              "      <th>HourlyDryBulbTemperature</th>\n",
              "      <th>HourlyRelativeHumidity</th>\n",
              "      <th>HourlyWindSpeed</th>\n",
              "      <th>HourlyPrecipitation</th>\n",
              "      <th>left</th>\n",
              "      <th>top</th>\n",
              "      <th>right</th>\n",
              "      <th>bottom</th>\n",
              "      <th>id</th>\n",
              "      <th>Longitude</th>\n",
              "      <th>Latitude</th>\n",
              "      <th>target</th>\n",
              "      <th>geometry</th>\n",
              "      <th>kV</th>\n",
              "      <th>Length_Mil</th>\n",
              "      <th>Length_Fee</th>\n",
              "      <th>Ascpect_Range_East</th>\n",
              "      <th>Ascpect_Range_North East</th>\n",
              "      <th>Ascpect_Range_South</th>\n",
              "      <th>Ascpect_Range_South East</th>\n",
              "      <th>Ascpect_Range_South West</th>\n",
              "      <th>hillshade_direction_East</th>\n",
              "      <th>hillshade_direction_North</th>\n",
              "      <th>slope_range_High Slope</th>\n",
              "      <th>slope_range_Low Slope</th>\n",
              "      <th>slope_range_Moderate Slope</th>\n",
              "      <th>Status_Not Operating</th>\n",
              "      <th>Status_Operational</th>\n",
              "      <th>Circuit_Other</th>\n",
              "      <th>Circuit_Single</th>\n",
              "      <th>predictions</th>\n",
              "      <th>prob_0</th>\n",
              "      <th>prob_1</th>\n",
              "    </tr>\n",
              "  </thead>\n",
              "  <tbody>\n",
              "    <tr>\n",
              "      <th>0</th>\n",
              "      <td>0</td>\n",
              "      <td>5941351</td>\n",
              "      <td>93241</td>\n",
              "      <td>2018-06-30 00:53:00</td>\n",
              "      <td>66.0</td>\n",
              "      <td>59.0</td>\n",
              "      <td>0.0</td>\n",
              "      <td>0.0</td>\n",
              "      <td>-122.124189</td>\n",
              "      <td>38.56926</td>\n",
              "      <td>-122.114189</td>\n",
              "      <td>38.55926</td>\n",
              "      <td>1</td>\n",
              "      <td>-122.119189</td>\n",
              "      <td>38.56426</td>\n",
              "      <td>0</td>\n",
              "      <td>POLYGON ((-122.1241886091637 38.56925978424475...</td>\n",
              "      <td>0.0</td>\n",
              "      <td>0</td>\n",
              "      <td>0.0</td>\n",
              "      <td>0</td>\n",
              "      <td>0</td>\n",
              "      <td>1</td>\n",
              "      <td>0</td>\n",
              "      <td>0</td>\n",
              "      <td>0</td>\n",
              "      <td>1</td>\n",
              "      <td>1</td>\n",
              "      <td>0</td>\n",
              "      <td>0</td>\n",
              "      <td>1</td>\n",
              "      <td>0</td>\n",
              "      <td>1</td>\n",
              "      <td>0</td>\n",
              "      <td>1</td>\n",
              "      <td>0.482667</td>\n",
              "      <td>0.517333</td>\n",
              "    </tr>\n",
              "    <tr>\n",
              "      <th>1</th>\n",
              "      <td>63</td>\n",
              "      <td>5941352</td>\n",
              "      <td>93241</td>\n",
              "      <td>2018-06-30 01:53:00</td>\n",
              "      <td>64.0</td>\n",
              "      <td>65.0</td>\n",
              "      <td>3.0</td>\n",
              "      <td>0.0</td>\n",
              "      <td>-122.124189</td>\n",
              "      <td>38.56926</td>\n",
              "      <td>-122.114189</td>\n",
              "      <td>38.55926</td>\n",
              "      <td>1</td>\n",
              "      <td>-122.119189</td>\n",
              "      <td>38.56426</td>\n",
              "      <td>0</td>\n",
              "      <td>POLYGON ((-122.1241886091637 38.56925978424475...</td>\n",
              "      <td>0.0</td>\n",
              "      <td>0</td>\n",
              "      <td>0.0</td>\n",
              "      <td>0</td>\n",
              "      <td>0</td>\n",
              "      <td>1</td>\n",
              "      <td>0</td>\n",
              "      <td>0</td>\n",
              "      <td>0</td>\n",
              "      <td>1</td>\n",
              "      <td>1</td>\n",
              "      <td>0</td>\n",
              "      <td>0</td>\n",
              "      <td>1</td>\n",
              "      <td>0</td>\n",
              "      <td>1</td>\n",
              "      <td>0</td>\n",
              "      <td>1</td>\n",
              "      <td>0.355250</td>\n",
              "      <td>0.644750</td>\n",
              "    </tr>\n",
              "    <tr>\n",
              "      <th>2</th>\n",
              "      <td>126</td>\n",
              "      <td>5941353</td>\n",
              "      <td>93241</td>\n",
              "      <td>2018-06-30 02:53:00</td>\n",
              "      <td>64.0</td>\n",
              "      <td>63.0</td>\n",
              "      <td>3.0</td>\n",
              "      <td>0.0</td>\n",
              "      <td>-122.124189</td>\n",
              "      <td>38.56926</td>\n",
              "      <td>-122.114189</td>\n",
              "      <td>38.55926</td>\n",
              "      <td>1</td>\n",
              "      <td>-122.119189</td>\n",
              "      <td>38.56426</td>\n",
              "      <td>0</td>\n",
              "      <td>POLYGON ((-122.1241886091637 38.56925978424475...</td>\n",
              "      <td>0.0</td>\n",
              "      <td>0</td>\n",
              "      <td>0.0</td>\n",
              "      <td>0</td>\n",
              "      <td>0</td>\n",
              "      <td>1</td>\n",
              "      <td>0</td>\n",
              "      <td>0</td>\n",
              "      <td>0</td>\n",
              "      <td>1</td>\n",
              "      <td>1</td>\n",
              "      <td>0</td>\n",
              "      <td>0</td>\n",
              "      <td>1</td>\n",
              "      <td>0</td>\n",
              "      <td>1</td>\n",
              "      <td>0</td>\n",
              "      <td>1</td>\n",
              "      <td>0.457500</td>\n",
              "      <td>0.542500</td>\n",
              "    </tr>\n",
              "    <tr>\n",
              "      <th>3</th>\n",
              "      <td>189</td>\n",
              "      <td>5941354</td>\n",
              "      <td>93241</td>\n",
              "      <td>2018-06-30 03:53:00</td>\n",
              "      <td>83.0</td>\n",
              "      <td>22.0</td>\n",
              "      <td>11.0</td>\n",
              "      <td>0.0</td>\n",
              "      <td>-122.124189</td>\n",
              "      <td>38.56926</td>\n",
              "      <td>-122.114189</td>\n",
              "      <td>38.55926</td>\n",
              "      <td>1</td>\n",
              "      <td>-122.119189</td>\n",
              "      <td>38.56426</td>\n",
              "      <td>0</td>\n",
              "      <td>POLYGON ((-122.1241886091637 38.56925978424475...</td>\n",
              "      <td>0.0</td>\n",
              "      <td>0</td>\n",
              "      <td>0.0</td>\n",
              "      <td>0</td>\n",
              "      <td>0</td>\n",
              "      <td>1</td>\n",
              "      <td>0</td>\n",
              "      <td>0</td>\n",
              "      <td>0</td>\n",
              "      <td>1</td>\n",
              "      <td>1</td>\n",
              "      <td>0</td>\n",
              "      <td>0</td>\n",
              "      <td>1</td>\n",
              "      <td>0</td>\n",
              "      <td>1</td>\n",
              "      <td>0</td>\n",
              "      <td>1</td>\n",
              "      <td>0.450417</td>\n",
              "      <td>0.549583</td>\n",
              "    </tr>\n",
              "    <tr>\n",
              "      <th>4</th>\n",
              "      <td>252</td>\n",
              "      <td>5941355</td>\n",
              "      <td>93241</td>\n",
              "      <td>2018-06-30 04:53:00</td>\n",
              "      <td>82.0</td>\n",
              "      <td>22.0</td>\n",
              "      <td>10.0</td>\n",
              "      <td>0.0</td>\n",
              "      <td>-122.124189</td>\n",
              "      <td>38.56926</td>\n",
              "      <td>-122.114189</td>\n",
              "      <td>38.55926</td>\n",
              "      <td>1</td>\n",
              "      <td>-122.119189</td>\n",
              "      <td>38.56426</td>\n",
              "      <td>0</td>\n",
              "      <td>POLYGON ((-122.1241886091637 38.56925978424475...</td>\n",
              "      <td>0.0</td>\n",
              "      <td>0</td>\n",
              "      <td>0.0</td>\n",
              "      <td>0</td>\n",
              "      <td>0</td>\n",
              "      <td>1</td>\n",
              "      <td>0</td>\n",
              "      <td>0</td>\n",
              "      <td>0</td>\n",
              "      <td>1</td>\n",
              "      <td>1</td>\n",
              "      <td>0</td>\n",
              "      <td>0</td>\n",
              "      <td>1</td>\n",
              "      <td>0</td>\n",
              "      <td>1</td>\n",
              "      <td>0</td>\n",
              "      <td>1</td>\n",
              "      <td>0.168333</td>\n",
              "      <td>0.831667</td>\n",
              "    </tr>\n",
              "  </tbody>\n",
              "</table>\n",
              "</div>"
            ],
            "text/plain": [
              "   Unnamed: 0  Unnamed: 0.1   WBAN  ... predictions    prob_0    prob_1\n",
              "0           0       5941351  93241  ...           1  0.482667  0.517333\n",
              "1          63       5941352  93241  ...           1  0.355250  0.644750\n",
              "2         126       5941353  93241  ...           1  0.457500  0.542500\n",
              "3         189       5941354  93241  ...           1  0.450417  0.549583\n",
              "4         252       5941355  93241  ...           1  0.168333  0.831667\n",
              "\n",
              "[5 rows x 37 columns]"
            ]
          },
          "metadata": {
            "tags": []
          },
          "execution_count": 143
        }
      ]
    },
    {
      "cell_type": "code",
      "metadata": {
        "colab_type": "code",
        "id": "_10EMW45lZii",
        "colab": {}
      },
      "source": [
        "# wea_data.to_csv(root_path +'wea_data.csv')"
      ],
      "execution_count": 0,
      "outputs": []
    },
    {
      "cell_type": "markdown",
      "metadata": {
        "id": "oZTV16rn6_11",
        "colab_type": "text"
      },
      "source": [
        "#Combine weather data with vegetation data and also terrain and powerlines  (positive)"
      ]
    },
    {
      "cell_type": "code",
      "metadata": {
        "id": "MXZEyH0p7DG8",
        "colab_type": "code",
        "colab": {}
      },
      "source": [
        "# def combine_datasets(weather, veg):\n",
        "#   #first preprocess vegetation data\n",
        "#   veg = veg[['id', 'NDVI', 'NDWI']]\n",
        "#   dat = pd.merge(weather, veg, on='id')\n",
        "#   return dat\n",
        "\n",
        "def combine_datasets(weather, veg, terrain, powerlines):\n",
        "  #first preprocess vegetation data\n",
        "  veg = veg[['id', 'NDVI', 'NDWI','EVI']]\n",
        "  wea_veg = pd.merge(weather, veg, on='id')\n",
        "  terrain = terrain[['id', 'Ascpect_Range',\t'hillshade_direction',\t'slope_range']]\n",
        "  wea_veg_ter = pd.merge(wea_veg, terrain, on='id')\n",
        "  powerlines = powerlines[['id', 'kV', 'Status',\t'Circuit',\t'Length_Mil',\t'Length_Fee']]\n",
        "  dat = pd.merge(wea_veg_ter, powerlines, on='id')\n",
        "  return dat"
      ],
      "execution_count": 0,
      "outputs": []
    },
    {
      "cell_type": "code",
      "metadata": {
        "id": "RdDkebt5JOyA",
        "colab_type": "code",
        "colab": {}
      },
      "source": [
        "# dat_2015['id'].value_counts()"
      ],
      "execution_count": 0,
      "outputs": []
    },
    {
      "cell_type": "code",
      "metadata": {
        "id": "JoTq4GYvDZor",
        "colab_type": "code",
        "colab": {}
      },
      "source": [
        "dat_2015 = combine_datasets(dat_2015, veg_2015_positive,terrain,powerline)"
      ],
      "execution_count": 0,
      "outputs": []
    },
    {
      "cell_type": "code",
      "metadata": {
        "id": "3cI65-GNIkLo",
        "colab_type": "code",
        "colab": {}
      },
      "source": [
        "#veg_cold, veg_winter, veg_county\n",
        "dat_2016 = combine_datasets(dat_2016, veg_2016_positive,terrain,powerline)\n",
        "dat_2017 = combine_datasets(dat_2017, veg_2017_positive,terrain,powerline)\n",
        "dat_2018 = combine_datasets(dat_2018, veg_2018_positive,terrain,powerline)"
      ],
      "execution_count": 0,
      "outputs": []
    },
    {
      "cell_type": "code",
      "metadata": {
        "id": "-ohcwokOI3Bo",
        "colab_type": "code",
        "colab": {}
      },
      "source": [
        "# dat_2018.shape"
      ],
      "execution_count": 0,
      "outputs": []
    },
    {
      "cell_type": "markdown",
      "metadata": {
        "id": "5nOl8Gk-KDhF",
        "colab_type": "text"
      },
      "source": [
        "#Combine weather data with vegatation (negative)"
      ]
    },
    {
      "cell_type": "code",
      "metadata": {
        "id": "BjSdJ9iQj8kI",
        "colab_type": "code",
        "colab": {}
      },
      "source": [
        "# while we are considering weather and vegetation for fire grids during fire, i think we should consider same grids for before fire as well\n",
        "negative_2015 = combine_datasets(empty_2015, veg_2015_empty,terrain,powerline)\n",
        "negative_2016 = combine_datasets(empty_2016, veg_2016_empty,terrain,powerline)\n",
        "negative_2017 = combine_datasets(empty_2017, veg_2017_empty,terrain,powerline)\n",
        "negative_2018 = combine_datasets(empty_2018, veg_2018_empty,terrain,powerline)"
      ],
      "execution_count": 0,
      "outputs": []
    },
    {
      "cell_type": "markdown",
      "metadata": {
        "id": "-kgwc05mFCWm",
        "colab_type": "text"
      },
      "source": [
        "# create combined training set"
      ]
    },
    {
      "cell_type": "code",
      "metadata": {
        "id": "3rGnz-uUFaAT",
        "colab_type": "code",
        "colab": {}
      },
      "source": [
        "fire = pd.concat([dat_2015, dat_2016,dat_2018, dat_2018], axis = 0, ignore_index=True)"
      ],
      "execution_count": 0,
      "outputs": []
    },
    {
      "cell_type": "code",
      "metadata": {
        "id": "5XErR00FIjX2",
        "colab_type": "code",
        "colab": {}
      },
      "source": [
        "# fire['DATE'] = pd.to_datetime(fire['DATE'])\n",
        "# fire['YEAR'] = fire['DATE'].apply(lambda x: x.year)\n",
        "# fire['MONTH'] = fire['DATE'].apply(lambda x: x.month)\n",
        "# fire['DAY'] = fire['DATE'].apply(lambda x: x.day)"
      ],
      "execution_count": 0,
      "outputs": []
    },
    {
      "cell_type": "code",
      "metadata": {
        "id": "DAZmJb_p8PbK",
        "colab_type": "code",
        "colab": {}
      },
      "source": [
        "no_fire = pd.concat([negative_2015,negative_2016,negative_2018,negative_2017], axis = 0, ignore_index=True)"
      ],
      "execution_count": 0,
      "outputs": []
    },
    {
      "cell_type": "code",
      "metadata": {
        "id": "lQUKgNZ88ZJN",
        "colab_type": "code",
        "colab": {}
      },
      "source": [
        "# no_fire['DATE'] = pd.to_datetime(no_fire['DATE'])"
      ],
      "execution_count": 0,
      "outputs": []
    },
    {
      "cell_type": "code",
      "metadata": {
        "id": "ViGUskzl8e0F",
        "colab_type": "code",
        "colab": {}
      },
      "source": [
        "# no_fire['YEAR'] = no_fire['DATE'].apply(lambda x: x.year)\n",
        "# no_fire['MONTH'] = no_fire['DATE'].apply(lambda x: x.month)\n",
        "# no_fire['DAY'] = no_fire['DATE'].apply(lambda x: x.day)"
      ],
      "execution_count": 0,
      "outputs": []
    },
    {
      "cell_type": "code",
      "metadata": {
        "id": "Q9iK-65u9ofC",
        "colab_type": "code",
        "colab": {}
      },
      "source": [
        "train = pd.concat([fire, no_fire], axis=0, ignore_index=True)"
      ],
      "execution_count": 0,
      "outputs": []
    },
    {
      "cell_type": "code",
      "metadata": {
        "id": "B5htYsEheAbv",
        "colab_type": "code",
        "outputId": "4ecdcc47-3018-40c5-c30c-dfe3962dcccd",
        "colab": {
          "base_uri": "https://localhost:8080/",
          "height": 67
        }
      },
      "source": [
        "train['target'].value_counts()"
      ],
      "execution_count": 0,
      "outputs": [
        {
          "output_type": "execute_result",
          "data": {
            "text/plain": [
              "0    8472\n",
              "1    3624\n",
              "Name: target, dtype: int64"
            ]
          },
          "metadata": {
            "tags": []
          },
          "execution_count": 157
        }
      ]
    },
    {
      "cell_type": "code",
      "metadata": {
        "id": "9aK8JHRa3ksW",
        "colab_type": "code",
        "outputId": "2a1cc474-05b0-4480-95ea-a431e33d22c5",
        "colab": {
          "base_uri": "https://localhost:8080/",
          "height": 134
        }
      },
      "source": [
        "train.columns"
      ],
      "execution_count": 0,
      "outputs": [
        {
          "output_type": "execute_result",
          "data": {
            "text/plain": [
              "Index(['Unnamed: 0', 'Unnamed: 0.1', 'WBAN', 'DATE',\n",
              "       'HourlyDryBulbTemperature', 'HourlyRelativeHumidity', 'HourlyWindSpeed',\n",
              "       'HourlyPrecipitation', 'left', 'top', 'right', 'bottom', 'id',\n",
              "       'Longitude', 'Latitude', 'target', 'geometry', 'NDVI', 'NDWI', 'EVI',\n",
              "       'Ascpect_Range', 'hillshade_direction', 'slope_range', 'kV', 'Status',\n",
              "       'Circuit', 'Length_Mil', 'Length_Fee'],\n",
              "      dtype='object')"
            ]
          },
          "metadata": {
            "tags": []
          },
          "execution_count": 158
        }
      ]
    },
    {
      "cell_type": "code",
      "metadata": {
        "id": "cv_hqZ1b300g",
        "colab_type": "code",
        "colab": {}
      },
      "source": [
        "categories = pd.get_dummies(train[['Ascpect_Range','hillshade_direction','slope_range','Status','Circuit']])"
      ],
      "execution_count": 0,
      "outputs": []
    },
    {
      "cell_type": "code",
      "metadata": {
        "id": "4hxt6B_T34bt",
        "colab_type": "code",
        "colab": {}
      },
      "source": [
        "train = pd.concat([train,categories],axis = 1)"
      ],
      "execution_count": 0,
      "outputs": []
    },
    {
      "cell_type": "code",
      "metadata": {
        "id": "r-sO2wa-3_rX",
        "colab_type": "code",
        "colab": {}
      },
      "source": [
        "train.drop(columns={'Ascpect_Range','hillshade_direction','slope_range','Status','Circuit'},inplace = True)"
      ],
      "execution_count": 0,
      "outputs": []
    },
    {
      "cell_type": "code",
      "metadata": {
        "id": "swgrm1XR9_-W",
        "colab_type": "code",
        "colab": {}
      },
      "source": [
        "train_data = train.reset_index(drop=True)"
      ],
      "execution_count": 0,
      "outputs": []
    },
    {
      "cell_type": "code",
      "metadata": {
        "id": "MVb1I5MKFpoy",
        "colab_type": "code",
        "colab": {}
      },
      "source": [
        "train_target = train['target']"
      ],
      "execution_count": 0,
      "outputs": []
    },
    {
      "cell_type": "code",
      "metadata": {
        "id": "4MNezdInF1ua",
        "colab_type": "code",
        "colab": {}
      },
      "source": [
        "# train_data = train_data.drop(['Unnamed: 0', 'Unnamed: 0.1','WBAN','target','DATE','geometry'], axis=1)"
      ],
      "execution_count": 0,
      "outputs": []
    },
    {
      "cell_type": "code",
      "metadata": {
        "id": "hiXl8pTDqYUm",
        "colab_type": "code",
        "outputId": "e62060de-77b2-4f7e-ba74-21ae12384a15",
        "colab": {
          "base_uri": "https://localhost:8080/",
          "height": 218
        }
      },
      "source": [
        "train_data.columns"
      ],
      "execution_count": 0,
      "outputs": [
        {
          "output_type": "execute_result",
          "data": {
            "text/plain": [
              "Index(['Unnamed: 0', 'Unnamed: 0.1', 'WBAN', 'DATE',\n",
              "       'HourlyDryBulbTemperature', 'HourlyRelativeHumidity', 'HourlyWindSpeed',\n",
              "       'HourlyPrecipitation', 'left', 'top', 'right', 'bottom', 'id',\n",
              "       'Longitude', 'Latitude', 'target', 'geometry', 'NDVI', 'NDWI', 'EVI',\n",
              "       'kV', 'Length_Mil', 'Length_Fee', 'Ascpect_Range_East',\n",
              "       'Ascpect_Range_North East', 'Ascpect_Range_South',\n",
              "       'Ascpect_Range_South East', 'Ascpect_Range_South West',\n",
              "       'hillshade_direction_East', 'hillshade_direction_North',\n",
              "       'slope_range_High Slope', 'slope_range_Low Slope',\n",
              "       'slope_range_Moderate Slope', 'Status_Not Operating',\n",
              "       'Status_Operational', 'Circuit_Other', 'Circuit_Single'],\n",
              "      dtype='object')"
            ]
          },
          "metadata": {
            "tags": []
          },
          "execution_count": 165
        }
      ]
    },
    {
      "cell_type": "code",
      "metadata": {
        "id": "niS1kT9fKAHR",
        "colab_type": "code",
        "outputId": "d92147e2-f137-495d-8e6b-a95de6afc71e",
        "colab": {
          "base_uri": "https://localhost:8080/",
          "height": 67
        }
      },
      "source": [
        "train_target.value_counts()"
      ],
      "execution_count": 0,
      "outputs": [
        {
          "output_type": "execute_result",
          "data": {
            "text/plain": [
              "0    8472\n",
              "1    3624\n",
              "Name: target, dtype: int64"
            ]
          },
          "metadata": {
            "tags": []
          },
          "execution_count": 166
        }
      ]
    },
    {
      "cell_type": "code",
      "metadata": {
        "id": "ZynxaHXe9sly",
        "colab_type": "code",
        "colab": {}
      },
      "source": [
        "train_data_veg = train_data.copy()"
      ],
      "execution_count": 0,
      "outputs": []
    },
    {
      "cell_type": "code",
      "metadata": {
        "id": "1cXZUMjv9sqQ",
        "colab_type": "code",
        "colab": {}
      },
      "source": [
        "train_target_veg = train_target.copy()"
      ],
      "execution_count": 0,
      "outputs": []
    },
    {
      "cell_type": "code",
      "metadata": {
        "id": "eh4dUmyNDJOR",
        "colab_type": "code",
        "outputId": "c87ed387-ac2b-4862-e6f1-e7392b79f135",
        "colab": {
          "base_uri": "https://localhost:8080/",
          "height": 218
        }
      },
      "source": [
        "train_data_veg.columns"
      ],
      "execution_count": 0,
      "outputs": [
        {
          "output_type": "execute_result",
          "data": {
            "text/plain": [
              "Index(['Unnamed: 0', 'Unnamed: 0.1', 'WBAN', 'DATE',\n",
              "       'HourlyDryBulbTemperature', 'HourlyRelativeHumidity', 'HourlyWindSpeed',\n",
              "       'HourlyPrecipitation', 'left', 'top', 'right', 'bottom', 'id',\n",
              "       'Longitude', 'Latitude', 'target', 'geometry', 'NDVI', 'NDWI', 'EVI',\n",
              "       'kV', 'Length_Mil', 'Length_Fee', 'Ascpect_Range_East',\n",
              "       'Ascpect_Range_North East', 'Ascpect_Range_South',\n",
              "       'Ascpect_Range_South East', 'Ascpect_Range_South West',\n",
              "       'hillshade_direction_East', 'hillshade_direction_North',\n",
              "       'slope_range_High Slope', 'slope_range_Low Slope',\n",
              "       'slope_range_Moderate Slope', 'Status_Not Operating',\n",
              "       'Status_Operational', 'Circuit_Other', 'Circuit_Single'],\n",
              "      dtype='object')"
            ]
          },
          "metadata": {
            "tags": []
          },
          "execution_count": 182
        }
      ]
    },
    {
      "cell_type": "code",
      "metadata": {
        "id": "AtCjbkJSEzdH",
        "colab_type": "code",
        "colab": {}
      },
      "source": [
        "# train_data_veg.drop(columns={'HourlyDryBulbTemperature', 'HourlyRelativeHumidity', 'HourlyWindSpeed',\n",
        "#        'HourlyPrecipitation','id'},inplace = True)\n",
        "# train_data_veg.drop(columns={'id'},inplace = True)"
      ],
      "execution_count": 0,
      "outputs": []
    },
    {
      "cell_type": "code",
      "metadata": {
        "id": "3eYx1DWlK6Fn",
        "colab_type": "code",
        "outputId": "bf1ff1b8-2136-4976-ab4b-79741f5d5f7e",
        "colab": {
          "base_uri": "https://localhost:8080/",
          "height": 34
        }
      },
      "source": [
        "train_data_veg.shape"
      ],
      "execution_count": 0,
      "outputs": [
        {
          "output_type": "execute_result",
          "data": {
            "text/plain": [
              "(12096, 37)"
            ]
          },
          "metadata": {
            "tags": []
          },
          "execution_count": 184
        }
      ]
    },
    {
      "cell_type": "code",
      "metadata": {
        "id": "t9P1VHC08-BQ",
        "colab_type": "code",
        "colab": {}
      },
      "source": [
        "# #Training data for vegetation\n",
        "# print(train_data_veg.columns)\n",
        "# print(train_data_veg.shape)\n",
        "# print(type(train_data_veg))"
      ],
      "execution_count": 0,
      "outputs": []
    },
    {
      "cell_type": "code",
      "metadata": {
        "id": "8GM1h-r_kZiU",
        "colab_type": "code",
        "colab": {}
      },
      "source": [
        "# train_data_veg.drop(columns={'left', 'top', 'right', 'bottom','YEAR', 'MONTH', 'DAY'},inplace = True)\n",
        "train_data_veg.drop(columns={'Unnamed: 0', 'Unnamed: 0.1','WBAN','left', 'top', 'right', 'bottom','DATE','id','geometry','target'},inplace = True)"
      ],
      "execution_count": 0,
      "outputs": []
    },
    {
      "cell_type": "code",
      "metadata": {
        "id": "y9iAl2Ko89-w",
        "colab_type": "code",
        "colab": {}
      },
      "source": [
        "# #Training target for vegetation\n",
        "# print(train_target_veg.shape)\n",
        "# print(type(train_target_veg))"
      ],
      "execution_count": 0,
      "outputs": []
    },
    {
      "cell_type": "code",
      "metadata": {
        "id": "8AGZr52d9c7m",
        "colab_type": "code",
        "colab": {}
      },
      "source": [
        "# train_target_veg.value_counts()"
      ],
      "execution_count": 0,
      "outputs": []
    },
    {
      "cell_type": "code",
      "metadata": {
        "id": "hc-OhRscmAmf",
        "colab_type": "code",
        "colab": {}
      },
      "source": [
        "# train_data_veg.isnull().sum()"
      ],
      "execution_count": 0,
      "outputs": []
    },
    {
      "cell_type": "code",
      "metadata": {
        "id": "0UCaLGGSmthF",
        "colab_type": "code",
        "colab": {}
      },
      "source": [
        ""
      ],
      "execution_count": 0,
      "outputs": []
    },
    {
      "cell_type": "code",
      "metadata": {
        "id": "P-Q8hGVNeIxq",
        "colab_type": "code",
        "outputId": "d9057225-f825-459b-8322-fd5affe9e80d",
        "colab": {
          "base_uri": "https://localhost:8080/",
          "height": 70
        }
      },
      "source": [
        " import imblearn\n",
        "from sklearn.datasets import make_classification\n",
        "from imblearn.over_sampling import SMOTE\n",
        "\n",
        "oversample = SMOTE()\n",
        "train_data_combined, train_target_combined = oversample.fit_resample(train_data_veg, train_target_veg)"
      ],
      "execution_count": 0,
      "outputs": [
        {
          "output_type": "stream",
          "text": [
            "/usr/local/lib/python3.6/dist-packages/sklearn/utils/deprecation.py:87: FutureWarning: Function safe_indexing is deprecated; safe_indexing is deprecated in version 0.22 and will be removed in version 0.24.\n",
            "  warnings.warn(msg, category=FutureWarning)\n"
          ],
          "name": "stderr"
        }
      ]
    },
    {
      "cell_type": "code",
      "metadata": {
        "id": "xqyuS3VGe1z5",
        "colab_type": "code",
        "outputId": "f2fbb0b7-4aa1-4ad6-fd86-e69e4ca66ebd",
        "colab": {
          "base_uri": "https://localhost:8080/",
          "height": 67
        }
      },
      "source": [
        "pd.Series(train_target_veg).value_counts()"
      ],
      "execution_count": 0,
      "outputs": [
        {
          "output_type": "execute_result",
          "data": {
            "text/plain": [
              "0    8472\n",
              "1    3624\n",
              "Name: target, dtype: int64"
            ]
          },
          "metadata": {
            "tags": []
          },
          "execution_count": 191
        }
      ]
    },
    {
      "cell_type": "markdown",
      "metadata": {
        "id": "AgMQjq1L4pVN",
        "colab_type": "text"
      },
      "source": [
        "#stratify and implement combined model"
      ]
    },
    {
      "cell_type": "code",
      "metadata": {
        "id": "GxRcNV5a43PT",
        "colab_type": "code",
        "colab": {}
      },
      "source": [
        "X = train_data_combined\n",
        "y = train_target_combined"
      ],
      "execution_count": 0,
      "outputs": []
    },
    {
      "cell_type": "code",
      "metadata": {
        "id": "lFu0DNBT4uhf",
        "colab_type": "code",
        "colab": {}
      },
      "source": [
        "X_train, X_test, y_train, y_test = train_test_split(X, y, test_size=0.2, random_state=42, stratify= y)\n",
        "# X = train_data_veg\n",
        "# y = train_target_veg"
      ],
      "execution_count": 0,
      "outputs": []
    },
    {
      "cell_type": "code",
      "metadata": {
        "id": "AlxfDPsL5DSA",
        "colab_type": "code",
        "colab": {}
      },
      "source": [
        "rf_combined = RandomForestClassifier(n_estimators = 2, random_state = 42)"
      ],
      "execution_count": 0,
      "outputs": []
    },
    {
      "cell_type": "code",
      "metadata": {
        "id": "CBM-btQ15DyG",
        "colab_type": "code",
        "outputId": "3a3c27f6-479f-4301-a182-02ca17a5f96a",
        "colab": {
          "base_uri": "https://localhost:8080/",
          "height": 151
        }
      },
      "source": [
        "rf_combined.fit(X_train, y_train)"
      ],
      "execution_count": 0,
      "outputs": [
        {
          "output_type": "execute_result",
          "data": {
            "text/plain": [
              "RandomForestClassifier(bootstrap=True, ccp_alpha=0.0, class_weight=None,\n",
              "                       criterion='gini', max_depth=None, max_features='auto',\n",
              "                       max_leaf_nodes=None, max_samples=None,\n",
              "                       min_impurity_decrease=0.0, min_impurity_split=None,\n",
              "                       min_samples_leaf=1, min_samples_split=2,\n",
              "                       min_weight_fraction_leaf=0.0, n_estimators=2,\n",
              "                       n_jobs=None, oob_score=False, random_state=42, verbose=0,\n",
              "                       warm_start=False)"
            ]
          },
          "metadata": {
            "tags": []
          },
          "execution_count": 195
        }
      ]
    },
    {
      "cell_type": "code",
      "metadata": {
        "id": "o9hNTWc65FUQ",
        "colab_type": "code",
        "colab": {}
      },
      "source": [
        "predictions = rf_combined.predict(X_test)"
      ],
      "execution_count": 0,
      "outputs": []
    },
    {
      "cell_type": "code",
      "metadata": {
        "id": "NoC_OBgr5KHi",
        "colab_type": "code",
        "colab": {}
      },
      "source": [
        "# numpy_data = np.array([predictions, y_test])\n",
        "# result = pd.DataFrame(data=np.transpose(numpy_data), columns=['predict', 'target'])"
      ],
      "execution_count": 0,
      "outputs": []
    },
    {
      "cell_type": "code",
      "metadata": {
        "id": "cbxNRWxn5HWm",
        "colab_type": "code",
        "colab": {}
      },
      "source": [
        "# result['error'] = result['predict'] - result['target']\n",
        "# correct = result[result['error'] == 0]\n",
        "# print('Accuracy:%.2f%%' % (correct.shape[0]/result.shape[0]))"
      ],
      "execution_count": 0,
      "outputs": []
    },
    {
      "cell_type": "code",
      "metadata": {
        "id": "yFJ4vFDA5Ort",
        "colab_type": "code",
        "outputId": "4b91d1fa-d7e8-490c-cdbe-cc78bb2a7b57",
        "colab": {
          "base_uri": "https://localhost:8080/",
          "height": 252
        }
      },
      "source": [
        "actual = y_test\n",
        "predicted = predictions\n",
        "results = confusion_matrix(actual, predicted) \n",
        "  \n",
        "print('Confusion Matrix :')\n",
        "print(results) \n",
        "print('Accuracy Score :',round(accuracy_score(actual, predicted)*100,3))\n",
        "print('Report : ')\n",
        "print(classification_report(actual, predicted))"
      ],
      "execution_count": 0,
      "outputs": [
        {
          "output_type": "stream",
          "text": [
            "Confusion Matrix :\n",
            "[[1694    1]\n",
            " [  74 1620]]\n",
            "Accuracy Score : 97.787\n",
            "Report : \n",
            "              precision    recall  f1-score   support\n",
            "\n",
            "           0       0.96      1.00      0.98      1695\n",
            "           1       1.00      0.96      0.98      1694\n",
            "\n",
            "    accuracy                           0.98      3389\n",
            "   macro avg       0.98      0.98      0.98      3389\n",
            "weighted avg       0.98      0.98      0.98      3389\n",
            "\n"
          ],
          "name": "stdout"
        }
      ]
    },
    {
      "cell_type": "code",
      "metadata": {
        "id": "-cmTP1z7ZMR5",
        "colab_type": "code",
        "outputId": "5c17f09f-1861-49bf-833f-ecb4dfb114b4",
        "colab": {
          "base_uri": "https://localhost:8080/",
          "height": 279
        }
      },
      "source": [
        "yhat = rf_combined.predict_proba(X_test)\n",
        "# keep probabilities for the positive outcome only\n",
        "yhat = yhat[:, 1]\n",
        "# calculate roc curves\n",
        "fpr, tpr, thresholds = roc_curve(y_test, yhat)\n",
        "# plot the roc curve for the model\n",
        "pyplot.plot([0,1], [0,1], linestyle='--', label='No Skill')\n",
        "pyplot.plot(fpr, tpr, marker='.', label='rf')\n",
        "# axis labels\n",
        "pyplot.xlabel('False Positive Rate')\n",
        "pyplot.ylabel('True Positive Rate')\n",
        "pyplot.legend()\n",
        "# show the plot\n",
        "pyplot.show()"
      ],
      "execution_count": 0,
      "outputs": [
        {
          "output_type": "display_data",
          "data": {
            "image/png": "[encoded data removed]",
            "text/plain": [
              "<Figure size 432x288 with 1 Axes>"
            ]
          },
          "metadata": {
            "tags": [],
            "needs_background": "light"
          }
        }
      ]
    },
    {
      "cell_type": "code",
      "metadata": {
        "colab_type": "code",
        "id": "NAXLDdP4I5R4",
        "outputId": "5c4d50e8-25d6-45b8-f77f-d79f6bf133a0",
        "colab": {
          "base_uri": "https://localhost:8080/",
          "height": 296
        }
      },
      "source": [
        "# calculate the g-mean for each threshold\n",
        "from numpy import sqrt\n",
        "from numpy import argmax\n",
        "gmeans = sqrt(tpr * (1-fpr))\n",
        "# locate the index of the largest g-mean\n",
        "ix = argmax(gmeans)\n",
        "print('Best Threshold=%f, G-Mean=%.3f' % (thresholds[ix], gmeans[ix]))\n",
        "# plot the roc curve for the model\n",
        "pyplot.plot([0,1], [0,1], linestyle='--', label='No Skill')\n",
        "pyplot.plot(fpr, tpr, marker='.', label='rf')\n",
        "pyplot.scatter(fpr[ix], tpr[ix], marker='o', color='black', label='Best')\n",
        "# axis labels\n",
        "pyplot.xlabel('False Positive Rate')\n",
        "pyplot.ylabel('True Positive Rate')\n",
        "pyplot.legend()\n",
        "# show the plot\n",
        "pyplot.show()"
      ],
      "execution_count": 0,
      "outputs": [
        {
          "output_type": "stream",
          "text": [
            "Best Threshold=0.500000, G-Mean=0.984\n"
          ],
          "name": "stdout"
        },
        {
          "output_type": "display_data",
          "data": {
            "image/png": "[encoded data removed]",
            "text/plain": [
              "<Figure size 432x288 with 1 Axes>"
            ]
          },
          "metadata": {
            "tags": [],
            "needs_background": "light"
          }
        }
      ]
    },
    {
      "cell_type": "code",
      "metadata": {
        "colab_type": "code",
        "id": "aQcPTrSyI5SA",
        "outputId": "47105e5d-bd4a-483b-b9b4-73c5b65bcd44",
        "colab": {
          "base_uri": "https://localhost:8080/",
          "height": 34
        }
      },
      "source": [
        "threshold = 0.49\n",
        "\n",
        "predicted_proba = rf_combined.predict_proba(X_test)\n",
        "predicted10 = (predicted_proba [:,1] >= threshold).astype('int')\n",
        "\n",
        "accuracy = accuracy_score(y_test, predicted10)\n",
        "print(accuracy)"
      ],
      "execution_count": 0,
      "outputs": [
        {
          "output_type": "stream",
          "text": [
            "0.9840660961935674\n"
          ],
          "name": "stdout"
        }
      ]
    },
    {
      "cell_type": "code",
      "metadata": {
        "colab_type": "code",
        "id": "yVjI948FI5SF",
        "outputId": "8ae57063-d5b5-4d8d-d3ec-100aaf8c8f22",
        "colab": {
          "base_uri": "https://localhost:8080/",
          "height": 269
        }
      },
      "source": [
        "actual10 = y_test\n",
        "results = confusion_matrix(actual10, predicted10) \n",
        "print('Threshold Value: ', threshold)  \n",
        "print('Confusion Matrix :')\n",
        "print(results) \n",
        "print('Accuracy Score :',round(accuracy_score(actual10, predicted10)*100,3))\n",
        "print('Report : ')\n",
        "print(classification_report(actual, predicted10))"
      ],
      "execution_count": 0,
      "outputs": [
        {
          "output_type": "stream",
          "text": [
            "Threshold Value:  0.49\n",
            "Confusion Matrix :\n",
            "[[1646   49]\n",
            " [   5 1689]]\n",
            "Accuracy Score : 98.407\n",
            "Report : \n",
            "              precision    recall  f1-score   support\n",
            "\n",
            "           0       1.00      0.97      0.98      1695\n",
            "           1       0.97      1.00      0.98      1694\n",
            "\n",
            "    accuracy                           0.98      3389\n",
            "   macro avg       0.98      0.98      0.98      3389\n",
            "weighted avg       0.98      0.98      0.98      3389\n",
            "\n"
          ],
          "name": "stdout"
        }
      ]
    },
    {
      "cell_type": "code",
      "metadata": {
        "colab_type": "code",
        "id": "UTWKcxhJt3h9",
        "outputId": "cd3d3889-5fcb-48a2-b512-76c97bdd541d",
        "colab": {
          "base_uri": "https://localhost:8080/",
          "height": 516
        }
      },
      "source": [
        "import pandas as pd\n",
        "%matplotlib inline\n",
        "#do code to support model\n",
        "#\"data\" is the X dataframe and model is the SKlearn object\n",
        "\n",
        "feats = {} # a dict to hold feature_name: feature_importance\n",
        "for feature, importance in zip(train_data_veg.columns, rf_combined.feature_importances_):\n",
        "    feats[feature] = importance #add the name/value pair \n",
        "\n",
        "importances = pd.DataFrame.from_dict(feats, orient='index').rename(columns={0: 'Gini-importance'})\n",
        "importances.sort_values(by='Gini-importance').plot(kind='bar', rot=80, figsize=(25, 6))"
      ],
      "execution_count": 0,
      "outputs": [
        {
          "output_type": "execute_result",
          "data": {
            "text/plain": [
              "<matplotlib.axes._subplots.AxesSubplot at 0x7f1406885898>"
            ]
          },
          "metadata": {
            "tags": []
          },
          "execution_count": 218
        },
        {
          "output_type": "display_data",
          "data": {
            "image/png": "[encoded data removed]",
            "text/plain": [
              "<Figure size 1800x432 with 1 Axes>"
            ]
          },
          "metadata": {
            "tags": [],
            "needs_background": "light"
          }
        }
      ]
    },
    {
      "cell_type": "code",
      "metadata": {
        "colab_type": "code",
        "id": "bt4QVcmPt3iB",
        "outputId": "a602e3dd-4c75-4016-d3f3-7bf797e817c1",
        "colab": {
          "base_uri": "https://localhost:8080/",
          "height": 34
        }
      },
      "source": [
        "estimator = rf_combined.estimators_[1]\n",
        "\n",
        "from sklearn.tree import export_graphviz\n",
        "# Export as dot file\n",
        "export_graphviz(estimator, out_file='tree.dot', \n",
        "                feature_names =train_data_veg.columns,\n",
        "                class_names = ['Positive','Negative'],\n",
        "                rounded = True, proportion = False, \n",
        "                precision = 2, filled = True)\n",
        "\n",
        "# Convert to png using system command (requires Graphviz)\n",
        "from subprocess import call\n",
        "call(['dot', '-Tpng', 'tree.dot', '-o', 'tree.png', '-Gdpi=600'])\n"
      ],
      "execution_count": 0,
      "outputs": [
        {
          "output_type": "execute_result",
          "data": {
            "text/plain": [
              "0"
            ]
          },
          "metadata": {
            "tags": []
          },
          "execution_count": 219
        }
      ]
    },
    {
      "cell_type": "code",
      "metadata": {
        "colab_type": "code",
        "id": "R3bOe9Nht3iE",
        "outputId": "cb7d5d2c-b72e-4866-a4f8-917eec9f305a",
        "colab": {
          "base_uri": "https://localhost:8080/",
          "height": 183
        }
      },
      "source": [
        "# Display in jupyter notebook\n",
        "from IPython.display import Image\n",
        "Image(filename = 'tree.png')"
      ],
      "execution_count": 0,
      "outputs": []
    },
    {
      "cell_type": "markdown",
      "metadata": {
        "colab_type": "text",
        "id": "03uw3HoUt3iI"
      },
      "source": [
        "## save to drive"
      ]
    },
    {
      "cell_type": "code",
      "metadata": {
        "id": "DCkyXyY6vCuh",
        "colab_type": "code",
        "outputId": "b49cdc00-1aac-45a7-c7ff-8bcd6017b767",
        "colab": {
          "base_uri": "https://localhost:8080/",
          "height": 400
        }
      },
      "source": [
        "train.head()"
      ],
      "execution_count": 0,
      "outputs": [
        {
          "output_type": "execute_result",
          "data": {
            "text/html": [
              "<div>\n",
              "<style scoped>\n",
              "    .dataframe tbody tr th:only-of-type {\n",
              "        vertical-align: middle;\n",
              "    }\n",
              "\n",
              "    .dataframe tbody tr th {\n",
              "        vertical-align: top;\n",
              "    }\n",
              "\n",
              "    .dataframe thead th {\n",
              "        text-align: right;\n",
              "    }\n",
              "</style>\n",
              "<table border=\"1\" class=\"dataframe\">\n",
              "  <thead>\n",
              "    <tr style=\"text-align: right;\">\n",
              "      <th></th>\n",
              "      <th>Unnamed: 0</th>\n",
              "      <th>Unnamed: 0.1</th>\n",
              "      <th>WBAN</th>\n",
              "      <th>DATE</th>\n",
              "      <th>HourlyDryBulbTemperature</th>\n",
              "      <th>HourlyRelativeHumidity</th>\n",
              "      <th>HourlyWindSpeed</th>\n",
              "      <th>HourlyPrecipitation</th>\n",
              "      <th>left</th>\n",
              "      <th>top</th>\n",
              "      <th>right</th>\n",
              "      <th>bottom</th>\n",
              "      <th>id</th>\n",
              "      <th>Longitude</th>\n",
              "      <th>Latitude</th>\n",
              "      <th>target</th>\n",
              "      <th>geometry</th>\n",
              "      <th>NDVI</th>\n",
              "      <th>NDWI</th>\n",
              "      <th>EVI</th>\n",
              "      <th>kV</th>\n",
              "      <th>Length_Mil</th>\n",
              "      <th>Length_Fee</th>\n",
              "      <th>Ascpect_Range_East</th>\n",
              "      <th>Ascpect_Range_North East</th>\n",
              "      <th>Ascpect_Range_South</th>\n",
              "      <th>Ascpect_Range_South East</th>\n",
              "      <th>Ascpect_Range_South West</th>\n",
              "      <th>hillshade_direction_East</th>\n",
              "      <th>hillshade_direction_North</th>\n",
              "      <th>slope_range_High Slope</th>\n",
              "      <th>slope_range_Low Slope</th>\n",
              "      <th>slope_range_Moderate Slope</th>\n",
              "      <th>Status_Not Operating</th>\n",
              "      <th>Status_Operational</th>\n",
              "      <th>Circuit_Other</th>\n",
              "      <th>Circuit_Single</th>\n",
              "    </tr>\n",
              "  </thead>\n",
              "  <tbody>\n",
              "    <tr>\n",
              "      <th>0</th>\n",
              "      <td>0</td>\n",
              "      <td>5910476</td>\n",
              "      <td>93241</td>\n",
              "      <td>2015-07-22 00:53:00</td>\n",
              "      <td>67.0</td>\n",
              "      <td>61.0</td>\n",
              "      <td>10.0</td>\n",
              "      <td>0.0</td>\n",
              "      <td>-122.124189</td>\n",
              "      <td>38.56926</td>\n",
              "      <td>-122.114189</td>\n",
              "      <td>38.55926</td>\n",
              "      <td>1</td>\n",
              "      <td>-122.119189</td>\n",
              "      <td>38.56426</td>\n",
              "      <td>0</td>\n",
              "      <td>POLYGON ((-122.1241886091637 38.56925978424475...</td>\n",
              "      <td>0.481685</td>\n",
              "      <td>0.116296</td>\n",
              "      <td>0.398298</td>\n",
              "      <td>0.0</td>\n",
              "      <td>0</td>\n",
              "      <td>0.0</td>\n",
              "      <td>0</td>\n",
              "      <td>0</td>\n",
              "      <td>1</td>\n",
              "      <td>0</td>\n",
              "      <td>0</td>\n",
              "      <td>0</td>\n",
              "      <td>1</td>\n",
              "      <td>1</td>\n",
              "      <td>0</td>\n",
              "      <td>0</td>\n",
              "      <td>1</td>\n",
              "      <td>0</td>\n",
              "      <td>1</td>\n",
              "      <td>0</td>\n",
              "    </tr>\n",
              "    <tr>\n",
              "      <th>1</th>\n",
              "      <td>63</td>\n",
              "      <td>5910477</td>\n",
              "      <td>93241</td>\n",
              "      <td>2015-07-22 01:53:00</td>\n",
              "      <td>66.0</td>\n",
              "      <td>63.0</td>\n",
              "      <td>6.0</td>\n",
              "      <td>0.0</td>\n",
              "      <td>-122.124189</td>\n",
              "      <td>38.56926</td>\n",
              "      <td>-122.114189</td>\n",
              "      <td>38.55926</td>\n",
              "      <td>1</td>\n",
              "      <td>-122.119189</td>\n",
              "      <td>38.56426</td>\n",
              "      <td>0</td>\n",
              "      <td>POLYGON ((-122.1241886091637 38.56925978424475...</td>\n",
              "      <td>0.481685</td>\n",
              "      <td>0.116296</td>\n",
              "      <td>0.398298</td>\n",
              "      <td>0.0</td>\n",
              "      <td>0</td>\n",
              "      <td>0.0</td>\n",
              "      <td>0</td>\n",
              "      <td>0</td>\n",
              "      <td>1</td>\n",
              "      <td>0</td>\n",
              "      <td>0</td>\n",
              "      <td>0</td>\n",
              "      <td>1</td>\n",
              "      <td>1</td>\n",
              "      <td>0</td>\n",
              "      <td>0</td>\n",
              "      <td>1</td>\n",
              "      <td>0</td>\n",
              "      <td>1</td>\n",
              "      <td>0</td>\n",
              "    </tr>\n",
              "    <tr>\n",
              "      <th>2</th>\n",
              "      <td>126</td>\n",
              "      <td>5910478</td>\n",
              "      <td>93241</td>\n",
              "      <td>2015-07-22 02:53:00</td>\n",
              "      <td>65.0</td>\n",
              "      <td>66.0</td>\n",
              "      <td>14.0</td>\n",
              "      <td>0.0</td>\n",
              "      <td>-122.124189</td>\n",
              "      <td>38.56926</td>\n",
              "      <td>-122.114189</td>\n",
              "      <td>38.55926</td>\n",
              "      <td>1</td>\n",
              "      <td>-122.119189</td>\n",
              "      <td>38.56426</td>\n",
              "      <td>0</td>\n",
              "      <td>POLYGON ((-122.1241886091637 38.56925978424475...</td>\n",
              "      <td>0.481685</td>\n",
              "      <td>0.116296</td>\n",
              "      <td>0.398298</td>\n",
              "      <td>0.0</td>\n",
              "      <td>0</td>\n",
              "      <td>0.0</td>\n",
              "      <td>0</td>\n",
              "      <td>0</td>\n",
              "      <td>1</td>\n",
              "      <td>0</td>\n",
              "      <td>0</td>\n",
              "      <td>0</td>\n",
              "      <td>1</td>\n",
              "      <td>1</td>\n",
              "      <td>0</td>\n",
              "      <td>0</td>\n",
              "      <td>1</td>\n",
              "      <td>0</td>\n",
              "      <td>1</td>\n",
              "      <td>0</td>\n",
              "    </tr>\n",
              "    <tr>\n",
              "      <th>3</th>\n",
              "      <td>189</td>\n",
              "      <td>5910479</td>\n",
              "      <td>93241</td>\n",
              "      <td>2015-07-22 03:53:00</td>\n",
              "      <td>63.0</td>\n",
              "      <td>70.0</td>\n",
              "      <td>16.0</td>\n",
              "      <td>0.0</td>\n",
              "      <td>-122.124189</td>\n",
              "      <td>38.56926</td>\n",
              "      <td>-122.114189</td>\n",
              "      <td>38.55926</td>\n",
              "      <td>1</td>\n",
              "      <td>-122.119189</td>\n",
              "      <td>38.56426</td>\n",
              "      <td>0</td>\n",
              "      <td>POLYGON ((-122.1241886091637 38.56925978424475...</td>\n",
              "      <td>0.481685</td>\n",
              "      <td>0.116296</td>\n",
              "      <td>0.398298</td>\n",
              "      <td>0.0</td>\n",
              "      <td>0</td>\n",
              "      <td>0.0</td>\n",
              "      <td>0</td>\n",
              "      <td>0</td>\n",
              "      <td>1</td>\n",
              "      <td>0</td>\n",
              "      <td>0</td>\n",
              "      <td>0</td>\n",
              "      <td>1</td>\n",
              "      <td>1</td>\n",
              "      <td>0</td>\n",
              "      <td>0</td>\n",
              "      <td>1</td>\n",
              "      <td>0</td>\n",
              "      <td>1</td>\n",
              "      <td>0</td>\n",
              "    </tr>\n",
              "    <tr>\n",
              "      <th>4</th>\n",
              "      <td>252</td>\n",
              "      <td>5910480</td>\n",
              "      <td>93241</td>\n",
              "      <td>2015-07-22 04:53:00</td>\n",
              "      <td>63.0</td>\n",
              "      <td>70.0</td>\n",
              "      <td>15.0</td>\n",
              "      <td>0.0</td>\n",
              "      <td>-122.124189</td>\n",
              "      <td>38.56926</td>\n",
              "      <td>-122.114189</td>\n",
              "      <td>38.55926</td>\n",
              "      <td>1</td>\n",
              "      <td>-122.119189</td>\n",
              "      <td>38.56426</td>\n",
              "      <td>0</td>\n",
              "      <td>POLYGON ((-122.1241886091637 38.56925978424475...</td>\n",
              "      <td>0.481685</td>\n",
              "      <td>0.116296</td>\n",
              "      <td>0.398298</td>\n",
              "      <td>0.0</td>\n",
              "      <td>0</td>\n",
              "      <td>0.0</td>\n",
              "      <td>0</td>\n",
              "      <td>0</td>\n",
              "      <td>1</td>\n",
              "      <td>0</td>\n",
              "      <td>0</td>\n",
              "      <td>0</td>\n",
              "      <td>1</td>\n",
              "      <td>1</td>\n",
              "      <td>0</td>\n",
              "      <td>0</td>\n",
              "      <td>1</td>\n",
              "      <td>0</td>\n",
              "      <td>1</td>\n",
              "      <td>0</td>\n",
              "    </tr>\n",
              "  </tbody>\n",
              "</table>\n",
              "</div>"
            ],
            "text/plain": [
              "   Unnamed: 0  Unnamed: 0.1  ...  Circuit_Other Circuit_Single\n",
              "0           0       5910476  ...              1              0\n",
              "1          63       5910477  ...              1              0\n",
              "2         126       5910478  ...              1              0\n",
              "3         189       5910479  ...              1              0\n",
              "4         252       5910480  ...              1              0\n",
              "\n",
              "[5 rows x 37 columns]"
            ]
          },
          "metadata": {
            "tags": []
          },
          "execution_count": 221
        }
      ]
    },
    {
      "cell_type": "code",
      "metadata": {
        "colab_type": "code",
        "id": "3kKrdf77t3iJ",
        "colab": {}
      },
      "source": [
        "tableau_com_X = train.reset_index(drop=True).drop(['Unnamed: 0', 'Unnamed: 0.1', 'WBAN', 'DATE',\n",
        "        'left', 'top', 'right', 'bottom', 'id',\n",
        "       'target', 'geometry'], axis=1)"
      ],
      "execution_count": 0,
      "outputs": []
    },
    {
      "cell_type": "code",
      "metadata": {
        "id": "f5xpdtWjvs9a",
        "colab_type": "code",
        "colab": {}
      },
      "source": [
        ""
      ],
      "execution_count": 0,
      "outputs": []
    },
    {
      "cell_type": "code",
      "metadata": {
        "colab_type": "code",
        "id": "CxJmUYICt3iM",
        "colab": {}
      },
      "source": [
        "tableau_com_y = train['target']"
      ],
      "execution_count": 0,
      "outputs": []
    },
    {
      "cell_type": "code",
      "metadata": {
        "colab_type": "code",
        "id": "PUY4q7Axt3iP",
        "colab": {}
      },
      "source": [
        "predict = rf_combined.predict(tableau_com_X)\n",
        "proba = rf_combined.predict_proba(tableau_com_X)\n"
      ],
      "execution_count": 0,
      "outputs": []
    },
    {
      "cell_type": "code",
      "metadata": {
        "colab_type": "code",
        "id": "9S3VdJ-Zt3iS",
        "colab": {}
      },
      "source": [
        "train['predictions'] = predict\n",
        "train['prob_0'] = proba[:,0] \n",
        "train['prob_1'] = proba[:,1]"
      ],
      "execution_count": 0,
      "outputs": []
    },
    {
      "cell_type": "code",
      "metadata": {
        "colab_type": "code",
        "id": "mgBpxVkQt3iV",
        "outputId": "d849d405-a6cc-4840-cbf3-98981f3d78c4",
        "colab": {
          "base_uri": "https://localhost:8080/",
          "height": 400
        }
      },
      "source": [
        "train.head()"
      ],
      "execution_count": 0,
      "outputs": [
        {
          "output_type": "execute_result",
          "data": {
            "text/html": [
              "<div>\n",
              "<style scoped>\n",
              "    .dataframe tbody tr th:only-of-type {\n",
              "        vertical-align: middle;\n",
              "    }\n",
              "\n",
              "    .dataframe tbody tr th {\n",
              "        vertical-align: top;\n",
              "    }\n",
              "\n",
              "    .dataframe thead th {\n",
              "        text-align: right;\n",
              "    }\n",
              "</style>\n",
              "<table border=\"1\" class=\"dataframe\">\n",
              "  <thead>\n",
              "    <tr style=\"text-align: right;\">\n",
              "      <th></th>\n",
              "      <th>Unnamed: 0</th>\n",
              "      <th>Unnamed: 0.1</th>\n",
              "      <th>WBAN</th>\n",
              "      <th>DATE</th>\n",
              "      <th>HourlyDryBulbTemperature</th>\n",
              "      <th>HourlyRelativeHumidity</th>\n",
              "      <th>HourlyWindSpeed</th>\n",
              "      <th>HourlyPrecipitation</th>\n",
              "      <th>left</th>\n",
              "      <th>top</th>\n",
              "      <th>right</th>\n",
              "      <th>bottom</th>\n",
              "      <th>id</th>\n",
              "      <th>Longitude</th>\n",
              "      <th>Latitude</th>\n",
              "      <th>target</th>\n",
              "      <th>geometry</th>\n",
              "      <th>NDVI</th>\n",
              "      <th>NDWI</th>\n",
              "      <th>EVI</th>\n",
              "      <th>kV</th>\n",
              "      <th>Length_Mil</th>\n",
              "      <th>Length_Fee</th>\n",
              "      <th>Ascpect_Range_East</th>\n",
              "      <th>Ascpect_Range_North East</th>\n",
              "      <th>Ascpect_Range_South</th>\n",
              "      <th>Ascpect_Range_South East</th>\n",
              "      <th>Ascpect_Range_South West</th>\n",
              "      <th>hillshade_direction_East</th>\n",
              "      <th>hillshade_direction_North</th>\n",
              "      <th>slope_range_High Slope</th>\n",
              "      <th>slope_range_Low Slope</th>\n",
              "      <th>slope_range_Moderate Slope</th>\n",
              "      <th>Status_Not Operating</th>\n",
              "      <th>Status_Operational</th>\n",
              "      <th>Circuit_Other</th>\n",
              "      <th>Circuit_Single</th>\n",
              "      <th>predictions</th>\n",
              "      <th>prob_0</th>\n",
              "      <th>prob_1</th>\n",
              "    </tr>\n",
              "  </thead>\n",
              "  <tbody>\n",
              "    <tr>\n",
              "      <th>0</th>\n",
              "      <td>0</td>\n",
              "      <td>5910476</td>\n",
              "      <td>93241</td>\n",
              "      <td>2015-07-22 00:53:00</td>\n",
              "      <td>67.0</td>\n",
              "      <td>61.0</td>\n",
              "      <td>10.0</td>\n",
              "      <td>0.0</td>\n",
              "      <td>-122.124189</td>\n",
              "      <td>38.56926</td>\n",
              "      <td>-122.114189</td>\n",
              "      <td>38.55926</td>\n",
              "      <td>1</td>\n",
              "      <td>-122.119189</td>\n",
              "      <td>38.56426</td>\n",
              "      <td>0</td>\n",
              "      <td>POLYGON ((-122.1241886091637 38.56925978424475...</td>\n",
              "      <td>0.481685</td>\n",
              "      <td>0.116296</td>\n",
              "      <td>0.398298</td>\n",
              "      <td>0.0</td>\n",
              "      <td>0</td>\n",
              "      <td>0.0</td>\n",
              "      <td>0</td>\n",
              "      <td>0</td>\n",
              "      <td>1</td>\n",
              "      <td>0</td>\n",
              "      <td>0</td>\n",
              "      <td>0</td>\n",
              "      <td>1</td>\n",
              "      <td>1</td>\n",
              "      <td>0</td>\n",
              "      <td>0</td>\n",
              "      <td>1</td>\n",
              "      <td>0</td>\n",
              "      <td>1</td>\n",
              "      <td>0</td>\n",
              "      <td>0</td>\n",
              "      <td>1.0</td>\n",
              "      <td>0.0</td>\n",
              "    </tr>\n",
              "    <tr>\n",
              "      <th>1</th>\n",
              "      <td>63</td>\n",
              "      <td>5910477</td>\n",
              "      <td>93241</td>\n",
              "      <td>2015-07-22 01:53:00</td>\n",
              "      <td>66.0</td>\n",
              "      <td>63.0</td>\n",
              "      <td>6.0</td>\n",
              "      <td>0.0</td>\n",
              "      <td>-122.124189</td>\n",
              "      <td>38.56926</td>\n",
              "      <td>-122.114189</td>\n",
              "      <td>38.55926</td>\n",
              "      <td>1</td>\n",
              "      <td>-122.119189</td>\n",
              "      <td>38.56426</td>\n",
              "      <td>0</td>\n",
              "      <td>POLYGON ((-122.1241886091637 38.56925978424475...</td>\n",
              "      <td>0.481685</td>\n",
              "      <td>0.116296</td>\n",
              "      <td>0.398298</td>\n",
              "      <td>0.0</td>\n",
              "      <td>0</td>\n",
              "      <td>0.0</td>\n",
              "      <td>0</td>\n",
              "      <td>0</td>\n",
              "      <td>1</td>\n",
              "      <td>0</td>\n",
              "      <td>0</td>\n",
              "      <td>0</td>\n",
              "      <td>1</td>\n",
              "      <td>1</td>\n",
              "      <td>0</td>\n",
              "      <td>0</td>\n",
              "      <td>1</td>\n",
              "      <td>0</td>\n",
              "      <td>1</td>\n",
              "      <td>0</td>\n",
              "      <td>0</td>\n",
              "      <td>1.0</td>\n",
              "      <td>0.0</td>\n",
              "    </tr>\n",
              "    <tr>\n",
              "      <th>2</th>\n",
              "      <td>126</td>\n",
              "      <td>5910478</td>\n",
              "      <td>93241</td>\n",
              "      <td>2015-07-22 02:53:00</td>\n",
              "      <td>65.0</td>\n",
              "      <td>66.0</td>\n",
              "      <td>14.0</td>\n",
              "      <td>0.0</td>\n",
              "      <td>-122.124189</td>\n",
              "      <td>38.56926</td>\n",
              "      <td>-122.114189</td>\n",
              "      <td>38.55926</td>\n",
              "      <td>1</td>\n",
              "      <td>-122.119189</td>\n",
              "      <td>38.56426</td>\n",
              "      <td>0</td>\n",
              "      <td>POLYGON ((-122.1241886091637 38.56925978424475...</td>\n",
              "      <td>0.481685</td>\n",
              "      <td>0.116296</td>\n",
              "      <td>0.398298</td>\n",
              "      <td>0.0</td>\n",
              "      <td>0</td>\n",
              "      <td>0.0</td>\n",
              "      <td>0</td>\n",
              "      <td>0</td>\n",
              "      <td>1</td>\n",
              "      <td>0</td>\n",
              "      <td>0</td>\n",
              "      <td>0</td>\n",
              "      <td>1</td>\n",
              "      <td>1</td>\n",
              "      <td>0</td>\n",
              "      <td>0</td>\n",
              "      <td>1</td>\n",
              "      <td>0</td>\n",
              "      <td>1</td>\n",
              "      <td>0</td>\n",
              "      <td>0</td>\n",
              "      <td>1.0</td>\n",
              "      <td>0.0</td>\n",
              "    </tr>\n",
              "    <tr>\n",
              "      <th>3</th>\n",
              "      <td>189</td>\n",
              "      <td>5910479</td>\n",
              "      <td>93241</td>\n",
              "      <td>2015-07-22 03:53:00</td>\n",
              "      <td>63.0</td>\n",
              "      <td>70.0</td>\n",
              "      <td>16.0</td>\n",
              "      <td>0.0</td>\n",
              "      <td>-122.124189</td>\n",
              "      <td>38.56926</td>\n",
              "      <td>-122.114189</td>\n",
              "      <td>38.55926</td>\n",
              "      <td>1</td>\n",
              "      <td>-122.119189</td>\n",
              "      <td>38.56426</td>\n",
              "      <td>0</td>\n",
              "      <td>POLYGON ((-122.1241886091637 38.56925978424475...</td>\n",
              "      <td>0.481685</td>\n",
              "      <td>0.116296</td>\n",
              "      <td>0.398298</td>\n",
              "      <td>0.0</td>\n",
              "      <td>0</td>\n",
              "      <td>0.0</td>\n",
              "      <td>0</td>\n",
              "      <td>0</td>\n",
              "      <td>1</td>\n",
              "      <td>0</td>\n",
              "      <td>0</td>\n",
              "      <td>0</td>\n",
              "      <td>1</td>\n",
              "      <td>1</td>\n",
              "      <td>0</td>\n",
              "      <td>0</td>\n",
              "      <td>1</td>\n",
              "      <td>0</td>\n",
              "      <td>1</td>\n",
              "      <td>0</td>\n",
              "      <td>0</td>\n",
              "      <td>1.0</td>\n",
              "      <td>0.0</td>\n",
              "    </tr>\n",
              "    <tr>\n",
              "      <th>4</th>\n",
              "      <td>252</td>\n",
              "      <td>5910480</td>\n",
              "      <td>93241</td>\n",
              "      <td>2015-07-22 04:53:00</td>\n",
              "      <td>63.0</td>\n",
              "      <td>70.0</td>\n",
              "      <td>15.0</td>\n",
              "      <td>0.0</td>\n",
              "      <td>-122.124189</td>\n",
              "      <td>38.56926</td>\n",
              "      <td>-122.114189</td>\n",
              "      <td>38.55926</td>\n",
              "      <td>1</td>\n",
              "      <td>-122.119189</td>\n",
              "      <td>38.56426</td>\n",
              "      <td>0</td>\n",
              "      <td>POLYGON ((-122.1241886091637 38.56925978424475...</td>\n",
              "      <td>0.481685</td>\n",
              "      <td>0.116296</td>\n",
              "      <td>0.398298</td>\n",
              "      <td>0.0</td>\n",
              "      <td>0</td>\n",
              "      <td>0.0</td>\n",
              "      <td>0</td>\n",
              "      <td>0</td>\n",
              "      <td>1</td>\n",
              "      <td>0</td>\n",
              "      <td>0</td>\n",
              "      <td>0</td>\n",
              "      <td>1</td>\n",
              "      <td>1</td>\n",
              "      <td>0</td>\n",
              "      <td>0</td>\n",
              "      <td>1</td>\n",
              "      <td>0</td>\n",
              "      <td>1</td>\n",
              "      <td>0</td>\n",
              "      <td>0</td>\n",
              "      <td>1.0</td>\n",
              "      <td>0.0</td>\n",
              "    </tr>\n",
              "  </tbody>\n",
              "</table>\n",
              "</div>"
            ],
            "text/plain": [
              "   Unnamed: 0  Unnamed: 0.1   WBAN  ... predictions  prob_0  prob_1\n",
              "0           0       5910476  93241  ...           0     1.0     0.0\n",
              "1          63       5910477  93241  ...           0     1.0     0.0\n",
              "2         126       5910478  93241  ...           0     1.0     0.0\n",
              "3         189       5910479  93241  ...           0     1.0     0.0\n",
              "4         252       5910480  93241  ...           0     1.0     0.0\n",
              "\n",
              "[5 rows x 40 columns]"
            ]
          },
          "metadata": {
            "tags": []
          },
          "execution_count": 226
        }
      ]
    },
    {
      "cell_type": "code",
      "metadata": {
        "colab_type": "code",
        "id": "uRrbUyURt3iY",
        "colab": {}
      },
      "source": [
        "# train.to_csv(root_path +'combined_data.csv')"
      ],
      "execution_count": 0,
      "outputs": []
    },
    {
      "cell_type": "markdown",
      "metadata": {
        "id": "PUGhDhtDElw5",
        "colab_type": "text"
      },
      "source": [
        "# Ensemble with stacking"
      ]
    },
    {
      "cell_type": "code",
      "metadata": {
        "id": "rm_KSskcbNXD",
        "colab_type": "code",
        "colab": {}
      },
      "source": [
        "X = train_data_veg\n",
        "y = train_target_veg"
      ],
      "execution_count": 0,
      "outputs": []
    },
    {
      "cell_type": "code",
      "metadata": {
        "id": "nxJWWom_xC-W",
        "colab_type": "code",
        "outputId": "14073328-0e04-49bb-f779-7ecd0e9385b7",
        "colab": {
          "base_uri": "https://localhost:8080/",
          "height": 232
        }
      },
      "source": [
        "X.head()"
      ],
      "execution_count": 0,
      "outputs": [
        {
          "output_type": "execute_result",
          "data": {
            "text/html": [
              "<div>\n",
              "<style scoped>\n",
              "    .dataframe tbody tr th:only-of-type {\n",
              "        vertical-align: middle;\n",
              "    }\n",
              "\n",
              "    .dataframe tbody tr th {\n",
              "        vertical-align: top;\n",
              "    }\n",
              "\n",
              "    .dataframe thead th {\n",
              "        text-align: right;\n",
              "    }\n",
              "</style>\n",
              "<table border=\"1\" class=\"dataframe\">\n",
              "  <thead>\n",
              "    <tr style=\"text-align: right;\">\n",
              "      <th></th>\n",
              "      <th>HourlyDryBulbTemperature</th>\n",
              "      <th>HourlyRelativeHumidity</th>\n",
              "      <th>HourlyWindSpeed</th>\n",
              "      <th>HourlyPrecipitation</th>\n",
              "      <th>Longitude</th>\n",
              "      <th>Latitude</th>\n",
              "      <th>NDVI</th>\n",
              "      <th>NDWI</th>\n",
              "      <th>EVI</th>\n",
              "      <th>kV</th>\n",
              "      <th>Length_Mil</th>\n",
              "      <th>Length_Fee</th>\n",
              "      <th>Ascpect_Range_East</th>\n",
              "      <th>Ascpect_Range_North East</th>\n",
              "      <th>Ascpect_Range_South</th>\n",
              "      <th>Ascpect_Range_South East</th>\n",
              "      <th>Ascpect_Range_South West</th>\n",
              "      <th>hillshade_direction_East</th>\n",
              "      <th>hillshade_direction_North</th>\n",
              "      <th>slope_range_High Slope</th>\n",
              "      <th>slope_range_Low Slope</th>\n",
              "      <th>slope_range_Moderate Slope</th>\n",
              "      <th>Status_Not Operating</th>\n",
              "      <th>Status_Operational</th>\n",
              "      <th>Circuit_Other</th>\n",
              "      <th>Circuit_Single</th>\n",
              "    </tr>\n",
              "  </thead>\n",
              "  <tbody>\n",
              "    <tr>\n",
              "      <th>0</th>\n",
              "      <td>67.0</td>\n",
              "      <td>61.0</td>\n",
              "      <td>10.0</td>\n",
              "      <td>0.0</td>\n",
              "      <td>-122.119189</td>\n",
              "      <td>38.56426</td>\n",
              "      <td>0.481685</td>\n",
              "      <td>0.116296</td>\n",
              "      <td>0.398298</td>\n",
              "      <td>0.0</td>\n",
              "      <td>0</td>\n",
              "      <td>0.0</td>\n",
              "      <td>0</td>\n",
              "      <td>0</td>\n",
              "      <td>1</td>\n",
              "      <td>0</td>\n",
              "      <td>0</td>\n",
              "      <td>0</td>\n",
              "      <td>1</td>\n",
              "      <td>1</td>\n",
              "      <td>0</td>\n",
              "      <td>0</td>\n",
              "      <td>1</td>\n",
              "      <td>0</td>\n",
              "      <td>1</td>\n",
              "      <td>0</td>\n",
              "    </tr>\n",
              "    <tr>\n",
              "      <th>1</th>\n",
              "      <td>66.0</td>\n",
              "      <td>63.0</td>\n",
              "      <td>6.0</td>\n",
              "      <td>0.0</td>\n",
              "      <td>-122.119189</td>\n",
              "      <td>38.56426</td>\n",
              "      <td>0.481685</td>\n",
              "      <td>0.116296</td>\n",
              "      <td>0.398298</td>\n",
              "      <td>0.0</td>\n",
              "      <td>0</td>\n",
              "      <td>0.0</td>\n",
              "      <td>0</td>\n",
              "      <td>0</td>\n",
              "      <td>1</td>\n",
              "      <td>0</td>\n",
              "      <td>0</td>\n",
              "      <td>0</td>\n",
              "      <td>1</td>\n",
              "      <td>1</td>\n",
              "      <td>0</td>\n",
              "      <td>0</td>\n",
              "      <td>1</td>\n",
              "      <td>0</td>\n",
              "      <td>1</td>\n",
              "      <td>0</td>\n",
              "    </tr>\n",
              "    <tr>\n",
              "      <th>2</th>\n",
              "      <td>65.0</td>\n",
              "      <td>66.0</td>\n",
              "      <td>14.0</td>\n",
              "      <td>0.0</td>\n",
              "      <td>-122.119189</td>\n",
              "      <td>38.56426</td>\n",
              "      <td>0.481685</td>\n",
              "      <td>0.116296</td>\n",
              "      <td>0.398298</td>\n",
              "      <td>0.0</td>\n",
              "      <td>0</td>\n",
              "      <td>0.0</td>\n",
              "      <td>0</td>\n",
              "      <td>0</td>\n",
              "      <td>1</td>\n",
              "      <td>0</td>\n",
              "      <td>0</td>\n",
              "      <td>0</td>\n",
              "      <td>1</td>\n",
              "      <td>1</td>\n",
              "      <td>0</td>\n",
              "      <td>0</td>\n",
              "      <td>1</td>\n",
              "      <td>0</td>\n",
              "      <td>1</td>\n",
              "      <td>0</td>\n",
              "    </tr>\n",
              "    <tr>\n",
              "      <th>3</th>\n",
              "      <td>63.0</td>\n",
              "      <td>70.0</td>\n",
              "      <td>16.0</td>\n",
              "      <td>0.0</td>\n",
              "      <td>-122.119189</td>\n",
              "      <td>38.56426</td>\n",
              "      <td>0.481685</td>\n",
              "      <td>0.116296</td>\n",
              "      <td>0.398298</td>\n",
              "      <td>0.0</td>\n",
              "      <td>0</td>\n",
              "      <td>0.0</td>\n",
              "      <td>0</td>\n",
              "      <td>0</td>\n",
              "      <td>1</td>\n",
              "      <td>0</td>\n",
              "      <td>0</td>\n",
              "      <td>0</td>\n",
              "      <td>1</td>\n",
              "      <td>1</td>\n",
              "      <td>0</td>\n",
              "      <td>0</td>\n",
              "      <td>1</td>\n",
              "      <td>0</td>\n",
              "      <td>1</td>\n",
              "      <td>0</td>\n",
              "    </tr>\n",
              "    <tr>\n",
              "      <th>4</th>\n",
              "      <td>63.0</td>\n",
              "      <td>70.0</td>\n",
              "      <td>15.0</td>\n",
              "      <td>0.0</td>\n",
              "      <td>-122.119189</td>\n",
              "      <td>38.56426</td>\n",
              "      <td>0.481685</td>\n",
              "      <td>0.116296</td>\n",
              "      <td>0.398298</td>\n",
              "      <td>0.0</td>\n",
              "      <td>0</td>\n",
              "      <td>0.0</td>\n",
              "      <td>0</td>\n",
              "      <td>0</td>\n",
              "      <td>1</td>\n",
              "      <td>0</td>\n",
              "      <td>0</td>\n",
              "      <td>0</td>\n",
              "      <td>1</td>\n",
              "      <td>1</td>\n",
              "      <td>0</td>\n",
              "      <td>0</td>\n",
              "      <td>1</td>\n",
              "      <td>0</td>\n",
              "      <td>1</td>\n",
              "      <td>0</td>\n",
              "    </tr>\n",
              "  </tbody>\n",
              "</table>\n",
              "</div>"
            ],
            "text/plain": [
              "   HourlyDryBulbTemperature  ...  Circuit_Single\n",
              "0                      67.0  ...               0\n",
              "1                      66.0  ...               0\n",
              "2                      65.0  ...               0\n",
              "3                      63.0  ...               0\n",
              "4                      63.0  ...               0\n",
              "\n",
              "[5 rows x 26 columns]"
            ]
          },
          "metadata": {
            "tags": []
          },
          "execution_count": 229
        }
      ]
    },
    {
      "cell_type": "code",
      "metadata": {
        "id": "SPUH2OK4azbX",
        "colab_type": "code",
        "colab": {}
      },
      "source": [
        "X_train, X_test, y_train, y_test = train_test_split(X, y, test_size=0.2, random_state=42, stratify= y)"
      ],
      "execution_count": 0,
      "outputs": []
    },
    {
      "cell_type": "code",
      "metadata": {
        "id": "Bfw4pH9NfhCW",
        "colab_type": "code",
        "outputId": "aff43935-bce1-4262-d9ae-0742ecae6164",
        "colab": {
          "base_uri": "https://localhost:8080/",
          "height": 185
        }
      },
      "source": [
        "X_train.columns"
      ],
      "execution_count": 0,
      "outputs": [
        {
          "output_type": "execute_result",
          "data": {
            "text/plain": [
              "Index(['HourlyDryBulbTemperature', 'HourlyRelativeHumidity', 'HourlyWindSpeed',\n",
              "       'HourlyPrecipitation', 'Longitude', 'Latitude', 'NDVI', 'NDWI', 'EVI',\n",
              "       'kV', 'Length_Mil', 'Length_Fee', 'Ascpect_Range_East',\n",
              "       'Ascpect_Range_North East', 'Ascpect_Range_South',\n",
              "       'Ascpect_Range_South East', 'Ascpect_Range_South West',\n",
              "       'hillshade_direction_East', 'hillshade_direction_North',\n",
              "       'slope_range_High Slope', 'slope_range_Low Slope',\n",
              "       'slope_range_Moderate Slope', 'Status_Not Operating',\n",
              "       'Status_Operational', 'Circuit_Other', 'Circuit_Single'],\n",
              "      dtype='object')"
            ]
          },
          "metadata": {
            "tags": []
          },
          "execution_count": 231
        }
      ]
    },
    {
      "cell_type": "code",
      "metadata": {
        "id": "XRF5DzG1esTB",
        "colab_type": "code",
        "colab": {}
      },
      "source": [
        "X_train_veg = pd.DataFrame(data=X_train,columns=['Longitude', 'Latitude', 'NDVI', 'EVI', 'NDWI'])\n",
        "X_train_weather = pd.DataFrame(data=X_train,columns=['HourlyDryBulbTemperature', 'HourlyRelativeHumidity', 'HourlyWindSpeed',\n",
        "       'HourlyPrecipitation', 'Longitude', 'Latitude', 'kV', 'Length_Mil',\n",
        "       'Length_Fee', 'Ascpect_Range_East', 'Ascpect_Range_North East',\n",
        "       'Ascpect_Range_South', 'Ascpect_Range_South East',\n",
        "       'Ascpect_Range_South West', 'hillshade_direction_East',\n",
        "       'hillshade_direction_North', 'slope_range_High Slope',\n",
        "       'slope_range_Low Slope', 'slope_range_Moderate Slope',\n",
        "       'Status_Not Operating', 'Status_Operational', 'Circuit_Other',\n",
        "       'Circuit_Single'])"
      ],
      "execution_count": 0,
      "outputs": []
    },
    {
      "cell_type": "code",
      "metadata": {
        "id": "YhfdFouNjvoe",
        "colab_type": "code",
        "colab": {}
      },
      "source": [
        "# X_train_veg_input = rf_veg.predict(X_train_veg)\n",
        "# X_train_weather_input = rf_weather.predict(X_train_weather)"
      ],
      "execution_count": 0,
      "outputs": []
    },
    {
      "cell_type": "code",
      "metadata": {
        "id": "yjxvBUNEi-sW",
        "colab_type": "code",
        "colab": {}
      },
      "source": [
        ""
      ],
      "execution_count": 0,
      "outputs": []
    },
    {
      "cell_type": "code",
      "metadata": {
        "id": "lhbT24p-jrxP",
        "colab_type": "code",
        "colab": {}
      },
      "source": [
        "X_test_veg = pd.DataFrame(data=X_test,columns=['Longitude', 'Latitude', 'NDVI', 'EVI', 'NDWI'])\n",
        "X_test_weather = pd.DataFrame(data=X_test,columns=['HourlyDryBulbTemperature', 'HourlyRelativeHumidity', 'HourlyWindSpeed',\n",
        "       'HourlyPrecipitation', 'Longitude', 'Latitude', 'kV', 'Length_Mil',\n",
        "       'Length_Fee', 'Ascpect_Range_East', 'Ascpect_Range_North East',\n",
        "       'Ascpect_Range_South', 'Ascpect_Range_South East',\n",
        "       'Ascpect_Range_South West', 'hillshade_direction_East',\n",
        "       'hillshade_direction_North', 'slope_range_High Slope',\n",
        "       'slope_range_Low Slope', 'slope_range_Moderate Slope',\n",
        "       'Status_Not Operating', 'Status_Operational', 'Circuit_Other',\n",
        "       'Circuit_Single'])"
      ],
      "execution_count": 0,
      "outputs": []
    },
    {
      "cell_type": "code",
      "metadata": {
        "id": "YnKgvgsJmnsv",
        "colab_type": "code",
        "colab": {}
      },
      "source": [
        "X_test_ensemble= pd.concat([pd.DataFrame(rf_veg.predict(X_test_veg),columns=['input'] ) ,pd.DataFrame(rf_weather.predict(X_test_weather),columns=['input'] )],axis =1)\n",
        "y_test_ensemble = y_test"
      ],
      "execution_count": 0,
      "outputs": []
    },
    {
      "cell_type": "code",
      "metadata": {
        "id": "icInnbgfTvG7",
        "colab_type": "code",
        "outputId": "e1f99f91-3c3d-4d1f-c2ed-b406ef5341a8",
        "colab": {
          "base_uri": "https://localhost:8080/",
          "height": 118
        }
      },
      "source": [
        "y_test.head()"
      ],
      "execution_count": 0,
      "outputs": [
        {
          "output_type": "execute_result",
          "data": {
            "text/plain": [
              "4202    1\n",
              "3728    1\n",
              "5417    1\n",
              "4068    1\n",
              "9821    0\n",
              "Name: target, dtype: int64"
            ]
          },
          "metadata": {
            "tags": []
          },
          "execution_count": 236
        }
      ]
    },
    {
      "cell_type": "code",
      "metadata": {
        "id": "zzZC90rnEWpl",
        "colab_type": "code",
        "colab": {}
      },
      "source": [
        "X_train_ensemble = pd.concat([pd.DataFrame(rf_veg.predict(X_train_veg),columns=['input'] ) ,pd.DataFrame(rf_weather.predict(X_train_weather),columns=['input'] )],axis =1)\n",
        "y_train_ensemble= y_train"
      ],
      "execution_count": 0,
      "outputs": []
    },
    {
      "cell_type": "code",
      "metadata": {
        "id": "uOdUNjHaGhIs",
        "colab_type": "code",
        "colab": {}
      },
      "source": [
        "# X_test_ensemble = pd.concat([X_test_veg_input,X_test_weather_input], axis=1)\n",
        "# y_test_ensemble= y_test"
      ],
      "execution_count": 0,
      "outputs": []
    },
    {
      "cell_type": "code",
      "metadata": {
        "id": "Kx-UInjWGhP8",
        "colab_type": "code",
        "colab": {}
      },
      "source": [
        "# train_target.shape"
      ],
      "execution_count": 0,
      "outputs": []
    },
    {
      "cell_type": "code",
      "metadata": {
        "id": "y8LUi_ZUGhcU",
        "colab_type": "code",
        "colab": {}
      },
      "source": [
        "# test_target.shape"
      ],
      "execution_count": 0,
      "outputs": []
    },
    {
      "cell_type": "code",
      "metadata": {
        "id": "fOhpSgIHGxnz",
        "colab_type": "code",
        "colab": {}
      },
      "source": [
        "# from sklearn.linear_model import LogisticRegression"
      ],
      "execution_count": 0,
      "outputs": []
    },
    {
      "cell_type": "markdown",
      "metadata": {
        "id": "CrabCx3GUlwh",
        "colab_type": "text"
      },
      "source": [
        "### Logistic"
      ]
    },
    {
      "cell_type": "code",
      "metadata": {
        "id": "x5bVPUqkiQFR",
        "colab_type": "code",
        "outputId": "d6ec362f-691a-4246-b15f-433424153bb0",
        "colab": {
          "base_uri": "https://localhost:8080/"
        }
      },
      "source": [
        "model = LogisticRegression(random_state=1)\n",
        "model.fit(X_train_ensemble,y_train_ensemble)\n",
        "# model.score(df_test,test_target)"
      ],
      "execution_count": 0,
      "outputs": [
        {
          "output_type": "execute_result",
          "data": {
            "text/plain": [
              "LogisticRegression(C=1.0, class_weight=None, dual=False, fit_intercept=True,\n",
              "                   intercept_scaling=1, l1_ratio=None, max_iter=100,\n",
              "                   multi_class='auto', n_jobs=None, penalty='l2',\n",
              "                   random_state=1, solver='lbfgs', tol=0.0001, verbose=0,\n",
              "                   warm_start=False)"
            ]
          },
          "metadata": {
            "tags": []
          },
          "execution_count": 242
        }
      ]
    },
    {
      "cell_type": "code",
      "metadata": {
        "id": "XktEeKBMo3Pn",
        "colab_type": "code",
        "outputId": "8f874414-e621-4ec2-f644-dce029a1c7d8",
        "colab": {
          "base_uri": "https://localhost:8080/",
          "height": 34
        }
      },
      "source": [
        "model.score(X_test_ensemble,y_test_ensemble)"
      ],
      "execution_count": 0,
      "outputs": [
        {
          "output_type": "execute_result",
          "data": {
            "text/plain": [
              "0.9524793388429752"
            ]
          },
          "metadata": {
            "tags": []
          },
          "execution_count": 243
        }
      ]
    },
    {
      "cell_type": "code",
      "metadata": {
        "id": "-olvpH2pycdO",
        "colab_type": "code",
        "colab": {}
      },
      "source": [
        "predictions = model.predict(X_test_ensemble)"
      ],
      "execution_count": 0,
      "outputs": []
    },
    {
      "cell_type": "code",
      "metadata": {
        "id": "jX5RSULmGpjw",
        "colab_type": "code",
        "colab": {}
      },
      "source": [
        "actual = y_test_ensemble\n",
        "predicted = predictions\n",
        "results = confusion_matrix(actual, predicted)\n",
        "numpy_data = np.array([predictions, y_test_ensemble])\n",
        "result = pd.DataFrame(data=np.transpose(numpy_data), columns=['predict', 'target'])"
      ],
      "execution_count": 0,
      "outputs": []
    },
    {
      "cell_type": "code",
      "metadata": {
        "id": "50JS0wChH3z7",
        "colab_type": "code",
        "outputId": "ac896518-8d8e-4722-baa2-9ada4b274119",
        "colab": {
          "base_uri": "https://localhost:8080/",
          "height": 34
        }
      },
      "source": [
        "result['error'] = result['predict'] - result['target']\n",
        "correct = result[result['error'] == 0]\n",
        "print('Accuracy:%.2f%%' % (correct.shape[0]/result.shape[0]))"
      ],
      "execution_count": 0,
      "outputs": [
        {
          "output_type": "stream",
          "text": [
            "Accuracy:0.95%\n"
          ],
          "name": "stdout"
        }
      ]
    },
    {
      "cell_type": "code",
      "metadata": {
        "id": "NqTEwIc8pl9F",
        "colab_type": "code",
        "outputId": "c165df43-2c8d-410b-9387-e870ffdfa03f",
        "colab": {
          "base_uri": "https://localhost:8080/",
          "height": 252
        }
      },
      "source": [
        "print('Confusion Matrix :')\n",
        "print(results) \n",
        "print('Accuracy Score :',accuracy_score(actual, predicted))\n",
        "print('Report : ')\n",
        "print(classification_report(actual, predicted))"
      ],
      "execution_count": 0,
      "outputs": [
        {
          "output_type": "stream",
          "text": [
            "Confusion Matrix :\n",
            "[[1635   60]\n",
            " [  55  670]]\n",
            "Accuracy Score : 0.9524793388429752\n",
            "Report : \n",
            "              precision    recall  f1-score   support\n",
            "\n",
            "           0       0.97      0.96      0.97      1695\n",
            "           1       0.92      0.92      0.92       725\n",
            "\n",
            "    accuracy                           0.95      2420\n",
            "   macro avg       0.94      0.94      0.94      2420\n",
            "weighted avg       0.95      0.95      0.95      2420\n",
            "\n"
          ],
          "name": "stdout"
        }
      ]
    },
    {
      "cell_type": "code",
      "metadata": {
        "id": "5OeepxO_T0dg",
        "colab_type": "code",
        "outputId": "610a16be-58e4-4630-f3c9-65cc45ad0f40",
        "colab": {
          "base_uri": "https://localhost:8080/",
          "height": 279
        }
      },
      "source": [
        "yhat = model.predict_proba(X_test_ensemble)\n",
        "# keep probabilities for the positive outcome only\n",
        "yhat = yhat[:, 1]\n",
        "# calculate roc curves\n",
        "fpr, tpr, thresholds = roc_curve(y_test_ensemble, yhat)\n",
        "# plot the roc curve for the model\n",
        "pyplot.plot([0,1], [0,1], linestyle='--', label='No Skill')\n",
        "pyplot.plot(fpr, tpr, marker='.', label='rf')\n",
        "# axis labels\n",
        "pyplot.xlabel('False Positive Rate')\n",
        "pyplot.ylabel('True Positive Rate')\n",
        "pyplot.legend()\n",
        "# show the plot\n",
        "pyplot.show()"
      ],
      "execution_count": 0,
      "outputs": [
        {
          "output_type": "display_data",
          "data": {
            "image/png": "[encoded data removed]",
            "text/plain": [
              "<Figure size 432x288 with 1 Axes>"
            ]
          },
          "metadata": {
            "tags": [],
            "needs_background": "light"
          }
        }
      ]
    },
    {
      "cell_type": "markdown",
      "metadata": {
        "id": "9XVc-VzIUpKA",
        "colab_type": "text"
      },
      "source": [
        "### Adaboost"
      ]
    },
    {
      "cell_type": "code",
      "metadata": {
        "id": "Y1Se7iPJEzmm",
        "colab_type": "code",
        "outputId": "a93e4beb-2e91-4c94-e7c5-1279fe490a98",
        "colab": {
          "base_uri": "https://localhost:8080/",
          "height": 370
        }
      },
      "source": [
        "from sklearn.ensemble import AdaBoostClassifier\n",
        "from sklearn.tree import DecisionTreeClassifier\n",
        "classifier = AdaBoostClassifier(\n",
        "    RandomForestClassifier(max_depth=1),\n",
        "    n_estimators=200\n",
        ")\n",
        "classifier.fit(X_train_ensemble, y_train_ensemble)"
      ],
      "execution_count": 0,
      "outputs": [
        {
          "output_type": "execute_result",
          "data": {
            "text/plain": [
              "AdaBoostClassifier(algorithm='SAMME.R',\n",
              "                   base_estimator=RandomForestClassifier(bootstrap=True,\n",
              "                                                         ccp_alpha=0.0,\n",
              "                                                         class_weight=None,\n",
              "                                                         criterion='gini',\n",
              "                                                         max_depth=1,\n",
              "                                                         max_features='auto',\n",
              "                                                         max_leaf_nodes=None,\n",
              "                                                         max_samples=None,\n",
              "                                                         min_impurity_decrease=0.0,\n",
              "                                                         min_impurity_split=None,\n",
              "                                                         min_samples_leaf=1,\n",
              "                                                         min_samples_split=2,\n",
              "                                                         min_weight_fraction_leaf=0.0,\n",
              "                                                         n_estimators=100,\n",
              "                                                         n_jobs=None,\n",
              "                                                         oob_score=False,\n",
              "                                                         random_state=None,\n",
              "                                                         verbose=0,\n",
              "                                                         warm_start=False),\n",
              "                   learning_rate=1.0, n_estimators=200, random_state=None)"
            ]
          },
          "metadata": {
            "tags": []
          },
          "execution_count": 249
        }
      ]
    },
    {
      "cell_type": "code",
      "metadata": {
        "id": "l6pD7tIOi3nu",
        "colab_type": "code",
        "outputId": "4d819e5b-eaf5-4b98-97c7-3c5e8b673c93",
        "colab": {
          "base_uri": "https://localhost:8080/",
          "height": 252
        }
      },
      "source": [
        "classifier.score(X_test_ensemble,y_test_ensemble)\n",
        "predictions = classifier.predict(X_test_ensemble)\n",
        "actual = y_test_ensemble\n",
        "predicted = predictions\n",
        "results = confusion_matrix(actual, predicted)\n",
        "# numpy_data = np.array([predictions, y_test_ensemble])\n",
        "# result = pd.DataFrame(data=np.transpose(numpy_data), columns=['predict', 'target'])\n",
        "# result['error'] = result['predict'] - result['target']\n",
        "# correct = result[result['error'] == 0]\n",
        "# print('Accuracy:%.2f%%' % (correct.shape[0]/result.shape[0]))\n",
        "print('Confusion Matrix :')\n",
        "print(results) \n",
        "print('Accuracy Score :',round(accuracy_score(actual, predicted)*100,3))\n",
        "print('Report : ')\n",
        "print(classification_report(actual, predicted))"
      ],
      "execution_count": 0,
      "outputs": [
        {
          "output_type": "stream",
          "text": [
            "Confusion Matrix :\n",
            "[[1635   60]\n",
            " [  55  670]]\n",
            "Accuracy Score : 95.248\n",
            "Report : \n",
            "              precision    recall  f1-score   support\n",
            "\n",
            "           0       0.97      0.96      0.97      1695\n",
            "           1       0.92      0.92      0.92       725\n",
            "\n",
            "    accuracy                           0.95      2420\n",
            "   macro avg       0.94      0.94      0.94      2420\n",
            "weighted avg       0.95      0.95      0.95      2420\n",
            "\n"
          ],
          "name": "stdout"
        }
      ]
    },
    {
      "cell_type": "code",
      "metadata": {
        "id": "Qn2YE1WxjAIU",
        "colab_type": "code",
        "outputId": "256ac9b2-6d57-4079-9ca4-b5923bade703",
        "colab": {
          "base_uri": "https://localhost:8080/",
          "height": 279
        }
      },
      "source": [
        "yhat = classifier.predict_proba(X_test_ensemble)\n",
        "# keep probabilities for the positive outcome only\n",
        "yhat = yhat[:, 1]\n",
        "# calculate roc curves\n",
        "fpr, tpr, thresholds = roc_curve(y_test_ensemble, yhat)\n",
        "# plot the roc curve for the model\n",
        "pyplot.plot([0,1], [0,1], linestyle='--', label='No Skill')\n",
        "pyplot.plot(fpr, tpr, marker='.', label='rf')\n",
        "# axis labels\n",
        "pyplot.xlabel('False Positive Rate')\n",
        "pyplot.ylabel('True Positive Rate')\n",
        "pyplot.legend()\n",
        "# show the plot\n",
        "pyplot.show()"
      ],
      "execution_count": 0,
      "outputs": [
        {
          "output_type": "display_data",
          "data": {
            "image/png": "[encoded data removed]",
            "text/plain": [
              "<Figure size 432x288 with 1 Axes>"
            ]
          },
          "metadata": {
            "tags": [],
            "needs_background": "light"
          }
        }
      ]
    },
    {
      "cell_type": "code",
      "metadata": {
        "colab_type": "code",
        "id": "nmTcQxjJLV85",
        "outputId": "0f95a455-335a-49d7-aff2-08fa167d58ee",
        "colab": {
          "base_uri": "https://localhost:8080/",
          "height": 296
        }
      },
      "source": [
        "# calculate the g-mean for each threshold\n",
        "from numpy import sqrt\n",
        "from numpy import argmax\n",
        "gmeans = sqrt(tpr * (1-fpr))\n",
        "# locate the index of the largest g-mean\n",
        "ix = argmax(gmeans)\n",
        "print('Best Threshold=%f, G-Mean=%.3f' % (thresholds[ix], gmeans[ix]))\n",
        "# plot the roc curve for the model\n",
        "pyplot.plot([0,1], [0,1], linestyle='--', label='No Skill')\n",
        "pyplot.plot(fpr, tpr, marker='.', label='rf')\n",
        "pyplot.scatter(fpr[ix], tpr[ix], marker='o', color='black', label='Best')\n",
        "# axis labels\n",
        "pyplot.xlabel('False Positive Rate')\n",
        "pyplot.ylabel('True Positive Rate')\n",
        "pyplot.legend()\n",
        "# show the plot\n",
        "pyplot.show()"
      ],
      "execution_count": 0,
      "outputs": [
        {
          "output_type": "stream",
          "text": [
            "Best Threshold=0.501698, G-Mean=0.944\n"
          ],
          "name": "stdout"
        },
        {
          "output_type": "display_data",
          "data": {
            "image/png": "[encoded data removed]",
            "text/plain": [
              "<Figure size 432x288 with 1 Axes>"
            ]
          },
          "metadata": {
            "tags": [],
            "needs_background": "light"
          }
        }
      ]
    },
    {
      "cell_type": "code",
      "metadata": {
        "colab_type": "code",
        "id": "FODi6PGtLV8-",
        "outputId": "bc5567d2-bf2d-4184-e5f3-8261e2bec652",
        "colab": {
          "base_uri": "https://localhost:8080/",
          "height": 34
        }
      },
      "source": [
        "threshold = 0.495\n",
        "\n",
        "predicted_proba = classifier.predict_proba(X_test_ensemble)\n",
        "predicted10 = (predicted_proba [:,1] >= threshold).astype('int')\n",
        "\n",
        "accuracy = accuracy_score(y_test_ensemble, predicted10)\n",
        "print(accuracy)"
      ],
      "execution_count": 0,
      "outputs": [
        {
          "output_type": "stream",
          "text": [
            "0.8991735537190083\n"
          ],
          "name": "stdout"
        }
      ]
    },
    {
      "cell_type": "code",
      "metadata": {
        "colab_type": "code",
        "id": "muvO1zpMLV9C",
        "outputId": "974a334c-13f5-4529-9f3d-9c962d6b37dc",
        "colab": {
          "base_uri": "https://localhost:8080/",
          "height": 269
        }
      },
      "source": [
        "actual10 = y_test_ensemble\n",
        "results = confusion_matrix(actual10, predicted10) \n",
        "print('threshold: ', threshold)\n",
        "print('Confusion Matrix :')\n",
        "print(results) \n",
        "print('Accuracy Score :',round(accuracy_score(actual10, predicted10)*100, 3))\n",
        "print('Report : ')\n",
        "print(classification_report(actual, predicted10))"
      ],
      "execution_count": 0,
      "outputs": [
        {
          "output_type": "stream",
          "text": [
            "threshold:  0.495\n",
            "Confusion Matrix :\n",
            "[[1461  234]\n",
            " [  10  715]]\n",
            "Accuracy Score : 89.917\n",
            "Report : \n",
            "              precision    recall  f1-score   support\n",
            "\n",
            "           0       0.99      0.86      0.92      1695\n",
            "           1       0.75      0.99      0.85       725\n",
            "\n",
            "    accuracy                           0.90      2420\n",
            "   macro avg       0.87      0.92      0.89      2420\n",
            "weighted avg       0.92      0.90      0.90      2420\n",
            "\n"
          ],
          "name": "stdout"
        }
      ]
    },
    {
      "cell_type": "code",
      "metadata": {
        "id": "4JbbSwJ55g8I",
        "colab_type": "code",
        "colab": {}
      },
      "source": [
        ""
      ],
      "execution_count": 0,
      "outputs": []
    },
    {
      "cell_type": "code",
      "metadata": {
        "id": "rVcKNagK9IKH",
        "colab_type": "code",
        "colab": {}
      },
      "source": [
        "X_train_ensemble.head()"
      ],
      "execution_count": 0,
      "outputs": []
    },
    {
      "cell_type": "code",
      "metadata": {
        "colab_type": "code",
        "id": "xI7ZME285hXa",
        "colab": {}
      },
      "source": [
        "estimator = classifier.estimators_[5]\n",
        "\n",
        "from sklearn.tree import export_graphviz\n",
        "# Export as dot file\n",
        "export_graphviz(estimator, out_file='tree.dot', \n",
        "                feature_names = X_train_ensemble.columns,\n",
        "                class_names = ['Positive','Negative'],\n",
        "                rounded = True, proportion = False, precision = 2, filled = True)\n",
        "\n",
        "# Convert to png using system command (requires Graphviz)\n",
        "from subprocess import call\n",
        "call(['dot', '-Tpng', 'tree.dot', '-o', 'tree.png', '-Gdpi=600'])\n"
      ],
      "execution_count": 0,
      "outputs": []
    },
    {
      "cell_type": "code",
      "metadata": {
        "id": "zqf8PSkZ8-4p",
        "colab_type": "code",
        "colab": {}
      },
      "source": [
        "print(estimator)"
      ],
      "execution_count": 0,
      "outputs": []
    },
    {
      "cell_type": "code",
      "metadata": {
        "colab_type": "code",
        "id": "mIkUPuNZ5hXh",
        "colab": {}
      },
      "source": [
        "# Display in jupyter notebook\n",
        "from IPython.display import Image\n",
        "Image(filename = 'tree.png')"
      ],
      "execution_count": 0,
      "outputs": []
    },
    {
      "cell_type": "code",
      "metadata": {
        "id": "_tDLMArHVCyD",
        "colab_type": "code",
        "colab": {}
      },
      "source": [
        ""
      ],
      "execution_count": 0,
      "outputs": []
    },
    {
      "cell_type": "code",
      "metadata": {
        "id": "8LxKHZ4xVbV3",
        "colab_type": "code",
        "colab": {}
      },
      "source": [
        "classifier.feature_importances_"
      ],
      "execution_count": 0,
      "outputs": []
    },
    {
      "cell_type": "code",
      "metadata": {
        "colab_type": "code",
        "id": "GjutUP7dVDGV",
        "colab": {}
      },
      "source": [
        "import pandas as pd\n",
        "%matplotlib inline\n",
        "#do code to support model\n",
        "#\"data\" is the X dataframe and model is the SKlearn object\n",
        "\n",
        "feats = {} # a dict to hold feature_name: feature_importance\n",
        "for feature, importance in zip(train_data_veg.columns, classifier.feature_importances_):\n",
        "    feats[feature] = importance #add the name/value pair \n",
        "\n",
        "importances = pd.DataFrame.from_dict(feats, orient='index').rename(columns={0: 'Gini-importance'})\n",
        "importances.sort_values(by='Gini-importance').plot(kind='bar', rot=80, figsize=(25, 6))"
      ],
      "execution_count": 0,
      "outputs": []
    },
    {
      "cell_type": "markdown",
      "metadata": {
        "colab_type": "text",
        "id": "J2Ng7xeUVDGb"
      },
      "source": [
        "## save to drive"
      ]
    },
    {
      "cell_type": "code",
      "metadata": {
        "id": "liMfEw5JV5AT",
        "colab_type": "code",
        "colab": {}
      },
      "source": [
        "train_data_veg.columns"
      ],
      "execution_count": 0,
      "outputs": []
    },
    {
      "cell_type": "code",
      "metadata": {
        "colab_type": "code",
        "id": "8-XxNpIDVDGb",
        "colab": {}
      },
      "source": [
        "X_veg = pd.DataFrame(data=train_data_veg,columns=['Longitude', 'Latitude', 'NDVI', 'EVI', 'NDWI'])\n",
        "X_weather = pd.DataFrame(data=train_data_veg,columns=['HourlyDryBulbTemperature', 'HourlyRelativeHumidity', 'HourlyWindSpeed',\n",
        "       'HourlyPrecipitation', 'Longitude', 'Latitude', 'kV', 'Length_Mil',\n",
        "       'Length_Fee', 'Ascpect_Range_East', 'Ascpect_Range_North East',\n",
        "       'Ascpect_Range_South', 'Ascpect_Range_South East',\n",
        "       'Ascpect_Range_South West', 'hillshade_direction_East',\n",
        "       'hillshade_direction_North', 'slope_range_High Slope',\n",
        "       'slope_range_Low Slope', 'slope_range_Moderate Slope',\n",
        "       'Status_Not Operating', 'Status_Operational', 'Circuit_Other',\n",
        "       'Circuit_Single'])"
      ],
      "execution_count": 0,
      "outputs": []
    },
    {
      "cell_type": "code",
      "metadata": {
        "id": "gW4nGlq7Xlsk",
        "colab_type": "code",
        "colab": {}
      },
      "source": [
        "X_ensemble= pd.concat([pd.DataFrame(rf_veg.predict(X_veg),columns=['input'] ) ,pd.DataFrame(rf_weather.predict(X_weather),columns=['input'] )],axis =1)"
      ],
      "execution_count": 0,
      "outputs": []
    },
    {
      "cell_type": "code",
      "metadata": {
        "colab_type": "code",
        "id": "aiqm3Uo5VDGf",
        "colab": {}
      },
      "source": [
        "y = train_data_veg['target']"
      ],
      "execution_count": 0,
      "outputs": []
    },
    {
      "cell_type": "code",
      "metadata": {
        "id": "3Wg9vuL6X3ak",
        "colab_type": "code",
        "colab": {}
      },
      "source": [
        "predict = classifier.predict(X_ensemble)\n",
        "proba = classifier.predict_proba(X_ensemble)"
      ],
      "execution_count": 0,
      "outputs": []
    },
    {
      "cell_type": "code",
      "metadata": {
        "colab_type": "code",
        "id": "g3Eul7mqVDGn",
        "colab": {}
      },
      "source": [
        "train_data_veg['predictions'] = predict\n",
        "train_data_veg['prob_0'] = proba[:,0] \n",
        "train_data_veg['prob_1'] = proba[:,1]"
      ],
      "execution_count": 0,
      "outputs": []
    },
    {
      "cell_type": "code",
      "metadata": {
        "colab_type": "code",
        "id": "gpeMEVU2VDGr",
        "colab": {}
      },
      "source": [
        "train_data_veg.head()"
      ],
      "execution_count": 0,
      "outputs": []
    },
    {
      "cell_type": "code",
      "metadata": {
        "colab_type": "code",
        "id": "tJNZTmaiVDGv",
        "colab": {}
      },
      "source": [
        "train_data_veg.to_csv(root_path +'ensemble_data.csv')"
      ],
      "execution_count": 0,
      "outputs": []
    },
    {
      "cell_type": "code",
      "metadata": {
        "id": "8yw6lEXzwIl2",
        "colab_type": "code",
        "colab": {}
      },
      "source": [
        "# from sklearn.ensemble import AdaBoostClassifier\n",
        "# from sklearn.tree import DecisionTreeClassifier\n",
        "# from sklearn.model_selection import train_test_split"
      ],
      "execution_count": 0,
      "outputs": []
    },
    {
      "cell_type": "code",
      "metadata": {
        "id": "MJzFRJ8_wYEE",
        "colab_type": "code",
        "colab": {}
      },
      "source": [
        "# train_X, test_X, train_y, test_y = train_test_split(train_data_veg, train_target_veg, random_state=1)"
      ],
      "execution_count": 0,
      "outputs": []
    },
    {
      "cell_type": "code",
      "metadata": {
        "id": "A9zXbdyhweTn",
        "colab_type": "code",
        "colab": {}
      },
      "source": [
        "# classifier = AdaBoostClassifier(\n",
        "#     DecisionTreeClassifier(max_depth=1),\n",
        "#     n_estimators=200\n",
        "# )\n",
        "# classifier.fit(train_X, train_y)"
      ],
      "execution_count": 0,
      "outputs": []
    },
    {
      "cell_type": "code",
      "metadata": {
        "id": "Ezqc85Y1TZhu",
        "colab_type": "code",
        "colab": {}
      },
      "source": [
        "# predictions = classifier.predict(test_X)"
      ],
      "execution_count": 0,
      "outputs": []
    },
    {
      "cell_type": "code",
      "metadata": {
        "id": "rn7cKtdTTZUF",
        "colab_type": "code",
        "colab": {}
      },
      "source": [
        "# actual = test_y\n",
        "# predicted = classifier.predict(test_X)\n",
        "# results = confusion_matrix(actual, predicted)\n",
        "# numpy_data = np.array([predictions, test_y])\n",
        "# result = pd.DataFrame(data=np.transpose(numpy_data), columns=['predict', 'target'])"
      ],
      "execution_count": 0,
      "outputs": []
    }
  ]
}